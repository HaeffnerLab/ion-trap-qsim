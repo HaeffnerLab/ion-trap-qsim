{
 "metadata": {
  "name": "",
  "signature": "sha256:6c3a46fd004fe347d24f27c83cb1439089a235a0ce91c868043170d87f65f8ef"
 },
 "nbformat": 3,
 "nbformat_minor": 0,
 "worksheets": [
  {
   "cells": [
    {
     "cell_type": "code",
     "collapsed": false,
     "input": [
      "\n",
      "import os,sys,inspect\n",
      "currentdir = os.path.dirname(os.path.abspath(inspect.getfile(inspect.currentframe())))\n",
      "parentdir = os.path.dirname(currentdir)\n",
      "sys.path.insert(0,parentdir) \n",
      "from numpy import *\n",
      "import numpy as np\n",
      "from scipy.optimize import *\n",
      "from matplotlib.pylab import *\n",
      "from spectral_optimization import Optimization\n",
      "from simulation_parameters import SimulationParameters, OptimizationParameters\n",
      "\n",
      "from ions import Chain\n",
      "from ion_trap import IonTrap\n"
     ],
     "language": "python",
     "metadata": {},
     "outputs": [],
     "prompt_number": 1
    },
    {
     "cell_type": "code",
     "collapsed": false,
     "input": [
      "cd .."
     ],
     "language": "python",
     "metadata": {},
     "outputs": [
      {
       "output_type": "stream",
       "stream": "stdout",
       "text": [
        "/home/trxw/Documents/dfr/codes/quantum_play/ion-trap-qsim\n"
       ]
      }
     ],
     "prompt_number": 2
    },
    {
     "cell_type": "code",
     "collapsed": false,
     "input": [
      "voltages = array([-0.0056643325414657301, 5.4751735001474762, -10.058391310153251, -15.541001177082567, 17.945785745907894, -15.777012682595821, -3.2296811075603666, -21.105194529408784, 0.67871752135998076, -0.004004373795393602, -0.0019981348605756038, -0.010761303653932486, 12.862766036342128, 132.46526704202188, -32.313911750983664, -90.657999086312842, -30.469647439839669, 120.28549667572982, 46.742338438171878, -4.0209383415323057, -0.0066042922266584918, -0.0027097243656676183, -1.6264718619870453])\n",
      "voltages = array( [-0.0053770484840081918, 5.4757680003807261, -10.055542446673181, -15.540202042954521, 17.930462434081559, -15.776528109576079, -3.2269795678796966, -21.104744621760204, 0.67871685242871893, -0.0038640746900668621, -0.0018821707341881455, -0.010729044051841828, 12.863244480794298, 132.46668438785599, -32.313299356954978, -90.659345330915684, -30.469326144625992, 120.28684465105141, 46.742744129816977, -4.0209461108381861, -0.0066866147267466538, -0.0025430828868999579, -1.6272666474597712])\n",
      "voltages = array( [0.37084883648800077, 5.0887075043937173, -10.081948087417134, -15.617617059460461, 17.889038032938359, -15.791996893975725, -3.4855412330460052, -20.796608029815072, 0.38698040378654064, -0.22240342985462216, 0.43594923581818246, 0.20332729246832715, 12.552621507484238, 132.39232539756938, -32.267096949113757, -90.618109477095132, -30.87878809982513, 120.27042419364474, 47.228383651379843, -3.9728469741125494, 0.16940521837895578, 0.48474281592264196, -1.6607457106434593] )\n",
      "used_electrodes = array(range(1,24))\n",
      "#voltages = array()\n",
      "N = 15\n",
      "chain     = Chain(N)\n",
      "trap      = IonTrap()\n",
      "trap.set_trap_radial_freq(2.e6, 'Y')\n",
      "trap.set_trap_radial_freq(2.e6, 'X')\n",
      "\n",
      "#Either set the electrode voltages\n",
      "\n",
      "trap.set_used_electrodes(used_electrodes)\n",
      "trap.set_electrode_voltages(voltages)\n",
      "trap.load(chain) #--> Generate error if the potential cannot trap the given number of ions\n",
      "                 # or if it leads to zigzag config\n"
     ],
     "language": "python",
     "metadata": {},
     "outputs": [
      {
       "ename": "NoConvergence",
       "evalue": "[ -3.67758218e+00  -2.97548839e+00  -2.39389381e+00  -1.87011153e+00\n  -1.37984137e+00  -9.10040945e-01  -4.52231089e-01   6.67900593e-13\n   4.52231089e-01   9.10040945e-01   1.37984137e+00   1.87011153e+00\n   2.39389381e+00   2.97548839e+00   3.67758218e+00]",
       "output_type": "pyerr",
       "traceback": [
        "\u001b[1;31m---------------------------------------------------------------------------\u001b[0m\n\u001b[1;31mNoConvergence\u001b[0m                             Traceback (most recent call last)",
        "\u001b[1;32m<ipython-input-9-d3a38c0a8b30>\u001b[0m in \u001b[0;36m<module>\u001b[1;34m()\u001b[0m\n\u001b[0;32m     14\u001b[0m \u001b[0mtrap\u001b[0m\u001b[1;33m.\u001b[0m\u001b[0mset_used_electrodes\u001b[0m\u001b[1;33m(\u001b[0m\u001b[0mused_electrodes\u001b[0m\u001b[1;33m)\u001b[0m\u001b[1;33m\u001b[0m\u001b[0m\n\u001b[0;32m     15\u001b[0m \u001b[0mtrap\u001b[0m\u001b[1;33m.\u001b[0m\u001b[0mset_electrode_voltages\u001b[0m\u001b[1;33m(\u001b[0m\u001b[0mvoltages\u001b[0m\u001b[1;33m)\u001b[0m\u001b[1;33m\u001b[0m\u001b[0m\n\u001b[1;32m---> 16\u001b[1;33m \u001b[0mtrap\u001b[0m\u001b[1;33m.\u001b[0m\u001b[0mload\u001b[0m\u001b[1;33m(\u001b[0m\u001b[0mchain\u001b[0m\u001b[1;33m)\u001b[0m \u001b[1;31m#--> Generate error if the potential cannot trap the given number of ions\u001b[0m\u001b[1;33m\u001b[0m\u001b[0m\n\u001b[0m\u001b[0;32m     17\u001b[0m                  \u001b[1;31m# or if it leads to zigzag config\u001b[0m\u001b[1;33m\u001b[0m\u001b[1;33m\u001b[0m\u001b[0m\n",
        "\u001b[1;32m/home/trxw/Documents/dfr/codes/quantum_play/ion-trap-qsim/ion_trap.pyc\u001b[0m in \u001b[0;36mload\u001b[1;34m(self, chain)\u001b[0m\n\u001b[0;32m     33\u001b[0m                 \u001b[1;31m#Set the position of ions:\u001b[0m\u001b[1;33m\u001b[0m\u001b[1;33m\u001b[0m\u001b[0m\n\u001b[0;32m     34\u001b[0m                 \u001b[1;32mif\u001b[0m \u001b[0mself\u001b[0m\u001b[1;33m.\u001b[0m\u001b[0mpotential\u001b[0m\u001b[1;33m.\u001b[0m\u001b[0mconfig\u001b[0m \u001b[1;33m==\u001b[0m \u001b[1;34m'harmonic'\u001b[0m \u001b[1;32mor\u001b[0m \u001b[0mself\u001b[0m\u001b[1;33m.\u001b[0m\u001b[0mpotential\u001b[0m\u001b[1;33m.\u001b[0m\u001b[0mconfig\u001b[0m \u001b[1;33m==\u001b[0m \u001b[1;34m'generic'\u001b[0m\u001b[1;33m:\u001b[0m\u001b[1;33m\u001b[0m\u001b[0m\n\u001b[1;32m---> 35\u001b[1;33m                     \u001b[0mpositions\u001b[0m \u001b[1;33m=\u001b[0m \u001b[0mequilibrium_positions\u001b[0m\u001b[1;33m.\u001b[0m\u001b[0mget_positions\u001b[0m\u001b[1;33m(\u001b[0m\u001b[0mself\u001b[0m\u001b[1;33m.\u001b[0m\u001b[0mchain\u001b[0m\u001b[1;33m.\u001b[0m\u001b[0mnum_of_ions\u001b[0m\u001b[1;33m,\u001b[0m \u001b[0mself\u001b[0m\u001b[1;33m.\u001b[0m\u001b[0mpotential\u001b[0m\u001b[1;33m)\u001b[0m\u001b[1;33m\u001b[0m\u001b[0m\n\u001b[0m\u001b[0;32m     36\u001b[0m                     \u001b[0mself\u001b[0m\u001b[1;33m.\u001b[0m\u001b[0mchain\u001b[0m\u001b[1;33m.\u001b[0m\u001b[0mset_zpositions\u001b[0m\u001b[1;33m(\u001b[0m \u001b[0mpositions\u001b[0m \u001b[1;33m)\u001b[0m\u001b[1;33m\u001b[0m\u001b[0m\n\u001b[0;32m     37\u001b[0m                     \u001b[1;32mprint\u001b[0m\u001b[1;33m(\u001b[0m\u001b[1;34m\"positions \"\u001b[0m\u001b[1;33m,\u001b[0m \u001b[0mpositions\u001b[0m\u001b[1;33m)\u001b[0m\u001b[1;33m\u001b[0m\u001b[0m\n",
        "\u001b[1;32m/home/trxw/Documents/dfr/codes/quantum_play/ion-trap-qsim/equilibrium_positions.pyc\u001b[0m in \u001b[0;36mget_positions\u001b[1;34m(cls, number_of_ions, potential, initial_positions_guess)\u001b[0m\n\u001b[0;32m    117\u001b[0m \u001b[1;33m\u001b[0m\u001b[0m\n\u001b[0;32m    118\u001b[0m \u001b[1;33m\u001b[0m\u001b[0m\n\u001b[1;32m--> 119\u001b[1;33m                 \u001b[0mu_arr\u001b[0m \u001b[1;33m=\u001b[0m  \u001b[0mnt\u001b[0m\u001b[1;33m(\u001b[0m\u001b[0mf\u001b[0m\u001b[1;33m,\u001b[0m \u001b[0mu_guess\u001b[0m\u001b[1;33m)\u001b[0m\u001b[1;33m\u001b[0m\u001b[0m\n\u001b[0m\u001b[0;32m    120\u001b[0m \u001b[1;33m\u001b[0m\u001b[0m\n\u001b[0;32m    121\u001b[0m                 \u001b[1;31m#if min(abs(diff(u_arr))) <= 2.018/N**0.559\u001b[0m\u001b[1;33m\u001b[0m\u001b[1;33m\u001b[0m\u001b[0m\n",
        "\u001b[1;32m/usr/lib/python2.7/dist-packages/scipy/optimize/nonlin.py\u001b[0m in \u001b[0;36mnewton_krylov\u001b[1;34m(F, xin, iter, rdiff, method, inner_maxiter, inner_M, outer_k, verbose, maxiter, f_tol, f_rtol, x_tol, x_rtol, tol_norm, line_search, callback, **kw)\u001b[0m\n",
        "\u001b[1;32m/usr/lib/python2.7/dist-packages/scipy/optimize/nonlin.py\u001b[0m in \u001b[0;36mnonlin_solve\u001b[1;34m(F, x0, jacobian, iter, verbose, maxiter, f_tol, f_rtol, x_tol, x_rtol, tol_norm, line_search, callback, full_output, raise_exception)\u001b[0m\n\u001b[0;32m    349\u001b[0m     \u001b[1;32melse\u001b[0m\u001b[1;33m:\u001b[0m\u001b[1;33m\u001b[0m\u001b[0m\n\u001b[0;32m    350\u001b[0m         \u001b[1;32mif\u001b[0m \u001b[0mraise_exception\u001b[0m\u001b[1;33m:\u001b[0m\u001b[1;33m\u001b[0m\u001b[0m\n\u001b[1;32m--> 351\u001b[1;33m             \u001b[1;32mraise\u001b[0m \u001b[0mNoConvergence\u001b[0m\u001b[1;33m(\u001b[0m\u001b[0m_array_like\u001b[0m\u001b[1;33m(\u001b[0m\u001b[0mx\u001b[0m\u001b[1;33m,\u001b[0m \u001b[0mx0\u001b[0m\u001b[1;33m)\u001b[0m\u001b[1;33m)\u001b[0m\u001b[1;33m\u001b[0m\u001b[0m\n\u001b[0m\u001b[0;32m    352\u001b[0m         \u001b[1;32melse\u001b[0m\u001b[1;33m:\u001b[0m\u001b[1;33m\u001b[0m\u001b[0m\n\u001b[0;32m    353\u001b[0m             \u001b[0mstatus\u001b[0m \u001b[1;33m=\u001b[0m \u001b[1;36m2\u001b[0m\u001b[1;33m\u001b[0m\u001b[0m\n",
        "\u001b[1;31mNoConvergence\u001b[0m: [ -3.67758218e+00  -2.97548839e+00  -2.39389381e+00  -1.87011153e+00\n  -1.37984137e+00  -9.10040945e-01  -4.52231089e-01   6.67900593e-13\n   4.52231089e-01   9.10040945e-01   1.37984137e+00   1.87011153e+00\n   2.39389381e+00   2.97548839e+00   3.67758218e+00]"
       ]
      }
     ],
     "prompt_number": 9
    },
    {
     "cell_type": "code",
     "collapsed": false,
     "input": [
      "trap.get_spectrum()[1][0]-trap.get_spectrum()[1][1]"
     ],
     "language": "python",
     "metadata": {},
     "outputs": [
      {
       "metadata": {},
       "output_type": "pyout",
       "prompt_number": 7,
       "text": [
        "85811.9168683514"
       ]
      }
     ],
     "prompt_number": 7
    },
    {
     "cell_type": "code",
     "collapsed": false,
     "input": [
      "trap.get_spectrum()[1][1]-trap.get_spectrum()[1][2]"
     ],
     "language": "python",
     "metadata": {},
     "outputs": [
      {
       "metadata": {},
       "output_type": "pyout",
       "prompt_number": 8,
       "text": [
        "184453.83763894998"
       ]
      }
     ],
     "prompt_number": 8
    },
    {
     "cell_type": "code",
     "collapsed": false,
     "input": [],
     "language": "python",
     "metadata": {},
     "outputs": []
    }
   ],
   "metadata": {}
  }
 ]
}