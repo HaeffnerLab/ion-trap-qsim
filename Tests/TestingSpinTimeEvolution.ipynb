{
 "cells": [
  {
   "cell_type": "code",
   "execution_count": 1,
   "metadata": {
    "collapsed": false
   },
   "outputs": [
    {
     "name": "stdout",
     "output_type": "stream",
     "text": [
      "Populating the interactive namespace from numpy and matplotlib\n",
      "Simulation running in RWA regimePopulating the interactive namespace from numpy and matplotlib\n",
      "Simulation running in RWA regime\n",
      "\n"
     ]
    },
    {
     "name": "stderr",
     "output_type": "stream",
     "text": [
      "WARNING: pylab import has clobbered these variables: ['plt']\n",
      "`%matplotlib` prevents importing * from pylab and numpy\n",
      "WARNING: pylab import has clobbered these variables: ['plt']\n",
      "`%matplotlib` prevents importing * from pylab and numpy\n"
     ]
    }
   ],
   "source": [
    "import os,sys,inspect\n",
    "currentdir = os.path.dirname(os.path.abspath(inspect.getfile(inspect.currentframe())))\n",
    "parentdir = os.path.dirname(currentdir)\n",
    "sys.path.insert(0,parentdir) \n",
    "\n",
    "from quantum_dynamics import Dynamics\n",
    "import numpy as np\n",
    "from ions import Chain\n",
    "from ion_trap import IonTrap\n",
    "import matplotlib.pylab as plt  \n",
    "from laser import *\n",
    "%pylab inline\n",
    "time_interval = (0., 2000.e-6)\n",
    "time_precision = 2.e-6\n",
    "times = np.arange(time_interval[0], time_interval[1], time_precision)\n",
    "\n",
    "omegax = 2.0e6\n",
    "omegaz = 150.e3\n",
    "N = 5\n",
    "chain = Chain(N, 2)\n",
    "dummy_trap = IonTrap( omegax , omegaz)\n",
    "dummy_trap.load(chain)\n",
    "\n",
    "motional_state = (1,0,0,0,0)\n",
    "electronic_state = (1,0,0,0,0)\n",
    "laser = Laser( ion_num = 5, sideband_num = 1, intensity = 2*np.pi* 100.e3, phase = 2*np.pi* 0, detuning=0)\n",
    "#chain.set_thermal_motional_state( motional_state )\n",
    "chain.set_pure_motional_state( motional_state )\n",
    "chain.set_pure_electronic_state_numbers( electronic_state )\n",
    "dyn_w_laser = Dynamics(chain, lasers = [laser], pulses = [])\n",
    "observables = [dyn_w_laser.excited_state_pop[4]]\n",
    "dyn_w_laser.evolve_pure(time_interval, observables)"
   ]
  },
  {
   "cell_type": "code",
   "execution_count": 15,
   "metadata": {
    "collapsed": false
   },
   "outputs": [
    {
     "data": {
      "text/plain": [
       "[<matplotlib.lines.Line2D at 0x7ff7a0d147d0>]"
      ]
     },
     "execution_count": 15,
     "metadata": {},
     "output_type": "execute_result"
    },
    {
     "data": {
      "image/png": "[encoded data removed]",
      "text/plain": [
       "<matplotlib.figure.Figure at 0x7ff7a0d97510>"
      ]
     },
     "metadata": {},
     "output_type": "display_data"
    }
   ],
   "source": [
    "plt.plot(dyn_w_laser.expectations[0])"
   ]
  },
  {
   "cell_type": "code",
   "execution_count": 71,
   "metadata": {
    "collapsed": false
   },
   "outputs": [],
   "source": [
    "#Does qutip give the same results for 1 spin? Test:\n",
    "from qutip import *\n",
    "obs = [tensor( create(2)*destroy(2),  qeye(2)) ]\n",
    "psi0 = tensor( basis(2,0), basis(2,0) )\n",
    "out = mcsolve(H, psi0, times, [], obs)\n"
   ]
  },
  {
   "cell_type": "code",
   "execution_count": 72,
   "metadata": {
    "collapsed": false
   },
   "outputs": [
    {
     "data": {
      "image/png": "[encoded data removed]",
      "text/plain": [
       "<matplotlib.figure.Figure at 0x7f1f79cb5390>"
      ]
     },
     "metadata": {},
     "output_type": "display_data"
    }
   ],
   "source": [
    "plt.plot(times, out.expect[0])\n",
    "plt.show()"
   ]
  },
  {
   "cell_type": "code",
   "execution_count": 64,
   "metadata": {
    "collapsed": false
   },
   "outputs": [
    {
     "data": {
      "text/latex": [
       "Quantum object: dims = [[2, 2], [2, 2]], shape = [4, 4], type = oper, isherm = True\\begin{equation*}\\left(\\begin{array}{*{11}c}0.0 & 0.0 & 0.0 & -1.571\\times10^{+05}j\\\\0.0 & 1.257\\times10^{+07} & 0.0 & 0.0\\\\0.0 & 0.0 & 0.0 & 0.0\\\\1.571\\times10^{+05}j & 0.0 & 0.0 & 1.257\\times10^{+07}\\\\\\end{array}\\right)\\end{equation*}"
      ],
      "text/plain": [
       "Quantum object: dims = [[2, 2], [2, 2]], shape = [4, 4], type = oper, isherm = True\n",
       "Qobj data =\n",
       "[[        0.00000000     +0.j                 0.00000000     +0.j\n",
       "          0.00000000     +0.j                 0.00000000-157079.63267949j]\n",
       " [        0.00000000     +0.j          12566370.61435917     +0.j\n",
       "          0.00000000     +0.j                 0.00000000     +0.j        ]\n",
       " [        0.00000000     +0.j                 0.00000000     +0.j\n",
       "          0.00000000     +0.j                 0.00000000     +0.j        ]\n",
       " [        0.00000000+157079.63267949j         0.00000000     +0.j\n",
       "          0.00000000     +0.j          12566370.61435917     +0.j        ]]"
      ]
     },
     "execution_count": 64,
     "metadata": {},
     "output_type": "execute_result"
    }
   ],
   "source": [
    "dyn_w_laser.free_hamiltonian"
   ]
  },
  {
   "cell_type": "code",
   "execution_count": 70,
   "metadata": {
    "collapsed": false
   },
   "outputs": [
    {
     "data": {
      "text/latex": [
       "Quantum object: dims = [[2, 2], [2, 2]], shape = [4, 4], type = oper, isherm = True\\begin{equation*}\\left(\\begin{array}{*{11}c}0.0 & 0.0 & 0.0 & -1.571\\times10^{+05}j\\\\0.0 & 0.0 & 0.0 & 0.0\\\\0.0 & 0.0 & 0.0 & 0.0\\\\1.571\\times10^{+05}j & 0.0 & 0.0 & 0.0\\\\\\end{array}\\right)\\end{equation*}"
      ],
      "text/plain": [
       "Quantum object: dims = [[2, 2], [2, 2]], shape = [4, 4], type = oper, isherm = True\n",
       "Qobj data =\n",
       "[[ 0.     +0.j          0.     +0.j          0.     +0.j\n",
       "   0.-157079.63267949j]\n",
       " [ 0.     +0.j          0.     +0.j          0.     +0.j          0.     +0.j        ]\n",
       " [ 0.     +0.j          0.     +0.j          0.     +0.j          0.     +0.j        ]\n",
       " [ 0.+157079.63267949j  0.     +0.j          0.     +0.j          0.     +0.j        ]]"
      ]
     },
     "execution_count": 70,
     "metadata": {},
     "output_type": "execute_result"
    }
   ],
   "source": [
    "H"
   ]
  },
  {
   "cell_type": "code",
   "execution_count": 17,
   "metadata": {
    "collapsed": false
   },
   "outputs": [
    {
     "ename": "SyntaxError",
     "evalue": "invalid syntax (<ipython-input-17-015c53f53b99>, line 1)",
     "output_type": "error",
     "traceback": [
      "\u001b[1;36m  File \u001b[1;32m\"<ipython-input-17-015c53f53b99>\"\u001b[1;36m, line \u001b[1;32m1\u001b[0m\n\u001b[1;33m    H = chain.couplings[0][0] * ( tensor( qeye(2), create(2), qeye(2)) * tensor( qeye(2) ,  destroy(2), qeye(2) )  ) + chain.couplings[1][1] * ( tensor( qeye(2), qeye(2), create(2)) * tensor( qeye(2) ,  qeye(2), create(2) )  ) + 1.j * laser.intensity * laser.eta * ( tensor( create(2), create(2)) - tensor(destroy(2), destroy(2) ) ))\u001b[0m\n\u001b[1;37m                                                                                                                                                                                                                                                                                                                                            ^\u001b[0m\n\u001b[1;31mSyntaxError\u001b[0m\u001b[1;31m:\u001b[0m invalid syntax\n"
     ]
    }
   ],
   "source": [
    "H = chain.couplings[0][0] * ( tensor( qeye(2), create(2), qeye(2)) * tensor( qeye(2) ,  destroy(2), qeye(2) )  ) + chain.couplings[1][1] * ( tensor( qeye(2), qeye(2), create(2)) * tensor( qeye(2) ,  qeye(2), create(2) )  ) + 1.j * laser.intensity * laser.eta * ( tensor( create(2), create(2)) - tensor(destroy(2), destroy(2) ) ))"
   ]
  },
  {
   "cell_type": "code",
   "execution_count": 69,
   "metadata": {
    "collapsed": false
   },
   "outputs": [],
   "source": [
    "H =  1.j * laser.intensity * laser.eta * ( tensor( create(2), create(2) ) - tensor(destroy(2),  destroy(2) ) )"
   ]
  },
  {
   "cell_type": "code",
   "execution_count": 28,
   "metadata": {
    "collapsed": false
   },
   "outputs": [
    {
     "data": {
      "text/latex": [
       "Quantum object: dims = [[2, 2], [1, 1]], shape = [4, 1], type = ket\\begin{equation*}\\left(\\begin{array}{*{11}c}0.0\\\\1.0\\\\0.0\\\\0.0\\\\\\end{array}\\right)\\end{equation*}"
      ],
      "text/plain": [
       "Quantum object: dims = [[2, 2], [1, 1]], shape = [4, 1], type = ket\n",
       "Qobj data =\n",
       "[[ 0.]\n",
       " [ 1.]\n",
       " [ 0.]\n",
       " [ 0.]]"
      ]
     },
     "execution_count": 28,
     "metadata": {},
     "output_type": "execute_result"
    }
   ],
   "source": [
    "chain.initial_state"
   ]
  },
  {
   "cell_type": "code",
   "execution_count": 9,
   "metadata": {
    "collapsed": false
   },
   "outputs": [
    {
     "data": {
      "text/latex": [
       "Quantum object: dims = [[2, 2, 2], [1, 1, 1]], shape = [8, 1], type = ket\\begin{equation*}\\left(\\begin{array}{*{11}c}0.0\\\\0.0\\\\1.0\\\\0.0\\\\0.0\\\\0.0\\\\0.0\\\\0.0\\\\\\end{array}\\right)\\end{equation*}"
      ],
      "text/plain": [
       "Quantum object: dims = [[2, 2, 2], [1, 1, 1]], shape = [8, 1], type = ket\n",
       "Qobj data =\n",
       "[[ 0.]\n",
       " [ 0.]\n",
       " [ 1.]\n",
       " [ 0.]\n",
       " [ 0.]\n",
       " [ 0.]\n",
       " [ 0.]\n",
       " [ 0.]]"
      ]
     },
     "execution_count": 9,
     "metadata": {},
     "output_type": "execute_result"
    }
   ],
   "source": [
    "chain.initial_state"
   ]
  },
  {
   "cell_type": "code",
   "execution_count": 11,
   "metadata": {
    "collapsed": false
   },
   "outputs": [
    {
     "data": {
      "text/latex": [
       "Quantum object: dims = [[2, 2, 2], [1, 1, 1]], shape = [8, 1], type = ket\\begin{equation*}\\left(\\begin{array}{*{11}c}0.0\\\\0.0\\\\1.0\\\\0.0\\\\0.0\\\\0.0\\\\0.0\\\\0.0\\\\\\end{array}\\right)\\end{equation*}"
      ],
      "text/plain": [
       "Quantum object: dims = [[2, 2, 2], [1, 1, 1]], shape = [8, 1], type = ket\n",
       "Qobj data =\n",
       "[[ 0.]\n",
       " [ 0.]\n",
       " [ 1.]\n",
       " [ 0.]\n",
       " [ 0.]\n",
       " [ 0.]\n",
       " [ 0.]\n",
       " [ 0.]]"
      ]
     },
     "execution_count": 11,
     "metadata": {},
     "output_type": "execute_result"
    }
   ],
   "source": [
    "from qutip import *\n",
    "tensor( basis(2,0), tensor(basis(2,1), basis(2,0)) )"
   ]
  },
  {
   "cell_type": "code",
   "execution_count": 55,
   "metadata": {
    "collapsed": false
   },
   "outputs": [
    {
     "data": {
      "text/plain": [
       "[[12566370.614359172]]"
      ]
     },
     "execution_count": 55,
     "metadata": {},
     "output_type": "execute_result"
    }
   ],
   "source": [
    "chain.couplings"
   ]
  },
  {
   "cell_type": "code",
   "execution_count": 2,
   "metadata": {
    "collapsed": false
   },
   "outputs": [
    {
     "data": {
      "text/plain": [
       "(1, (1, 0, 0))"
      ]
     },
     "execution_count": 2,
     "metadata": {},
     "output_type": "execute_result"
    }
   ],
   "source": [
    "N, electronic_state"
   ]
  },
  {
   "cell_type": "code",
   "execution_count": 3,
   "metadata": {
    "collapsed": false
   },
   "outputs": [
    {
     "name": "stdout",
     "output_type": "stream",
     "text": [
      "Populating the interactive namespace from numpy and matplotlib\n"
     ]
    },
    {
     "name": "stderr",
     "output_type": "stream",
     "text": [
      "WARNING: pylab import has clobbered these variables: ['plt']\n",
      "`%matplotlib` prevents importing * from pylab and numpy\n"
     ]
    }
   ],
   "source": [
    "import os,sys,inspect\n",
    "currentdir = os.path.dirname(os.path.abspath(inspect.getfile(inspect.currentframe())))\n",
    "parentdir = os.path.dirname(currentdir)\n",
    "sys.path.insert(0,parentdir) \n",
    "\n",
    "from quantum_dynamics import Dynamics\n",
    "import numpy as np\n",
    "from ions import Chain\n",
    "from ion_trap import IonTrap\n",
    "import matplotlib.pylab as plt  \n",
    "from laser import *\n",
    "%pylab inline\n",
    "time_interval = (0., 2000.e-6)\n",
    "time_precision = 2.e-6\n",
    "times = np.arange(time_interval[0], time_interval[1], time_precision)\n",
    "\n",
    "omegax = 2.0e6\n",
    "omegaz = 150.e3\n",
    "N = 5\n",
    "chain = Chain(N, 2)\n",
    "dummy_trap = IonTrap( omegax , omegaz)\n",
    "dummy_trap.load(chain)\n"
   ]
  }
 ],
 "metadata": {
  "kernelspec": {
   "display_name": "Python 2",
   "language": "python",
   "name": "python2"
  },
  "language_info": {
   "codemirror_mode": {
    "name": "ipython",
    "version": 2
   },
   "file_extension": ".py",
   "mimetype": "text/x-python",
   "name": "python",
   "nbconvert_exporter": "python",
   "pygments_lexer": "ipython2",
   "version": "2.7.6"
  }
 },
 "nbformat": 4,
 "nbformat_minor": 0
}
