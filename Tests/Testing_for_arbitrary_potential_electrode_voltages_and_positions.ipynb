{
 "metadata": {
  "name": "",
  "signature": "sha256:80c998671c3c1a7ca830f3b57d3e11b4117318f85900fcae414187f9225fafae"
 },
 "nbformat": 3,
 "nbformat_minor": 0,
 "worksheets": [
  {
   "cells": [
    {
     "cell_type": "code",
     "collapsed": false,
     "input": [
      "import os,sys,inspect\n",
      "currentdir = os.path.dirname(os.path.abspath(inspect.getfile(inspect.currentframe())))\n",
      "parentdir = os.path.dirname(currentdir)\n",
      "sys.path.insert(0,parentdir) \n",
      "\n",
      "from scipy import linalg as LA \n",
      "from scipy import optimize\n",
      "import numpy as np\n",
      "from simulation_parameters import SimulationParameters\n",
      "p = SimulationParameters()\n",
      "from ions import Chain\n",
      "from ion_trap import IonTrap, Potential\n",
      "import matplotlib.pylab as plt\n",
      "import seaborn as sns\n",
      "sns.set_context('poster')\n",
      "\n",
      "#%matplotlib inline "
     ],
     "language": "python",
     "metadata": {},
     "outputs": [],
     "prompt_number": 1
    },
    {
     "cell_type": "code",
     "collapsed": false,
     "input": [
      "#Check if it reproduces harmonic potential if it is given as a function instead of axial_freq:\n",
      "omegax = 2.0e6\n",
      "omegaz = 0#100.e3\n",
      "N = 15\n",
      "chain = Chain(N, 2)\n",
      "dummy_trap = IonTrap( omegax , omegaz, 'generic')\n",
      "#p.mass = 40 * 1.6605402e-27 #40 amu in kg\n",
      "#p.coulomb_coeff = 2.30707955552e-28 # k =  U.e**2 / (4.0 * U.pi * U.eps0) \n",
      "#position_scale_factor  = (p.coulomb_coeff / (omegaz**2 * p.mass))**(1./3) \n",
      "\n",
      "\n",
      "potential_func = np.poly1d( [ 0.5*p.mass*(2*np.pi*100.e3)**2/10.e-5 ,0.5*p.mass*(2*np.pi*100.e3)**2 , 14.4503276471875015e-9,0] )\n",
      "dummy_trap.set_potential(potential_func)\n",
      "dummy_trap.load(chain)\n",
      "zpositions =   np.array( chain.get_positions() )\n",
      "#harmonic potential couplings:\n",
      "couplings_harmonic = chain.get_couplings()\n",
      "zpositions"
     ],
     "language": "python",
     "metadata": {},
     "outputs": [
      {
       "output_type": "stream",
       "stream": "stdout",
       "text": [
        "2.06441885153e-05\n",
        "           2\n",
        "3.933e-10 x + 2.622e-14 x + 1.445e-08\n",
        "2\n",
        "[  1.44503276e-08   2.62221998e-14   3.93332997e-10]\n",
        "628318.530718\n",
        "        2\n",
        "0.3097 x + 1 x + 2.669e+10"
       ]
      },
      {
       "output_type": "stream",
       "stream": "stdout",
       "text": [
        "\n"
       ]
      },
      {
       "ename": "ValueError",
       "evalue": "Jacobian inversion yielded zero vector. This indicates a bug in the Jacobian approximation.",
       "output_type": "pyerr",
       "traceback": [
        "\u001b[1;31m---------------------------------------------------------------------------\u001b[0m\n\u001b[1;31mValueError\u001b[0m                                Traceback (most recent call last)",
        "\u001b[1;32m<ipython-input-46-450a4a063e44>\u001b[0m in \u001b[0;36m<module>\u001b[1;34m()\u001b[0m\n\u001b[0;32m     12\u001b[0m \u001b[0mpotential_func\u001b[0m \u001b[1;33m=\u001b[0m \u001b[0mnp\u001b[0m\u001b[1;33m.\u001b[0m\u001b[0mpoly1d\u001b[0m\u001b[1;33m(\u001b[0m \u001b[1;33m[\u001b[0m \u001b[1;36m0.5\u001b[0m\u001b[1;33m*\u001b[0m\u001b[0mp\u001b[0m\u001b[1;33m.\u001b[0m\u001b[0mmass\u001b[0m\u001b[1;33m*\u001b[0m\u001b[1;33m(\u001b[0m\u001b[1;36m2\u001b[0m\u001b[1;33m*\u001b[0m\u001b[0mnp\u001b[0m\u001b[1;33m.\u001b[0m\u001b[0mpi\u001b[0m\u001b[1;33m*\u001b[0m\u001b[1;36m100.e3\u001b[0m\u001b[1;33m)\u001b[0m\u001b[1;33m**\u001b[0m\u001b[1;36m2\u001b[0m\u001b[1;33m/\u001b[0m\u001b[1;36m10.e-5\u001b[0m \u001b[1;33m,\u001b[0m\u001b[1;36m0.5\u001b[0m\u001b[1;33m*\u001b[0m\u001b[0mp\u001b[0m\u001b[1;33m.\u001b[0m\u001b[0mmass\u001b[0m\u001b[1;33m*\u001b[0m\u001b[1;33m(\u001b[0m\u001b[1;36m2\u001b[0m\u001b[1;33m*\u001b[0m\u001b[0mnp\u001b[0m\u001b[1;33m.\u001b[0m\u001b[0mpi\u001b[0m\u001b[1;33m*\u001b[0m\u001b[1;36m100.e3\u001b[0m\u001b[1;33m)\u001b[0m\u001b[1;33m**\u001b[0m\u001b[1;36m2\u001b[0m \u001b[1;33m,\u001b[0m \u001b[1;36m14.4503276471875015e-9\u001b[0m\u001b[1;33m,\u001b[0m\u001b[1;36m0\u001b[0m\u001b[1;33m]\u001b[0m \u001b[1;33m)\u001b[0m\u001b[1;33m\u001b[0m\u001b[0m\n\u001b[0;32m     13\u001b[0m \u001b[0mdummy_trap\u001b[0m\u001b[1;33m.\u001b[0m\u001b[0mset_potential\u001b[0m\u001b[1;33m(\u001b[0m\u001b[0mpotential_func\u001b[0m\u001b[1;33m)\u001b[0m\u001b[1;33m\u001b[0m\u001b[0m\n\u001b[1;32m---> 14\u001b[1;33m \u001b[0mdummy_trap\u001b[0m\u001b[1;33m.\u001b[0m\u001b[0mload\u001b[0m\u001b[1;33m(\u001b[0m\u001b[0mchain\u001b[0m\u001b[1;33m)\u001b[0m\u001b[1;33m\u001b[0m\u001b[0m\n\u001b[0m\u001b[0;32m     15\u001b[0m \u001b[0mzpositions\u001b[0m \u001b[1;33m=\u001b[0m   \u001b[0mnp\u001b[0m\u001b[1;33m.\u001b[0m\u001b[0marray\u001b[0m\u001b[1;33m(\u001b[0m \u001b[0mchain\u001b[0m\u001b[1;33m.\u001b[0m\u001b[0mget_positions\u001b[0m\u001b[1;33m(\u001b[0m\u001b[1;33m)\u001b[0m \u001b[1;33m)\u001b[0m\u001b[1;33m\u001b[0m\u001b[0m\n\u001b[0;32m     16\u001b[0m \u001b[1;31m#harmonic potential couplings:\u001b[0m\u001b[1;33m\u001b[0m\u001b[1;33m\u001b[0m\u001b[0m\n",
        "\u001b[1;32m/home/trxw/Documents/dfr/codes/quantum_play/ion-trap-qsim/ion_trap.py\u001b[0m in \u001b[0;36mload\u001b[1;34m(self, chain, zpositions)\u001b[0m\n\u001b[0;32m     39\u001b[0m                 \u001b[1;31m#Set the position of ions:\u001b[0m\u001b[1;33m\u001b[0m\u001b[1;33m\u001b[0m\u001b[0m\n\u001b[0;32m     40\u001b[0m                 \u001b[1;32mif\u001b[0m \u001b[0mself\u001b[0m\u001b[1;33m.\u001b[0m\u001b[0mpotential\u001b[0m\u001b[1;33m.\u001b[0m\u001b[0mconfig\u001b[0m \u001b[1;33m==\u001b[0m \u001b[1;34m'harmonic'\u001b[0m \u001b[1;32mor\u001b[0m \u001b[0mself\u001b[0m\u001b[1;33m.\u001b[0m\u001b[0mpotential\u001b[0m\u001b[1;33m.\u001b[0m\u001b[0mconfig\u001b[0m \u001b[1;33m==\u001b[0m \u001b[1;34m'generic'\u001b[0m\u001b[1;33m:\u001b[0m\u001b[1;33m\u001b[0m\u001b[0m\n\u001b[1;32m---> 41\u001b[1;33m                         \u001b[0mself\u001b[0m\u001b[1;33m.\u001b[0m\u001b[0mchain\u001b[0m\u001b[1;33m.\u001b[0m\u001b[0mset_zpositions\u001b[0m\u001b[1;33m(\u001b[0m \u001b[0mequilibrium_positions\u001b[0m\u001b[1;33m.\u001b[0m\u001b[0mget_positions\u001b[0m\u001b[1;33m(\u001b[0m\u001b[0mself\u001b[0m\u001b[1;33m.\u001b[0m\u001b[0mchain\u001b[0m\u001b[1;33m.\u001b[0m\u001b[0mnum_of_ions\u001b[0m\u001b[1;33m,\u001b[0m \u001b[0mself\u001b[0m\u001b[1;33m.\u001b[0m\u001b[0mpotential\u001b[0m\u001b[1;33m,\u001b[0m \u001b[0mself\u001b[0m\u001b[1;33m.\u001b[0m\u001b[0mp\u001b[0m\u001b[1;33m)\u001b[0m \u001b[1;33m)\u001b[0m\u001b[1;33m\u001b[0m\u001b[0m\n\u001b[0m\u001b[0;32m     42\u001b[0m                 \u001b[1;32melif\u001b[0m \u001b[0mself\u001b[0m\u001b[1;33m.\u001b[0m\u001b[0mpotential\u001b[0m\u001b[1;33m.\u001b[0m\u001b[0mconfig\u001b[0m \u001b[1;33m==\u001b[0m \u001b[1;34m'positions'\u001b[0m\u001b[1;33m:\u001b[0m\u001b[1;33m\u001b[0m\u001b[0m\n\u001b[0;32m     43\u001b[0m                         \u001b[1;32mif\u001b[0m \u001b[0mlen\u001b[0m\u001b[1;33m(\u001b[0m\u001b[0mzpositions\u001b[0m\u001b[1;33m)\u001b[0m \u001b[1;33m==\u001b[0m \u001b[0mself\u001b[0m\u001b[1;33m.\u001b[0m\u001b[0mchain\u001b[0m\u001b[1;33m.\u001b[0m\u001b[0mnum_of_ions\u001b[0m\u001b[1;33m:\u001b[0m\u001b[1;33m\u001b[0m\u001b[0m\n",
        "\u001b[1;32m/home/trxw/Documents/dfr/codes/quantum_play/ion-trap-qsim/equilibrium_positions.pyc\u001b[0m in \u001b[0;36mget_positions\u001b[1;34m(cls, number_of_ions, potential, p)\u001b[0m\n\u001b[0;32m     38\u001b[0m             \u001b[1;32melse\u001b[0m\u001b[1;33m:\u001b[0m\u001b[1;33m\u001b[0m\u001b[0m\n\u001b[0;32m     39\u001b[0m                 \u001b[0mu_guess\u001b[0m                \u001b[1;33m=\u001b[0m \u001b[0minitial_guess\u001b[0m\u001b[1;33m\u001b[0m\u001b[0m\n\u001b[1;32m---> 40\u001b[1;33m \u001b[1;33m\u001b[0m\u001b[0m\n\u001b[0m\u001b[0;32m     41\u001b[0m             \u001b[1;32mprint\u001b[0m\u001b[1;33m(\u001b[0m\u001b[0mpotential\u001b[0m\u001b[1;33m.\u001b[0m\u001b[0mrescaled_Vz_deriv\u001b[0m\u001b[1;33m)\u001b[0m\u001b[1;33m\u001b[0m\u001b[0m\n\u001b[0;32m     42\u001b[0m \u001b[1;33m\u001b[0m\u001b[0m\n",
        "\u001b[1;32m/usr/lib/python2.7/dist-packages/scipy/optimize/nonlin.pyc\u001b[0m in \u001b[0;36mnewton_krylov\u001b[1;34m(F, xin, iter, rdiff, method, inner_maxiter, inner_M, outer_k, verbose, maxiter, f_tol, f_rtol, x_tol, x_rtol, tol_norm, line_search, callback, **kw)\u001b[0m\n",
        "\u001b[1;32m/usr/lib/python2.7/dist-packages/scipy/optimize/nonlin.pyc\u001b[0m in \u001b[0;36mnonlin_solve\u001b[1;34m(F, x0, jacobian, iter, verbose, maxiter, f_tol, f_rtol, x_tol, x_rtol, tol_norm, line_search, callback, full_output, raise_exception)\u001b[0m\n\u001b[0;32m    314\u001b[0m \u001b[1;33m\u001b[0m\u001b[0m\n\u001b[0;32m    315\u001b[0m         \u001b[1;32mif\u001b[0m \u001b[0mnorm\u001b[0m\u001b[1;33m(\u001b[0m\u001b[0mdx\u001b[0m\u001b[1;33m)\u001b[0m \u001b[1;33m==\u001b[0m \u001b[1;36m0\u001b[0m\u001b[1;33m:\u001b[0m\u001b[1;33m\u001b[0m\u001b[0m\n\u001b[1;32m--> 316\u001b[1;33m             raise ValueError(\"Jacobian inversion yielded zero vector. \"\n\u001b[0m\u001b[0;32m    317\u001b[0m                              \u001b[1;34m\"This indicates a bug in the Jacobian \"\u001b[0m\u001b[1;33m\u001b[0m\u001b[0m\n\u001b[0;32m    318\u001b[0m                              \"approximation.\")\n",
        "\u001b[1;31mValueError\u001b[0m: Jacobian inversion yielded zero vector. This indicates a bug in the Jacobian approximation."
       ]
      }
     ],
     "prompt_number": 46
    },
    {
     "cell_type": "code",
     "collapsed": false,
     "input": [
      "plt.plot(zpositions, 'rs')\n",
      "plt.show()"
     ],
     "language": "python",
     "metadata": {},
     "outputs": [],
     "prompt_number": 40
    },
    {
     "cell_type": "code",
     "collapsed": false,
     "input": [
      "omegaz = 100.e3\n",
      "dummy_trap = IonTrap( omegax , omegaz, 'harmonic')\n",
      "#p.mass = 40 * 1.6605402e-27 #40 amu in kg\n",
      "#p.coulomb_coeff = 2.30707955552e-28 # k =  U.e**2 / (4.0 * U.pi * U.eps0) \n",
      "#position_scale_factor  = (p.coulomb_coeff / (omegaz**2 * p.mass))**(1./3) \n",
      "\n",
      "\n",
      "#potential_func = np.poly1d( [ 0.5*p.mass*(2*np.pi*100.e3)**2 ,0,0] )\n",
      "#dummy_trap.set_potential(potential_func)\n",
      "dummy_trap.load(chain)\n",
      "zpositions =   np.array( chain.get_positions() )\n",
      "#harmonic potential couplings:\n",
      "couplings_harmonic = chain.get_couplings()"
     ],
     "language": "python",
     "metadata": {},
     "outputs": [],
     "prompt_number": 27
    },
    {
     "cell_type": "code",
     "collapsed": false,
     "input": [
      "zpositions"
     ],
     "language": "python",
     "metadata": {},
     "outputs": [
      {
       "metadata": {},
       "output_type": "pyout",
       "prompt_number": 28,
       "text": [
        "array([ -3.59808007e-05,  -1.69716074e-05,   8.24148479e-16,\n",
        "         1.69716074e-05,   3.59808007e-05])"
       ]
      }
     ],
     "prompt_number": 28
    },
    {
     "cell_type": "code",
     "collapsed": false,
     "input": [
      "0.5*p.mass*(2*np.pi*100.e3)**2"
     ],
     "language": "python",
     "metadata": {},
     "outputs": [
      {
       "metadata": {},
       "output_type": "pyout",
       "prompt_number": 4,
       "text": [
        "1.3111099892884641e-14"
       ]
      }
     ],
     "prompt_number": 4
    },
    {
     "cell_type": "code",
     "collapsed": false,
     "input": [
      "# General framework:\n",
      "\n",
      "from simulation_parameters import SimulationParameters, OptimizationParameters\n",
      "chain     = Chain(N,2)\n",
      "trap      = IonTrap()\n",
      "trap.set_trap_radial_freq(1.8e6, 'Y')\n",
      "trap.set_trap_radial_freq(1.8e6, 'X')\n",
      "\n",
      "#Three ways to trap a chain:\n",
      "\n",
      "#Either set the electrode voltages\n",
      "trap.potential.set_used_electrodes([4,5,6])\n",
      "trap.potential.set_electrode_voltages([-1, 10,-1])\n",
      "trap.load(chain) #--> Generate error if the potential cannot trap the given number of ions\n",
      "                # of if it leads to zigzag config\n",
      "    \n",
      "#Or give a potential function along z axis:\n",
      "axial_freq = 200.e3\n",
      "func = poly1d( [0.5*SimulationParameters.mass*(2*np.pi* axial_freq)**2, 0, 0] )\n",
      "trap.potential.set_fz( func )\n",
      "trap.load(chain) #--> Generate error if the potential cannot trap the given number of ions\n",
      "                 # of if it leads to zigzag config\n",
      "    \n",
      "#Or set positions:\n",
      "positions = linspace(-10,10, 5) * 1.e-6\n",
      "chain.set_zpositions( positions ) #--> Generate error if the given positions are not in order or is not the \n",
      "                                  #    same length as the chain\n",
      "trap.load(chain) "
     ],
     "language": "python",
     "metadata": {},
     "outputs": []
    },
    {
     "cell_type": "code",
     "collapsed": false,
     "input": [
      "# General framework - Test case 2: Giving an arbitrary potential:\n",
      "\n",
      "import os,sys,inspect\n",
      "currentdir = os.path.dirname(os.path.abspath(inspect.getfile(inspect.currentframe())))\n",
      "parentdir = os.path.dirname(currentdir)\n",
      "sys.path.insert(0,parentdir) \n",
      "from numpy import *\n",
      "import numpy as np\n",
      "from simulation_parameters import SimulationParameters, OptimizationParameters\n",
      "from ions import Chain\n",
      "from ion_trap import IonTrap\n",
      "\n",
      "N = 15\n",
      "chain     = Chain(N,2)\n",
      "trap      = IonTrap()\n",
      "trap.set_trap_radial_freq(1.8e6, 'Y')\n",
      "trap.set_trap_radial_freq(1.8e6, 'X')\n",
      "\n",
      "#Three ways to trap a chain:\n",
      "\n",
      "#Either set the electrode voltages\n",
      "#trap.set_used_electrodes([4,5,6])\n",
      "#trap.potential.set_electrode_voltages([10, -10,10])\n",
      "#trap.load(chain) #--> Generate error if the potential cannot trap the given number of ions\n",
      "                 # of if it leads to zigzag config\n",
      "#Or give a potential function along z axis:\n",
      "params = SimulationParameters()\n",
      "axial_freq = 200.e3\n",
      "func = poly1d( [ 3277770./(10.e-6)**2 , 0 , 0.5*params.mass*(2*np.pi* axial_freq)**2/params.e, 0, 0] )\n",
      "#func = poly1d([ -1.24819181e+00,  -7.37019568e-04,   8.77376888e-02,\n",
      "#         2.64116222e-05,   8.40334484e-06])\n",
      "#func = -poly1d([  3.97856524, -20.20936844,  38.1293438 , -31.66001443,   9.77696177])\n",
      "\n",
      "trap.potential.set_fz( func )\n",
      "trap.load(chain) #--> Generate error if the potential cannot trap the given number of ions\n",
      "                 # of if it leads to zigzag config\n",
      "chain.get_couplings()[0]"
     ],
     "language": "python",
     "metadata": {},
     "outputs": [
      {
       "output_type": "stream",
       "stream": "stdout",
       "text": [
        "('nonzero_index is: ', 1)\n",
        "('energy_deriv_coeffs_inverted: ', array([  0.00000000e+00,   1.04888799e-13,   0.00000000e+00,\n",
        "         2.09777280e-02]))\n",
        "('position_scale_factor: ', 1.3005023834233078e-05)\n",
        "('Energy deriv inverted nonzero_index element: ', 1.0488879914307713e-13)\n",
        "('Potential energy: ', poly1d([  5.24443200e-03,   0.00000000e+00,   5.24443996e-14,\n",
        "         0.00000000e+00,   0.00000000e+00]))\n",
        "('Potential energy deriv: ', poly1d([  2.09777280e-02,   0.00000000e+00,   1.04888799e-13,\n",
        "         0.00000000e+00]))\n",
        "('Rescaled potential energy deriv: ', poly1d([ 33.82607766,   0.        ,   1.        ,   0.        ]))\n",
        "('Axial freq from deriv: ', 1256637.0614359172)\n",
        "Guess positions: [ -4.78270439e-05  -3.86962975e-05  -3.11326460e-05  -2.43208450e-05\n",
        "  -1.79448700e-05  -1.18351042e-05  -5.88127609e-06   8.68491870e-18\n",
        "   5.88127609e-06   1.18351042e-05   1.79448700e-05   2.43208450e-05\n",
        "   3.11326460e-05   3.86962975e-05   4.78270439e-05]"
       ]
      },
      {
       "output_type": "stream",
       "stream": "stdout",
       "text": [
        "\n",
        "('Positions: ', array([ -1.47590391e-05,  -1.23884250e-05,  -1.02713328e-05,\n",
        "        -8.23206014e-06,  -6.20434401e-06,  -4.15893534e-06,\n",
        "        -2.08813415e-06,   7.58993650e-16,   2.08813415e-06,\n",
        "         4.15893534e-06,   6.20434401e-06,   8.23206014e-06,\n",
        "         1.02713328e-05,   1.23884250e-05,   1.47590391e-05]))"
       ]
      },
      {
       "output_type": "stream",
       "stream": "stdout",
       "text": [
        "\n"
       ]
      },
      {
       "metadata": {},
       "output_type": "pyout",
       "prompt_number": 12,
       "text": [
        "array([ -2.96893301e+06,   1.14430389e+07,   1.68674996e+06,\n",
        "         5.48261009e+05,   2.43506409e+05,   1.27995191e+05,\n",
        "         7.49378284e+04,   4.74187120e+04,   3.18818032e+04,\n",
        "         2.25164594e+04,   1.65477858e+04,   1.25442527e+04,\n",
        "         9.72124970e+03,   7.61967072e+03,   5.92733900e+03])"
       ]
      }
     ],
     "prompt_number": 12
    },
    {
     "cell_type": "code",
     "collapsed": false,
     "input": [
      "array([ -2.89538151e+06,   1.13930746e+07,   1.67623318e+06,\n",
      "         5.43682162e+05,   2.40895982e+05,   1.26298093e+05,\n",
      "         7.37553369e+04,   4.65648037e+04,   3.12543931e+04,\n",
      "         2.20513743e+04,   1.62009242e+04,   1.22842568e+04,\n",
      "         9.52586313e+03,   7.47347059e+03,   5.82060046e+03])"
     ],
     "language": "python",
     "metadata": {},
     "outputs": []
    },
    {
     "cell_type": "code",
     "collapsed": false,
     "input": [
      "array([ -2.29787371e-05,  -1.92398274e-05,  -1.59137785e-05,\n",
      "        -1.27244282e-05,  -9.56908405e-06,  -6.40244644e-06,\n",
      "        -3.21045560e-06,  -1.30758896e-18,   3.21045560e-06,\n",
      "         6.40244644e-06,   9.56908405e-06,   1.27244282e-05,\n",
      "         1.59137785e-05,   1.92398274e-05,   2.29787371e-05])/1.3005023834233078e-05"
     ],
     "language": "python",
     "metadata": {},
     "outputs": [
      {
       "metadata": {},
       "output_type": "pyout",
       "prompt_number": 4,
       "text": [
        "array([ -1.76691234e+00,  -1.47941500e+00,  -1.22366392e+00,\n",
        "        -9.78424058e-01,  -7.35799040e-01,  -4.92305629e-01,\n",
        "        -2.46862723e-01,  -1.00544911e-13,   2.46862723e-01,\n",
        "         4.92305629e-01,   7.35799040e-01,   9.78424058e-01,\n",
        "         1.22366392e+00,   1.47941500e+00,   1.76691234e+00])"
       ]
      }
     ],
     "prompt_number": 4
    },
    {
     "cell_type": "code",
     "collapsed": false,
     "input": [],
     "language": "python",
     "metadata": {},
     "outputs": []
    },
    {
     "cell_type": "code",
     "collapsed": false,
     "input": [
      "0.5*params.mass*(2*np.pi* axial_freq)**2"
     ],
     "language": "python",
     "metadata": {},
     "outputs": [
      {
       "metadata": {},
       "output_type": "pyout",
       "prompt_number": 2,
       "text": [
        "5.2444399571538566e-14"
       ]
      }
     ],
     "prompt_number": 2
    },
    {
     "cell_type": "code",
     "collapsed": false,
     "input": [
      "p6 = chain.get_positions()"
     ],
     "language": "python",
     "metadata": {},
     "outputs": [],
     "prompt_number": 4
    },
    {
     "cell_type": "code",
     "collapsed": false,
     "input": [
      "p1 = chain.get_positions()"
     ],
     "language": "python",
     "metadata": {},
     "outputs": [],
     "prompt_number": 38
    },
    {
     "cell_type": "code",
     "collapsed": false,
     "input": [
      "import matplotlib.pylab as plt\n",
      "plt.plot(p1, np.ones(15), 'ro')\n",
      "plt.plot(p6, np.ones(15), 'bo')\n",
      "plt.show()"
     ],
     "language": "python",
     "metadata": {},
     "outputs": [],
     "prompt_number": 64
    },
    {
     "cell_type": "code",
     "collapsed": false,
     "input": [
      "# General framework - Test case 3: Giving an arbitrary position array:\n",
      "\n",
      "import os,sys,inspect\n",
      "currentdir = os.path.dirname(os.path.abspath(inspect.getfile(inspect.currentframe())))\n",
      "parentdir = os.path.dirname(currentdir)\n",
      "sys.path.insert(0,parentdir) \n",
      "from numpy import *\n",
      "import numpy as np\n",
      "from simulation_parameters import SimulationParameters, OptimizationParameters\n",
      "from ions import Chain\n",
      "from ion_trap import IonTrap\n",
      "\n",
      "N = 15\n",
      "chain     = Chain(N,2)\n",
      "trap      = IonTrap()\n",
      "trap.set_trap_radial_freq(1.8e6, 'Y')\n",
      "trap.set_trap_radial_freq(1.8e6, 'X')\n",
      "\n",
      "positions = linspace(-10,10, N) * 1.e-6\n",
      "\n",
      "trap.set_ions_positions( chain, positions ) #--> Generate error if the given positions are not in order or is not the \n",
      "                                  #    same length as the chain\n",
      "\n",
      "trap.load(chain)"
     ],
     "language": "python",
     "metadata": {},
     "outputs": [],
     "prompt_number": 1
    },
    {
     "cell_type": "code",
     "collapsed": false,
     "input": [
      "trap.chain.get_couplings()"
     ],
     "language": "python",
     "metadata": {},
     "outputs": [
      {
       "metadata": {},
       "output_type": "pyout",
       "prompt_number": 3,
       "text": [
        "array([[ -5.14215428e+07,   5.22899378e+07,   6.53624223e+06,\n",
        "          1.93666436e+06,   8.17030279e+05,   4.18319503e+05,\n",
        "          2.42083046e+05,   1.52448798e+05,   1.02128785e+05,\n",
        "          7.17283098e+04,   5.22899378e+04,   3.92862042e+04,\n",
        "          3.02603807e+04,   2.38006089e+04,   1.90560998e+04],\n",
        "       [  5.22899378e+07,  -1.03692425e+08,   5.22899378e+07,\n",
        "          6.53624223e+06,   1.93666436e+06,   8.17030279e+05,\n",
        "          4.18319503e+05,   2.42083046e+05,   1.52448798e+05,\n",
        "          1.02128785e+05,   7.17283098e+04,   5.22899378e+04,\n",
        "          3.92862042e+04,   3.02603807e+04,   2.38006089e+04],\n",
        "       [  6.53624223e+06,   5.22899378e+07,  -1.10204866e+08,\n",
        "          5.22899378e+07,   6.53624223e+06,   1.93666436e+06,\n",
        "          8.17030279e+05,   4.18319503e+05,   2.42083046e+05,\n",
        "          1.52448798e+05,   1.02128785e+05,   7.17283098e+04,\n",
        "          5.22899378e+04,   3.92862042e+04,   3.02603807e+04],\n",
        "       [  1.93666436e+06,   6.53624223e+06,   5.22899378e+07,\n",
        "         -1.12111270e+08,   5.22899378e+07,   6.53624223e+06,\n",
        "          1.93666436e+06,   8.17030279e+05,   4.18319503e+05,\n",
        "          2.42083046e+05,   1.52448798e+05,   1.02128785e+05,\n",
        "          7.17283098e+04,   5.22899378e+04,   3.92862042e+04],\n",
        "       [  8.17030279e+05,   1.93666436e+06,   6.53624223e+06,\n",
        "          5.22899378e+07,  -1.12889014e+08,   5.22899378e+07,\n",
        "          6.53624223e+06,   1.93666436e+06,   8.17030279e+05,\n",
        "          4.18319503e+05,   2.42083046e+05,   1.52448798e+05,\n",
        "          1.02128785e+05,   7.17283098e+04,   5.22899378e+04],\n",
        "       [  4.18319503e+05,   8.17030279e+05,   1.93666436e+06,\n",
        "          6.53624223e+06,   5.22899378e+07,  -1.13255044e+08,\n",
        "          5.22899378e+07,   6.53624223e+06,   1.93666436e+06,\n",
        "          8.17030279e+05,   4.18319503e+05,   2.42083046e+05,\n",
        "          1.52448798e+05,   1.02128785e+05,   7.17283098e+04],\n",
        "       [  2.42083046e+05,   4.18319503e+05,   8.17030279e+05,\n",
        "          1.93666436e+06,   6.53624223e+06,   5.22899378e+07,\n",
        "         -1.13425399e+08,   5.22899378e+07,   6.53624223e+06,\n",
        "          1.93666436e+06,   8.17030279e+05,   4.18319503e+05,\n",
        "          2.42083046e+05,   1.52448798e+05,   1.02128785e+05],\n",
        "       [  1.52448798e+05,   2.42083046e+05,   4.18319503e+05,\n",
        "          8.17030279e+05,   1.93666436e+06,   6.53624223e+06,\n",
        "          5.22899378e+07,  -1.13475719e+08,   5.22899378e+07,\n",
        "          6.53624223e+06,   1.93666436e+06,   8.17030279e+05,\n",
        "          4.18319503e+05,   2.42083046e+05,   1.52448798e+05],\n",
        "       [  1.02128785e+05,   1.52448798e+05,   2.42083046e+05,\n",
        "          4.18319503e+05,   8.17030279e+05,   1.93666436e+06,\n",
        "          6.53624223e+06,   5.22899378e+07,  -1.13425399e+08,\n",
        "          5.22899378e+07,   6.53624223e+06,   1.93666436e+06,\n",
        "          8.17030279e+05,   4.18319503e+05,   2.42083046e+05],\n",
        "       [  7.17283098e+04,   1.02128785e+05,   1.52448798e+05,\n",
        "          2.42083046e+05,   4.18319503e+05,   8.17030279e+05,\n",
        "          1.93666436e+06,   6.53624223e+06,   5.22899378e+07,\n",
        "         -1.13255044e+08,   5.22899378e+07,   6.53624223e+06,\n",
        "          1.93666436e+06,   8.17030279e+05,   4.18319503e+05],\n",
        "       [  5.22899378e+04,   7.17283098e+04,   1.02128785e+05,\n",
        "          1.52448798e+05,   2.42083046e+05,   4.18319503e+05,\n",
        "          8.17030279e+05,   1.93666436e+06,   6.53624223e+06,\n",
        "          5.22899378e+07,  -1.12889014e+08,   5.22899378e+07,\n",
        "          6.53624223e+06,   1.93666436e+06,   8.17030279e+05],\n",
        "       [  3.92862042e+04,   5.22899378e+04,   7.17283098e+04,\n",
        "          1.02128785e+05,   1.52448798e+05,   2.42083046e+05,\n",
        "          4.18319503e+05,   8.17030279e+05,   1.93666436e+06,\n",
        "          6.53624223e+06,   5.22899378e+07,  -1.12111270e+08,\n",
        "          5.22899378e+07,   6.53624223e+06,   1.93666436e+06],\n",
        "       [  3.02603807e+04,   3.92862042e+04,   5.22899378e+04,\n",
        "          7.17283098e+04,   1.02128785e+05,   1.52448798e+05,\n",
        "          2.42083046e+05,   4.18319503e+05,   8.17030279e+05,\n",
        "          1.93666436e+06,   6.53624223e+06,   5.22899378e+07,\n",
        "         -1.10204866e+08,   5.22899378e+07,   6.53624223e+06],\n",
        "       [  2.38006089e+04,   3.02603807e+04,   3.92862042e+04,\n",
        "          5.22899378e+04,   7.17283098e+04,   1.02128785e+05,\n",
        "          1.52448798e+05,   2.42083046e+05,   4.18319503e+05,\n",
        "          8.17030279e+05,   1.93666436e+06,   6.53624223e+06,\n",
        "          5.22899378e+07,  -1.03692425e+08,   5.22899378e+07],\n",
        "       [  1.90560998e+04,   2.38006089e+04,   3.02603807e+04,\n",
        "          3.92862042e+04,   5.22899378e+04,   7.17283098e+04,\n",
        "          1.02128785e+05,   1.52448798e+05,   2.42083046e+05,\n",
        "          4.18319503e+05,   8.17030279e+05,   1.93666436e+06,\n",
        "          6.53624223e+06,   5.22899378e+07,  -5.14215428e+07]])"
       ]
      }
     ],
     "prompt_number": 3
    },
    {
     "cell_type": "code",
     "collapsed": false,
     "input": [
      "trap.chain.get_positions()"
     ],
     "language": "python",
     "metadata": {},
     "outputs": [
      {
       "metadata": {},
       "output_type": "pyout",
       "prompt_number": 4,
       "text": [
        "[-9.9999999999999991e-06,\n",
        " -8.5714285714285709e-06,\n",
        " -7.1428571428571419e-06,\n",
        " -5.7142857142857145e-06,\n",
        " -4.2857142857142855e-06,\n",
        " -2.8571428571428568e-06,\n",
        " -1.4285714285714288e-06,\n",
        " 0.0,\n",
        " 1.4285714285714288e-06,\n",
        " 2.8571428571428577e-06,\n",
        " 4.2857142857142863e-06,\n",
        " 5.7142857142857154e-06,\n",
        " 7.1428571428571419e-06,\n",
        " 8.5714285714285726e-06,\n",
        " 9.9999999999999991e-06]"
       ]
      }
     ],
     "prompt_number": 4
    },
    {
     "cell_type": "code",
     "collapsed": false,
     "input": [
      "positions"
     ],
     "language": "python",
     "metadata": {},
     "outputs": [
      {
       "metadata": {},
       "output_type": "pyout",
       "prompt_number": 5,
       "text": [
        "array([ -1.00000000e-05,  -8.57142857e-06,  -7.14285714e-06,\n",
        "        -5.71428571e-06,  -4.28571429e-06,  -2.85714286e-06,\n",
        "        -1.42857143e-06,   0.00000000e+00,   1.42857143e-06,\n",
        "         2.85714286e-06,   4.28571429e-06,   5.71428571e-06,\n",
        "         7.14285714e-06,   8.57142857e-06,   1.00000000e-05])"
       ]
      }
     ],
     "prompt_number": 5
    },
    {
     "cell_type": "code",
     "collapsed": false,
     "input": [
      "# General framework - Test case 1: Giving electrodes voltage:\n",
      "\n",
      "import os,sys,inspect\n",
      "currentdir = os.path.dirname(os.path.abspath(inspect.getfile(inspect.currentframe())))\n",
      "parentdir = os.path.dirname(currentdir)\n",
      "sys.path.insert(0,parentdir) \n",
      "from numpy import *\n",
      "import numpy as np\n",
      "from simulation_parameters import SimulationParameters, OptimizationParameters\n",
      "from ions import Chain\n",
      "from ion_trap import IonTrap\n",
      "\n",
      "N = 10\n",
      "chain     = Chain(N,2)\n",
      "trap      = IonTrap()\n",
      "trap.set_trap_radial_freq(1.8e6, 'Y')\n",
      "trap.set_trap_radial_freq(1.8e6, 'X')\n",
      "\n",
      "#Either set the electrode voltages\n",
      "trap.set_used_electrodes(range(1,24))\n",
      "trap.set_electrode_voltages(voltages)\n",
      "trap.load(chain) #--> Generate error if the potential cannot trap the given number of ions\n",
      "                 # of if it leads to zigzag config"
     ],
     "language": "python",
     "metadata": {},
     "outputs": [
      {
       "output_type": "stream",
       "stream": "stdout",
       "text": [
        "('fz', poly1d([ -1.09383245e+13,   4.81996591e+05,   9.19982329e+05,\n",
        "         4.30757548e-01,   7.49502681e-05]))\n",
        "('nonzero_index is: ', 1)\n",
        "('energy_deriv_coeffs_inverted: ', array([  6.89212077e-20,   2.94394345e-13,   2.31358364e-13,\n",
        "        -7.00052767e-06]))\n",
        "('position_scale_factor: ', 9.2195778433874693e-06)\n",
        "('Energy deriv inverted nonzero_index element: ', 2.9439434542799974e-13)\n",
        "('Potential energy: ', poly1d([ -1.75013192e-06,   7.71194545e-14,   1.47197173e-13,\n",
        "         6.89212077e-20,   1.19920429e-23]))\n",
        "('Potential energy deriv: ', poly1d([ -7.00052767e-06,   2.31358364e-13,   2.94394345e-13,\n",
        "         6.89212077e-20]))\n",
        "('Rescaled potential energy deriv: ', poly1d([ -2.02126559e-03,   7.24547355e-06,   1.00000000e+00,\n",
        "         2.53929045e-02]))\n",
        "('Axial freq from deriv: ', 2105280.8468514802)\n",
        "Guess positions: [ -2.64677952e-05  -1.93614007e-05  -1.33719044e-05  -7.87148035e-06\n",
        "  -2.60087661e-06   2.60087662e-06   7.87148036e-06   1.33719044e-05\n",
        "   1.93614008e-05   2.64677951e-05]"
       ]
      },
      {
       "output_type": "stream",
       "stream": "stdout",
       "text": [
        "\n",
        "('Positions: ', array([ -2.68292501e-05,  -1.96728491e-05,  -1.36536193e-05,\n",
        "        -8.13273454e-06,  -2.84618602e-06,   2.37003428e-06,\n",
        "         7.65624079e-06,   1.31763991e-05,   1.91944022e-05,\n",
        "         2.63487435e-05]))"
       ]
      },
      {
       "output_type": "stream",
       "stream": "stdout",
       "text": [
        "\n"
       ]
      }
     ],
     "prompt_number": 6
    },
    {
     "cell_type": "code",
     "collapsed": false,
     "input": [
      "import pickle\n",
      "file_path          = '/home/trxw/Documents/dfr/codes/Fitting/BEMSolver_cfiles/NewCfiles/1microns_Center_-16_107_1270/data.pkl'\n",
      "pkl           = pickle.load(open(file_path, 'r'))"
     ],
     "language": "python",
     "metadata": {},
     "outputs": [],
     "prompt_number": 8
    },
    {
     "cell_type": "code",
     "collapsed": false,
     "input": [
      "import matplotlib.pylab as plt\n",
      "plt.plot(pkl.Z,  )(pkl.Z) )\n",
      "plt.show()"
     ],
     "language": "python",
     "metadata": {},
     "outputs": [],
     "prompt_number": 14
    },
    {
     "cell_type": "code",
     "collapsed": false,
     "input": [
      "p = poly1d(polyfit(pkl.Z*1.e-3, pkl['EL_DC_5'][15,15,:], 4))\n",
      "plt.plot(pkl.Z*1.e-3, p(pkl.Z*1.e-3))\n",
      "plt.plot(pkl.Z*1.e-3, pkl['EL_DC_5'][15,15,:], 'r')\n",
      "plt.show()\n"
     ],
     "language": "python",
     "metadata": {},
     "outputs": [],
     "prompt_number": 15
    },
    {
     "cell_type": "code",
     "collapsed": false,
     "input": [
      "polyder(poly1d([1,0,0,0]))"
     ],
     "language": "python",
     "metadata": {},
     "outputs": [
      {
       "metadata": {},
       "output_type": "pyout",
       "prompt_number": 25,
       "text": [
        "poly1d([3, 0, 0])"
       ]
      }
     ],
     "prompt_number": 25
    },
    {
     "cell_type": "code",
     "collapsed": false,
     "input": [
      "p"
     ],
     "language": "python",
     "metadata": {},
     "outputs": [
      {
       "metadata": {},
       "output_type": "pyout",
       "prompt_number": 17,
       "text": [
        "poly1d([  3.97856524e+12,  -2.02093684e+10,   3.81293438e+07,\n",
        "        -3.16600144e+04,   9.77696177e+00])"
       ]
      }
     ],
     "prompt_number": 17
    },
    {
     "cell_type": "code",
     "collapsed": false,
     "input": [
      "\n",
      "voltages = np.array([6.938899999999999955e-17, 8.791899999999999715e-02, 4.813600000000000101e-01, 8.047299999999999454e-01,\n",
      "-1.882300000000000084e+00, 8.013900000000000468e-01, 5.024399999999999977e-01, 8.146799999999999875e-02,\n",
      "2.183300000000000171e-02, 0.000000000000000000e+00, 0.000000000000000000e+00, 0.000000000000000000e+00,\n",
      "3.020199999999999968e-02,7.582099999999999951e-02,-2.652300000000000213e-01,-3.169699999999999740e-01,\n",
      "-2.666000000000000036e-01,7.831100000000000561e-02,3.159700000000000009e-02,8.757400000000000254e-03,\n",
      "0.000000000000000000e+00,0.000000000000000000e+00,6.395599999999999896e-02])"
     ],
     "language": "python",
     "metadata": {},
     "outputs": [],
     "prompt_number": 5
    },
    {
     "cell_type": "code",
     "collapsed": false,
     "input": [
      "0.5*params.mass*(2*np.pi* axial_freq)**2/params.e"
     ],
     "language": "python",
     "metadata": {},
     "outputs": [
      {
       "metadata": {},
       "output_type": "pyout",
       "prompt_number": 3,
       "text": [
        "327777.49732211605"
       ]
      }
     ],
     "prompt_number": 3
    },
    {
     "cell_type": "code",
     "collapsed": false,
     "input": [],
     "language": "python",
     "metadata": {},
     "outputs": []
    }
   ],
   "metadata": {}
  }
 ]
}