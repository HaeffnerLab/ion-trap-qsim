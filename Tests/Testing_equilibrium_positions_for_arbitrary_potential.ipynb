{
 "metadata": {
  "name": "",
  "signature": "sha256:09e36025c611d5c83003a25624ba20c11070bc4dee097d36c01830bd19f852eb"
 },
 "nbformat": 3,
 "nbformat_minor": 0,
 "worksheets": [
  {
   "cells": [
    {
     "cell_type": "code",
     "collapsed": false,
     "input": [
      "import os,sys,inspect\n",
      "currentdir = os.path.dirname(os.path.abspath(inspect.getfile(inspect.currentframe())))\n",
      "parentdir = os.path.dirname(currentdir)\n",
      "sys.path.insert(0,parentdir) \n",
      "\n",
      "from scipy import linalg as LA \n",
      "from scipy import optimize\n",
      "import numpy as np\n",
      "from simulation_parameters import simulation_parameters\n",
      "p = simulation_parameters()\n",
      "from ions import Chain\n",
      "from ion_trap import IonTrap, Potential\n",
      "import matplotlib.pylab as plt\n",
      "import seaborn as sns\n",
      "sns.set_context('poster')\n",
      "\n",
      "#%matplotlib inline "
     ],
     "language": "python",
     "metadata": {},
     "outputs": [],
     "prompt_number": 1
    },
    {
     "cell_type": "code",
     "collapsed": false,
     "input": [
      "#Check if it reproduces harmonic potential if it is given as a function instead of axial_freq:\n",
      "omegax = 2.0e6\n",
      "omegaz = 0#100.e3\n",
      "N = 5\n",
      "chain = Chain(N, 2)\n",
      "dummy_trap = IonTrap( omegax , omegaz, 'generic')\n",
      "#p.mass = 40 * 1.6605402e-27 #40 amu in kg\n",
      "#p.coulomb_coeff = 2.30707955552e-28 # k =  U.e**2 / (4.0 * U.pi * U.eps0) \n",
      "#position_scale_factor  = (p.coulomb_coeff / (omegaz**2 * p.mass))**(1./3) \n",
      "\n",
      "\n",
      "potential_func = np.poly1d( [ 0.5*p.mass*(2*np.pi*100.e3)**2 , 4.4503276471875015e-19,0] )\n",
      "dummy_trap.set_potential(potential_func)\n",
      "dummy_trap.load(chain)\n",
      "zpositions =   np.array( chain.get_positions() )\n",
      "#harmonic potential couplings:\n",
      "couplings_harmonic = chain.get_couplings()"
     ],
     "language": "python",
     "metadata": {},
     "outputs": [
      {
       "output_type": "stream",
       "stream": "stdout",
       "text": [
        "2.06441885153e-05\n",
        " \n",
        "2.622e-14 x + 4.45e-19\n",
        "1\n",
        "[  4.45032765e-19   2.62221998e-14]\n",
        "628318.530718\n",
        " \n",
        "1 x + 0.8221\n"
       ]
      }
     ],
     "prompt_number": 25
    },
    {
     "cell_type": "code",
     "collapsed": false,
     "input": [
      "zpositions"
     ],
     "language": "python",
     "metadata": {},
     "outputs": [
      {
       "metadata": {},
       "output_type": "pyout",
       "prompt_number": 26,
       "text": [
        "array([ -5.29524255e-05,  -3.39432060e-05,  -1.69716030e-05,\n",
        "        -9.31926550e-15,   1.90092195e-05])"
       ]
      }
     ],
     "prompt_number": 26
    },
    {
     "cell_type": "code",
     "collapsed": false,
     "input": [
      "omegaz = 100.e3\n",
      "dummy_trap = IonTrap( omegax , omegaz, 'harmonic')\n",
      "#p.mass = 40 * 1.6605402e-27 #40 amu in kg\n",
      "#p.coulomb_coeff = 2.30707955552e-28 # k =  U.e**2 / (4.0 * U.pi * U.eps0) \n",
      "#position_scale_factor  = (p.coulomb_coeff / (omegaz**2 * p.mass))**(1./3) \n",
      "\n",
      "\n",
      "#potential_func = np.poly1d( [ 0.5*p.mass*(2*np.pi*100.e3)**2 ,0,0] )\n",
      "#dummy_trap.set_potential(potential_func)\n",
      "dummy_trap.load(chain)\n",
      "zpositions =   np.array( chain.get_positions() )\n",
      "#harmonic potential couplings:\n",
      "couplings_harmonic = chain.get_couplings()"
     ],
     "language": "python",
     "metadata": {},
     "outputs": [],
     "prompt_number": 27
    },
    {
     "cell_type": "code",
     "collapsed": false,
     "input": [
      "zpositions"
     ],
     "language": "python",
     "metadata": {},
     "outputs": [
      {
       "metadata": {},
       "output_type": "pyout",
       "prompt_number": 28,
       "text": [
        "array([ -3.59808007e-05,  -1.69716074e-05,   8.24148479e-16,\n",
        "         1.69716074e-05,   3.59808007e-05])"
       ]
      }
     ],
     "prompt_number": 28
    },
    {
     "cell_type": "code",
     "collapsed": false,
     "input": [
      "0.5*p.mass*(2*np.pi*100.e3)**2"
     ],
     "language": "python",
     "metadata": {},
     "outputs": [
      {
       "metadata": {},
       "output_type": "pyout",
       "prompt_number": 4,
       "text": [
        "1.3111099892884641e-14"
       ]
      }
     ],
     "prompt_number": 4
    },
    {
     "cell_type": "code",
     "collapsed": false,
     "input": [
      "#Order of magnitude of the harmonic term:\n",
      "2.62221998e-14*zpositions[1]"
     ],
     "language": "python",
     "metadata": {},
     "outputs": [
      {
       "metadata": {},
       "output_type": "pyout",
       "prompt_number": 24,
       "text": [
        "-4.4503276471875015e-19"
       ]
      }
     ],
     "prompt_number": 24
    },
    {
     "cell_type": "code",
     "collapsed": false,
     "input": [
      "ii = np.array([])\n",
      "len(ii)"
     ],
     "language": "python",
     "metadata": {},
     "outputs": [
      {
       "metadata": {},
       "output_type": "pyout",
       "prompt_number": 34,
       "text": [
        "0"
       ]
      }
     ],
     "prompt_number": 34
    },
    {
     "cell_type": "code",
     "collapsed": false,
     "input": [],
     "language": "python",
     "metadata": {},
     "outputs": []
    }
   ],
   "metadata": {}
  }
 ]
}