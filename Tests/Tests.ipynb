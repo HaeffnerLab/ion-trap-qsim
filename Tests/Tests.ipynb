{
 "metadata": {
  "name": "",
  "signature": "sha256:ef1e981dc15bc54a3f40f00da36bd50332576e1fe77cffd5c5c9193da21c6fca"
 },
 "nbformat": 3,
 "nbformat_minor": 0,
 "worksheets": [
  {
   "cells": [
    {
     "cell_type": "code",
     "collapsed": false,
     "input": [
      "cd Documents/dfr/codes/quantum_play/ChainSimulator/"
     ],
     "language": "python",
     "metadata": {},
     "outputs": [
      {
       "output_type": "stream",
       "stream": "stdout",
       "text": [
        "/home/trxw/Documents/dfr/codes/quantum_play/ChainSimulator\n"
       ]
      }
     ],
     "prompt_number": 1
    },
    {
     "cell_type": "code",
     "collapsed": false,
     "input": [
      "from Ions import Chain\n",
      "from IonTrap import IonTrap\n",
      "trap = IonTrap(2e6, 1e3)\n",
      "chain = Chain(5, 8)\n",
      "trap.load(chain)"
     ],
     "language": "python",
     "metadata": {},
     "outputs": [],
     "prompt_number": 3
    },
    {
     "cell_type": "code",
     "collapsed": false,
     "input": [
      "chain.get_positions()"
     ],
     "language": "python",
     "metadata": {},
     "outputs": [
      {
       "metadata": {},
       "output_type": "pyout",
       "prompt_number": 4,
       "text": [
        "[-0.00077518189251951544,\n",
        " -0.00036564221069607333,\n",
        " 0.0,\n",
        " 0.00036564132116495562,\n",
        " 0.00077518189251951544]"
       ]
      }
     ],
     "prompt_number": 4
    },
    {
     "cell_type": "code",
     "collapsed": false,
     "input": [],
     "language": "python",
     "metadata": {},
     "outputs": []
    }
   ],
   "metadata": {}
  }
 ]
}