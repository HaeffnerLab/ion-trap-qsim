{
 "cells": [
  {
   "cell_type": "code",
   "execution_count": null,
   "metadata": {
    "collapsed": true
   },
   "outputs": [],
   "source": [
    "import os,sys,inspect\n",
    "currentdir = os.path.dirname(os.path.abspath(inspect.getfile(inspect.currentframe())))\n",
    "parentdir = os.path.dirname(currentdir)\n",
    "sys.path.insert(0,parentdir) \n",
    "\n",
    "from quantum_dynamics import Dynamics\n",
    "import numpy as np\n",
    "from ions import Chain\n",
    "from ion_trap import IonTrap\n",
    "import matplotlib.pylab as plt  \n",
    "from laser import *\n",
    "%pylab inline\n",
    "time_interval = (0., 2000.e-6)\n",
    "time_precision = 2.e-6\n",
    "times = np.arange(time_interval[0], time_interval[1], time_precision)\n",
    "\n",
    "omegax = 2.0e6\n",
    "omegaz = 150.e3\n",
    "N = 1\n",
    "chain = Chain(N, 2)\n",
    "dummy_trap = IonTrap( omegax , omegaz)\n",
    "dummy_trap.load(chain)\n",
    "\n",
    "motional_state = (1,)\n",
    "electronic_state = (0,)\n",
    "laser = Laser( ion_num = 1, sideband_num = 1, intensity = 0, phase = 2*np.pi* 0, detuning=0)\n",
    "#chain.set_thermal_motional_state( motional_state )\n",
    "chain.set_pure_motional_state( motional_state )\n",
    "chain.set_pure_electronic_state_numbers( electronic_state )\n",
    "\n",
    "\n",
    "laser.intensity, laser.detuning = 2*np.pi* 200.e3, 2*np.pi* 100.e3 \n",
    "#chain.set_thermal_motional_state( motional_state )\n",
    "\n",
    "dyn_w_laser = Dynamics(chain, lasers = [laser], pulses = [])\n",
    "dyn_w_laser.evolve_pure(time_interval, observables)"
   ]
  }
 ],
 "metadata": {
  "kernelspec": {
   "display_name": "Python 2",
   "language": "python",
   "name": "python2"
  },
  "language_info": {
   "codemirror_mode": {
    "name": "ipython",
    "version": 2
   },
   "file_extension": ".py",
   "mimetype": "text/x-python",
   "name": "python",
   "nbconvert_exporter": "python",
   "pygments_lexer": "ipython2",
   "version": "2.7.6"
  }
 },
 "nbformat": 4,
 "nbformat_minor": 0
}
