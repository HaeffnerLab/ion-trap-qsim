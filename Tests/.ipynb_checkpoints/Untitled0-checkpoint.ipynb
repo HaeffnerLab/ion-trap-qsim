{
 "metadata": {
  "name": "",
  "signature": "sha256:b547612e8b24f46597f96ee9957a414969fdad4670e097dbf2ae2a23700bd246"
 },
 "nbformat": 3,
 "nbformat_minor": 0,
 "worksheets": [
  {
   "cells": [
    {
     "cell_type": "code",
     "collapsed": false,
     "input": [
      "from ions import Chain, Ion\n",
      "import numpy as np\n",
      "from ion_trap import IonTrap\n",
      "chain = Chain(25, 8)\n",
      "chain.set_chain_motional_states(0,1,5,0,1)\n",
      "chain.set_chain_electronic_states(ion1=0, ion5=1)\n",
      "trap_dummy = IonTrap(2*np.pi * 2e6, 2*np.pi * 100e3)\n",
      "trap_dummy.load(chain)\n",
      "chain.get_positions()\n",
      "\n",
      "#Define an experiment:\n",
      "    #Define lasers\n",
      "    #Define pulse sequence\n",
      "    #Define observables\n",
      "\n",
      "#\n"
     ],
     "language": "python",
     "metadata": {},
     "outputs": [
      {
       "output_type": "stream",
       "stream": "stdout",
       "text": [
        "Number of arguments must be equal to the number of ions in the chain.\n"
       ]
      },
      {
       "metadata": {},
       "output_type": "pyout",
       "prompt_number": 5,
       "text": [
        "[-2.9531852048478236e-05,\n",
        " -2.5729768726137745e-05,\n",
        " -2.2624369230510504e-05,\n",
        " -1.9867705734470298e-05,\n",
        " -1.7327244007297852e-05,\n",
        " -1.4934534302203573e-05,\n",
        " -1.2648106622018206e-05,\n",
        " -1.0440071787358921e-05,\n",
        " -8.2903010861494208e-06,\n",
        " -6.1832735837766455e-06,\n",
        " -4.1062815150261622e-06,\n",
        " -2.0484723513989988e-06,\n",
        " 0.0,\n",
        " 2.0484723513989988e-06,\n",
        " 4.1062815150261622e-06,\n",
        " 6.1832735837766455e-06,\n",
        " 8.2903010861494208e-06,\n",
        " 1.0440071787358921e-05,\n",
        " 1.2648106622018206e-05,\n",
        " 1.4934534302203573e-05,\n",
        " 1.7327244007297852e-05,\n",
        " 1.9867705734470298e-05,\n",
        " 2.2624369230510504e-05,\n",
        " 2.5729768726137745e-05,\n",
        " 2.9531852048478236e-05]"
       ]
      }
     ],
     "prompt_number": 5
    },
    {
     "cell_type": "code",
     "collapsed": false,
     "input": [
      "ion_dude = Ion(5, 8)\n",
      "ion_dude.set_position(1)"
     ],
     "language": "python",
     "metadata": {},
     "outputs": [],
     "prompt_number": 5
    },
    {
     "cell_type": "code",
     "collapsed": false,
     "input": [
      "ion_dude.get_postition()"
     ],
     "language": "python",
     "metadata": {},
     "outputs": [
      {
       "metadata": {},
       "output_type": "pyout",
       "prompt_number": 6,
       "text": [
        "1"
       ]
      }
     ],
     "prompt_number": 6
    },
    {
     "cell_type": "code",
     "collapsed": false,
     "input": [
      "l = [2., 'jask', '&', 3]\n",
      "for e in l:\n",
      "    print \"This is %f\" % e"
     ],
     "language": "python",
     "metadata": {},
     "outputs": [
      {
       "output_type": "stream",
       "stream": "stdout",
       "text": [
        "This is 2.000000\n"
       ]
      },
      {
       "ename": "TypeError",
       "evalue": "float argument required, not str",
       "output_type": "pyerr",
       "traceback": [
        "\u001b[1;31m---------------------------------------------------------------------------\u001b[0m\n\u001b[1;31mTypeError\u001b[0m                                 Traceback (most recent call last)",
        "\u001b[1;32m<ipython-input-13-1baa3d630a1d>\u001b[0m in \u001b[0;36m<module>\u001b[1;34m()\u001b[0m\n\u001b[0;32m      1\u001b[0m \u001b[0ml\u001b[0m \u001b[1;33m=\u001b[0m \u001b[1;33m[\u001b[0m\u001b[1;36m2.\u001b[0m\u001b[1;33m,\u001b[0m \u001b[1;34m'jask'\u001b[0m\u001b[1;33m,\u001b[0m \u001b[1;34m'&'\u001b[0m\u001b[1;33m,\u001b[0m \u001b[1;36m3\u001b[0m\u001b[1;33m]\u001b[0m\u001b[1;33m\u001b[0m\u001b[0m\n\u001b[0;32m      2\u001b[0m \u001b[1;32mfor\u001b[0m \u001b[0me\u001b[0m \u001b[1;32min\u001b[0m \u001b[0ml\u001b[0m\u001b[1;33m:\u001b[0m\u001b[1;33m\u001b[0m\u001b[0m\n\u001b[1;32m----> 3\u001b[1;33m     \u001b[1;32mprint\u001b[0m \u001b[1;34m\"This is %f\"\u001b[0m \u001b[1;33m%\u001b[0m \u001b[0me\u001b[0m\u001b[1;33m\u001b[0m\u001b[0m\n\u001b[0m",
        "\u001b[1;31mTypeError\u001b[0m: float argument required, not str"
       ]
      }
     ],
     "prompt_number": 13
    },
    {
     "cell_type": "code",
     "collapsed": false,
     "input": [],
     "language": "python",
     "metadata": {},
     "outputs": []
    }
   ],
   "metadata": {}
  }
 ]
}