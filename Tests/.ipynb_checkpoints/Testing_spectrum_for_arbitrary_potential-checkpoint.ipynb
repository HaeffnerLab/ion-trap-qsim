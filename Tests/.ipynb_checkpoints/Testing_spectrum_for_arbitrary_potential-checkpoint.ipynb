{
 "metadata": {
  "name": "",
  "signature": "sha256:07ef30c91e292f92e0dbe7456f52e9799f4585bee185b3ecc338a04657cb419f"
 },
 "nbformat": 3,
 "nbformat_minor": 0,
 "worksheets": [
  {
   "cells": [
    {
     "cell_type": "code",
     "collapsed": false,
     "input": [
      "import os,sys,inspect\n",
      "currentdir = os.path.dirname(os.path.abspath(inspect.getfile(inspect.currentframe())))\n",
      "parentdir = os.path.dirname(currentdir)\n",
      "sys.path.insert(0,parentdir) \n",
      "\n",
      "from scipy import linalg as LA \n",
      "from scipy import optimize\n",
      "import numpy as np\n",
      "from simulation_parameters import simulation_parameters\n",
      "p = simulation_parameters()\n",
      "from ions import Chain\n",
      "from ion_trap import IonTrap, Potential\n",
      "import matplotlib.pylab as plt\n",
      "import seaborn as sns\n",
      "sns.set_context('poster')\n",
      "\n",
      "#%matplotlib inline "
     ],
     "language": "python",
     "metadata": {},
     "outputs": [],
     "prompt_number": 1
    },
    {
     "cell_type": "code",
     "collapsed": false,
     "input": [
      "#Check if it reproduces harmonic potential if it is given as a function instead of axial_freq:\n",
      "omegax = 2.0e6\n",
      "omegaz = 200.e3\n",
      "N = 15\n",
      "chain = Chain(N, 2)\n",
      "dummy_trap = IonTrap( omegax , omegaz, 'generic')\n",
      "potential_func = np.poly1d([ 0.5*p.mass*(2*np.pi*omegaz)**2,0,0] )# np.poly1d([ -1*p.mass*(2*np.pi*omegaz)**2/(50.e-6)**4,0,10*0.5*p.mass*(2*np.pi*omegaz)**2/(50.e-6)**2, 0 , 0.5*p.mass*(2*np.pi*omegaz)**2,0,0] )\n",
      "dummy_trap.set_potential(potential_func)\n",
      "dummy_trap.load(chain)\n",
      "zpositions =   np.array( chain.get_positions() )\n",
      "#harmonic potential couplings:\n",
      "couplings_harmonic = chain.get_couplings()"
     ],
     "language": "python",
     "metadata": {},
     "outputs": [
      {
       "output_type": "stream",
       "stream": "stdout",
       "text": [
        "1.30050238342e-05\n",
        " \n",
        "1.049e-13 x\n",
        "1\n",
        "[  0.00000000e+00   1.04888799e-13]\n",
        "1256637.06144\n",
        " \n",
        "1 x"
       ]
      },
      {
       "output_type": "stream",
       "stream": "stdout",
       "text": [
        "\n",
        "This: 15\n",
        "15\n"
       ]
      }
     ],
     "prompt_number": 146
    },
    {
     "cell_type": "code",
     "collapsed": false,
     "input": [
      "plt.plot(np.sort(abs(LA.eig(couplings_harmonic)[0]/(2*np.pi))), 'rs')\n",
      "plt.show()"
     ],
     "language": "python",
     "metadata": {},
     "outputs": [],
     "prompt_number": 147
    },
    {
     "cell_type": "code",
     "collapsed": false,
     "input": [
      "plt.plot(np.sort(abs(LA.eig(couplings_harmonic)[0]/(2*np.pi))), 'rs')\n",
      "plt.show()\n",
      "plt.plot(chain.get_positions(), np.ones(len(chain.get_positions())), 'go')\n",
      "plt.show()"
     ],
     "language": "python",
     "metadata": {},
     "outputs": [],
     "prompt_number": 113
    },
    {
     "cell_type": "code",
     "collapsed": false,
     "input": [
      "#Check if it reproduces harmonic potential if it is given as a function instead of axial_freq:\n",
      "omegax = 2.0e6\n",
      "omegaz = 100.e3\n",
      "N = 5\n",
      "chain = Chain(N, 2)\n",
      "dummy_trap = IonTrap( omegax , omegaz, 'generic')\n",
      "potential_func = np.poly1d( [1,0,0] )\n",
      "dummy_trap.set_potential(potential_func)\n",
      "dummy_trap.load(chain)\n",
      "zpositions =   np.array( chain.get_positions() )\n",
      "#harmonic potential couplings:\n",
      "couplings_harmonic = chain.get_couplings()"
     ],
     "language": "python",
     "metadata": {},
     "outputs": []
    },
    {
     "cell_type": "code",
     "collapsed": false,
     "input": [
      "0.5*p.mass*(2*np.pi*omegaz)**2/(50.e-6)"
     ],
     "language": "python",
     "metadata": {},
     "outputs": [
      {
       "metadata": {},
       "output_type": "pyout",
       "prompt_number": 34,
       "text": [
        "2.622219978576928e-10"
       ]
      }
     ],
     "prompt_number": 34
    },
    {
     "cell_type": "code",
     "collapsed": false,
     "input": [],
     "language": "python",
     "metadata": {},
     "outputs": []
    }
   ],
   "metadata": {}
  }
 ]
}