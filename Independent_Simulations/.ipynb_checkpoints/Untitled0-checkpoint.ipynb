{
 "metadata": {
  "name": "",
  "signature": "sha256:be850fabc7ff1b17ee677089b63a8c0dbe0118128b2cc720592705501a26cd16"
 },
 "nbformat": 3,
 "nbformat_minor": 0,
 "worksheets": []
}