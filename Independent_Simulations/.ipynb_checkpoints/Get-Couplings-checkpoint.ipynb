{
 "cells": [
  {
   "cell_type": "code",
   "execution_count": 1,
   "metadata": {
    "collapsed": true
   },
   "outputs": [],
   "source": [
    "#This code is specifically written for DJ Gorman by Omid K., one of his band fans.\n",
    "\n",
    "\n",
    "import os,sys,inspect\n",
    "currentdir = os.path.dirname(os.path.abspath(inspect.getfile(inspect.currentframe())))\n",
    "parentdir = os.path.dirname(currentdir)\n",
    "sys.path.insert(0,parentdir) \n",
    "\n",
    "from quantum_dynamics import Dynamics\n",
    "import numpy as np\n",
    "from ions import Chain\n",
    "from ion_trap import IonTrap\n",
    "omegax = 2.0e6\n",
    "omegaz = 150.e3\n",
    "N = 5\n",
    "chain = Chain(N, 2)\n",
    "dummy_trap = IonTrap( omegax , omegaz)\n",
    "dummy_trap.load(chain)\n",
    "zpositions =   np.array( chain.get_positions() )\n",
    "#harmonic potential couplings:\n",
    "couplings_harmonic = chain.get_couplings()"
   ]
  },
  {
   "cell_type": "code",
   "execution_count": null,
   "metadata": {
    "collapsed": true
   },
   "outputs": [],
   "source": []
  }
 ],
 "metadata": {
  "kernelspec": {
   "display_name": "Python 2",
   "language": "python",
   "name": "python2"
  },
  "language_info": {
   "codemirror_mode": {
    "name": "ipython",
    "version": 2
   },
   "file_extension": ".py",
   "mimetype": "text/x-python",
   "name": "python",
   "nbconvert_exporter": "python",
   "pygments_lexer": "ipython2",
   "version": "2.7.6"
  }
 },
 "nbformat": 4,
 "nbformat_minor": 0
}
