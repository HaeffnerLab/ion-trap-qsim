{
 "metadata": {
  "name": "",
  "signature": "sha256:241d9379260d28fe108d6feb8364e44ae0be6d7b662be1222cf3fdec4bf7333f"
 },
 "nbformat": 3,
 "nbformat_minor": 0,
 "worksheets": [
  {
   "cells": [
    {
     "cell_type": "code",
     "collapsed": false,
     "input": [
      "import os,sys,inspect\n",
      "currentdir = os.path.dirname(os.path.abspath(inspect.getfile(inspect.currentframe())))\n",
      "parentdir = os.path.dirname(currentdir)\n",
      "sys.path.insert(0,parentdir) \n",
      "\n",
      "import numdifftools as nd\n",
      "from scipy import optimize\n",
      "from scipy.optimize import fsolve\n",
      "import numpy as np\n",
      "from numpy import *\n",
      "from scipy.optimize import fsolve\n",
      "from ions import Chain\n",
      "from ion_trap import IonTrap\n",
      "import scipy.linalg as LA\n",
      "import matplotlib.pylab as plt\n",
      "import pickle\n",
      "import pandas as pd\n",
      "from simulation_parameters import *\n",
      "p = SimulationParameters()\n",
      "from quantum_dynamics import *\n",
      "from qutip import *\n",
      "import qutip as q"
     ],
     "language": "python",
     "metadata": {},
     "outputs": [],
     "prompt_number": 1
    },
    {
     "cell_type": "code",
     "collapsed": false,
     "input": [
      "def get_gamma(chain, ion_num, times, k = 0, time_precision=1.e-6):\n",
      "        \"\"\"Return an array of amplitudes of ion ion_num at each time in time_interval   \n",
      "        k is in \n",
      "        a_{ion_num} = \\sum gamma_k(t) * a_k \n",
      "        \"\"\"\n",
      "        \n",
      "        def gamma(i, t, chain):\n",
      "            eigenvectorsT = LA.eig(chain.get_couplings())[1]\n",
      "            eigenfreqs   = LA.eig(chain.get_couplings())[0]\n",
      "\n",
      "            s = 0\n",
      "            for j in range(chain.num_of_ions):\n",
      "                s += eigenvectorsT[j][i] * eigenvectorsT[j][k] * np.exp(1.j* eigenfreqs[j] * t)\n",
      "            \n",
      "            return s\n",
      "        \n",
      "        #time_interval = [0., 700.e-6]\n",
      "        #times = np.arange(0., 700.e-6, time_precision)\n",
      "\n",
      "        \n",
      "        ion = ion_num\n",
      "\n",
      "        return np.array([gamma(ion, t, chain) for t in times])\n",
      "    \n",
      "def get_ramsey_contrast(chain, ion_num, times, time_precision=1.e-6):\n",
      "        \"\"\"Return an array of amplitudes of ion ion_num at each time in time_interval   \n",
      "\n",
      "        \"\"\"\n",
      "        \n",
      "        def gamma(j, t, chain):\n",
      "            eigenvectorsT = LA.eig(chain.get_couplings())[1]\n",
      "            eigenfreqs   = LA.eig(chain.get_couplings())[0]\n",
      "\n",
      "            s = 0\n",
      "            for i in range(chain.num_of_ions):\n",
      "                s += eigenvectorsT[j][i] * eigenvectorsT[j][i] * np.exp(1.j* eigenfreqs[i] * t)\n",
      "            return s\n",
      "        \n",
      "        #time_interval = [0., 700.e-6]\n",
      "        #times = np.arange(0., 700.e-6, time_precision)\n",
      "\n",
      "        \n",
      "        ion = ion_num\n",
      "\n",
      "        ex = np.sqrt( abs(np.conjugate(np.array([gamma(ion, t, chain) for t in times])) * np.array([gamma(ion, t, chain) for t in times])))\n",
      "        return ex#, np.array([gamma(ion, t, chain) for t in times])\n",
      "\n",
      "def pulse(theta, phi):\n",
      "    return q.Qobj.expm( ( (theta/2.) * q.tensor(q.create(dimension), q.create(2))*exp(1.j*phi) - conjugate(theta/2.) * q.tensor( q.destroy(dimension), q.destroy(2) )*exp(-1.j*phi) ) )\n",
      "\n",
      "def U_2pulses(theta, phi):\n",
      "    return pulse(theta, phi) * pulse(theta, 0) \n"
     ],
     "language": "python",
     "metadata": {},
     "outputs": [],
     "prompt_number": 3
    },
    {
     "cell_type": "code",
     "collapsed": false,
     "input": [],
     "language": "python",
     "metadata": {},
     "outputs": []
    },
    {
     "cell_type": "code",
     "collapsed": false,
     "input": [
      "N = 41\n",
      "omegax = 2.057e6\n",
      "omegaz = 85.14e3-.5e3#79.14e3-.5e3\n",
      "\n",
      "chain = Chain(N, 20)\n",
      "trap_potential = poly1d([0.5*p.mass*(2*pi*omegaz)**2/p.charge,0,0])\n",
      "dummy_trap     = IonTrap() \n",
      "dummy_trap.set_trap_radial_freq(omegax, 'X')\n",
      "dummy_trap.set_trap_radial_freq(omegax, 'Y')\n",
      "dummy_trap.potential.set_fz(trap_potential)\n",
      "dummy_trap.load(chain)\n",
      "position_arr  =   np.array( chain.get_positions() ) \n"
     ],
     "language": "python",
     "metadata": {},
     "outputs": [
      {
       "output_type": "stream",
       "stream": "stdout",
       "text": [
        "('positions ', array([ -1.45097988e-04,  -1.31996288e-04,  -1.21390533e-04,\n",
        "        -1.12055738e-04,  -1.03526404e-04,  -9.55636234e-05,\n",
        "        -8.80244539e-05,  -8.08147714e-05,  -7.38683310e-05,\n",
        "        -6.71361334e-05,  -6.05804879e-05,  -5.41714533e-05,\n",
        "        -4.78845797e-05,  -4.16994092e-05,  -3.55984392e-05,\n",
        "        -2.95663814e-05,  -2.35896125e-05,  -1.76557554e-05,\n",
        "        -1.17533471e-05,  -5.87156632e-06,  -5.34969338e-16,\n",
        "         5.87156632e-06,   1.17533471e-05,   1.76557554e-05,\n",
        "         2.35896125e-05,   2.95663814e-05,   3.55984392e-05,\n",
        "         4.16994092e-05,   4.78845797e-05,   5.41714533e-05,\n",
        "         6.05804879e-05,   6.71361334e-05,   7.38683310e-05,\n",
        "         8.08147714e-05,   8.80244539e-05,   9.55636234e-05,\n",
        "         1.03526404e-04,   1.12055738e-04,   1.21390533e-04,\n",
        "         1.31996288e-04,   1.45097988e-04]))\n"
       ]
      }
     ],
     "prompt_number": 117
    },
    {
     "cell_type": "code",
     "collapsed": false,
     "input": [
      "pkl_vis8 = pickle.load( open( \"/home/trxw/Documents/dfr/Experiments/Lattice/AnalyzedData/data/visibility_8ions.p\", \"r\" ) ) \n",
      "pkl_err8 = pickle.load( open( \"/home/trxw/Documents/dfr/Experiments/Lattice/Fines/8ions/errorbars_8ions.p\", \"r\" ) ) \n",
      "#f=pd.read_csv(\"/home/trxw/Documents/dfr/Experiments/Lattice/Fines/8ions/8ions_DephaseScanDurationPhase2015Apr10_1314_49_contrast.csv\")\n",
      "pkl_contrast8 = pickle.load( open( \"/home/trxw/Documents/dfr/Experiments/Lattice/AnalyzedData/old_contrast/contrast_8ions.p\", \"r\" ) ) \n",
      "\n",
      "pkl_contrast14 = pickle.load( open( \"/home/trxw/Documents/dfr/Experiments/Lattice/Fines/14ions/contrast_14ions.p\", \"r\" ) ) \n",
      "pkl_contrast25 = pickle.load( open( \"/home/trxw/Documents/dfr/Experiments/Lattice/Fines/25ions/contrast_25ions.p\", \"r\" ) ) \n",
      "csv_contrast25 = pd.read_csv( open( \"/home/trxw/Documents/dfr/Experiments/Lattice/Fines/25ions/cleaned_25ions_all_phases.csv\", \"r\" )   )\n",
      "\n",
      "pkl_vis41_new = pickle.load( open( \"/home/trxw/Documents/dfr/Experiments/Lattice/AnalyzedData/data/visibility_41ions.p\", \"r\" ) )\n",
      "pkl_contrast41_prev = pickle.load( open( \"/home/trxw/Documents/dfr/Experiments/Lattice/Fines/41ions/contrast_41ions.p\", \"r\" ) )\n",
      "#pkl_error41_prev = pickle.load( open( \"/home/trxw/Documents/dfr/Experiments/Lattice/Fines/41ions/errorbars_41ions.p\", \"r\" ) )\n",
      "pkl_error41_prev = pickle.load( open( \"/home/trxw/Documents/dfr/Experiments/Lattice/AnalyzedData/prev/errorbars_41ions.p\", \"r\" ) )\n",
      "f=pd.read_csv(\"/home/trxw/Documents/dfr/Experiments/Lattice/Fines/14Ions_NoExtra729_DephaseScanDurationPhase2015Jan14_1744_36_contrast.csv\")\n",
      "f41=pd.read_csv(\"/home/trxw/Documents/dfr/Experiments/Lattice/Fines/2015Jan06_41Ions/cleaned_41ions_contrast.csv\")\n",
      "rabi41 = pd.read_csv(\"/home/trxw/Documents/dfr/Experiments/Lattice/Fines/2015Jan06_41Ions/41Ions_RabiFlopping2015Jan06_1752_22.csv\")\n"
     ],
     "language": "python",
     "metadata": {},
     "outputs": [],
     "prompt_number": 5
    },
    {
     "cell_type": "code",
     "collapsed": false,
     "input": [
      "dimension = 20\n",
      "time_precision = 1.e-6\n",
      "times   = arange( 0, 700.e-6, time_precision )\n",
      "nbar = 2.5\n",
      "psi0 = tensor( q.thermal_dm(dimension, nbar), q.destroy(2)*q.create(2) )\n",
      "old_time = np.array(f41['time']) * 1.e-6\n",
      "gamma = get_gamma(chain, 0, old_time)\n"
     ],
     "language": "python",
     "metadata": {},
     "outputs": [],
     "prompt_number": 118
    },
    {
     "cell_type": "code",
     "collapsed": false,
     "input": [
      "theta = np.pi/2.5\n",
      "gamma = abs(gamma)\n",
      "rho_list_pi_phase = [ptrace( pulse(theta, np.pi) * pulse(g*theta, 0) * psi0 * pulse(g*theta, 0).dag() * pulse(theta, np.pi).dag(), 1) for g in gamma]\n",
      "rho_list_0_phase = [ptrace( pulse(theta, 0) * pulse(g*theta, 0) * psi0 * pulse(g*theta, 0).dag() * pulse(theta, 0).dag(), 1) for g in gamma]\n",
      "\n",
      "\n",
      "vis = [ (q.expect(rho_list_0_phase[i],basis(2,1)*basis(2,1).dag() ) - q.expect(rho_list_pi_phase[i],basis(2,1)*basis(2,1).dag() ))/( q.expect(rho_list_0_phase[i],basis(2,1)*basis(2,1).dag() ) + q.expect(rho_list_pi_phase[i],basis(2,1)*basis(2,1).dag() ))  for i in range(len(rho_list_pi_phase))]"
     ],
     "language": "python",
     "metadata": {},
     "outputs": [],
     "prompt_number": 146
    },
    {
     "cell_type": "code",
     "collapsed": false,
     "input": [
      "old_contrast = list(f41['contrast'])\n",
      "new_contrast = pkl_vis41_new\n",
      "prev_contrast = pkl_contrast41_prev\n",
      "plt.plot(old_time, old_contrast, 'bo')\n",
      "\n",
      "\n",
      "plt.plot(old_time[:-2],np.array(new_contrast)/2., 'go')\n",
      "plt.plot(old_time, vis ,'r')\n",
      "#plt.plot(old_time, [q.expect(rho_list_pi_phase[i], basis(2,1)) for i in range(len(old_time))] ,'b' )\n",
      "#plt.plot(old_time, [q.expect(rho_list_0_phase[i], basis(2,1)) for i in range(len(old_time))] ,'g' )\n",
      "\n",
      "#plt.plot(old_time, (p0-ppi)/(p0+ppi),'g' )\n",
      "#plt.plot(old_time, gamma*conjugate(gamma))\n",
      "plt.show()"
     ],
     "language": "python",
     "metadata": {},
     "outputs": [],
     "prompt_number": 147
    },
    {
     "cell_type": "code",
     "collapsed": false,
     "input": [
      "ppi = np.array([q.expect(rho_list_pi_phase[i], basis(2,1)) for i in range(len(old_time))])\n",
      "p0  = np.array([q.expect(rho_list_0_phase[i], basis(2,1)) for i in range(len(old_time))])\n"
     ],
     "language": "python",
     "metadata": {},
     "outputs": [],
     "prompt_number": 53
    },
    {
     "cell_type": "code",
     "collapsed": false,
     "input": [
      "(p0-ppi)"
     ],
     "language": "python",
     "metadata": {},
     "outputs": [
      {
       "metadata": {},
       "output_type": "pyout",
       "prompt_number": 44,
       "text": [
        "array([ 0.77667498,  0.81660899,  0.81511859,  0.81658123,  0.75143791,\n",
        "        0.72040938,  0.72171228,  0.57236312,  0.46518668,  0.52815585,\n",
        "        0.42541796,  0.24266515,  0.34013707,  0.38986719,  0.18211967,\n",
        "        0.09480233,  0.30142631,  0.32005295,  0.10465793,  0.06337876,\n",
        "        0.21167471,  0.18132314,  0.04809889,  0.08987296,  0.15545257,\n",
        "        0.07880125,  0.03883437,  0.11365438,  0.10119254,  0.02327443,\n",
        "        0.07126895,  0.13405464,  0.05616778,  0.01106413,  0.14022341,\n",
        "        0.16379118,  0.03601591,  0.01210445,  0.06891067,  0.10033513,\n",
        "        0.05276227,  0.03234286,  0.18053725,  0.17017362,  0.09984255,\n",
        "        0.22867561,  0.17680407,  0.09365385,  0.19416162,  0.09048384,\n",
        "        0.1097456 ,  0.2617007 ,  0.09875915,  0.22341276,  0.49098322,\n",
        "        0.33573128,  0.31600725,  0.61216065,  0.57148252,  0.45615834,\n",
        "        0.64839757,  0.66091145,  0.54556827,  0.65066027,  0.67756856,\n",
        "        0.56243103,  0.62429481,  0.65864275,  0.51739126,  0.58105248,\n",
        "        0.67556759,  0.4959775 ,  0.40700732,  0.65048734,  0.6087648 ,\n",
        "        0.34703987,  0.50231782,  0.59571232,  0.3980916 ,  0.37487324,\n",
        "        0.53543324,  0.46528136,  0.3878331 ,  0.55124723,  0.56245241,\n",
        "        0.46798111,  0.57995942,  0.57990724,  0.39171954,  0.48884293,\n",
        "        0.57925223,  0.36244635,  0.17610751,  0.40685245,  0.52119552,\n",
        "        0.37513302,  0.3726484 ,  0.63498056,  0.6589817 ,  0.56994938,\n",
        "        0.6966515 ,  0.73730178,  0.63672124,  0.6554108 ,  0.6785991 ,\n",
        "        0.52040432,  0.47902125,  0.51663288,  0.27966938,  0.06981228,\n",
        "        0.17179311,  0.20545126,  0.16810161,  0.06584608,  0.17812032,\n",
        "        0.47253386])"
       ]
      }
     ],
     "prompt_number": 44
    },
    {
     "cell_type": "code",
     "collapsed": false,
     "input": [
      "1.j"
     ],
     "language": "python",
     "metadata": {},
     "outputs": [
      {
       "metadata": {},
       "output_type": "pyout",
       "prompt_number": 140,
       "text": [
        "array([-0.45348232,  0.53395661,  0.5834592 , -0.4809571 , -0.4286498 ,\n",
        "        0.26867979,  0.43524426, -0.27244389, -0.30737526,  0.21814045,\n",
        "        0.22723731, -0.15787414, -0.24491097,  0.25546026,  0.05754478,\n",
        "       -0.07944649, -0.20624661,  0.26896742, -0.0211056 , -0.08074395,\n",
        "       -0.10802779,  0.20105223, -0.01441493, -0.12565598,  0.00267578,\n",
        "        0.11620361,  0.00656828, -0.15633218,  0.07960621,  0.05813234,\n",
        "       -0.00122845, -0.13948341,  0.10484758,  0.0454055 , -0.02818841,\n",
        "       -0.10661867,  0.07949657,  0.03223686, -0.05905054,  0.01549111,\n",
        "        0.07027813,  0.01624984, -0.19947786,  0.02655054,  0.1339808 ,\n",
        "        0.14365821, -0.16520295, -0.13547389,  0.00340948,  0.13862203,\n",
        "        0.14420501, -0.09995595, -0.13738831, -0.16810758,  0.29228609,\n",
        "        0.16097084, -0.06696227, -0.43928848,  0.11310205,  0.35173527,\n",
        "        0.14830834, -0.46389961, -0.18276556,  0.35535469,  0.31306949,\n",
        "       -0.27889029, -0.40267892,  0.23122115,  0.35819626, -0.03042592,\n",
        "       -0.48562797,  0.08224098,  0.31309494,  0.1677917 , -0.43860557,\n",
        "       -0.10542055,  0.26912607,  0.25061671, -0.27260325, -0.25369333,\n",
        "        0.24118806,  0.25011577, -0.16545283, -0.36950766,  0.2105939 ,\n",
        "        0.33755361, -0.06968414, -0.41103016,  0.03402603,  0.36321738,\n",
        "       -0.004015  , -0.28860663, -0.01401284,  0.32344214, -0.11709013,\n",
        "       -0.26488513,  0.05399179,  0.4538161 , -0.16268011, -0.41191004,\n",
        "       -0.01402211,  0.54607269,  0.02415806, -0.45529773, -0.13515563,\n",
        "        0.37034837,  0.20205464, -0.34265047, -0.05252193,  0.09411469,\n",
        "        0.14136339, -0.21578999,  0.16683363,  0.02411305, -0.11755399,\n",
        "       -0.22337636])"
       ]
      }
     ],
     "prompt_number": 140
    },
    {
     "cell_type": "code",
     "collapsed": false,
     "input": [
      "*q.create(2)"
     ],
     "language": "python",
     "metadata": {},
     "outputs": [
      {
       "latex": [
        "Quantum object: dims = [[2], [2]], shape = [2, 2], type = oper, isherm = True\\begin{equation*}\\left(\\begin{array}{*{11}c}1.0 & 0.0\\\\0.0 & 0.0\\\\\\end{array}\\right)\\end{equation*}"
       ],
       "metadata": {},
       "output_type": "pyout",
       "prompt_number": 121,
       "text": [
        "Quantum object: dims = [[2], [2]], shape = [2, 2], type = oper, isherm = True\n",
        "Qobj data =\n",
        "[[ 1.  0.]\n",
        " [ 0.  0.]]"
       ]
      }
     ],
     "prompt_number": 121
    },
    {
     "cell_type": "code",
     "collapsed": false,
     "input": [],
     "language": "python",
     "metadata": {},
     "outputs": [
      {
       "latex": [
        "Quantum object: dims = [[2], [2]], shape = [2, 2], type = oper, isherm = True\\begin{equation*}\\left(\\begin{array}{*{11}c}0.0 & 0.0\\\\0.0 & 1.0\\\\\\end{array}\\right)\\end{equation*}"
       ],
       "metadata": {},
       "output_type": "pyout",
       "prompt_number": 123,
       "text": [
        "Quantum object: dims = [[2], [2]], shape = [2, 2], type = oper, isherm = True\n",
        "Qobj data =\n",
        "[[ 0.  0.]\n",
        " [ 0.  1.]]"
       ]
      }
     ],
     "prompt_number": 123
    },
    {
     "cell_type": "code",
     "collapsed": false,
     "input": [],
     "language": "python",
     "metadata": {},
     "outputs": [],
     "prompt_number": 130
    },
    {
     "cell_type": "code",
     "collapsed": false,
     "input": [
      "g"
     ],
     "language": "python",
     "metadata": {},
     "outputs": [
      {
       "metadata": {},
       "output_type": "pyout",
       "prompt_number": 142,
       "text": [
        "(-0.028551084033451059+0.17304796308493459j)"
       ]
      }
     ],
     "prompt_number": 142
    },
    {
     "cell_type": "code",
     "collapsed": false,
     "input": [],
     "language": "python",
     "metadata": {},
     "outputs": []
    }
   ],
   "metadata": {}
  }
 ]
}