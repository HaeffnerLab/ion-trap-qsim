{
 "metadata": {
  "name": "",
  "signature": "sha256:5ecfd769ff12f90d7481cbf6996bdd87fc030f86760d2b259dc1980724cfe014"
 },
 "nbformat": 3,
 "nbformat_minor": 0,
 "worksheets": [
  {
   "cells": [
    {
     "cell_type": "code",
     "collapsed": false,
     "input": [
      "import os,sys,inspect\n",
      "currentdir = os.path.dirname(os.path.abspath(inspect.getfile(inspect.currentframe())))\n",
      "parentdir = os.path.dirname(currentdir)\n",
      "sys.path.insert(0,parentdir) \n",
      "\n",
      "from quantum_dynamics import Dynamics\n",
      "import numpy as np\n",
      "from ions import Chain\n",
      "from ion_trap import IonTrap\n",
      "import matplotlib.pylab as plt  \n",
      "from laser import *"
     ],
     "language": "python",
     "metadata": {},
     "outputs": [],
     "prompt_number": 1
    },
    {
     "cell_type": "code",
     "collapsed": false,
     "input": [
      "omegax = 2.0e6\n",
      "omegaz = 100.e3\n",
      "N = 5\n",
      "chain = Chain(N, 2)\n",
      "dummy_trap = IonTrap( omegax , omegaz)\n",
      "dummy_trap.load(chain)\n",
      "zpositions =   np.array( chain.get_positions() )\n",
      "#harmonic potential couplings:\n",
      "couplings_harmonic = chain.get_couplings()"
     ],
     "language": "python",
     "metadata": {},
     "outputs": [],
     "prompt_number": 2
    },
    {
     "cell_type": "code",
     "collapsed": false,
     "input": [
      "#Testing state initialization:\n",
      "#motional_state = (1, 0, 0, 0, 0, 0, 0, 0, 0, 0)\n",
      "lasers = []\n",
      "#pulse1 = Pulse( ion_num = 0, sideband_num = 1, intensity = 2*np.pi* 100e3, phase = 2*np.pi* 0 , duration = 8.e-6 )\n",
      "\n",
      "time_precision = 1.e-6\n",
      "dyn = Dynamics(chain, lasers, time_precision)\n",
      "\n",
      "motional_state = (1, 0, 0, 0, 0)\n",
      "chain.set_pure_motional_state( motional_state )\n",
      "#dyn.add_pulse( pulse1 )\n",
      "\n",
      "#dyn.construct_free_hamiltonian()"
     ],
     "language": "python",
     "metadata": {},
     "outputs": [],
     "prompt_number": 3
    },
    {
     "cell_type": "code",
     "collapsed": false,
     "input": [
      "observables = [ dyn.a[0].dag() * dyn.a[0] ]\n",
      "time_interval = (0., 2000.e-6)\n",
      "times = arange(0., 2000.e-6, time_precision)\n",
      "dyn.evolve_qutip(time_interval, observables)\n",
      "plt.plot(times*1.e6, dyn.expectations[0])\n",
      "plt.xlabel(\"$\\mu$ Sec\")\n",
      "plt.show()"
     ],
     "language": "python",
     "metadata": {},
     "outputs": [
      {
       "metadata": {},
       "output_type": "display_data",
       "png": "[encoded data removed]",
       "text": [
        "<matplotlib.figure.Figure at 0x7f6d4e7a8f50>"
       ]
      }
     ],
     "prompt_number": 4
    },
    {
     "cell_type": "code",
     "collapsed": false,
     "input": [
      "#A Ramsey pulse sequence using exponential:\n",
      "\n",
      "lasers = []\n",
      "time_precision = 1.e-8\n",
      "dyn = Dynamics(chain, lasers, time_precision )\n",
      "\n",
      "motional_state = (1, 0, 0, 0, 0)\n",
      "electronic_state  = (1, 0, 0, 0, 0)\n",
      "chain.set_pure_motional_state( motional_state )\n",
      "chain.set_pure_electronic_state_numbers( electronic_state )\n",
      "pulse1 = Pulse( ion_num = 0, sideband_num = 1, intensity = 2*np.pi* 100e3, phase = 2*np.pi* 0 , duration = 8.e-6 )\n",
      "pulse2 = Pulse( ion_num = 4, sideband_num = 1, intensity = 2*np.pi* 100e3, phase = 2*np.pi* 0 , duration = 8.e-6 )\n",
      "\n",
      "chain.initialize_chain_electronic_states(lasers = [], pulses = [])"
     ],
     "language": "python",
     "metadata": {},
     "outputs": [],
     "prompt_number": 12
    },
    {
     "cell_type": "code",
     "collapsed": false,
     "input": [
      "observables = [ dyn.a[0].dag() * dyn.a[0] ]\n",
      "time_interval = (0., 20.e-6)\n",
      "dyn.evolve_free(time_interval, observables)"
     ],
     "language": "python",
     "metadata": {},
     "outputs": [],
     "prompt_number": 20
    },
    {
     "cell_type": "code",
     "collapsed": false,
     "input": [
      "dyn.exponential * dyn.exponential.dag()"
     ],
     "language": "python",
     "metadata": {},
     "outputs": [
      {
       "latex": [
        "Quantum object: dims = [[2, 2, 2, 2, 2], [2, 2, 2, 2, 2]], shape = [32, 32], type = oper, isherm = True\\begin{equation*}\\left(\\begin{array}{*{11}c}1.0 & 0.0 & 0.0 & 0.0 & 0.0 & \\cdots & 0.0 & 0.0 & 0.0 & 0.0 & 0.0\\\\0.0 & 1.016 & 5.006\\times10^{-05} & 0.0 & 7.436\\times10^{-06} & \\cdots & 0.0 & 0.0 & 0.0 & 0.0 & 0.0\\\\0.0 & 5.006\\times10^{-05} & 1.016 & 0.0 & 7.024\\times10^{-05} & \\cdots & 0.0 & 0.0 & 0.0 & 0.0 & 0.0\\\\0.0 & 0.0 & 0.0 & 1.063 & 0.0 & \\cdots & 0.0 & 0.0 & 0.0 & 0.0 & 0.0\\\\0.0 & 7.436\\times10^{-06} & 7.024\\times10^{-05} & 0.0 & 1.016 & \\cdots & 0.0 & 0.0 & 0.0 & 0.0 & 0.0\\\\\\vdots & \\vdots & \\vdots & \\vdots & \\vdots & \\ddots & \\vdots & \\vdots & \\vdots & \\vdots & \\vdots\\\\0.0 & 0.0 & 0.0 & 0.0 & 0.0 & \\cdots & 1.251 & 0.0 & 2.813\\times10^{-04} & 2.957\\times10^{-05} & 0.0\\\\0.0 & 0.0 & 0.0 & 0.0 & 0.0 & \\cdots & 0.0 & 1.141 & 0.0 & 0.0 & 0.0\\\\0.0 & 0.0 & 0.0 & 0.0 & 0.0 & \\cdots & 2.813\\times10^{-04} & 0.0 & 1.251 & 2.001\\times10^{-04} & 0.0\\\\0.0 & 0.0 & 0.0 & 0.0 & 0.0 & \\cdots & 2.957\\times10^{-05} & 0.0 & 2.001\\times10^{-04} & 1.251 & 0.0\\\\0.0 & 0.0 & 0.0 & 0.0 & 0.0 & \\cdots & 0.0 & 0.0 & 0.0 & 0.0 & 1.392\\\\\\end{array}\\right)\\end{equation*}"
       ],
       "metadata": {},
       "output_type": "pyout",
       "prompt_number": 13,
       "text": [
        "Quantum object: dims = [[2, 2, 2, 2, 2], [2, 2, 2, 2, 2]], shape = [32, 32], type = oper, isherm = True\n",
        "Qobj data =\n",
        "[[  1.00000000e+00   0.00000000e+00   0.00000000e+00 ...,   0.00000000e+00\n",
        "    0.00000000e+00   0.00000000e+00]\n",
        " [  0.00000000e+00   1.01573061e+00   5.00568191e-05 ...,   0.00000000e+00\n",
        "    0.00000000e+00   0.00000000e+00]\n",
        " [  0.00000000e+00   5.00568191e-05   1.01565988e+00 ...,   0.00000000e+00\n",
        "    0.00000000e+00   0.00000000e+00]\n",
        " ..., \n",
        " [  0.00000000e+00   0.00000000e+00   0.00000000e+00 ...,   1.25102675e+00\n",
        "    2.00106793e-04   0.00000000e+00]\n",
        " [  0.00000000e+00   0.00000000e+00   0.00000000e+00 ...,   2.00106793e-04\n",
        "    1.25074356e+00   0.00000000e+00]\n",
        " [  0.00000000e+00   0.00000000e+00   0.00000000e+00 ...,   0.00000000e+00\n",
        "    0.00000000e+00   1.39208204e+00]]"
       ]
      }
     ],
     "prompt_number": 13
    },
    {
     "cell_type": "code",
     "collapsed": false,
     "input": [
      "plt.plot(arange(time_interval[0],time_interval[1], time_precision)*1.e6, dyn.expectations[0])\n",
      "plt.xlabel(\"$\\mu$ Sec\")\n",
      "plt.show()\n"
     ],
     "language": "python",
     "metadata": {},
     "outputs": [
      {
       "metadata": {},
       "output_type": "display_data",
       "png": "[encoded data removed]",
       "text": [
        "<matplotlib.figure.Figure at 0x7f6d42fb5350>"
       ]
      }
     ],
     "prompt_number": 21
    },
    {
     "cell_type": "code",
     "collapsed": false,
     "input": [
      "len(arange(0,1.,0.1))"
     ],
     "language": "python",
     "metadata": {},
     "outputs": [
      {
       "metadata": {},
       "output_type": "pyout",
       "prompt_number": 13,
       "text": [
        "10"
       ]
      }
     ],
     "prompt_number": 13
    },
    {
     "cell_type": "code",
     "collapsed": false,
     "input": [
      "ex = [[]]\n",
      "ex[0] += [2.4,3.3]"
     ],
     "language": "python",
     "metadata": {},
     "outputs": [],
     "prompt_number": 18
    },
    {
     "cell_type": "code",
     "collapsed": false,
     "input": [
      "ex[0] += [222]"
     ],
     "language": "python",
     "metadata": {},
     "outputs": [],
     "prompt_number": 20
    },
    {
     "cell_type": "code",
     "collapsed": false,
     "input": [
      "ex"
     ],
     "language": "python",
     "metadata": {},
     "outputs": [
      {
       "metadata": {},
       "output_type": "pyout",
       "prompt_number": 21,
       "text": [
        "[[2.4, 3.3, 222]]"
       ]
      }
     ],
     "prompt_number": 21
    },
    {
     "cell_type": "code",
     "collapsed": false,
     "input": [],
     "language": "python",
     "metadata": {},
     "outputs": []
    }
   ],
   "metadata": {}
  }
 ]
}