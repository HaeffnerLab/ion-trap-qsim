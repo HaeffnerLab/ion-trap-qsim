{
 "metadata": {
  "name": "",
  "signature": "sha256:b2091467b80319fb26777d146d88a6523a547484b2595765dfbb2efe7e88a488"
 },
 "nbformat": 3,
 "nbformat_minor": 0,
 "worksheets": [
  {
   "cells": [
    {
     "cell_type": "code",
     "collapsed": false,
     "input": [
      "import os,sys,inspect\n",
      "currentdir = os.path.dirname(os.path.abspath(inspect.getfile(inspect.currentframe())))\n",
      "parentdir = os.path.dirname(currentdir)\n",
      "sys.path.insert(0,parentdir) \n",
      "\n",
      "from scipy import linalg as LA \n",
      "from scipy import optimize\n",
      "import numpy as np\n",
      "from simulation_parameters import simulation_parameters\n",
      "p = simulation_parameters()\n",
      "from ions import Chain\n",
      "from ion_trap import IonTrap\n",
      "import matplotlib.pylab as plt\n",
      "import seaborn as sns\n",
      "sns.set_context('poster')\n",
      "\n",
      "#%matplotlib inline "
     ],
     "language": "python",
     "metadata": {},
     "outputs": [],
     "prompt_number": 1
    },
    {
     "cell_type": "code",
     "collapsed": false,
     "input": [
      "omegax = 2.0e6\n",
      "omegaz = 100.e3\n",
      "N = 15\n",
      "chain = Chain(N, 2)\n",
      "dummy_trap = IonTrap( omegax , omegaz)\n",
      "dummy_trap.load(chain)\n",
      "zpositions =   np.array( chain.get_positions() )\n",
      "#harmonic potential couplings:\n",
      "couplings_harmonic = chain.get_couplings()#\n",
      "print couplings_harmonic.shape\n",
      "#Correction for x^2 * z^2 term:\n",
      "omegax_gradient_at_100microns = +2*np.pi * (1)*1.e3/(1.e-6)\n",
      "def get_radial_freq_corrections(omegax_gradient_at_100microns):\n",
      "    \n",
      "    delta_omegax = 0\n",
      "    \n",
      "    delta_omegax += 2*np.pi*omegax_gradient_at_100microns * zpositions**2/(2*100.e-6)\n",
      "\n",
      "    return delta_omegax \n",
      "\n",
      "\n",
      "couplings_with_x2z2_correction = np.array( [ row for row in couplings_harmonic ])\n",
      "\n",
      "radial_corrections = get_radial_freq_corrections(omegax_gradient_at_100microns)\n",
      "\n",
      "for i in range(N):\n",
      "    couplings_with_x2z2_correction[i][i] += radial_corrections[i]\n",
      "\n",
      "normal_modes_harmonic = np.sort(abs(LA.eig(chain.get_couplings())[0])/(2*np.pi*1.e6))[::-1]\n",
      "normal_modes_with_x2z2_correction = np.sort(abs(LA.eig(couplings_with_x2z2_correction)[0])/(2*np.pi*1.e6))[::-1]\n",
      "                                    \n",
      "plt.plot(normal_modes_harmonic, 'rs', normal_modes_with_x2z2_correction , 'bs')\n",
      "plt.show()"
     ],
     "language": "python",
     "metadata": {},
     "outputs": [
      {
       "output_type": "stream",
       "stream": "stdout",
       "text": [
        "(15, 15)\n"
       ]
      }
     ],
     "prompt_number": 4
    },
    {
     "cell_type": "code",
     "collapsed": false,
     "input": [
      "omega_correction = np.array([ -24778.65509786,  -36102.79655165,  -46949.05257918,\n",
      "        -57848.50055486,  -69008.22294169,  -80551.66783917,\n",
      "        -92576.94733388, -105180.23243487, -118470.70979453,\n",
      "       -132586.00314404, -147714.88713194, -164139.10474762,\n",
      "       -182325.53391759, -203180.01507044, -229081.35889159])\n"
     ],
     "language": "python",
     "metadata": {},
     "outputs": [],
     "prompt_number": 14
    },
    {
     "cell_type": "code",
     "collapsed": false,
     "input": [
      "zpositions"
     ],
     "language": "python",
     "metadata": {},
     "outputs": [
      {
       "metadata": {},
       "output_type": "pyout",
       "prompt_number": 7,
       "text": [
        "array([ -7.59206998e-05,  -6.14265433e-05,  -4.94199950e-05,\n",
        "        -3.86069349e-05,  -2.84857054e-05,  -1.87870568e-05,\n",
        "        -9.33594385e-06,   1.37864491e-17,   9.33594385e-06,\n",
        "         1.87870568e-05,   2.84857054e-05,   3.86069349e-05,\n",
        "         4.94199950e-05,   6.14265433e-05,   7.59206998e-05])"
       ]
      }
     ],
     "prompt_number": 7
    },
    {
     "cell_type": "code",
     "collapsed": false,
     "input": [
      "(normal_modes_with_x2z2_correction[0]-normal_modes_with_x2z2_correction[1]),(normal_modes_with_x2z2_correction[1]-normal_modes_with_x2z2_correction[2])"
     ],
     "language": "python",
     "metadata": {},
     "outputs": [
      {
       "metadata": {},
       "output_type": "pyout",
       "prompt_number": 16,
       "text": [
        "(0.021712699823238646, 0.020655094214277803)"
       ]
      }
     ],
     "prompt_number": 16
    },
    {
     "cell_type": "code",
     "collapsed": false,
     "input": [
      "normal_modes_harmonic[0]-normal_modes_harmonic[1], normal_modes_harmonic[1] - normal_modes_harmonic[2]   "
     ],
     "language": "python",
     "metadata": {},
     "outputs": [
      {
       "metadata": {},
       "output_type": "pyout",
       "prompt_number": 17,
       "text": [
        "(0.0024819509698201792, 0.003541522990637036)"
       ]
      }
     ],
     "prompt_number": 17
    },
    {
     "cell_type": "code",
     "collapsed": false,
     "input": [
      "max(chain.get_positions())-min(chain.get_positions())"
     ],
     "language": "python",
     "metadata": {},
     "outputs": [
      {
       "metadata": {},
       "output_type": "pyout",
       "prompt_number": 37,
       "text": [
        "0.0001736994158779081"
       ]
      }
     ],
     "prompt_number": 37
    },
    {
     "cell_type": "code",
     "collapsed": false,
     "input": [
      "#Classical dynamics\n",
      "from quantum_dynamics import Dynamics\n",
      "chain.couplings = couplings_with_x2z2_correction\n",
      "dyn = Dynamics(chain, mode='classical')\n",
      "\n",
      "contrast_with_x2z2_correction = dyn.get_ramsey_contrast(1)"
     ],
     "language": "python",
     "metadata": {},
     "outputs": [
      {
       "ename": "KeyboardInterrupt",
       "evalue": "",
       "output_type": "pyerr",
       "traceback": [
        "\u001b[1;31m---------------------------------------------------------------------------\u001b[0m\n\u001b[1;31mKeyboardInterrupt\u001b[0m                         Traceback (most recent call last)",
        "\u001b[1;32m<ipython-input-72-3ee0d897de5e>\u001b[0m in \u001b[0;36m<module>\u001b[1;34m()\u001b[0m\n\u001b[0;32m      2\u001b[0m \u001b[1;32mfrom\u001b[0m \u001b[0mquantum_dynamics\u001b[0m \u001b[1;32mimport\u001b[0m \u001b[0mDynamics\u001b[0m\u001b[1;33m\u001b[0m\u001b[0m\n\u001b[0;32m      3\u001b[0m \u001b[0mchain\u001b[0m\u001b[1;33m.\u001b[0m\u001b[0mcouplings\u001b[0m \u001b[1;33m=\u001b[0m \u001b[0mcouplings_with_x2z2_correction\u001b[0m\u001b[1;33m\u001b[0m\u001b[0m\n\u001b[1;32m----> 4\u001b[1;33m \u001b[0mdyn\u001b[0m \u001b[1;33m=\u001b[0m \u001b[0mDynamics\u001b[0m\u001b[1;33m(\u001b[0m\u001b[0mchain\u001b[0m\u001b[1;33m,\u001b[0m \u001b[0mmode\u001b[0m\u001b[1;33m=\u001b[0m\u001b[1;34m'classical'\u001b[0m\u001b[1;33m)\u001b[0m\u001b[1;33m\u001b[0m\u001b[0m\n\u001b[0m\u001b[0;32m      5\u001b[0m \u001b[1;33m\u001b[0m\u001b[0m\n\u001b[0;32m      6\u001b[0m \u001b[0mcontrast_with_x2z2_correction\u001b[0m \u001b[1;33m=\u001b[0m \u001b[0mdyn\u001b[0m\u001b[1;33m.\u001b[0m\u001b[0mget_ramsey_contrast\u001b[0m\u001b[1;33m(\u001b[0m\u001b[1;36m1\u001b[0m\u001b[1;33m)\u001b[0m\u001b[1;33m\u001b[0m\u001b[0m\n",
        "\u001b[1;32m/home/trxw/Documents/dfr/codes/quantum_play/ion-trap-qsim/quantum_dynamics.pyc\u001b[0m in \u001b[0;36m__init__\u001b[1;34m(self, chain, mode, lasers, pulses, time_precision)\u001b[0m\n\u001b[0;32m     22\u001b[0m                 \u001b[1;32mraise\u001b[0m \u001b[0mException\u001b[0m\u001b[1;33m(\u001b[0m \u001b[1;34m\"Laser ion number must be a number between 1 and {}.\"\u001b[0m\u001b[1;33m.\u001b[0m\u001b[0mformat\u001b[0m\u001b[1;33m(\u001b[0m\u001b[0mchain\u001b[0m\u001b[1;33m.\u001b[0m\u001b[0mnum_of_ions\u001b[0m\u001b[1;33m)\u001b[0m \u001b[1;33m)\u001b[0m\u001b[1;33m\u001b[0m\u001b[0m\n\u001b[0;32m     23\u001b[0m \u001b[1;33m\u001b[0m\u001b[0m\n\u001b[1;32m---> 24\u001b[1;33m         \u001b[0msuper\u001b[0m\u001b[1;33m(\u001b[0m\u001b[0mDynamics\u001b[0m\u001b[1;33m,\u001b[0m \u001b[0mself\u001b[0m\u001b[1;33m)\u001b[0m\u001b[1;33m.\u001b[0m\u001b[0m__init__\u001b[0m\u001b[1;33m(\u001b[0m\u001b[1;33m)\u001b[0m\u001b[1;33m\u001b[0m\u001b[0m\n\u001b[0m\u001b[0;32m     25\u001b[0m \u001b[1;33m\u001b[0m\u001b[0m\n\u001b[0;32m     26\u001b[0m \u001b[1;33m\u001b[0m\u001b[0m\n",
        "\u001b[1;32m/home/trxw/Documents/dfr/codes/quantum_play/ion-trap-qsim/operator_zoo.pyc\u001b[0m in \u001b[0;36m__init__\u001b[1;34m(self)\u001b[0m\n\u001b[0;32m     19\u001b[0m         \u001b[0mself\u001b[0m\u001b[1;33m.\u001b[0m\u001b[0mD_func\u001b[0m        \u001b[1;33m=\u001b[0m \u001b[1;32mlambda\u001b[0m \u001b[0mi\u001b[0m\u001b[1;33m:\u001b[0m \u001b[0msum\u001b[0m\u001b[1;33m(\u001b[0m \u001b[1;33m[\u001b[0m \u001b[0mself\u001b[0m\u001b[1;33m.\u001b[0m\u001b[0mchain\u001b[0m\u001b[1;33m.\u001b[0m\u001b[0mnormal_in_local_modes\u001b[0m\u001b[1;33m[\u001b[0m\u001b[0mi\u001b[0m\u001b[1;33m]\u001b[0m\u001b[1;33m[\u001b[0m\u001b[0mj\u001b[0m\u001b[1;33m]\u001b[0m \u001b[1;33m*\u001b[0m \u001b[0mself\u001b[0m\u001b[1;33m.\u001b[0m\u001b[0ma\u001b[0m\u001b[1;33m[\u001b[0m\u001b[0mj\u001b[0m\u001b[1;33m]\u001b[0m \u001b[1;32mfor\u001b[0m \u001b[0mj\u001b[0m \u001b[1;32min\u001b[0m \u001b[0mrange\u001b[0m\u001b[1;33m(\u001b[0m\u001b[0mself\u001b[0m\u001b[1;33m.\u001b[0m\u001b[0mchain\u001b[0m\u001b[1;33m.\u001b[0m\u001b[0mnum_of_ions\u001b[0m\u001b[1;33m)\u001b[0m \u001b[1;33m]\u001b[0m \u001b[1;33m)\u001b[0m\u001b[1;33m\u001b[0m\u001b[0m\n\u001b[0;32m     20\u001b[0m \u001b[1;33m\u001b[0m\u001b[0m\n\u001b[1;32m---> 21\u001b[1;33m         \u001b[0mself\u001b[0m\u001b[1;33m.\u001b[0m\u001b[0mD\u001b[0m             \u001b[1;33m=\u001b[0m \u001b[1;33m[\u001b[0m \u001b[0mself\u001b[0m\u001b[1;33m.\u001b[0m\u001b[0mD_func\u001b[0m\u001b[1;33m(\u001b[0m\u001b[0mi\u001b[0m\u001b[1;33m)\u001b[0m \u001b[1;32mfor\u001b[0m \u001b[0mi\u001b[0m \u001b[1;32min\u001b[0m \u001b[0mrange\u001b[0m\u001b[1;33m(\u001b[0m\u001b[0mself\u001b[0m\u001b[1;33m.\u001b[0m\u001b[0mchain\u001b[0m\u001b[1;33m.\u001b[0m\u001b[0mnum_of_ions\u001b[0m\u001b[1;33m)\u001b[0m \u001b[1;33m]\u001b[0m\u001b[1;33m\u001b[0m\u001b[0m\n\u001b[0m\u001b[0;32m     22\u001b[0m \u001b[1;33m\u001b[0m\u001b[0m\n\u001b[0;32m     23\u001b[0m \u001b[1;33m\u001b[0m\u001b[0m\n",
        "\u001b[1;32m/home/trxw/Documents/dfr/codes/quantum_play/ion-trap-qsim/operator_zoo.pyc\u001b[0m in \u001b[0;36m<lambda>\u001b[1;34m(i)\u001b[0m\n\u001b[0;32m     17\u001b[0m \u001b[1;33m\u001b[0m\u001b[0m\n\u001b[0;32m     18\u001b[0m         \u001b[1;31m#Normal modes expressed in terms of local mode a's:\u001b[0m\u001b[1;33m\u001b[0m\u001b[1;33m\u001b[0m\u001b[0m\n\u001b[1;32m---> 19\u001b[1;33m         \u001b[0mself\u001b[0m\u001b[1;33m.\u001b[0m\u001b[0mD_func\u001b[0m        \u001b[1;33m=\u001b[0m \u001b[1;32mlambda\u001b[0m \u001b[0mi\u001b[0m\u001b[1;33m:\u001b[0m \u001b[0msum\u001b[0m\u001b[1;33m(\u001b[0m \u001b[1;33m[\u001b[0m \u001b[0mself\u001b[0m\u001b[1;33m.\u001b[0m\u001b[0mchain\u001b[0m\u001b[1;33m.\u001b[0m\u001b[0mnormal_in_local_modes\u001b[0m\u001b[1;33m[\u001b[0m\u001b[0mi\u001b[0m\u001b[1;33m]\u001b[0m\u001b[1;33m[\u001b[0m\u001b[0mj\u001b[0m\u001b[1;33m]\u001b[0m \u001b[1;33m*\u001b[0m \u001b[0mself\u001b[0m\u001b[1;33m.\u001b[0m\u001b[0ma\u001b[0m\u001b[1;33m[\u001b[0m\u001b[0mj\u001b[0m\u001b[1;33m]\u001b[0m \u001b[1;32mfor\u001b[0m \u001b[0mj\u001b[0m \u001b[1;32min\u001b[0m \u001b[0mrange\u001b[0m\u001b[1;33m(\u001b[0m\u001b[0mself\u001b[0m\u001b[1;33m.\u001b[0m\u001b[0mchain\u001b[0m\u001b[1;33m.\u001b[0m\u001b[0mnum_of_ions\u001b[0m\u001b[1;33m)\u001b[0m \u001b[1;33m]\u001b[0m \u001b[1;33m)\u001b[0m\u001b[1;33m\u001b[0m\u001b[0m\n\u001b[0m\u001b[0;32m     20\u001b[0m \u001b[1;33m\u001b[0m\u001b[0m\n\u001b[0;32m     21\u001b[0m         \u001b[0mself\u001b[0m\u001b[1;33m.\u001b[0m\u001b[0mD\u001b[0m             \u001b[1;33m=\u001b[0m \u001b[1;33m[\u001b[0m \u001b[0mself\u001b[0m\u001b[1;33m.\u001b[0m\u001b[0mD_func\u001b[0m\u001b[1;33m(\u001b[0m\u001b[0mi\u001b[0m\u001b[1;33m)\u001b[0m \u001b[1;32mfor\u001b[0m \u001b[0mi\u001b[0m \u001b[1;32min\u001b[0m \u001b[0mrange\u001b[0m\u001b[1;33m(\u001b[0m\u001b[0mself\u001b[0m\u001b[1;33m.\u001b[0m\u001b[0mchain\u001b[0m\u001b[1;33m.\u001b[0m\u001b[0mnum_of_ions\u001b[0m\u001b[1;33m)\u001b[0m \u001b[1;33m]\u001b[0m\u001b[1;33m\u001b[0m\u001b[0m\n",
        "\u001b[1;32m/usr/lib/python2.7/dist-packages/qutip/qobj.pyc\u001b[0m in \u001b[0;36m__add__\u001b[1;34m(self, other)\u001b[0m\n\u001b[0;32m    367\u001b[0m                 \u001b[0mout\u001b[0m\u001b[1;33m.\u001b[0m\u001b[0msuperrep\u001b[0m \u001b[1;33m=\u001b[0m \u001b[0mself\u001b[0m\u001b[1;33m.\u001b[0m\u001b[0msuperrep\u001b[0m\u001b[1;33m\u001b[0m\u001b[0m\n\u001b[0;32m    368\u001b[0m \u001b[1;33m\u001b[0m\u001b[0m\n\u001b[1;32m--> 369\u001b[1;33m             \u001b[1;32mreturn\u001b[0m \u001b[0mout\u001b[0m\u001b[1;33m.\u001b[0m\u001b[0mtidyup\u001b[0m\u001b[1;33m(\u001b[0m\u001b[1;33m)\u001b[0m \u001b[1;32mif\u001b[0m \u001b[0msettings\u001b[0m\u001b[1;33m.\u001b[0m\u001b[0mauto_tidyup\u001b[0m \u001b[1;32melse\u001b[0m \u001b[0mout\u001b[0m\u001b[1;33m\u001b[0m\u001b[0m\n\u001b[0m\u001b[0;32m    370\u001b[0m \u001b[1;33m\u001b[0m\u001b[0m\n\u001b[0;32m    371\u001b[0m     \u001b[1;32mdef\u001b[0m \u001b[0m__radd__\u001b[0m\u001b[1;33m(\u001b[0m\u001b[0mself\u001b[0m\u001b[1;33m,\u001b[0m \u001b[0mother\u001b[0m\u001b[1;33m)\u001b[0m\u001b[1;33m:\u001b[0m\u001b[1;33m\u001b[0m\u001b[0m\n",
        "\u001b[1;32m/usr/lib/python2.7/dist-packages/qutip/qobj.pyc\u001b[0m in \u001b[0;36mtidyup\u001b[1;34m(self, atol)\u001b[0m\n\u001b[0;32m   1084\u001b[0m \u001b[1;33m\u001b[0m\u001b[0m\n\u001b[0;32m   1085\u001b[0m             \u001b[0mdata_imag\u001b[0m \u001b[1;33m=\u001b[0m \u001b[0mself\u001b[0m\u001b[1;33m.\u001b[0m\u001b[0mdata\u001b[0m\u001b[1;33m.\u001b[0m\u001b[0mdata\u001b[0m\u001b[1;33m.\u001b[0m\u001b[0mimag\u001b[0m\u001b[1;33m\u001b[0m\u001b[0m\n\u001b[1;32m-> 1086\u001b[1;33m             \u001b[0mdata_imag\u001b[0m\u001b[1;33m[\u001b[0m\u001b[0mabs\u001b[0m\u001b[1;33m(\u001b[0m\u001b[0mdata_imag\u001b[0m\u001b[1;33m)\u001b[0m \u001b[1;33m<\u001b[0m \u001b[0matol\u001b[0m\u001b[1;33m]\u001b[0m \u001b[1;33m=\u001b[0m \u001b[1;36m0\u001b[0m\u001b[1;33m\u001b[0m\u001b[0m\n\u001b[0m\u001b[0;32m   1087\u001b[0m \u001b[1;33m\u001b[0m\u001b[0m\n\u001b[0;32m   1088\u001b[0m             \u001b[0mself\u001b[0m\u001b[1;33m.\u001b[0m\u001b[0mdata\u001b[0m\u001b[1;33m.\u001b[0m\u001b[0mdata\u001b[0m \u001b[1;33m=\u001b[0m \u001b[0mdata_real\u001b[0m \u001b[1;33m+\u001b[0m \u001b[1;36m1j\u001b[0m \u001b[1;33m*\u001b[0m \u001b[0mdata_imag\u001b[0m\u001b[1;33m\u001b[0m\u001b[0m\n",
        "\u001b[1;31mKeyboardInterrupt\u001b[0m: "
       ]
      }
     ],
     "prompt_number": 72
    },
    {
     "cell_type": "code",
     "collapsed": false,
     "input": [
      "#Quantum dynamics\n",
      "\n",
      "#State initialization:\n",
      "motional_state = (1, 0, 0, 0, 0, 0,0,0,0,0, 0, 0, 0, 0)\n",
      "lasers = []\n",
      "#pulse1 = Pulse( ion_num = 0, sideband_num = 1, intensity = 2*np.pi* 100e3, phase = 2*np.pi* 0 , duration = 8.e-6 )\n",
      "\n",
      "time_precision = 1.e-6\n",
      "\n",
      "#motional_state = (1, 0, 0, 0, 0)\n",
      "#electronic_state = (1, 0, 0, 0, 0, 0, 0, 0, 0, 0)\n",
      "chain.set_pure_motional_state( motional_state )\n",
      "#chain.set_pure_electronic_state_numbers(electronic_state)\n",
      "#dyn.add_pulse( pulse1 )\n",
      "chain.couplings = couplings_with_x2z2_correction\n",
      "dyn = Dynamics(chain,'quantum',[], [], time_precision)\n",
      "\n",
      "\n",
      "observables = [ dyn.a[0].dag() * dyn.a[0] ]\n",
      "time_interval = (0., 700.e-6)\n",
      "times = np.arange(time_interval[0], time_interval[1], time_precision)\n",
      "dyn.evolve_pure(time_interval, observables)\n",
      "plt.plot(times*1.e6, dyn.expectations[0], times*1.e6, dyn.expectations[1])\n",
      "plt.xlabel(\"$\\mu$ Sec\")\n",
      "plt.show()"
     ],
     "language": "python",
     "metadata": {},
     "outputs": [],
     "prompt_number": 76
    },
    {
     "cell_type": "code",
     "collapsed": false,
     "input": [
      "#plt.plot(contrast)\n",
      "#plt.plot(contrast_with_x2z2_correction)\n",
      "plt.show()"
     ],
     "language": "python",
     "metadata": {},
     "outputs": [],
     "prompt_number": 16
    },
    {
     "cell_type": "code",
     "collapsed": false,
     "input": [
      "#Spectrum engineering via engineering ion positions: What ion positions I need in order to get the spectrum \n",
      "omegax = 2.0e6\n",
      "omegaz = 100.e3\n",
      "N = 15\n",
      "chain = Chain(N, 2)\n",
      "dummy_trap = IonTrap( omegax , omegaz)\n",
      "dummy_trap.load(chain)\n",
      "zpositions =   np.array( chain.get_positions() )\n",
      "distance_ratio  =  1.5\n",
      "couplings_harmonic = chain.get_couplings()\n",
      "normal_modes_harmonic = np.sort(abs(LA.eig(couplings_harmonic)[0])/(2*np.pi*1.e6))[::-1]\n",
      "\n",
      "#Change the ions positions:\n",
      "\n",
      "def get_engineered_normal_modes(dummy_trap, distance_ratio, isolated_ions=1 ):\n",
      "    if isolated_ions == 1:\n",
      "        positions = dummy_trap.chain.get_positions()\n",
      "        positions[0] = positions[1]-distance_ratio*(positions[1]-positions[0])\n",
      "        positions[-1] = positions[-2]+distance_ratio*(positions[-1]-positions[-2])\n",
      "        dummy_trap.set_ions_positions( positions )  \n",
      "\n",
      "        \n",
      "    return chain.couplings, np.sort(abs(LA.eig(chain.couplings)[0])/(2*np.pi*1.e6))[::-1]\n",
      "#Correction for y^2 * z^2 term:\n",
      "#omegax_gradient_at_100microns = +2*np.pi * (10./25)*1e3/(1.e-6)\n",
      "#def get_radial_freq_corrections(omegax_gradient_at_100microns):\n",
      "    \n",
      "#    delta_omegax = omegax_gradient_at_100microns * zpositions**2/(2*100.e-6)\n",
      "\n",
      "#    return delta_omegax \n",
      "\n",
      "#couplings_with_x2z2_correction = np.array( [ row for row in couplings_harmonic ])\n",
      "#radial_corrections = get_radial_freq_corrections(omegax_gradient_at_100microns)\n",
      "\n",
      "#for i in range(N):\n",
      "#    couplings_with_x2z2_correction[i][i] += radial_corrections[i]\n",
      "\n",
      "couplings_after_positions_correction = get_engineered_normal_modes(dummy_trap, distance_ratio)[0]\n",
      "normal_modes_after_positions_correction = get_engineered_normal_modes(dummy_trap, distance_ratio)[1]\n",
      "\n",
      "#normal_modes_with_x2z2_correction = np.sort(abs(LA.eig(couplings_with_x2z2_correction)[0])/(2*np.pi*1.e6))[::-1]\n",
      "plt.plot(normal_modes_harmonic, 'rs', normal_modes_after_positions_correction, 'bs')\n",
      "plt.show()"
     ],
     "language": "python",
     "metadata": {},
     "outputs": [],
     "prompt_number": 7
    },
    {
     "cell_type": "code",
     "collapsed": false,
     "input": [
      "[normal_modes_after_positions_correction[i]-normal_modes_after_positions_correction[i+1] for i in range(4)]"
     ],
     "language": "python",
     "metadata": {},
     "outputs": [
      {
       "metadata": {},
       "output_type": "pyout",
       "prompt_number": 6,
       "text": [
        "[0.0011326896816750143,\n",
        " 0.00029363314454866618,\n",
        " 0.0024729404106882402,\n",
        " 0.0056829912308153929]"
       ]
      }
     ],
     "prompt_number": 6
    },
    {
     "cell_type": "code",
     "collapsed": false,
     "input": [],
     "language": "python",
     "metadata": {},
     "outputs": [
      {
       "ename": "Exception",
       "evalue": "Motional states are not set.",
       "output_type": "pyerr",
       "traceback": [
        "\u001b[1;31m---------------------------------------------------------------------------\u001b[0m\n\u001b[1;31mException\u001b[0m                                 Traceback (most recent call last)",
        "\u001b[1;32m<ipython-input-13-1523e893b5b1>\u001b[0m in \u001b[0;36m<module>\u001b[1;34m()\u001b[0m\n\u001b[0;32m      1\u001b[0m \u001b[1;32mfrom\u001b[0m \u001b[0mquantum_dynamics\u001b[0m \u001b[1;32mimport\u001b[0m \u001b[0mDynamics\u001b[0m\u001b[1;33m\u001b[0m\u001b[0m\n\u001b[1;32m----> 2\u001b[1;33m \u001b[0mdyn\u001b[0m \u001b[1;33m=\u001b[0m \u001b[0mDynamics\u001b[0m\u001b[1;33m(\u001b[0m\u001b[0mchain\u001b[0m\u001b[1;33m)\u001b[0m\u001b[1;33m\u001b[0m\u001b[0m\n\u001b[0m\u001b[0;32m      3\u001b[0m \u001b[0mcontrast\u001b[0m \u001b[1;33m=\u001b[0m \u001b[0mdyn\u001b[0m\u001b[1;33m.\u001b[0m\u001b[0mget_ramsey_contrast\u001b[0m\u001b[1;33m(\u001b[0m\u001b[1;36m1\u001b[0m\u001b[1;33m)\u001b[0m\u001b[1;33m\u001b[0m\u001b[0m\n",
        "\u001b[1;32m/home/trxw/Documents/dfr/codes/quantum_play/ion-trap-qsim/quantum_dynamics.py\u001b[0m in \u001b[0;36m__init__\u001b[1;34m(self, chain, lasers, pulses, time_precision)\u001b[0m\n\u001b[0;32m     28\u001b[0m \u001b[1;33m\u001b[0m\u001b[0m\n\u001b[0;32m     29\u001b[0m         \u001b[1;32mif\u001b[0m \u001b[1;32mnot\u001b[0m \u001b[0mself\u001b[0m\u001b[1;33m.\u001b[0m\u001b[0mchain\u001b[0m\u001b[1;33m.\u001b[0m\u001b[0mmotional_states_are_set\u001b[0m\u001b[1;33m:\u001b[0m\u001b[1;33m\u001b[0m\u001b[0m\n\u001b[1;32m---> 30\u001b[1;33m             \u001b[1;32mraise\u001b[0m \u001b[0mException\u001b[0m\u001b[1;33m(\u001b[0m\u001b[1;34m\"Motional states are not set.\"\u001b[0m\u001b[1;33m)\u001b[0m\u001b[1;33m\u001b[0m\u001b[0m\n\u001b[0m\u001b[0;32m     31\u001b[0m         \u001b[0mself\u001b[0m\u001b[1;33m.\u001b[0m\u001b[0mchain\u001b[0m\u001b[1;33m.\u001b[0m\u001b[0minitialize_chain_electronic_states\u001b[0m\u001b[1;33m(\u001b[0m\u001b[0mlasers\u001b[0m\u001b[1;33m=\u001b[0m\u001b[0mlasers\u001b[0m\u001b[1;33m,\u001b[0m \u001b[0mpulses\u001b[0m\u001b[1;33m=\u001b[0m\u001b[0mpulses\u001b[0m\u001b[1;33m)\u001b[0m\u001b[1;33m\u001b[0m\u001b[0m\n\u001b[0;32m     32\u001b[0m \u001b[1;33m\u001b[0m\u001b[0m\n",
        "\u001b[1;31mException\u001b[0m: Motional states are not set."
       ]
      }
     ],
     "prompt_number": 13
    },
    {
     "cell_type": "code",
     "collapsed": false,
     "input": [
      "plt.plt"
     ],
     "language": "python",
     "metadata": {},
     "outputs": []
    },
    {
     "cell_type": "code",
     "collapsed": false,
     "input": [
      "omegax = 2.0e6\n",
      "omegaz = 200.e3\n",
      "chain = Chain(N, 2)\n",
      "dummy_trap = IonTrap( omegax , omegaz)\n",
      "dummy_trap.load(chain)\n",
      "zpositions =   np.array( chain.get_positions() )\n",
      "#harmonic potential couplings:\n",
      "couplings_harmonic = chain.get_couplings()\n",
      "time_interval = (0., 700.e-6)\n",
      "time_precision = 1.e-6\n",
      "times = np.arange(time_interval[0], time_interval[1], time_precision)\n",
      "ion = 0\n",
      "\n",
      "ex = abs(np.conjugate(np.array([gamma(ion, t, chain) for t in times])) * np.array([gamma(ion, t, chain) for t in times]))\n",
      "#plt.figure(1)\n",
      "plt.plot(times*1.e6, ex, label='{} ions'.format(N))\n",
      "plt.xlabel(\"$\\mu$ Sec\")\n",
      "plt.ylim(0,1.)\n",
      "plt.xlim(0,650.)\n",
      "plt.legend(loc=2, prop={'size':9})\n",
      "    \n",
      "#plt.savefig('20ions-150KHzAxial.jpg', bbox_inches='tight')\n",
      "#fig = plt.figure()\n",
      "#ax = fig.add_subplot(111)\n",
      "plt.text(0, 1, r'Axial freq {:.1f} KHz'.format(omegaz/1.e3), fontsize=15)\n",
      "#plt.savefig('harmonic-200KHzAxial.jpg', bbox_inches='tight')\n",
      "plt.show()"
     ],
     "language": "python",
     "metadata": {},
     "outputs": [
      {
       "metadata": {},
       "output_type": "display_data",
       "png": "[encoded data removed]",
       "text": [
        "<matplotlib.figure.Figure at 0x7f8a8a01e1d0>"
       ]
      }
     ],
     "prompt_number": 147
    },
    {
     "cell_type": "code",
     "collapsed": false,
     "input": [
      "def get_chain_time_evolution( ion_num, time_interval = (0., 700.e-6), time_precision=1.e-6):\n",
      "    \n",
      "    def gamma(j, t, chain):\n",
      "        eigenvectorsT = LA.eig(chain.get_couplings())[1]\n",
      "        eigenfreqs   = LA.eig(chain.get_couplings())[0]\n",
      "\n",
      "        s = 0\n",
      "        for i in range(chain.num_of_ions):\n",
      "            s += eigenvectorsT[j][i] * eigenvectorsT[j][i] * np.exp(1.j* eigenfreqs[i] * t)\n",
      "        return s\n",
      "    \n",
      "    times = np.arange(time_interval[0], time_interval[1], time_precision)\n",
      "    ion = ion_num\n",
      "\n",
      "    ex = abs(np.conjugate(np.array([gamma(ion, t, chain) for t in times])) * np.array([gamma(ion, t, chain) for t in times]))\n",
      "    return ex"
     ],
     "language": "python",
     "metadata": {},
     "outputs": [
      {
       "metadata": {},
       "output_type": "pyout",
       "prompt_number": 143,
       "text": [
        "array([  1.00000000e+00,   9.67251675e-01,   8.77482063e-01,\n",
        "         7.51872649e-01,   6.14806701e-01,   4.85502926e-01,\n",
        "         3.74639581e-01,   2.85420919e-01,   2.16457751e-01,\n",
        "         1.64393636e-01,   1.25542949e-01,   9.66508482e-02,\n",
        "         7.51194159e-02,   5.89825968e-02,   4.67940201e-02,\n",
        "         3.75042133e-02,   3.03554341e-02,   2.48002375e-02,\n",
        "         2.04414080e-02,   1.69888278e-02,   1.42300813e-02,\n",
        "         1.20096598e-02,   1.02038959e-02,   8.69838632e-03,\n",
        "         7.42243910e-03,   6.43110315e-03,   5.84249622e-03,\n",
        "         5.52945048e-03,   4.94063825e-03,   3.54139470e-03,\n",
        "         1.63919047e-03,   6.66506382e-04,   2.39137260e-03,\n",
        "         7.63222636e-03,   1.55844029e-02,   2.43105485e-02,\n",
        "         3.19875457e-02,   3.80277029e-02,   4.34348130e-02,\n",
        "         5.03345416e-02,   6.10612237e-02,   7.72866312e-02,\n",
        "         9.95152416e-02,   1.27027320e-01,   1.58168191e-01,\n",
        "         1.90803876e-01,   2.22764745e-01,   2.52169441e-01,\n",
        "         2.77640012e-01,   2.98436977e-01,   3.14400900e-01,\n",
        "         3.25621465e-01,   3.32158541e-01,   3.34288595e-01,\n",
        "         3.33069655e-01,   3.30275064e-01,   3.27216878e-01,\n",
        "         3.23417114e-01,   3.16729039e-01,   3.05332690e-01,\n",
        "         2.90108544e-01,   2.75207594e-01,   2.65928944e-01,\n",
        "         2.65157625e-01,   2.70817858e-01,   2.76189165e-01,\n",
        "         2.73080718e-01,   2.56118760e-01,   2.25841729e-01,\n",
        "         1.89046363e-01,   1.56287106e-01,   1.37799404e-01,\n",
        "         1.39668073e-01,   1.61631088e-01,   1.97122579e-01,\n",
        "         2.35456418e-01,   2.65232621e-01,   2.77465192e-01,\n",
        "         2.67453930e-01,   2.35543728e-01,   1.87070534e-01,\n",
        "         1.31106827e-01,   7.78627402e-02,   3.59569432e-02,\n",
        "         1.11668345e-02,   6.70265917e-03,   2.34654095e-02,\n",
        "         5.93216134e-02,   1.08422798e-01,   1.62332712e-01,\n",
        "         2.13096905e-01,   2.56184669e-01,   2.90955024e-01,\n",
        "         3.18349187e-01,   3.37851508e-01,   3.46256196e-01,\n",
        "         3.39243040e-01,   3.14569664e-01,   2.74456509e-01,\n",
        "         2.25430906e-01,   1.75881411e-01,   1.33007580e-01,\n",
        "         1.00776417e-01,   7.96225920e-02,   6.77497954e-02,\n",
        "         6.31162566e-02,   6.48323050e-02,   7.32254560e-02,\n",
        "         8.88162825e-02,   1.10967586e-01,   1.36908304e-01,\n",
        "         1.61722118e-01,   1.79682305e-01,   1.86540710e-01,\n",
        "         1.81421612e-01,   1.67004954e-01,   1.48061341e-01,\n",
        "         1.29815071e-01,   1.17427909e-01,   1.16264827e-01,\n",
        "         1.31460315e-01,   1.65968178e-01,   2.18010142e-01,\n",
        "         2.79995502e-01,   3.40458956e-01,   3.88428145e-01,\n",
        "         4.17549262e-01,   4.27395772e-01,   4.21634908e-01,\n",
        "         4.04768565e-01,   3.79433398e-01,   3.45484776e-01,\n",
        "         3.01271780e-01,   2.46431726e-01,   1.84304118e-01,\n",
        "         1.22014666e-01,   6.80411050e-02,   2.90394503e-02,\n",
        "         7.88558007e-03,   3.46352258e-03,   1.15491848e-02,\n",
        "         2.62003188e-02,   4.16089029e-02,   5.42197286e-02,\n",
        "         6.41591688e-02,   7.48990148e-02,   9.11621208e-02,\n",
        "         1.16353968e-01,   1.51063674e-01,   1.93319547e-01,\n",
        "         2.40014319e-01,   2.88095753e-01,   3.34476341e-01,\n",
        "         3.75028022e-01,   4.04134278e-01,   4.15831507e-01,\n",
        "         4.06085367e-01,   3.74833020e-01,   3.26732817e-01,\n",
        "         2.70284370e-01,   2.15434242e-01,   1.70333585e-01,\n",
        "         1.38723513e-01,   1.19529544e-01,   1.08929149e-01,\n",
        "         1.03345217e-01,   1.01240529e-01,   1.02836698e-01,\n",
        "         1.08681515e-01,   1.18536712e-01,   1.31122208e-01,\n",
        "         1.44316026e-01,   1.55491501e-01,   1.62123419e-01,\n",
        "         1.62691266e-01,   1.57434370e-01,   1.48378606e-01,\n",
        "         1.38484957e-01,   1.30415318e-01,   1.25688999e-01,\n",
        "         1.24609513e-01,   1.26688656e-01,   1.31101188e-01,\n",
        "         1.37024523e-01,   1.43951769e-01,   1.51948122e-01,\n",
        "         1.61668382e-01,   1.73953245e-01,   1.88901437e-01,\n",
        "         2.04601307e-01,   2.16307101e-01,   2.17242154e-01,\n",
        "         2.01515857e-01,   1.67836088e-01,   1.21397094e-01,\n",
        "         7.23098685e-02,   3.16110349e-02,   7.50270609e-03,\n",
        "         3.62999116e-03,   1.93656188e-02,   5.11550536e-02,\n",
        "         9.41515412e-02,   1.43753084e-01,   1.96647088e-01,\n",
        "         2.50701697e-01,   3.03305499e-01,   3.49144158e-01,\n",
        "         3.79837065e-01,   3.87078099e-01,   3.67763717e-01,\n",
        "         3.27273909e-01,   2.78314890e-01,   2.36130695e-01,\n",
        "         2.13050255e-01,   2.14971882e-01,   2.40752954e-01,\n",
        "         2.84054070e-01,   3.36327812e-01,   3.89229991e-01,\n",
        "         4.35266579e-01,   4.67272610e-01,   4.78773153e-01,\n",
        "         4.66285891e-01,   4.31962106e-01,   3.83866749e-01,\n",
        "         3.33031089e-01,   2.89052817e-01,   2.56895421e-01,\n",
        "         2.36353592e-01,   2.23815211e-01,   2.14792979e-01,\n",
        "         2.05747428e-01,   1.94697923e-01,   1.81070221e-01,\n",
        "         1.65367504e-01,   1.48824391e-01,   1.32976812e-01,\n",
        "         1.19211121e-01,   1.08439661e-01,   1.00935078e-01,\n",
        "         9.62687317e-02,   9.33552745e-02,   9.06593849e-02,\n",
        "         8.65701495e-02,   7.98730964e-02,   7.01950151e-02,\n",
        "         5.82226871e-02,   4.54976189e-02,   3.38161614e-02,\n",
        "         2.45743604e-02,   1.84347676e-02,   1.53901943e-02,\n",
        "         1.49924463e-02,   1.65002709e-02,   1.89124106e-02,\n",
        "         2.10297533e-02,   2.16862130e-02,   2.01266200e-02,\n",
        "         1.63342333e-02,   1.10986187e-02,   5.80055130e-03,\n",
        "         2.07174515e-03,   1.45526605e-03,   5.02698750e-03,\n",
        "         1.29260554e-02,   2.39979060e-02,   3.60024786e-02,\n",
        "         4.66511524e-02,   5.50788679e-02,   6.28399098e-02,\n",
        "         7.37207322e-02,   9.23730307e-02,   1.22346021e-01,\n",
        "         1.64389020e-01,   2.16044980e-01,   2.73181205e-01,\n",
        "         3.32779570e-01,   3.94905914e-01,   4.62008111e-01,\n",
        "         5.35779575e-01,   6.13877645e-01,   6.88996300e-01,\n",
        "         7.51094893e-01,   7.91203972e-01,   8.03969266e-01,\n",
        "         7.87371650e-01,   7.40970826e-01,   6.65427538e-01,\n",
        "         5.64263504e-01,   4.45925881e-01,   3.23543687e-01,\n",
        "         2.11895125e-01,   1.23495278e-01,   6.58225379e-02,\n",
        "         4.00590305e-02,   4.08990254e-02,   5.77012950e-02,\n",
        "         7.75753163e-02,   8.97171703e-02,   8.89557163e-02,\n",
        "         7.67573211e-02,   5.93993530e-02,   4.42873225e-02,\n",
        "         3.61396873e-02,   3.50050096e-02,   3.72050749e-02,\n",
        "         3.83886126e-02,   3.64383150e-02,   3.22775214e-02,\n",
        "         2.83501206e-02,   2.63182935e-02,   2.59586106e-02,\n",
        "         2.59374021e-02,   2.53379202e-02,   2.43225481e-02,\n",
        "         2.35143031e-02,   2.30848923e-02,   2.25963156e-02,\n",
        "         2.15372654e-02,   1.97590276e-02,   1.74590867e-02,\n",
        "         1.51046523e-02,   1.36604584e-02,   1.49550907e-02,\n",
        "         2.18579864e-02,   3.81515801e-02,   6.80249575e-02,\n",
        "         1.15042107e-01,   1.80641815e-01,   2.62579866e-01,\n",
        "         3.53927347e-01,   4.43331108e-01,   5.17110768e-01,\n",
        "         5.63055851e-01,   5.74687452e-01,   5.54017359e-01,\n",
        "         5.11075591e-01,   4.59871594e-01,   4.12546522e-01,\n",
        "         3.74901823e-01,   3.45859256e-01,   3.20790959e-01,\n",
        "         2.95945327e-01,   2.70699313e-01,   2.46612924e-01,\n",
        "         2.25109356e-01,   2.06277107e-01,   1.89434674e-01,\n",
        "         1.74137760e-01,   1.60386213e-01,   1.48211570e-01,\n",
        "         1.37458117e-01,   1.27931757e-01,   1.19532866e-01,\n",
        "         1.12226036e-01,   1.06017675e-01,   1.01002051e-01,\n",
        "         9.73779900e-02,   9.53841043e-02,   9.51394972e-02,\n",
        "         9.63576681e-02,   9.79709992e-02,   9.78651181e-02,\n",
        "         9.30745387e-02,   8.07940087e-02,   6.02180827e-02,\n",
        "         3.44999029e-02,   1.14316712e-02,   1.57969214e-03,\n",
        "         1.40405143e-02,   5.20007551e-02,   1.11025896e-01,\n",
        "         1.81247464e-01,   2.51650021e-01,   3.13420112e-01,\n",
        "         3.60952195e-01,   3.91406279e-01,   4.04143255e-01,\n",
        "         4.00326337e-01,   3.82420289e-01,   3.53604963e-01,\n",
        "         3.17298235e-01,   2.76825568e-01,   2.35187667e-01,\n",
        "         1.94913873e-01,   1.57994043e-01,   1.25867792e-01,\n",
        "         9.94534473e-02,   7.92035671e-02,   6.51746088e-02,\n",
        "         5.71001826e-02,   5.44674364e-02,   5.66264794e-02,\n",
        "         6.29973091e-02,   7.33876262e-02,   8.81921563e-02,\n",
        "         1.07944947e-01,   1.31887550e-01,   1.56297678e-01,\n",
        "         1.74470399e-01,   1.79664954e-01,   1.69711812e-01,\n",
        "         1.49880201e-01,   1.31605878e-01,   1.27796429e-01,\n",
        "         1.47523129e-01,   1.92636372e-01,   2.57308191e-01,\n",
        "         3.30087754e-01,   3.97298491e-01,   4.46505953e-01,\n",
        "         4.69121594e-01,   4.61703672e-01,   4.25964182e-01,\n",
        "         3.67786918e-01,   2.95687048e-01,   2.19129463e-01,\n",
        "         1.47027930e-01,   8.66325241e-02,   4.29126904e-02,\n",
        "         1.84183939e-02,   1.34175763e-02,   2.60604891e-02,\n",
        "         5.26988916e-02,   8.88940048e-02,   1.31044936e-01,\n",
        "         1.77206270e-01,   2.25736411e-01,   2.72799843e-01,\n",
        "         3.11670956e-01,   3.35415205e-01,   3.41161088e-01,\n",
        "         3.32511428e-01,   3.18149714e-01,   3.07581226e-01,\n",
        "         3.06693310e-01,   3.15489125e-01,   3.28728147e-01,\n",
        "         3.38623910e-01,   3.38039130e-01,   3.22837946e-01,\n",
        "         2.92775510e-01,   2.51030508e-01,   2.02911770e-01,\n",
        "         1.54343959e-01,   1.10595453e-01,   7.55100831e-02,\n",
        "         5.12697454e-02,   3.84753009e-02,   3.63093503e-02,\n",
        "         4.28204331e-02,   5.55162498e-02,   7.21069911e-02,\n",
        "         9.08511004e-02,   1.10227828e-01,   1.28400847e-01,\n",
        "         1.43227558e-01,   1.53017004e-01,   1.57459125e-01,\n",
        "         1.57946933e-01,   1.57004130e-01,   1.57170214e-01,\n",
        "         1.59953771e-01,   1.65281402e-01,   1.71536913e-01,\n",
        "         1.76072845e-01,   1.76023620e-01,   1.69237951e-01,\n",
        "         1.55088518e-01,   1.34864756e-01,   1.11538331e-01,\n",
        "         8.89088287e-02,   7.03557420e-02,   5.76149398e-02,\n",
        "         5.01555298e-02,   4.55699271e-02,   4.07771209e-02,\n",
        "         3.33781823e-02,   2.27302168e-02,   1.06701780e-02,\n",
        "         1.60067354e-03,   1.38750519e-03,   1.51924777e-02,\n",
        "         4.54949786e-02,   9.15721112e-02,   1.50279677e-01,\n",
        "         2.16755999e-01,   2.84217521e-01,   3.43732673e-01,\n",
        "         3.85644899e-01,   4.03021927e-01,   3.95292467e-01,\n",
        "         3.69350157e-01,   3.36848126e-01,   3.09025506e-01,\n",
        "         2.92197297e-01,   2.86645224e-01,   2.89199766e-01,\n",
        "         2.97249275e-01,   3.11395185e-01,   3.35325055e-01,\n",
        "         3.73016586e-01,   4.24662245e-01,   4.83875594e-01,\n",
        "         5.38525573e-01,   5.75025051e-01,   5.83226142e-01,\n",
        "         5.59188359e-01,   5.05481186e-01,   4.30183915e-01,\n",
        "         3.45083462e-01,   2.62724855e-01,   1.92745489e-01,\n",
        "         1.39298494e-01,   1.01200024e-01,   7.45129033e-02,\n",
        "         5.55462384e-02,   4.24022546e-02,   3.48126075e-02,\n",
        "         3.32643738e-02,   3.83185028e-02,   5.01831204e-02,\n",
        "         6.81464034e-02,   8.98515439e-02,   1.11058633e-01,\n",
        "         1.26526844e-01,   1.31811274e-01,   1.25015916e-01,\n",
        "         1.07577401e-01,   8.36968367e-02,   5.86496886e-02,\n",
        "         3.68080434e-02,   2.04968608e-02,   1.02452364e-02,\n",
        "         5.86114089e-03,   7.20329977e-03,   1.41102884e-02,\n",
        "         2.58623803e-02,   4.07734221e-02,   5.61145936e-02,\n",
        "         6.83508149e-02,   7.38638767e-02,   7.03256275e-02,\n",
        "         5.82460784e-02,   4.15989553e-02,   2.67451460e-02,\n",
        "         2.00176074e-02,   2.53109690e-02,   4.30631307e-02,\n",
        "         7.10429317e-02,   1.06022870e-01,   1.44896761e-01,\n",
        "         1.84676301e-01,   2.22095961e-01,   2.53827060e-01,\n",
        "         2.77491468e-01,   2.92929786e-01,   3.03099442e-01,\n",
        "         3.14051641e-01,   3.33404463e-01,   3.67243753e-01,\n",
        "         4.16692892e-01,   4.76313216e-01,   5.35697382e-01,\n",
        "         5.83449309e-01,   6.11084760e-01,   6.14787039e-01,\n",
        "         5.94960904e-01,   5.54988330e-01,   5.00152762e-01,\n",
        "         4.36510674e-01,   3.69379172e-01,   3.02010556e-01,\n",
        "         2.35512827e-01,   1.70450011e-01,   1.09243221e-01,\n",
        "         5.74360902e-02,   2.22467310e-02,   8.90584229e-03,\n",
        "         1.73640556e-02,   4.17791413e-02,   7.28805260e-02,\n",
        "         1.01340871e-01,   1.20316311e-01,   1.26492555e-01,\n",
        "         1.19858215e-01,   1.02824285e-01,   7.94313639e-02,\n",
        "         5.49673960e-02,   3.54547789e-02,   2.61481264e-02,\n",
        "         2.91760509e-02,   4.19482668e-02,   5.80366369e-02,\n",
        "         7.03489031e-02,   7.44625314e-02,   7.00577106e-02,\n",
        "         6.00957956e-02,   4.88051413e-02,   3.97332863e-02,\n",
        "         3.45761109e-02,   3.29267072e-02,   3.28500281e-02,\n",
        "         3.21333429e-02,   2.97689139e-02,   2.67956272e-02,\n",
        "         2.58483852e-02,   2.98551596e-02,   4.11369268e-02,\n",
        "         6.16302792e-02,   9.36705428e-02,   1.40174466e-01,\n",
        "         2.03581402e-01,   2.83890158e-01,   3.76876424e-01,\n",
        "         4.73785228e-01,   5.63209330e-01,   6.34404074e-01,\n",
        "         6.79910674e-01,   6.95823015e-01,   6.80459495e-01,\n",
        "         6.33908776e-01,   5.59635276e-01,   4.66523366e-01,\n",
        "         3.68681000e-01,   2.81979728e-01,   2.18868544e-01,\n",
        "         1.84329720e-01,   1.75099484e-01,   1.82091451e-01,\n",
        "         1.94126909e-01,   2.01165637e-01,   1.96657770e-01,\n",
        "         1.79207138e-01,   1.52888158e-01,   1.25243898e-01,\n",
        "         1.03448555e-01,   9.08367219e-02,   8.59203759e-02,\n",
        "         8.41599017e-02,   8.09409382e-02,   7.38766243e-02,\n",
        "         6.34688526e-02,   5.21799931e-02,   4.25946215e-02,\n",
        "         3.57821429e-02,   3.09658129e-02,   2.66968042e-02,\n",
        "         2.24856772e-02,   1.95303773e-02,   2.01166939e-02,\n",
        "         2.64233975e-02,   3.97792232e-02,   6.08278321e-02,\n",
        "         9.01860545e-02,   1.28688372e-01,   1.76634928e-01,\n",
        "         2.32466914e-01,   2.92018405e-01,   3.49057656e-01,\n",
        "         3.96693756e-01,   4.28707590e-01,   4.40422449e-01,\n",
        "         4.29463597e-01,   3.96684041e-01,   3.46769991e-01,\n",
        "         2.87627415e-01,   2.28317923e-01,   1.76470137e-01,\n",
        "         1.36480970e-01,   1.09140620e-01,   9.24512653e-02,\n",
        "         8.30494613e-02,   7.76377850e-02,   7.39347981e-02,\n",
        "         7.09331319e-02,   6.86525853e-02,   6.77396665e-02,\n",
        "         6.90661628e-02,   7.32545608e-02,   8.01707811e-02,\n",
        "         8.87514322e-02,   9.75234168e-02,   1.05554896e-01,\n",
        "         1.12970092e-01,   1.20486230e-01,   1.28520951e-01,\n",
        "         1.36959677e-01,   1.45896894e-01,   1.56453328e-01,\n",
        "         1.70623195e-01,   1.90224916e-01,   2.15916598e-01,\n",
        "         2.46720149e-01,   2.79572903e-01,   3.08740165e-01,\n",
        "         3.26025827e-01,   3.22752575e-01,   2.93163064e-01,\n",
        "         2.37768968e-01])"
       ]
      }
     ],
     "prompt_number": 143
    },
    {
     "cell_type": "code",
     "collapsed": false,
     "input": [
      "#Spectrum engineering via engineering ion positions: What ion positions I need in order to get the spectrum \n",
      "omegax = 2.0e6\n",
      "omegaz1 = 100.e3\n",
      "N = 15\n",
      "chain = Chain(N, 2)\n",
      "dummy_trap = IonTrap( omegax , omegaz)\n",
      "dummy_trap.load(chain)\n",
      "zpositions =   np.array( chain.get_positions() )\n",
      "\n",
      "couplings_harmonic1 = chain1.get_couplings()\n",
      "normal_modes_harmonic = np.sort(abs(LA.eig(couplings_harmonic)[0])/(2*np.pi*1.e6))[::-1]\n",
      "\n",
      "#Change the ions positions:\n",
      "\n",
      "def get_engineered_normal_modes(dummy_trap, distance_ratio, isolated_ions=2 ): \n",
      "    if isolated_ions == 2:\n",
      "        positions = dummy_trap.chain.get_positions()\n",
      "        positions[0] = positions[1]-distance_ratio*(positions[1]-positions[0])\n",
      "        positions[-1] = positions[-2]+distance_ratio*(positions[-1]-positions[-2])\n",
      "        dummy_trap.set_ions_positions( positions )  \n",
      "    \n",
      "    return chain.couplings, np.sort(abs(LA.eig(chain.couplings)[0])/(2*np.pi*1.e6))[::-1]\n",
      "#Correction for y^2 * z^2 term:\n",
      "#omegax_gradient_at_100microns = +2*np.pi * (10./25)*1e3/(1.e-6)\n",
      "#def get_radial_freq_corrections(omegax_gradient_at_100microns):\n",
      "    \n",
      "#    delta_omegax = omegax_gradient_at_100microns * zpositions**2/(2*100.e-6)\n",
      "\n",
      "#    return delta_omegax \n",
      "\n",
      "#couplings_with_x2z2_correction = np.array( [ row for row in couplings_harmonic ])\n",
      "#radial_corrections = get_radial_freq_corrections(omegax_gradient_at_100microns)\n",
      "\n",
      "#for i in range(N):\n",
      "#    couplings_with_x2z2_correction[i][i] += radial_corrections[i]\n",
      "\n",
      "couplings_after_positions_correction = get_engineered_normal_modes(dummy_trap, distance_ratio)[0]\n",
      "normal_modes_after_positions_correction = get_engineered_normal_modes(dummy_trap, distance_ratio)[1]\n",
      "\n",
      "#normal_modes_with_x2z2_correction = np.sort(abs(LA.eig(couplings_with_x2z2_correction)[0])/(2*np.pi*1.e6))[::-1]\n",
      "plt.plot(normal_modes_harmonic, 'rs', normal_modes_after_positions_correction, 'bs')\n",
      "plt.show()"
     ],
     "language": "python",
     "metadata": {},
     "outputs": [
      {
       "ename": "NameError",
       "evalue": "name 'chain1' is not defined",
       "output_type": "pyerr",
       "traceback": [
        "\u001b[1;31m---------------------------------------------------------------------------\u001b[0m\n\u001b[1;31mNameError\u001b[0m                                 Traceback (most recent call last)",
        "\u001b[1;32m<ipython-input-8-8bf475c1b0c1>\u001b[0m in \u001b[0;36m<module>\u001b[1;34m()\u001b[0m\n\u001b[0;32m      8\u001b[0m \u001b[0mzpositions\u001b[0m \u001b[1;33m=\u001b[0m   \u001b[0mnp\u001b[0m\u001b[1;33m.\u001b[0m\u001b[0marray\u001b[0m\u001b[1;33m(\u001b[0m \u001b[0mchain\u001b[0m\u001b[1;33m.\u001b[0m\u001b[0mget_positions\u001b[0m\u001b[1;33m(\u001b[0m\u001b[1;33m)\u001b[0m \u001b[1;33m)\u001b[0m\u001b[1;33m\u001b[0m\u001b[0m\n\u001b[0;32m      9\u001b[0m \u001b[1;33m\u001b[0m\u001b[0m\n\u001b[1;32m---> 10\u001b[1;33m \u001b[0mcouplings_harmonic1\u001b[0m \u001b[1;33m=\u001b[0m \u001b[0mchain1\u001b[0m\u001b[1;33m.\u001b[0m\u001b[0mget_couplings\u001b[0m\u001b[1;33m(\u001b[0m\u001b[1;33m)\u001b[0m\u001b[1;33m\u001b[0m\u001b[0m\n\u001b[0m\u001b[0;32m     11\u001b[0m \u001b[0mnormal_modes_harmonic\u001b[0m \u001b[1;33m=\u001b[0m \u001b[0mnp\u001b[0m\u001b[1;33m.\u001b[0m\u001b[0msort\u001b[0m\u001b[1;33m(\u001b[0m\u001b[0mabs\u001b[0m\u001b[1;33m(\u001b[0m\u001b[0mLA\u001b[0m\u001b[1;33m.\u001b[0m\u001b[0meig\u001b[0m\u001b[1;33m(\u001b[0m\u001b[0mcouplings_harmonic\u001b[0m\u001b[1;33m)\u001b[0m\u001b[1;33m[\u001b[0m\u001b[1;36m0\u001b[0m\u001b[1;33m]\u001b[0m\u001b[1;33m)\u001b[0m\u001b[1;33m/\u001b[0m\u001b[1;33m(\u001b[0m\u001b[1;36m2\u001b[0m\u001b[1;33m*\u001b[0m\u001b[0mnp\u001b[0m\u001b[1;33m.\u001b[0m\u001b[0mpi\u001b[0m\u001b[1;33m*\u001b[0m\u001b[1;36m1.e6\u001b[0m\u001b[1;33m)\u001b[0m\u001b[1;33m)\u001b[0m\u001b[1;33m[\u001b[0m\u001b[1;33m:\u001b[0m\u001b[1;33m:\u001b[0m\u001b[1;33m-\u001b[0m\u001b[1;36m1\u001b[0m\u001b[1;33m]\u001b[0m\u001b[1;33m\u001b[0m\u001b[0m\n\u001b[0;32m     12\u001b[0m \u001b[1;33m\u001b[0m\u001b[0m\n",
        "\u001b[1;31mNameError\u001b[0m: name 'chain1' is not defined"
       ]
      }
     ],
     "prompt_number": 8
    },
    {
     "cell_type": "code",
     "collapsed": false,
     "input": [
      "omegax = 2.0e6\n",
      "omegaz = 200.e3\n",
      "N = 20\n",
      "chain = Chain(N, 2)\n",
      "dummy_trap = IonTrap( omegax , omegaz)\n",
      "dummy_trap.load(chain)\n",
      "zpositions =   np.array( chain.get_positions() )\n",
      "\n",
      "position_displacement = 20.e-6\n",
      "#outer_ions_squeeze = 0.7\n",
      "inner_ions_squeeze = .7\n",
      "\n",
      "zpositions = [zpositions[0]- position_displacement, \n",
      "              zpositions[1]- position_displacement, \n",
      "              zpositions[2]- position_displacement] +\\\n",
      "              list(inner_ions_squeeze*zpositions[3:-3])                +\\\n",
      "              [zpositions[-3]+ position_displacement, \n",
      "              zpositions[-2]+ position_displacement, \n",
      "              zpositions[-1]+ position_displacement]\n",
      "zpositions = np.array( zpositions )\n",
      "#zpositions = outer_ions_squeeze * zpositions\n",
      "\n",
      "dummy_trap.set_ions_positions( zpositions )  \n",
      "plt.figure('mode structure')\n",
      "plt.plot( np.sort(abs(LA.eig(chain.couplings)[0])/(2*np.pi*1.e6))[::-1], 'ro')\n",
      "plt.show()\n",
      "plt.figure('positions')\n",
      "plt.plot(zpositions, 'bo')\n",
      "plt.show()"
     ],
     "language": "python",
     "metadata": {},
     "outputs": [],
     "prompt_number": 115
    },
    {
     "cell_type": "code",
     "collapsed": false,
     "input": [
      "w23 = np.sort(abs(LA.eig(chain.couplings)[0])/(2*np.pi*1.e6))[::-1][1]-np.sort(abs(LA.eig(chain.couplings)[0])/(2*np.pi*1.e6))[::-1][2]\n",
      "w34 = np.sort(abs(LA.eig(chain.couplings)[0])/(2*np.pi*1.e6))[::-1][2]-np.sort(abs(LA.eig(chain.couplings)[0])/(2*np.pi*1.e6))[::-1][3]"
     ],
     "language": "python",
     "metadata": {},
     "outputs": [],
     "prompt_number": 112
    },
    {
     "cell_type": "code",
     "collapsed": false,
     "input": [
      "w34/w23, w34,w23 "
     ],
     "language": "python",
     "metadata": {},
     "outputs": [
      {
       "metadata": {},
       "output_type": "pyout",
       "prompt_number": 113,
       "text": [
        "(95.690541510474787, 0.053042261351014863, 0.00055431038965547685)"
       ]
      }
     ],
     "prompt_number": 113
    },
    {
     "cell_type": "code",
     "collapsed": false,
     "input": [
      "0.018770485466764741/0.0015040275191453567"
     ],
     "language": "python",
     "metadata": {},
     "outputs": [
      {
       "metadata": {},
       "output_type": "pyout",
       "prompt_number": 39,
       "text": [
        "12.480147622186339"
       ]
      }
     ],
     "prompt_number": 39
    },
    {
     "cell_type": "code",
     "collapsed": false,
     "input": [
      "0.039117261073637888/0.00089903548253311705"
     ],
     "language": "python",
     "metadata": {},
     "outputs": [
      {
       "metadata": {},
       "output_type": "pyout",
       "prompt_number": 43,
       "text": [
        "43.51025274711219"
       ]
      }
     ],
     "prompt_number": 43
    },
    {
     "cell_type": "code",
     "collapsed": false,
     "input": [
      "from numpy import *\n",
      "array(poly1d(array([1,2,3])))[::-1]"
     ],
     "language": "python",
     "metadata": {},
     "outputs": [
      {
       "metadata": {},
       "output_type": "pyout",
       "prompt_number": 30,
       "text": [
        "array([3, 2, 1])"
       ]
      }
     ],
     "prompt_number": 30
    },
    {
     "cell_type": "code",
     "collapsed": false,
     "input": [],
     "language": "python",
     "metadata": {},
     "outputs": []
    }
   ],
   "metadata": {}
  }
 ]
}