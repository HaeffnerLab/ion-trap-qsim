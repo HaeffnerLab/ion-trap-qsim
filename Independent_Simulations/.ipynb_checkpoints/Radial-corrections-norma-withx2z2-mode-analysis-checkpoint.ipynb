{
 "metadata": {
  "name": "",
  "signature": "sha256:56173b488af7715925ecc21c031b893a71de3f211e3db810bc263ceaf6ca5b20"
 },
 "nbformat": 3,
 "nbformat_minor": 0,
 "worksheets": [
  {
   "cells": [
    {
     "cell_type": "code",
     "collapsed": false,
     "input": [
      "import os,sys,inspect\n",
      "currentdir = os.path.dirname(os.path.abspath(inspect.getfile(inspect.currentframe())))\n",
      "parentdir = os.path.dirname(currentdir)\n",
      "sys.path.insert(0,parentdir) \n",
      "\n",
      "from scipy import linalg as LA \n",
      "from scipy import optimize\n",
      "import numpy as np\n",
      "from simulation_parameters import simulation_parameters\n",
      "p = simulation_parameters()\n",
      "from ions import Chain\n",
      "from ion_trap import IonTrap"
     ],
     "language": "python",
     "metadata": {},
     "outputs": [],
     "prompt_number": 8
    },
    {
     "cell_type": "code",
     "collapsed": false,
     "input": [
      "omegax = 2.0e6\n",
      "omegaz = 100.e3\n",
      "N = 10\n",
      "chain = Chain(N, 2)\n",
      "dummy_trap = IonTrap( omegax , omegaz)\n",
      "dummy_trap.load(chain)\n",
      "zpositions =   np.array( chain.get_positions() )"
     ],
     "language": "python",
     "metadata": {},
     "outputs": [],
     "prompt_number": 25
    },
    {
     "cell_type": "code",
     "collapsed": false,
     "input": [
      "average(position_arr) "
     ],
     "language": "python",
     "metadata": {},
     "outputs": [
      {
       "metadata": {},
       "output_type": "pyout",
       "prompt_number": 22,
       "text": [
        "-2.0328790734103207e-21"
       ]
      }
     ],
     "prompt_number": 22
    },
    {
     "cell_type": "code",
     "collapsed": false,
     "input": [
      "#harmonic potential couplings:\n",
      "couplings_harmonic = chain.get_couplings()\n",
      "  \n",
      "#Correction for x^2 * z^2 term:\n",
      "omegax_gradient_at_100microns = 2*np.pi * 0.2e3/(1.e-6)\n",
      "def get_radial_freq_corrections(omegax_gradient_at_100microns):\n",
      "    \n",
      "    delta_omegax = omegax_gradient_at_100microns * zpositions**2/(2*100.e-6)\n",
      "\n",
      "    return delta_omegax \n",
      "\n",
      "couplings_with_x2z2_correction = np.array( [ row for row in couplings_harmonic ])\n",
      "radial_corrections = get_radial_freq_corrections(omegax_gradient_at_100microns)\n",
      "\n",
      "for i in range(N):\n",
      "    couplings_with_x2z2_correction[i][i] += radial_corrections[i]\n",
      "\n",
      "normal_modes_harmonic = sort(abs(LA.eig(chain.get_couplings())[0])/(2*np.pi*1.e6))[::-1]\n",
      "normal_modes_with_x2z2_correction = sort(abs(LA.eig(couplings_with_x2z2_correction)[0])/(2*np.pi*1.e6))[::-1]\n",
      "plt.plot(sort(abs(LA.eig(chain.get_couplings())[0])/(2*np.pi*1.e6))[::-1], 'rs', sort(abs(LA.eig(couplings_with_x2z2_correction)[0])/(2*np.pi*1.e6))[::-1], 'bs')"
     ],
     "language": "python",
     "metadata": {},
     "outputs": [
      {
       "metadata": {},
       "output_type": "pyout",
       "prompt_number": 60,
       "text": [
        "[<matplotlib.lines.Line2D at 0x7fbefaa04f50>,\n",
        " <matplotlib.lines.Line2D at 0x7fbefaa121d0>]"
       ]
      },
      {
       "metadata": {},
       "output_type": "display_data",
       "png": "[encoded data removed]",
       "text": [
        "<matplotlib.figure.Figure at 0x7fbefaba0b90>"
       ]
      }
     ],
     "prompt_number": 60
    },
    {
     "cell_type": "code",
     "collapsed": false,
     "input": [
      "#normal_modes_with_x2z2_correction[0] - normal_modes_with_x2z2_correction[1] \n",
      "normal_modes_harmonic[0] - normal_modes_harmonic[1]"
     ],
     "language": "python",
     "metadata": {},
     "outputs": [
      {
       "metadata": {},
       "output_type": "pyout",
       "prompt_number": 62,
       "text": [
        "2.8559435366837249e-05"
       ]
      }
     ],
     "prompt_number": 62
    },
    {
     "cell_type": "code",
     "collapsed": false,
     "input": [
      "radial_corrections/(2*np.pi * 1.e3)"
     ],
     "language": "python",
     "metadata": {},
     "outputs": [
      {
       "metadata": {},
       "output_type": "pyout",
       "prompt_number": 40,
       "text": [
        "array([ 175.62145185,   93.97593051,   44.82592309,   15.53300766,\n",
        "          1.69582505,    1.69582505,   15.53300766,   44.82592309,\n",
        "         93.97593051,  175.62145185])"
       ]
      }
     ],
     "prompt_number": 40
    },
    {
     "cell_type": "code",
     "collapsed": false,
     "input": [
      "couplings_with_x2z2_correction - couplings_harmonic"
     ],
     "language": "python",
     "metadata": {},
     "outputs": [
      {
       "metadata": {},
       "output_type": "pyout",
       "prompt_number": 45,
       "text": [
        "array([[ 1103462.12587686,        0.        ,        0.        ,\n",
        "               0.        ,        0.        ,        0.        ,\n",
        "               0.        ,        0.        ,        0.        ,        0.        ],\n",
        "       [       0.        ,   590468.18580415,        0.        ,\n",
        "               0.        ,        0.        ,        0.        ,\n",
        "               0.        ,        0.        ,        0.        ,        0.        ],\n",
        "       [       0.        ,        0.        ,   281649.58135076,\n",
        "               0.        ,        0.        ,        0.        ,\n",
        "               0.        ,        0.        ,        0.        ,        0.        ],\n",
        "       [       0.        ,        0.        ,        0.        ,\n",
        "           97596.76549965,        0.        ,        0.        ,\n",
        "               0.        ,        0.        ,        0.        ,        0.        ],\n",
        "       [       0.        ,        0.        ,        0.        ,\n",
        "               0.        ,    10655.18303568,        0.        ,\n",
        "               0.        ,        0.        ,        0.        ,        0.        ],\n",
        "       [       0.        ,        0.        ,        0.        ,\n",
        "               0.        ,        0.        ,    10655.18303568,\n",
        "               0.        ,        0.        ,        0.        ,        0.        ],\n",
        "       [       0.        ,        0.        ,        0.        ,\n",
        "               0.        ,        0.        ,        0.        ,\n",
        "           97596.76549965,        0.        ,        0.        ,        0.        ],\n",
        "       [       0.        ,        0.        ,        0.        ,\n",
        "               0.        ,        0.        ,        0.        ,\n",
        "               0.        ,   281649.58135076,        0.        ,        0.        ],\n",
        "       [       0.        ,        0.        ,        0.        ,\n",
        "               0.        ,        0.        ,        0.        ,\n",
        "               0.        ,        0.        ,   590468.18580415,        0.        ],\n",
        "       [       0.        ,        0.        ,        0.        ,\n",
        "               0.        ,        0.        ,        0.        ,\n",
        "               0.        ,        0.        ,        0.        ,\n",
        "         1103462.12587686]])"
       ]
      }
     ],
     "prompt_number": 45
    },
    {
     "cell_type": "code",
     "collapsed": false,
     "input": [
      "pwd"
     ],
     "language": "python",
     "metadata": {},
     "outputs": [
      {
       "metadata": {},
       "output_type": "pyout",
       "prompt_number": 46,
       "text": [
        "u'/home/trxw/Documents/dfr/codes/quantum_play/ion-trap-qsim/Independent_Simulations'"
       ]
      }
     ],
     "prompt_number": 46
    },
    {
     "cell_type": "code",
     "collapsed": false,
     "input": [],
     "language": "python",
     "metadata": {},
     "outputs": []
    }
   ],
   "metadata": {}
  }
 ]
}