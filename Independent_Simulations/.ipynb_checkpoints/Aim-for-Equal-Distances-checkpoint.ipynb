{
 "metadata": {
  "name": "",
  "signature": "sha256:bb7251a982eebee1975d3474d99fba0edff8fa3e18c6103c883c7fa1b6140a22"
 },
 "nbformat": 3,
 "nbformat_minor": 0,
 "worksheets": [
  {
   "cells": [
    {
     "cell_type": "code",
     "collapsed": false,
     "input": [
      "cd .."
     ],
     "language": "python",
     "metadata": {},
     "outputs": [
      {
       "output_type": "stream",
       "stream": "stdout",
       "text": [
        "/home/trxw/Documents/dfr/codes/quantum_play/ion-trap-qsim\n"
       ]
      }
     ],
     "prompt_number": 2
    },
    {
     "cell_type": "code",
     "collapsed": false,
     "input": [
      "import os,sys,inspect\n",
      "currentdir = os.path.dirname(os.path.abspath(inspect.getfile(inspect.currentframe())))\n",
      "parentdir = os.path.dirname(currentdir)\n",
      "sys.path.insert(0,parentdir) \n",
      "\n",
      "import numdifftools as nd\n",
      "from scipy import optimize\n",
      "from scipy.optimize import fsolve\n",
      "import numpy as np\n",
      "from simulation_parameters import simulation_parameters\n",
      "p = simulation_parameters()\n",
      "from ions import Chain\n",
      "from ion_trap import IonTrap"
     ],
     "language": "python",
     "metadata": {},
     "outputs": [],
     "prompt_number": 1
    },
    {
     "cell_type": "code",
     "collapsed": false,
     "input": [
      "   \n",
      "#def potential_at_positions( position_arr, potential_distribution ) \n",
      "#    for i in range(len(position_arr)):\n",
      "\n",
      "\n",
      "omegax = 2.1e6\n",
      "omegaz = 100.e3\n",
      "potential_rescale_coeff  = 1.000000000e22\n",
      "position_rescale_coeff = 1.#.000000000e5\n",
      "\n",
      "def rescale( func ):\n",
      "    \n",
      "    def wrapper( arr ):\n",
      "        return func( arr / position_rescale_coeff )\n",
      "    \n",
      "    return wrapper\n",
      "    \n",
      "@rescale\n",
      "def test_harmonic_potential(position_arr , omegaz =omegaz ):\n",
      "    return [ 0.5 * p.mass * ( 2 * np.pi * omegaz)**2 * position_arr[j]**2 for j in range( len(position_arr) ) ]\n",
      "\n",
      "compute_potential_arr   = test_harmonic_potential\n",
      "    \n",
      "def potential_decorator(func):\n",
      "\n",
      "    def wrapper( position_arr ):\n",
      "        potential_arr   =  compute_potential_arr(position_arr)\n",
      "        return func(position_arr, potential_arr)\n",
      "\n",
      "    return wrapper\n",
      "\n",
      "\n",
      "@potential_decorator\n",
      "def potential_energy(position_arr, potential_arr):\n",
      "\n",
      "    def diff(arr, i):\n",
      "        arr_result = []\n",
      "        for j, position in enumerate(arr):\n",
      "            if j != i:\n",
      "                arr_result += [position-arr[i]]\n",
      "        return arr_result\n",
      "\n",
      "    ion_ion_distances  =  lambda i: np.absolute( diff(position_arr, i) ) \n",
      "    __potential        =  0 \n",
      "\n",
      "    for i in range(len(position_arr)):\n",
      "        __potential   +=   potential_arr[i] + 0.5 * p.coulomb_coeff * sum( [ dist**-1 for dist in ion_ion_distances(i) ] )\n",
      "\n",
      "    return __potential * potential_rescale_coeff"
     ],
     "language": "python",
     "metadata": {},
     "outputs": [],
     "prompt_number": 2
    },
    {
     "cell_type": "code",
     "collapsed": false,
     "input": [
      "#Test with slightly perturbed harmonic potential: RESULT = 'WORKS FINE'\n",
      "N = 8\n",
      "chain = Chain(N, 2)\n",
      "dummy_trap = IonTrap( omegax , omegaz)\n",
      "dummy_trap.load(chain)\n",
      "position_arr  =   np.array( chain.get_positions() ) #+ .100000e-6\n",
      "#randomize initial point to test sensitivity:\n",
      "\n",
      "positions_store = []\n",
      "potential_store = []\n",
      "for i in range(600):\n",
      "    #initial positions seed:\n",
      "    for i in range(len(position_arr)):\n",
      "        #position_arr[i]  =  np.random.random() * 3.00000e-6 + chain.get_positions()[i]\n",
      "        position_arr[i]  =  np.random.random() * 2.00000e-6 + linspace(-100.e-6, 100.e-6, N )[i]\n",
      "    result_arr = optimize.fmin_cg( potential_energy , position_arr*position_rescale_coeff )\n",
      "    positions_store.append(result_arr)\n",
      "    potential_store.append(potential_energy(result_arr))\n",
      "\n",
      "result_arr   =  np.sort(positions_store[potential_store.index(min(potential_store))])/position_rescale_coeff \n",
      "#result_arr  =  optimize.minimize( potential_energy , position_arr, method='Nelder-Mead')\n",
      "\n",
      "#optimize.fsolve\n",
      "#result = np.sort(result_arr)-np.median(result_arr)\n",
      "#result \n",
      "#potential_energy( position_arr * position_rescale_coeff )"
     ],
     "language": "python",
     "metadata": {},
     "outputs": [
      {
       "output_type": "stream",
       "stream": "stdout",
       "text": [
        "Warning: Desired error not necessarily achieved due to precision loss.\n",
        "         Current function value: 5.582623\n",
        "         Iterations: 0\n",
        "         Function evaluations: 42\n",
        "         Gradient evaluations: 3\n",
        "Warning: Desired error not necessarily achieved due to precision loss.\n",
        "         Current function value: 5.588926\n",
        "         Iterations: 0\n",
        "         Function evaluations: 42\n",
        "         Gradient evaluations: 3\n",
        "Warning: Desired error not necessarily achieved due to precision loss.\n",
        "         Current function value: 5.601435\n",
        "         Iterations: 0\n",
        "         Function evaluations: 42\n",
        "         Gradient evaluations: 3\n",
        "Warning: Desired error not necessarily achieved due to precision loss.\n",
        "         Current function value: 5.585423\n",
        "         Iterations: 0\n",
        "         Function evaluations: 42\n",
        "         Gradient evaluations: 3\n",
        "Warning: Desired error not necessarily achieved due to precision loss."
       ]
      },
      {
       "output_type": "stream",
       "stream": "stdout",
       "text": [
        "\n",
        "         Current function value: 5.602435\n",
        "         Iterations: 0\n",
        "         Function evaluations: 42\n",
        "         Gradient evaluations: 3\n",
        "Warning: Desired error not necessarily achieved due to precision loss.\n",
        "         Current function value: 5.658090\n",
        "         Iterations: 0\n",
        "         Function evaluations: 42\n",
        "         Gradient evaluations: 3\n",
        "Warning: Desired error not necessarily achieved due to precision loss.\n",
        "         Current function value: 5.596765\n",
        "         Iterations: 0\n",
        "         Function evaluations: 42\n",
        "         Gradient evaluations: 3\n",
        "Warning: Desired error not necessarily achieved due to precision loss.\n",
        "         Current function value: 5.604175\n",
        "         Iterations: 0\n",
        "         Function evaluations: 42\n",
        "         Gradient evaluations: 3\n",
        "Warning: Desired error not necessarily achieved due to precision loss."
       ]
      },
      {
       "output_type": "stream",
       "stream": "stdout",
       "text": [
        "\n",
        "         Current function value: 5.580384\n",
        "         Iterations: 0\n",
        "         Function evaluations: 42\n",
        "         Gradient evaluations: 3\n",
        "Warning: Desired error not necessarily achieved due to precision loss.\n",
        "         Current function value: 5.631490\n",
        "         Iterations: 0\n",
        "         Function evaluations: 42\n",
        "         Gradient evaluations: 3\n",
        "Warning: Desired error not necessarily achieved due to precision loss.\n",
        "         Current function value: 5.670755\n",
        "         Iterations: 0\n",
        "         Function evaluations: 42\n",
        "         Gradient evaluations: 3\n",
        "Warning: Desired error not necessarily achieved due to precision loss.\n",
        "         Current function value: 5.563948\n",
        "         Iterations: 0\n",
        "         Function evaluations: 42\n",
        "         Gradient evaluations: 3\n",
        "Warning: Desired error not necessarily achieved due to precision loss."
       ]
      },
      {
       "output_type": "stream",
       "stream": "stdout",
       "text": [
        "\n",
        "         Current function value: 5.593005\n",
        "         Iterations: 0\n",
        "         Function evaluations: 42\n",
        "         Gradient evaluations: 3\n",
        "Warning: Desired error not necessarily achieved due to precision loss.\n",
        "         Current function value: 5.636820\n",
        "         Iterations: 0\n",
        "         Function evaluations: 42\n",
        "         Gradient evaluations: 3\n",
        "Warning: Desired error not necessarily achieved due to precision loss.\n",
        "         Current function value: 5.649025\n",
        "         Iterations: 0\n",
        "         Function evaluations: 42\n",
        "         Gradient evaluations: 3\n",
        "Warning: Desired error not necessarily achieved due to precision loss.\n",
        "         Current function value: 5.643608\n",
        "         Iterations: 0\n",
        "         Function evaluations: 42\n",
        "         Gradient evaluations: 3\n",
        "Warning: Desired error not necessarily achieved due to precision loss."
       ]
      },
      {
       "output_type": "stream",
       "stream": "stdout",
       "text": [
        "\n",
        "         Current function value: 5.623123\n",
        "         Iterations: 0\n",
        "         Function evaluations: 42\n",
        "         Gradient evaluations: 3\n",
        "Warning: Desired error not necessarily achieved due to precision loss.\n",
        "         Current function value: 5.598696\n",
        "         Iterations: 0\n",
        "         Function evaluations: 42\n",
        "         Gradient evaluations: 3\n",
        "Warning: Desired error not necessarily achieved due to precision loss.\n",
        "         Current function value: 5.621584\n",
        "         Iterations: 0\n",
        "         Function evaluations: 42\n",
        "         Gradient evaluations: 3\n",
        "Warning: Desired error not necessarily achieved due to precision loss.\n",
        "         Current function value: 5.591815\n",
        "         Iterations: 0\n",
        "         Function evaluations: 42\n",
        "         Gradient evaluations: 3\n",
        "Warning: Desired error not necessarily achieved due to precision loss."
       ]
      },
      {
       "output_type": "stream",
       "stream": "stdout",
       "text": [
        "\n",
        "         Current function value: 5.650975\n",
        "         Iterations: 0\n",
        "         Function evaluations: 42\n",
        "         Gradient evaluations: 3\n",
        "Warning: Desired error not necessarily achieved due to precision loss.\n",
        "         Current function value: 5.608260\n",
        "         Iterations: 0\n",
        "         Function evaluations: 42\n",
        "         Gradient evaluations: 3\n",
        "Warning: Desired error not necessarily achieved due to precision loss.\n",
        "         Current function value: 5.575366\n",
        "         Iterations: 0\n",
        "         Function evaluations: 42\n",
        "         Gradient evaluations: 3\n",
        "Warning: Desired error not necessarily achieved due to precision loss.\n",
        "         Current function value: 5.607096\n",
        "         Iterations: 0\n",
        "         Function evaluations: 42\n",
        "         Gradient evaluations: 3\n",
        "Warning: Desired error not necessarily achieved due to precision loss."
       ]
      },
      {
       "output_type": "stream",
       "stream": "stdout",
       "text": [
        "\n",
        "         Current function value: 5.650364\n",
        "         Iterations: 0\n",
        "         Function evaluations: 42\n",
        "         Gradient evaluations: 3\n",
        "Warning: Desired error not necessarily achieved due to precision loss.\n",
        "         Current function value: 5.573675\n",
        "         Iterations: 0\n",
        "         Function evaluations: 42\n",
        "         Gradient evaluations: 3\n",
        "Warning: Desired error not necessarily achieved due to precision loss.\n",
        "         Current function value: 5.607275\n",
        "         Iterations: 0\n",
        "         Function evaluations: 42\n",
        "         Gradient evaluations: 3\n",
        "Warning: Desired error not necessarily achieved due to precision loss.\n",
        "         Current function value: 5.618804\n",
        "         Iterations: 0\n",
        "         Function evaluations: 42\n",
        "         Gradient evaluations: 3\n",
        "Warning: Desired error not necessarily achieved due to precision loss."
       ]
      },
      {
       "output_type": "stream",
       "stream": "stdout",
       "text": [
        "\n",
        "         Current function value: 5.595088\n",
        "         Iterations: 0\n",
        "         Function evaluations: 42\n",
        "         Gradient evaluations: 3\n",
        "Warning: Desired error not necessarily achieved due to precision loss.\n",
        "         Current function value: 5.598482\n",
        "         Iterations: 0\n",
        "         Function evaluations: 42\n",
        "         Gradient evaluations: 3\n",
        "Warning: Desired error not necessarily achieved due to precision loss.\n",
        "         Current function value: 5.565099\n",
        "         Iterations: 0\n",
        "         Function evaluations: 42\n",
        "         Gradient evaluations: 3\n",
        "Warning: Desired error not necessarily achieved due to precision loss.\n",
        "         Current function value: 5.600298\n",
        "         Iterations: 0\n",
        "         Function evaluations: 42\n",
        "         Gradient evaluations: 3\n",
        "Warning: Desired error not necessarily achieved due to precision loss."
       ]
      },
      {
       "output_type": "stream",
       "stream": "stdout",
       "text": [
        "\n",
        "         Current function value: 5.606968\n",
        "         Iterations: 0\n",
        "         Function evaluations: 42\n",
        "         Gradient evaluations: 3\n",
        "Warning: Desired error not necessarily achieved due to precision loss.\n",
        "         Current function value: 5.628393\n",
        "         Iterations: 0\n",
        "         Function evaluations: 42\n",
        "         Gradient evaluations: 3\n",
        "Warning: Desired error not necessarily achieved due to precision loss.\n",
        "         Current function value: 5.605079\n",
        "         Iterations: 0\n",
        "         Function evaluations: 42\n",
        "         Gradient evaluations: 3\n",
        "Warning: Desired error not necessarily achieved due to precision loss.\n",
        "         Current function value: 5.667098\n",
        "         Iterations: 0\n",
        "         Function evaluations: 42\n",
        "         Gradient evaluations: 3\n",
        "Warning: Desired error not necessarily achieved due to precision loss."
       ]
      },
      {
       "output_type": "stream",
       "stream": "stdout",
       "text": [
        "\n",
        "         Current function value: 5.594882\n",
        "         Iterations: 0\n",
        "         Function evaluations: 42\n",
        "         Gradient evaluations: 3\n",
        "Warning: Desired error not necessarily achieved due to precision loss.\n",
        "         Current function value: 5.580834\n",
        "         Iterations: 0\n",
        "         Function evaluations: 42\n",
        "         Gradient evaluations: 3\n",
        "Warning: Desired error not necessarily achieved due to precision loss.\n",
        "         Current function value: 5.615311\n",
        "         Iterations: 0\n",
        "         Function evaluations: 42\n",
        "         Gradient evaluations: 3\n",
        "Warning: Desired error not necessarily achieved due to precision loss.\n",
        "         Current function value: 5.616670\n",
        "         Iterations: 0\n",
        "         Function evaluations: 42\n",
        "         Gradient evaluations: 3\n",
        "Warning: Desired error not necessarily achieved due to precision loss."
       ]
      },
      {
       "output_type": "stream",
       "stream": "stdout",
       "text": [
        "\n",
        "         Current function value: 5.614280\n",
        "         Iterations: 0\n",
        "         Function evaluations: 42\n",
        "         Gradient evaluations: 3\n",
        "Warning: Desired error not necessarily achieved due to precision loss.\n",
        "         Current function value: 5.609105\n",
        "         Iterations: 0\n",
        "         Function evaluations: 42\n",
        "         Gradient evaluations: 3\n",
        "Warning: Desired error not necessarily achieved due to precision loss.\n",
        "         Current function value: 5.621235\n",
        "         Iterations: 0\n",
        "         Function evaluations: 42\n",
        "         Gradient evaluations: 3\n",
        "Warning: Desired error not necessarily achieved due to precision loss.\n",
        "         Current function value: 5.586635\n",
        "         Iterations: 0\n",
        "         Function evaluations: 42\n",
        "         Gradient evaluations: 3\n",
        "Warning: Desired error not necessarily achieved due to precision loss."
       ]
      },
      {
       "output_type": "stream",
       "stream": "stdout",
       "text": [
        "\n",
        "         Current function value: 5.608023\n",
        "         Iterations: 0\n",
        "         Function evaluations: 42\n",
        "         Gradient evaluations: 3\n",
        "Warning: Desired error not necessarily achieved due to precision loss.\n",
        "         Current function value: 5.641541\n",
        "         Iterations: 0\n",
        "         Function evaluations: 42\n",
        "         Gradient evaluations: 3\n",
        "Warning: Desired error not necessarily achieved due to precision loss.\n",
        "         Current function value: 5.571669\n",
        "         Iterations: 0\n",
        "         Function evaluations: 42\n",
        "         Gradient evaluations: 3\n",
        "Warning: Desired error not necessarily achieved due to precision loss.\n",
        "         Current function value: 5.628647\n",
        "         Iterations: 0\n",
        "         Function evaluations: 42\n",
        "         Gradient evaluations: 3\n",
        "Warning: Desired error not necessarily achieved due to precision loss."
       ]
      },
      {
       "output_type": "stream",
       "stream": "stdout",
       "text": [
        "\n",
        "         Current function value: 5.608009\n",
        "         Iterations: 0\n",
        "         Function evaluations: 42\n",
        "         Gradient evaluations: 3\n",
        "Warning: Desired error not necessarily achieved due to precision loss.\n",
        "         Current function value: 5.599535\n",
        "         Iterations: 0\n",
        "         Function evaluations: 42\n",
        "         Gradient evaluations: 3\n",
        "Warning: Desired error not necessarily achieved due to precision loss.\n",
        "         Current function value: 5.607462\n",
        "         Iterations: 0\n",
        "         Function evaluations: 42\n",
        "         Gradient evaluations: 3\n",
        "Warning: Desired error not necessarily achieved due to precision loss."
       ]
      },
      {
       "output_type": "stream",
       "stream": "stdout",
       "text": [
        "\n",
        "         Current function value: 5.602618\n",
        "         Iterations: 0\n",
        "         Function evaluations: 42\n",
        "         Gradient evaluations: 3\n",
        "Warning: Desired error not necessarily achieved due to precision loss.\n",
        "         Current function value: 5.639743\n",
        "         Iterations: 0\n",
        "         Function evaluations: 42\n",
        "         Gradient evaluations: 3\n",
        "Warning: Desired error not necessarily achieved due to precision loss.\n",
        "         Current function value: 5.576864\n",
        "         Iterations: 0\n",
        "         Function evaluations: 42\n",
        "         Gradient evaluations: 3\n",
        "Warning: Desired error not necessarily achieved due to precision loss.\n",
        "         Current function value: 5.617316\n",
        "         Iterations: 0\n",
        "         Function evaluations: 42\n",
        "         Gradient evaluations: 3\n",
        "Warning: Desired error not necessarily achieved due to precision loss."
       ]
      },
      {
       "output_type": "stream",
       "stream": "stdout",
       "text": [
        "\n",
        "         Current function value: 5.576885\n",
        "         Iterations: 0\n",
        "         Function evaluations: 42\n",
        "         Gradient evaluations: 3\n",
        "Warning: Desired error not necessarily achieved due to precision loss.\n",
        "         Current function value: 5.597941\n",
        "         Iterations: 0\n",
        "         Function evaluations: 42\n",
        "         Gradient evaluations: 3\n",
        "Warning: Desired error not necessarily achieved due to precision loss.\n",
        "         Current function value: 5.598566\n",
        "         Iterations: 0\n",
        "         Function evaluations: 42\n",
        "         Gradient evaluations: 3\n",
        "Warning: Desired error not necessarily achieved due to precision loss.\n",
        "         Current function value: 5.563261\n",
        "         Iterations: 0\n",
        "         Function evaluations: 42\n",
        "         Gradient evaluations: 3\n",
        "Warning: Desired error not necessarily achieved due to precision loss."
       ]
      },
      {
       "output_type": "stream",
       "stream": "stdout",
       "text": [
        "\n",
        "         Current function value: 5.592972\n",
        "         Iterations: 0\n",
        "         Function evaluations: 42\n",
        "         Gradient evaluations: 3\n",
        "Warning: Desired error not necessarily achieved due to precision loss.\n",
        "         Current function value: 5.618096\n",
        "         Iterations: 0\n",
        "         Function evaluations: 42\n",
        "         Gradient evaluations: 3\n",
        "Warning: Desired error not necessarily achieved due to precision loss.\n",
        "         Current function value: 5.618314\n",
        "         Iterations: 0\n",
        "         Function evaluations: 42\n",
        "         Gradient evaluations: 3\n",
        "Warning: Desired error not necessarily achieved due to precision loss.\n",
        "         Current function value: 5.573173\n",
        "         Iterations: 0\n",
        "         Function evaluations: 42\n",
        "         Gradient evaluations: 3\n",
        "Warning: Desired error not necessarily achieved due to precision loss."
       ]
      },
      {
       "output_type": "stream",
       "stream": "stdout",
       "text": [
        "\n",
        "         Current function value: 5.609327\n",
        "         Iterations: 0\n",
        "         Function evaluations: 42\n",
        "         Gradient evaluations: 3\n",
        "Warning: Desired error not necessarily achieved due to precision loss.\n",
        "         Current function value: 5.599350\n",
        "         Iterations: 0\n",
        "         Function evaluations: 42\n",
        "         Gradient evaluations: 3\n",
        "Warning: Desired error not necessarily achieved due to precision loss.\n",
        "         Current function value: 5.580967\n",
        "         Iterations: 0\n",
        "         Function evaluations: 42\n",
        "         Gradient evaluations: 3\n",
        "Warning: Desired error not necessarily achieved due to precision loss.\n",
        "         Current function value: 5.606514\n",
        "         Iterations: 0\n",
        "         Function evaluations: 42\n",
        "         Gradient evaluations: 3\n",
        "Warning: Desired error not necessarily achieved due to precision loss."
       ]
      },
      {
       "output_type": "stream",
       "stream": "stdout",
       "text": [
        "\n",
        "         Current function value: 5.620685\n",
        "         Iterations: 0\n",
        "         Function evaluations: 42\n",
        "         Gradient evaluations: 3\n",
        "Warning: Desired error not necessarily achieved due to precision loss.\n",
        "         Current function value: 5.678423\n",
        "         Iterations: 0\n",
        "         Function evaluations: 42\n",
        "         Gradient evaluations: 3\n",
        "Warning: Desired error not necessarily achieved due to precision loss.\n",
        "         Current function value: 5.601854\n",
        "         Iterations: 0\n",
        "         Function evaluations: 42\n",
        "         Gradient evaluations: 3\n",
        "Warning: Desired error not necessarily achieved due to precision loss.\n",
        "         Current function value: 5.605027\n",
        "         Iterations: 0\n",
        "         Function evaluations: 42\n",
        "         Gradient evaluations: 3\n",
        "Warning: Desired error not necessarily achieved due to precision loss."
       ]
      },
      {
       "output_type": "stream",
       "stream": "stdout",
       "text": [
        "\n",
        "         Current function value: 5.607253\n",
        "         Iterations: 0\n",
        "         Function evaluations: 42\n",
        "         Gradient evaluations: 3\n",
        "Warning: Desired error not necessarily achieved due to precision loss.\n",
        "         Current function value: 5.633737\n",
        "         Iterations: 0\n",
        "         Function evaluations: 42\n",
        "         Gradient evaluations: 3\n",
        "Warning: Desired error not necessarily achieved due to precision loss.\n",
        "         Current function value: 5.615146\n",
        "         Iterations: 0\n",
        "         Function evaluations: 42\n",
        "         Gradient evaluations: 3\n",
        "Warning: Desired error not necessarily achieved due to precision loss.\n",
        "         Current function value: 5.650280\n",
        "         Iterations: 0\n",
        "         Function evaluations: 42\n",
        "         Gradient evaluations: 3\n",
        "Warning: Desired error not necessarily achieved due to precision loss."
       ]
      },
      {
       "output_type": "stream",
       "stream": "stdout",
       "text": [
        "\n",
        "         Current function value: 5.641663\n",
        "         Iterations: 0\n",
        "         Function evaluations: 42\n",
        "         Gradient evaluations: 3\n",
        "Warning: Desired error not necessarily achieved due to precision loss.\n",
        "         Current function value: 5.620776\n",
        "         Iterations: 0\n",
        "         Function evaluations: 42\n",
        "         Gradient evaluations: 3\n",
        "Warning: Desired error not necessarily achieved due to precision loss.\n",
        "         Current function value: 5.623807\n",
        "         Iterations: 0\n",
        "         Function evaluations: 42\n",
        "         Gradient evaluations: 3\n",
        "Warning: Desired error not necessarily achieved due to precision loss.\n"
       ]
      },
      {
       "output_type": "stream",
       "stream": "stdout",
       "text": [
        "         Current function value: 5.601361\n",
        "         Iterations: 0\n",
        "         Function evaluations: 42\n",
        "         Gradient evaluations: 3\n",
        "Warning: Desired error not necessarily achieved due to precision loss.\n",
        "         Current function value: 5.591789\n",
        "         Iterations: 0\n",
        "         Function evaluations: 42\n",
        "         Gradient evaluations: 3\n",
        "Warning: Desired error not necessarily achieved due to precision loss.\n",
        "         Current function value: 5.601782\n",
        "         Iterations: 0\n",
        "         Function evaluations: 42\n",
        "         Gradient evaluations: 3\n",
        "Warning: Desired error not necessarily achieved due to precision loss.\n",
        "         Current function value: 5.596708\n",
        "         Iterations: 0\n",
        "         Function evaluations: 42\n",
        "         Gradient evaluations: 3\n",
        "Warning: Desired error not necessarily achieved due to precision loss."
       ]
      },
      {
       "output_type": "stream",
       "stream": "stdout",
       "text": [
        "\n",
        "         Current function value: 5.588738\n",
        "         Iterations: 0\n",
        "         Function evaluations: 42\n",
        "         Gradient evaluations: 3\n",
        "Warning: Desired error not necessarily achieved due to precision loss.\n",
        "         Current function value: 5.629544\n",
        "         Iterations: 0\n",
        "         Function evaluations: 42\n",
        "         Gradient evaluations: 3\n",
        "Warning: Desired error not necessarily achieved due to precision loss.\n",
        "         Current function value: 5.614113\n",
        "         Iterations: 0\n",
        "         Function evaluations: 42\n",
        "         Gradient evaluations: 3\n",
        "Warning: Desired error not necessarily achieved due to precision loss.\n",
        "         Current function value: 5.555580\n",
        "         Iterations: 0\n",
        "         Function evaluations: 42\n",
        "         Gradient evaluations: 3\n",
        "Warning: Desired error not necessarily achieved due to precision loss."
       ]
      },
      {
       "output_type": "stream",
       "stream": "stdout",
       "text": [
        "\n",
        "         Current function value: 5.570364\n",
        "         Iterations: 0\n",
        "         Function evaluations: 42\n",
        "         Gradient evaluations: 3\n",
        "Warning: Desired error not necessarily achieved due to precision loss.\n",
        "         Current function value: 5.600171\n",
        "         Iterations: 0\n",
        "         Function evaluations: 42\n",
        "         Gradient evaluations: 3\n",
        "Warning: Desired error not necessarily achieved due to precision loss.\n",
        "         Current function value: 5.629093\n",
        "         Iterations: 0\n",
        "         Function evaluations: 42\n",
        "         Gradient evaluations: 3\n",
        "Warning: Desired error not necessarily achieved due to precision loss.\n",
        "         Current function value: 5.587851\n",
        "         Iterations: 0\n",
        "         Function evaluations: 42\n",
        "         Gradient evaluations: 3\n",
        "Warning: Desired error not necessarily achieved due to precision loss."
       ]
      },
      {
       "output_type": "stream",
       "stream": "stdout",
       "text": [
        "\n",
        "         Current function value: 5.565494\n",
        "         Iterations: 0\n",
        "         Function evaluations: 42\n",
        "         Gradient evaluations: 3\n",
        "Warning: Desired error not necessarily achieved due to precision loss.\n",
        "         Current function value: 5.601582\n",
        "         Iterations: 0\n",
        "         Function evaluations: 42\n",
        "         Gradient evaluations: 3\n",
        "Warning: Desired error not necessarily achieved due to precision loss.\n",
        "         Current function value: 5.630531\n",
        "         Iterations: 0\n",
        "         Function evaluations: 42\n",
        "         Gradient evaluations: 3\n",
        "Warning: Desired error not necessarily achieved due to precision loss.\n",
        "         Current function value: 5.625893\n",
        "         Iterations: 0\n",
        "         Function evaluations: 42\n",
        "         Gradient evaluations: 3\n",
        "Warning: Desired error not necessarily achieved due to precision loss."
       ]
      },
      {
       "output_type": "stream",
       "stream": "stdout",
       "text": [
        "\n",
        "         Current function value: 5.622680\n",
        "         Iterations: 0\n",
        "         Function evaluations: 42\n",
        "         Gradient evaluations: 3\n",
        "Warning: Desired error not necessarily achieved due to precision loss.\n",
        "         Current function value: 5.612880\n",
        "         Iterations: 0\n",
        "         Function evaluations: 42\n",
        "         Gradient evaluations: 3\n",
        "Warning: Desired error not necessarily achieved due to precision loss.\n",
        "         Current function value: 5.596823\n",
        "         Iterations: 0\n",
        "         Function evaluations: 42\n",
        "         Gradient evaluations: 3\n",
        "Warning: Desired error not necessarily achieved due to precision loss.\n",
        "         Current function value: 5.625266\n",
        "         Iterations: 0\n",
        "         Function evaluations: 42\n",
        "         Gradient evaluations: 3\n",
        "Warning: Desired error not necessarily achieved due to precision loss."
       ]
      },
      {
       "output_type": "stream",
       "stream": "stdout",
       "text": [
        "\n",
        "         Current function value: 5.607665\n",
        "         Iterations: 0\n",
        "         Function evaluations: 42\n",
        "         Gradient evaluations: 3\n",
        "Warning: Desired error not necessarily achieved due to precision loss.\n",
        "         Current function value: 5.586186\n",
        "         Iterations: 0\n",
        "         Function evaluations: 42\n",
        "         Gradient evaluations: 3\n",
        "Warning: Desired error not necessarily achieved due to precision loss.\n",
        "         Current function value: 5.577721\n",
        "         Iterations: 0\n",
        "         Function evaluations: 42\n",
        "         Gradient evaluations: 3\n",
        "Warning: Desired error not necessarily achieved due to precision loss.\n",
        "         Current function value: 5.615820\n",
        "         Iterations: 0\n",
        "         Function evaluations: 42\n",
        "         Gradient evaluations: 3\n",
        "Warning: Desired error not necessarily achieved due to precision loss."
       ]
      },
      {
       "output_type": "stream",
       "stream": "stdout",
       "text": [
        "\n",
        "         Current function value: 5.579490\n",
        "         Iterations: 0\n",
        "         Function evaluations: 42\n",
        "         Gradient evaluations: 3\n",
        "Warning: Desired error not necessarily achieved due to precision loss.\n",
        "         Current function value: 5.631354\n",
        "         Iterations: 0\n",
        "         Function evaluations: 42\n",
        "         Gradient evaluations: 3\n",
        "Warning: Desired error not necessarily achieved due to precision loss.\n",
        "         Current function value: 5.597057\n",
        "         Iterations: 0\n",
        "         Function evaluations: 42\n",
        "         Gradient evaluations: 3\n",
        "Warning: Desired error not necessarily achieved due to precision loss.\n",
        "         Current function value: 5.622230\n",
        "         Iterations: 0\n",
        "         Function evaluations: 42\n",
        "         Gradient evaluations: 3\n",
        "Warning: Desired error not necessarily achieved due to precision loss."
       ]
      },
      {
       "output_type": "stream",
       "stream": "stdout",
       "text": [
        "\n",
        "         Current function value: 5.619209\n",
        "         Iterations: 0\n",
        "         Function evaluations: 42\n",
        "         Gradient evaluations: 3\n",
        "Warning: Desired error not necessarily achieved due to precision loss.\n",
        "         Current function value: 5.590114\n",
        "         Iterations: 0\n",
        "         Function evaluations: 42\n",
        "         Gradient evaluations: 3\n",
        "Warning: Desired error not necessarily achieved due to precision loss.\n",
        "         Current function value: 5.639197\n",
        "         Iterations: 0\n",
        "         Function evaluations: 42\n",
        "         Gradient evaluations: 3\n",
        "Warning: Desired error not necessarily achieved due to precision loss.\n",
        "         Current function value: 5.616607\n",
        "         Iterations: 0\n",
        "         Function evaluations: 42\n",
        "         Gradient evaluations: 3\n",
        "Warning: Desired error not necessarily achieved due to precision loss."
       ]
      },
      {
       "output_type": "stream",
       "stream": "stdout",
       "text": [
        "\n",
        "         Current function value: 5.584805\n",
        "         Iterations: 0\n",
        "         Function evaluations: 42\n",
        "         Gradient evaluations: 3\n",
        "Warning: Desired error not necessarily achieved due to precision loss.\n",
        "         Current function value: 5.616610\n",
        "         Iterations: 0\n",
        "         Function evaluations: 42\n",
        "         Gradient evaluations: 3\n",
        "Warning: Desired error not necessarily achieved due to precision loss.\n",
        "         Current function value: 5.601291\n",
        "         Iterations: 0\n",
        "         Function evaluations: 42\n",
        "         Gradient evaluations: 3\n",
        "Warning: Desired error not necessarily achieved due to precision loss.\n",
        "         Current function value: 5.566766\n",
        "         Iterations: 0\n",
        "         Function evaluations: 42\n",
        "         Gradient evaluations: 3\n",
        "Warning: Desired error not necessarily achieved due to precision loss."
       ]
      },
      {
       "output_type": "stream",
       "stream": "stdout",
       "text": [
        "\n",
        "         Current function value: 5.602651\n",
        "         Iterations: 0\n",
        "         Function evaluations: 42\n",
        "         Gradient evaluations: 3\n",
        "Warning: Desired error not necessarily achieved due to precision loss.\n",
        "         Current function value: 5.561499\n",
        "         Iterations: 0\n",
        "         Function evaluations: 42\n",
        "         Gradient evaluations: 3\n",
        "Warning: Desired error not necessarily achieved due to precision loss.\n",
        "         Current function value: 5.619396\n",
        "         Iterations: 0\n",
        "         Function evaluations: 42\n",
        "         Gradient evaluations: 3\n",
        "Warning: Desired error not necessarily achieved due to precision loss.\n",
        "         Current function value: 5.609275\n",
        "         Iterations: 0\n",
        "         Function evaluations: 42\n",
        "         Gradient evaluations: 3\n",
        "Warning: Desired error not necessarily achieved due to precision loss."
       ]
      },
      {
       "output_type": "stream",
       "stream": "stdout",
       "text": [
        "\n",
        "         Current function value: 5.583824\n",
        "         Iterations: 0\n",
        "         Function evaluations: 42\n",
        "         Gradient evaluations: 3\n",
        "Warning: Desired error not necessarily achieved due to precision loss.\n",
        "         Current function value: 5.598526\n",
        "         Iterations: 0\n",
        "         Function evaluations: 42\n",
        "         Gradient evaluations: 3\n",
        "Warning: Desired error not necessarily achieved due to precision loss.\n",
        "         Current function value: 5.624326\n",
        "         Iterations: 0\n",
        "         Function evaluations: 42\n",
        "         Gradient evaluations: 3\n",
        "Warning: Desired error not necessarily achieved due to precision loss.\n",
        "         Current function value: 5.602192\n",
        "         Iterations: 0\n",
        "         Function evaluations: 42\n",
        "         Gradient evaluations: 3\n",
        "Warning: Desired error not necessarily achieved due to precision loss."
       ]
      },
      {
       "output_type": "stream",
       "stream": "stdout",
       "text": [
        "\n",
        "         Current function value: 5.656161\n",
        "         Iterations: 0\n",
        "         Function evaluations: 42\n",
        "         Gradient evaluations: 3\n",
        "Warning: Desired error not necessarily achieved due to precision loss.\n",
        "         Current function value: 5.592128\n",
        "         Iterations: 0\n",
        "         Function evaluations: 42\n",
        "         Gradient evaluations: 3\n",
        "Warning: Desired error not necessarily achieved due to precision loss.\n",
        "         Current function value: 5.649894\n",
        "         Iterations: 0\n",
        "         Function evaluations: 42\n",
        "         Gradient evaluations: 3\n",
        "Warning: Desired error not necessarily achieved due to precision loss."
       ]
      },
      {
       "output_type": "stream",
       "stream": "stdout",
       "text": [
        "\n",
        "         Current function value: 5.608893\n",
        "         Iterations: 0\n",
        "         Function evaluations: 42\n",
        "         Gradient evaluations: 3\n",
        "Warning: Desired error not necessarily achieved due to precision loss.\n",
        "         Current function value: 5.592200\n",
        "         Iterations: 0\n",
        "         Function evaluations: 42\n",
        "         Gradient evaluations: 3\n",
        "Warning: Desired error not necessarily achieved due to precision loss."
       ]
      },
      {
       "output_type": "stream",
       "stream": "stdout",
       "text": [
        "\n",
        "         Current function value: 5.571554\n",
        "         Iterations: 0\n",
        "         Function evaluations: 42\n",
        "         Gradient evaluations: 3\n",
        "Warning: Desired error not necessarily achieved due to precision loss.\n",
        "         Current function value: 5.638288\n",
        "         Iterations: 0\n",
        "         Function evaluations: 42\n",
        "         Gradient evaluations: 3\n",
        "Warning: Desired error not necessarily achieved due to precision loss."
       ]
      },
      {
       "output_type": "stream",
       "stream": "stdout",
       "text": [
        "\n",
        "         Current function value: 5.608877\n",
        "         Iterations: 0\n",
        "         Function evaluations: 42\n",
        "         Gradient evaluations: 3\n",
        "Warning: Desired error not necessarily achieved due to precision loss.\n",
        "         Current function value: 5.623694\n",
        "         Iterations: 0\n",
        "         Function evaluations: 42\n",
        "         Gradient evaluations: 3\n",
        "Warning: Desired error not necessarily achieved due to precision loss."
       ]
      },
      {
       "output_type": "stream",
       "stream": "stdout",
       "text": [
        "\n",
        "         Current function value: 5.607181\n",
        "         Iterations: 0\n",
        "         Function evaluations: 42\n",
        "         Gradient evaluations: 3\n",
        "Warning: Desired error not necessarily achieved due to precision loss.\n",
        "         Current function value: 5.602822\n",
        "         Iterations: 0\n",
        "         Function evaluations: 42\n",
        "         Gradient evaluations: 3\n",
        "Warning: Desired error not necessarily achieved due to precision loss."
       ]
      },
      {
       "output_type": "stream",
       "stream": "stdout",
       "text": [
        "\n",
        "         Current function value: 5.562265\n",
        "         Iterations: 0\n",
        "         Function evaluations: 42\n",
        "         Gradient evaluations: 3\n",
        "Warning: Desired error not necessarily achieved due to precision loss.\n",
        "         Current function value: 5.642264\n",
        "         Iterations: 0\n",
        "         Function evaluations: 42\n",
        "         Gradient evaluations: 3\n",
        "Warning: Desired error not necessarily achieved due to precision loss.\n",
        "         Current function value: 5.563560\n",
        "         Iterations: 0\n",
        "         Function evaluations: 42\n",
        "         Gradient evaluations: 3\n",
        "Warning: Desired error not necessarily achieved due to precision loss."
       ]
      },
      {
       "output_type": "stream",
       "stream": "stdout",
       "text": [
        "\n",
        "         Current function value: 5.619767\n",
        "         Iterations: 0\n",
        "         Function evaluations: 42\n",
        "         Gradient evaluations: 3\n",
        "Warning: Desired error not necessarily achieved due to precision loss.\n",
        "         Current function value: 5.582910\n",
        "         Iterations: 0\n",
        "         Function evaluations: 42\n",
        "         Gradient evaluations: 3\n",
        "Warning: Desired error not necessarily achieved due to precision loss.\n",
        "         Current function value: 5.613605\n",
        "         Iterations: 0\n",
        "         Function evaluations: 42\n",
        "         Gradient evaluations: 3\n",
        "Warning: Desired error not necessarily achieved due to precision loss."
       ]
      },
      {
       "output_type": "stream",
       "stream": "stdout",
       "text": [
        "\n",
        "         Current function value: 5.637883\n",
        "         Iterations: 0\n",
        "         Function evaluations: 42\n",
        "         Gradient evaluations: 3\n",
        "Warning: Desired error not necessarily achieved due to precision loss.\n",
        "         Current function value: 5.614656\n",
        "         Iterations: 0\n",
        "         Function evaluations: 42\n",
        "         Gradient evaluations: 3\n",
        "Warning: Desired error not necessarily achieved due to precision loss."
       ]
      },
      {
       "output_type": "stream",
       "stream": "stdout",
       "text": [
        "\n",
        "         Current function value: 5.613218\n",
        "         Iterations: 0\n",
        "         Function evaluations: 42\n",
        "         Gradient evaluations: 3\n",
        "Warning: Desired error not necessarily achieved due to precision loss.\n",
        "         Current function value: 5.623756\n",
        "         Iterations: 0\n",
        "         Function evaluations: 42\n",
        "         Gradient evaluations: 3\n",
        "Warning: Desired error not necessarily achieved due to precision loss."
       ]
      },
      {
       "output_type": "stream",
       "stream": "stdout",
       "text": [
        "\n",
        "         Current function value: 5.639455\n",
        "         Iterations: 0\n",
        "         Function evaluations: 42\n",
        "         Gradient evaluations: 3\n",
        "Warning: Desired error not necessarily achieved due to precision loss.\n",
        "         Current function value: 5.615795\n",
        "         Iterations: 0\n",
        "         Function evaluations: 42\n",
        "         Gradient evaluations: 3\n",
        "Warning: Desired error not necessarily achieved due to precision loss.\n",
        "         Current function value: 5.637760\n",
        "         Iterations: 0\n",
        "         Function evaluations: 42\n",
        "         Gradient evaluations: 3\n",
        "Warning: Desired error not necessarily achieved due to precision loss."
       ]
      },
      {
       "output_type": "stream",
       "stream": "stdout",
       "text": [
        "\n",
        "         Current function value: 5.574509\n",
        "         Iterations: 0\n",
        "         Function evaluations: 42\n",
        "         Gradient evaluations: 3\n",
        "Warning: Desired error not necessarily achieved due to precision loss.\n",
        "         Current function value: 5.607323\n",
        "         Iterations: 0\n",
        "         Function evaluations: 42\n",
        "         Gradient evaluations: 3\n",
        "Warning: Desired error not necessarily achieved due to precision loss.\n",
        "         Current function value: 5.573126\n",
        "         Iterations: 0\n",
        "         Function evaluations: 42\n",
        "         Gradient evaluations: 3\n",
        "Warning: Desired error not necessarily achieved due to precision loss.\n",
        "         Current function value: 5.589600\n",
        "         Iterations: 0\n",
        "         Function evaluations: 42\n",
        "         Gradient evaluations: 3\n",
        "Warning: Desired error not necessarily achieved due to precision loss."
       ]
      },
      {
       "output_type": "stream",
       "stream": "stdout",
       "text": [
        "\n",
        "         Current function value: 5.592416\n",
        "         Iterations: 0\n",
        "         Function evaluations: 42\n",
        "         Gradient evaluations: 3\n",
        "Warning: Desired error not necessarily achieved due to precision loss.\n",
        "         Current function value: 5.623861\n",
        "         Iterations: 0\n",
        "         Function evaluations: 42\n",
        "         Gradient evaluations: 3\n",
        "Warning: Desired error not necessarily achieved due to precision loss.\n",
        "         Current function value: 5.619357\n",
        "         Iterations: 0\n",
        "         Function evaluations: 42\n",
        "         Gradient evaluations: 3\n",
        "Warning: Desired error not necessarily achieved due to precision loss.\n",
        "         Current function value: 5.635714\n",
        "         Iterations: 0\n",
        "         Function evaluations: 42\n",
        "         Gradient evaluations: 3\n",
        "Warning: Desired error not necessarily achieved due to precision loss."
       ]
      },
      {
       "output_type": "stream",
       "stream": "stdout",
       "text": [
        "\n",
        "         Current function value: 5.624545\n",
        "         Iterations: 0\n",
        "         Function evaluations: 42\n",
        "         Gradient evaluations: 3\n",
        "Warning: Desired error not necessarily achieved due to precision loss.\n",
        "         Current function value: 5.621381\n",
        "         Iterations: 0\n",
        "         Function evaluations: 42\n",
        "         Gradient evaluations: 3\n",
        "Warning: Desired error not necessarily achieved due to precision loss.\n",
        "         Current function value: 5.602299\n",
        "         Iterations: 0\n",
        "         Function evaluations: 42\n",
        "         Gradient evaluations: 3\n",
        "Warning: Desired error not necessarily achieved due to precision loss.\n",
        "         Current function value: 5.577615\n",
        "         Iterations: 0\n",
        "         Function evaluations: 42\n",
        "         Gradient evaluations: 3\n",
        "Warning: Desired error not necessarily achieved due to precision loss."
       ]
      },
      {
       "output_type": "stream",
       "stream": "stdout",
       "text": [
        "\n",
        "         Current function value: 5.662006\n",
        "         Iterations: 0\n",
        "         Function evaluations: 42\n",
        "         Gradient evaluations: 3\n",
        "Warning: Desired error not necessarily achieved due to precision loss.\n",
        "         Current function value: 5.622604\n",
        "         Iterations: 0\n",
        "         Function evaluations: 42\n",
        "         Gradient evaluations: 3\n",
        "Warning: Desired error not necessarily achieved due to precision loss.\n",
        "         Current function value: 5.603143\n",
        "         Iterations: 0\n",
        "         Function evaluations: 42\n",
        "         Gradient evaluations: 3\n",
        "Warning: Desired error not necessarily achieved due to precision loss."
       ]
      },
      {
       "output_type": "stream",
       "stream": "stdout",
       "text": [
        "\n",
        "         Current function value: 5.599987\n",
        "         Iterations: 0\n",
        "         Function evaluations: 42\n",
        "         Gradient evaluations: 3\n",
        "Warning: Desired error not necessarily achieved due to precision loss.\n",
        "         Current function value: 5.629767\n",
        "         Iterations: 0\n",
        "         Function evaluations: 42\n",
        "         Gradient evaluations: 3\n",
        "Warning: Desired error not necessarily achieved due to precision loss."
       ]
      },
      {
       "output_type": "stream",
       "stream": "stdout",
       "text": [
        "\n",
        "         Current function value: 5.611560\n",
        "         Iterations: 0\n",
        "         Function evaluations: 42\n",
        "         Gradient evaluations: 3\n",
        "Warning: Desired error not necessarily achieved due to precision loss.\n",
        "         Current function value: 5.571717\n",
        "         Iterations: 0\n",
        "         Function evaluations: 42\n",
        "         Gradient evaluations: 3\n",
        "Warning: Desired error not necessarily achieved due to precision loss."
       ]
      },
      {
       "output_type": "stream",
       "stream": "stdout",
       "text": [
        "\n",
        "         Current function value: 5.630322\n",
        "         Iterations: 0\n",
        "         Function evaluations: 42\n",
        "         Gradient evaluations: 3\n",
        "Warning: Desired error not necessarily achieved due to precision loss.\n",
        "         Current function value: 5.680864\n",
        "         Iterations: 0\n",
        "         Function evaluations: 42\n",
        "         Gradient evaluations: 3\n",
        "Warning: Desired error not necessarily achieved due to precision loss."
       ]
      },
      {
       "output_type": "stream",
       "stream": "stdout",
       "text": [
        "\n",
        "         Current function value: 5.593035\n",
        "         Iterations: 0\n",
        "         Function evaluations: 42\n",
        "         Gradient evaluations: 3\n",
        "Warning: Desired error not necessarily achieved due to precision loss.\n",
        "         Current function value: 5.598818\n",
        "         Iterations: 0\n",
        "         Function evaluations: 42\n",
        "         Gradient evaluations: 3\n",
        "Warning: Desired error not necessarily achieved due to precision loss."
       ]
      },
      {
       "output_type": "stream",
       "stream": "stdout",
       "text": [
        "\n",
        "         Current function value: 5.626224\n",
        "         Iterations: 0\n",
        "         Function evaluations: 42\n",
        "         Gradient evaluations: 3\n",
        "Warning: Desired error not necessarily achieved due to precision loss.\n",
        "         Current function value: 5.598048\n",
        "         Iterations: 0\n",
        "         Function evaluations: 42\n",
        "         Gradient evaluations: 3\n",
        "Warning: Desired error not necessarily achieved due to precision loss."
       ]
      },
      {
       "output_type": "stream",
       "stream": "stdout",
       "text": [
        "\n",
        "         Current function value: 5.630886\n",
        "         Iterations: 0\n",
        "         Function evaluations: 42\n",
        "         Gradient evaluations: 3\n",
        "Warning: Desired error not necessarily achieved due to precision loss.\n",
        "         Current function value: 5.599612\n",
        "         Iterations: 0\n",
        "         Function evaluations: 42\n",
        "         Gradient evaluations: 3\n",
        "Warning: Desired error not necessarily achieved due to precision loss."
       ]
      },
      {
       "output_type": "stream",
       "stream": "stdout",
       "text": [
        "\n",
        "         Current function value: 5.595257\n",
        "         Iterations: 0\n",
        "         Function evaluations: 42\n",
        "         Gradient evaluations: 3\n",
        "Warning: Desired error not necessarily achieved due to precision loss.\n",
        "         Current function value: 5.656292\n",
        "         Iterations: 0\n",
        "         Function evaluations: 42\n",
        "         Gradient evaluations: 3\n",
        "Warning: Desired error not necessarily achieved due to precision loss."
       ]
      },
      {
       "output_type": "stream",
       "stream": "stdout",
       "text": [
        "\n",
        "         Current function value: 5.617385\n",
        "         Iterations: 0\n",
        "         Function evaluations: 42\n",
        "         Gradient evaluations: 3\n",
        "Warning: Desired error not necessarily achieved due to precision loss.\n",
        "         Current function value: 5.606381\n",
        "         Iterations: 0\n",
        "         Function evaluations: 42\n",
        "         Gradient evaluations: 3\n",
        "Warning: Desired error not necessarily achieved due to precision loss."
       ]
      },
      {
       "output_type": "stream",
       "stream": "stdout",
       "text": [
        "\n",
        "         Current function value: 5.563757\n",
        "         Iterations: 0\n",
        "         Function evaluations: 42\n",
        "         Gradient evaluations: 3\n",
        "Warning: Desired error not necessarily achieved due to precision loss.\n",
        "         Current function value: 5.623845\n",
        "         Iterations: 0\n",
        "         Function evaluations: 42\n",
        "         Gradient evaluations: 3\n",
        "Warning: Desired error not necessarily achieved due to precision loss."
       ]
      },
      {
       "output_type": "stream",
       "stream": "stdout",
       "text": [
        "\n",
        "         Current function value: 5.586875\n",
        "         Iterations: 0\n",
        "         Function evaluations: 42\n",
        "         Gradient evaluations: 3\n",
        "Warning: Desired error not necessarily achieved due to precision loss.\n",
        "         Current function value: 5.648534\n",
        "         Iterations: 0\n",
        "         Function evaluations: 42\n",
        "         Gradient evaluations: 3\n",
        "Warning: Desired error not necessarily achieved due to precision loss."
       ]
      },
      {
       "output_type": "stream",
       "stream": "stdout",
       "text": [
        "\n",
        "         Current function value: 5.614093\n",
        "         Iterations: 0\n",
        "         Function evaluations: 42\n",
        "         Gradient evaluations: 3\n",
        "Warning: Desired error not necessarily achieved due to precision loss.\n",
        "         Current function value: 5.588394\n",
        "         Iterations: 0\n",
        "         Function evaluations: 42\n",
        "         Gradient evaluations: 3\n",
        "Warning: Desired error not necessarily achieved due to precision loss."
       ]
      },
      {
       "output_type": "stream",
       "stream": "stdout",
       "text": [
        "\n",
        "         Current function value: 5.627694\n",
        "         Iterations: 0\n",
        "         Function evaluations: 42\n",
        "         Gradient evaluations: 3\n",
        "Warning: Desired error not necessarily achieved due to precision loss.\n",
        "         Current function value: 5.588115\n",
        "         Iterations: 0\n",
        "         Function evaluations: 42\n",
        "         Gradient evaluations: 3\n",
        "Warning: Desired error not necessarily achieved due to precision loss."
       ]
      },
      {
       "output_type": "stream",
       "stream": "stdout",
       "text": [
        "\n",
        "         Current function value: 5.593679\n",
        "         Iterations: 0\n",
        "         Function evaluations: 42\n",
        "         Gradient evaluations: 3\n",
        "Warning: Desired error not necessarily achieved due to precision loss.\n",
        "         Current function value: 5.591290\n",
        "         Iterations: 0\n",
        "         Function evaluations: 42\n",
        "         Gradient evaluations: 3\n",
        "Warning: Desired error not necessarily achieved due to precision loss."
       ]
      },
      {
       "output_type": "stream",
       "stream": "stdout",
       "text": [
        "\n",
        "         Current function value: 5.634907\n",
        "         Iterations: 0\n",
        "         Function evaluations: 42\n",
        "         Gradient evaluations: 3\n",
        "Warning: Desired error not necessarily achieved due to precision loss.\n",
        "         Current function value: 5.592091\n",
        "         Iterations: 0\n",
        "         Function evaluations: 42\n",
        "         Gradient evaluations: 3\n",
        "Warning: Desired error not necessarily achieved due to precision loss."
       ]
      },
      {
       "output_type": "stream",
       "stream": "stdout",
       "text": [
        "\n",
        "         Current function value: 5.610973\n",
        "         Iterations: 0\n",
        "         Function evaluations: 42\n",
        "         Gradient evaluations: 3\n",
        "Warning: Desired error not necessarily achieved due to precision loss.\n",
        "         Current function value: 5.586876\n",
        "         Iterations: 0\n",
        "         Function evaluations: 42\n",
        "         Gradient evaluations: 3\n",
        "Warning: Desired error not necessarily achieved due to precision loss."
       ]
      },
      {
       "output_type": "stream",
       "stream": "stdout",
       "text": [
        "\n",
        "         Current function value: 5.608989\n",
        "         Iterations: 0\n",
        "         Function evaluations: 42\n",
        "         Gradient evaluations: 3\n",
        "Warning: Desired error not necessarily achieved due to precision loss.\n",
        "         Current function value: 5.657070\n",
        "         Iterations: 0\n",
        "         Function evaluations: 42\n",
        "         Gradient evaluations: 3\n",
        "Warning: Desired error not necessarily achieved due to precision loss."
       ]
      },
      {
       "output_type": "stream",
       "stream": "stdout",
       "text": [
        "\n",
        "         Current function value: 5.605833\n",
        "         Iterations: 0\n",
        "         Function evaluations: 42\n",
        "         Gradient evaluations: 3\n",
        "Warning: Desired error not necessarily achieved due to precision loss.\n",
        "         Current function value: 5.632011\n",
        "         Iterations: 0\n",
        "         Function evaluations: 42\n",
        "         Gradient evaluations: 3\n",
        "Warning: Desired error not necessarily achieved due to precision loss."
       ]
      },
      {
       "output_type": "stream",
       "stream": "stdout",
       "text": [
        "\n",
        "         Current function value: 5.585547\n",
        "         Iterations: 0\n",
        "         Function evaluations: 42\n",
        "         Gradient evaluations: 3\n",
        "Warning: Desired error not necessarily achieved due to precision loss.\n",
        "         Current function value: 5.603590\n",
        "         Iterations: 0\n",
        "         Function evaluations: 42\n",
        "         Gradient evaluations: 3\n",
        "Warning: Desired error not necessarily achieved due to precision loss."
       ]
      },
      {
       "output_type": "stream",
       "stream": "stdout",
       "text": [
        "\n",
        "         Current function value: 5.609675\n",
        "         Iterations: 0\n",
        "         Function evaluations: 42\n",
        "         Gradient evaluations: 3\n",
        "Warning: Desired error not necessarily achieved due to precision loss.\n",
        "         Current function value: 5.640807\n",
        "         Iterations: 0\n",
        "         Function evaluations: 42\n",
        "         Gradient evaluations: 3\n",
        "Warning: Desired error not necessarily achieved due to precision loss."
       ]
      },
      {
       "output_type": "stream",
       "stream": "stdout",
       "text": [
        "\n",
        "         Current function value: 5.635143\n",
        "         Iterations: 0\n",
        "         Function evaluations: 42\n",
        "         Gradient evaluations: 3\n",
        "Warning: Desired error not necessarily achieved due to precision loss.\n",
        "         Current function value: 5.627323\n",
        "         Iterations: 0\n",
        "         Function evaluations: 42\n",
        "         Gradient evaluations: 3\n",
        "Warning: Desired error not necessarily achieved due to precision loss."
       ]
      },
      {
       "output_type": "stream",
       "stream": "stdout",
       "text": [
        "\n",
        "         Current function value: 5.628193\n",
        "         Iterations: 0\n",
        "         Function evaluations: 42\n",
        "         Gradient evaluations: 3\n",
        "Warning: Desired error not necessarily achieved due to precision loss.\n",
        "         Current function value: 5.639516\n",
        "         Iterations: 0\n",
        "         Function evaluations: 42\n",
        "         Gradient evaluations: 3\n",
        "Warning: Desired error not necessarily achieved due to precision loss."
       ]
      },
      {
       "output_type": "stream",
       "stream": "stdout",
       "text": [
        "\n",
        "         Current function value: 5.610777\n",
        "         Iterations: 0\n",
        "         Function evaluations: 42\n",
        "         Gradient evaluations: 3\n",
        "Warning: Desired error not necessarily achieved due to precision loss.\n",
        "         Current function value: 5.561347\n",
        "         Iterations: 0\n",
        "         Function evaluations: 42\n",
        "         Gradient evaluations: 3\n",
        "Warning: Desired error not necessarily achieved due to precision loss."
       ]
      },
      {
       "output_type": "stream",
       "stream": "stdout",
       "text": [
        "\n",
        "         Current function value: 5.643380\n",
        "         Iterations: 0\n",
        "         Function evaluations: 42\n",
        "         Gradient evaluations: 3\n",
        "Warning: Desired error not necessarily achieved due to precision loss.\n",
        "         Current function value: 5.561411\n",
        "         Iterations: 0\n",
        "         Function evaluations: 42\n",
        "         Gradient evaluations: 3\n",
        "Warning: Desired error not necessarily achieved due to precision loss."
       ]
      },
      {
       "output_type": "stream",
       "stream": "stdout",
       "text": [
        "\n",
        "         Current function value: 5.576224\n",
        "         Iterations: 0\n",
        "         Function evaluations: 42\n",
        "         Gradient evaluations: 3\n",
        "Warning: Desired error not necessarily achieved due to precision loss.\n",
        "         Current function value: 5.612657\n",
        "         Iterations: 0\n",
        "         Function evaluations: 42\n",
        "         Gradient evaluations: 3\n",
        "Warning: Desired error not necessarily achieved due to precision loss."
       ]
      },
      {
       "output_type": "stream",
       "stream": "stdout",
       "text": [
        "\n",
        "         Current function value: 5.606456\n",
        "         Iterations: 0\n",
        "         Function evaluations: 42\n",
        "         Gradient evaluations: 3\n",
        "Warning: Desired error not necessarily achieved due to precision loss.\n",
        "         Current function value: 5.612514\n",
        "         Iterations: 0\n",
        "         Function evaluations: 42\n",
        "         Gradient evaluations: 3\n",
        "Warning: Desired error not necessarily achieved due to precision loss."
       ]
      },
      {
       "output_type": "stream",
       "stream": "stdout",
       "text": [
        "\n",
        "         Current function value: 5.605653\n",
        "         Iterations: 0\n",
        "         Function evaluations: 42\n",
        "         Gradient evaluations: 3\n",
        "Warning: Desired error not necessarily achieved due to precision loss.\n",
        "         Current function value: 5.590874\n",
        "         Iterations: 0\n",
        "         Function evaluations: 42\n",
        "         Gradient evaluations: 3\n",
        "Warning: Desired error not necessarily achieved due to precision loss."
       ]
      },
      {
       "output_type": "stream",
       "stream": "stdout",
       "text": [
        "\n",
        "         Current function value: 5.637238\n",
        "         Iterations: 0\n",
        "         Function evaluations: 42\n",
        "         Gradient evaluations: 3\n",
        "Warning: Desired error not necessarily achieved due to precision loss.\n",
        "         Current function value: 5.625075\n",
        "         Iterations: 0\n",
        "         Function evaluations: 42\n",
        "         Gradient evaluations: 3\n",
        "Warning: Desired error not necessarily achieved due to precision loss."
       ]
      },
      {
       "output_type": "stream",
       "stream": "stdout",
       "text": [
        "\n",
        "         Current function value: 5.588015\n",
        "         Iterations: 0\n",
        "         Function evaluations: 42\n",
        "         Gradient evaluations: 3\n",
        "Warning: Desired error not necessarily achieved due to precision loss.\n",
        "         Current function value: 5.578252\n",
        "         Iterations: 0\n",
        "         Function evaluations: 42\n",
        "         Gradient evaluations: 3\n",
        "Warning: Desired error not necessarily achieved due to precision loss."
       ]
      },
      {
       "output_type": "stream",
       "stream": "stdout",
       "text": [
        "\n",
        "         Current function value: 5.592029\n",
        "         Iterations: 0\n",
        "         Function evaluations: 42\n",
        "         Gradient evaluations: 3\n",
        "Warning: Desired error not necessarily achieved due to precision loss.\n",
        "         Current function value: 5.613571\n",
        "         Iterations: 0\n",
        "         Function evaluations: 42\n",
        "         Gradient evaluations: 3\n",
        "Warning: Desired error not necessarily achieved due to precision loss."
       ]
      },
      {
       "output_type": "stream",
       "stream": "stdout",
       "text": [
        "\n",
        "         Current function value: 5.591835\n",
        "         Iterations: 0\n",
        "         Function evaluations: 42\n",
        "         Gradient evaluations: 3\n",
        "Warning: Desired error not necessarily achieved due to precision loss.\n",
        "         Current function value: 5.551065\n",
        "         Iterations: 0\n",
        "         Function evaluations: 42\n",
        "         Gradient evaluations: 3\n",
        "Warning: Desired error not necessarily achieved due to precision loss."
       ]
      },
      {
       "output_type": "stream",
       "stream": "stdout",
       "text": [
        "\n",
        "         Current function value: 5.581372\n",
        "         Iterations: 0\n",
        "         Function evaluations: 42\n",
        "         Gradient evaluations: 3\n",
        "Warning: Desired error not necessarily achieved due to precision loss.\n",
        "         Current function value: 5.606103\n",
        "         Iterations: 0\n",
        "         Function evaluations: 42\n",
        "         Gradient evaluations: 3\n",
        "Warning: Desired error not necessarily achieved due to precision loss."
       ]
      },
      {
       "output_type": "stream",
       "stream": "stdout",
       "text": [
        "\n",
        "         Current function value: 5.631647\n",
        "         Iterations: 0\n",
        "         Function evaluations: 42\n",
        "         Gradient evaluations: 3\n",
        "Warning: Desired error not necessarily achieved due to precision loss.\n",
        "         Current function value: 5.595595\n",
        "         Iterations: 0\n",
        "         Function evaluations: 42\n",
        "         Gradient evaluations: 3\n",
        "Warning: Desired error not necessarily achieved due to precision loss."
       ]
      },
      {
       "output_type": "stream",
       "stream": "stdout",
       "text": [
        "\n",
        "         Current function value: 5.601685\n",
        "         Iterations: 0\n",
        "         Function evaluations: 42\n",
        "         Gradient evaluations: 3\n",
        "Warning: Desired error not necessarily achieved due to precision loss.\n",
        "         Current function value: 5.614405\n",
        "         Iterations: 0\n",
        "         Function evaluations: 42\n",
        "         Gradient evaluations: 3\n",
        "Warning: Desired error not necessarily achieved due to precision loss."
       ]
      },
      {
       "output_type": "stream",
       "stream": "stdout",
       "text": [
        "\n",
        "         Current function value: 5.565152\n",
        "         Iterations: 0\n",
        "         Function evaluations: 42\n",
        "         Gradient evaluations: 3\n",
        "Warning: Desired error not necessarily achieved due to precision loss.\n",
        "         Current function value: 5.595254\n",
        "         Iterations: 0\n",
        "         Function evaluations: 42\n",
        "         Gradient evaluations: 3\n",
        "Warning: Desired error not necessarily achieved due to precision loss."
       ]
      },
      {
       "output_type": "stream",
       "stream": "stdout",
       "text": [
        "\n",
        "         Current function value: 5.605099\n",
        "         Iterations: 0\n",
        "         Function evaluations: 42\n",
        "         Gradient evaluations: 3\n",
        "Warning: Desired error not necessarily achieved due to precision loss.\n",
        "         Current function value: 5.599087\n",
        "         Iterations: 0\n",
        "         Function evaluations: 42\n",
        "         Gradient evaluations: 3\n",
        "Warning: Desired error not necessarily achieved due to precision loss."
       ]
      },
      {
       "output_type": "stream",
       "stream": "stdout",
       "text": [
        "\n",
        "         Current function value: 5.601480\n",
        "         Iterations: 0\n",
        "         Function evaluations: 42\n",
        "         Gradient evaluations: 3\n",
        "Warning: Desired error not necessarily achieved due to precision loss.\n",
        "         Current function value: 5.676108\n",
        "         Iterations: 0\n",
        "         Function evaluations: 42\n",
        "         Gradient evaluations: 3\n",
        "Warning: Desired error not necessarily achieved due to precision loss."
       ]
      },
      {
       "output_type": "stream",
       "stream": "stdout",
       "text": [
        "\n",
        "         Current function value: 5.608252\n",
        "         Iterations: 0\n",
        "         Function evaluations: 42\n",
        "         Gradient evaluations: 3\n",
        "Warning: Desired error not necessarily achieved due to precision loss.\n",
        "         Current function value: 5.609471\n",
        "         Iterations: 0\n",
        "         Function evaluations: 42\n",
        "         Gradient evaluations: 3\n",
        "Warning: Desired error not necessarily achieved due to precision loss."
       ]
      },
      {
       "output_type": "stream",
       "stream": "stdout",
       "text": [
        "\n",
        "         Current function value: 5.636580\n",
        "         Iterations: 0\n",
        "         Function evaluations: 42\n",
        "         Gradient evaluations: 3\n",
        "Warning: Desired error not necessarily achieved due to precision loss.\n",
        "         Current function value: 5.569020\n",
        "         Iterations: 0\n",
        "         Function evaluations: 42\n",
        "         Gradient evaluations: 3\n",
        "Warning: Desired error not necessarily achieved due to precision loss."
       ]
      },
      {
       "output_type": "stream",
       "stream": "stdout",
       "text": [
        "\n",
        "         Current function value: 5.643548\n",
        "         Iterations: 0\n",
        "         Function evaluations: 42\n",
        "         Gradient evaluations: 3\n",
        "Warning: Desired error not necessarily achieved due to precision loss.\n",
        "         Current function value: 5.631349\n",
        "         Iterations: 0\n",
        "         Function evaluations: 42\n",
        "         Gradient evaluations: 3\n",
        "Warning: Desired error not necessarily achieved due to precision loss."
       ]
      },
      {
       "output_type": "stream",
       "stream": "stdout",
       "text": [
        "\n",
        "         Current function value: 5.647396\n",
        "         Iterations: 0\n",
        "         Function evaluations: 42\n",
        "         Gradient evaluations: 3\n",
        "Warning: Desired error not necessarily achieved due to precision loss.\n",
        "         Current function value: 5.638224\n",
        "         Iterations: 0\n",
        "         Function evaluations: 42\n",
        "         Gradient evaluations: 3\n",
        "Warning: Desired error not necessarily achieved due to precision loss."
       ]
      },
      {
       "output_type": "stream",
       "stream": "stdout",
       "text": [
        "\n",
        "         Current function value: 5.590439\n",
        "         Iterations: 0\n",
        "         Function evaluations: 42\n",
        "         Gradient evaluations: 3\n",
        "Warning: Desired error not necessarily achieved due to precision loss.\n",
        "         Current function value: 5.592815\n",
        "         Iterations: 0\n",
        "         Function evaluations: 42\n",
        "         Gradient evaluations: 3\n",
        "Warning: Desired error not necessarily achieved due to precision loss."
       ]
      },
      {
       "output_type": "stream",
       "stream": "stdout",
       "text": [
        "\n",
        "         Current function value: 5.607813\n",
        "         Iterations: 0\n",
        "         Function evaluations: 42\n",
        "         Gradient evaluations: 3\n",
        "Warning: Desired error not necessarily achieved due to precision loss.\n",
        "         Current function value: 5.589614\n",
        "         Iterations: 0\n",
        "         Function evaluations: 42\n",
        "         Gradient evaluations: 3\n",
        "Warning: Desired error not necessarily achieved due to precision loss."
       ]
      },
      {
       "output_type": "stream",
       "stream": "stdout",
       "text": [
        "\n",
        "         Current function value: 5.617529\n",
        "         Iterations: 0\n",
        "         Function evaluations: 42\n",
        "         Gradient evaluations: 3\n",
        "Warning: Desired error not necessarily achieved due to precision loss.\n",
        "         Current function value: 5.552581\n",
        "         Iterations: 0\n",
        "         Function evaluations: 42\n",
        "         Gradient evaluations: 3\n",
        "Warning: Desired error not necessarily achieved due to precision loss."
       ]
      },
      {
       "output_type": "stream",
       "stream": "stdout",
       "text": [
        "\n",
        "         Current function value: 5.627671\n",
        "         Iterations: 0\n",
        "         Function evaluations: 42\n",
        "         Gradient evaluations: 3\n",
        "Warning: Desired error not necessarily achieved due to precision loss.\n",
        "         Current function value: 5.619969\n",
        "         Iterations: 0\n",
        "         Function evaluations: 42\n",
        "         Gradient evaluations: 3\n",
        "Warning: Desired error not necessarily achieved due to precision loss."
       ]
      },
      {
       "output_type": "stream",
       "stream": "stdout",
       "text": [
        "\n",
        "         Current function value: 5.611299\n",
        "         Iterations: 0\n",
        "         Function evaluations: 42\n",
        "         Gradient evaluations: 3\n",
        "Warning: Desired error not necessarily achieved due to precision loss.\n",
        "         Current function value: 5.566373\n",
        "         Iterations: 0\n",
        "         Function evaluations: 42\n",
        "         Gradient evaluations: 3\n",
        "Warning: Desired error not necessarily achieved due to precision loss."
       ]
      },
      {
       "output_type": "stream",
       "stream": "stdout",
       "text": [
        "\n",
        "         Current function value: 5.613852\n",
        "         Iterations: 0\n",
        "         Function evaluations: 42\n",
        "         Gradient evaluations: 3\n",
        "Warning: Desired error not necessarily achieved due to precision loss.\n",
        "         Current function value: 5.617800\n",
        "         Iterations: 0\n",
        "         Function evaluations: 42\n",
        "         Gradient evaluations: 3\n",
        "Warning: Desired error not necessarily achieved due to precision loss."
       ]
      },
      {
       "output_type": "stream",
       "stream": "stdout",
       "text": [
        "\n",
        "         Current function value: 5.580945\n",
        "         Iterations: 0\n",
        "         Function evaluations: 42\n",
        "         Gradient evaluations: 3\n",
        "Warning: Desired error not necessarily achieved due to precision loss.\n",
        "         Current function value: 5.613911\n",
        "         Iterations: 0\n",
        "         Function evaluations: 42\n",
        "         Gradient evaluations: 3\n",
        "Warning: Desired error not necessarily achieved due to precision loss."
       ]
      },
      {
       "output_type": "stream",
       "stream": "stdout",
       "text": [
        "\n",
        "         Current function value: 5.620239\n",
        "         Iterations: 0\n",
        "         Function evaluations: 42\n",
        "         Gradient evaluations: 3\n",
        "Warning: Desired error not necessarily achieved due to precision loss.\n",
        "         Current function value: 5.645738\n",
        "         Iterations: 0\n",
        "         Function evaluations: 42\n",
        "         Gradient evaluations: 3\n",
        "Warning: Desired error not necessarily achieved due to precision loss."
       ]
      },
      {
       "output_type": "stream",
       "stream": "stdout",
       "text": [
        "\n",
        "         Current function value: 5.583711\n",
        "         Iterations: 0\n",
        "         Function evaluations: 42\n",
        "         Gradient evaluations: 3\n",
        "Warning: Desired error not necessarily achieved due to precision loss.\n",
        "         Current function value: 5.615530\n",
        "         Iterations: 0\n",
        "         Function evaluations: 42\n",
        "         Gradient evaluations: 3\n",
        "Warning: Desired error not necessarily achieved due to precision loss."
       ]
      },
      {
       "output_type": "stream",
       "stream": "stdout",
       "text": [
        "\n",
        "         Current function value: 5.586133\n",
        "         Iterations: 0\n",
        "         Function evaluations: 42\n",
        "         Gradient evaluations: 3\n",
        "Warning: Desired error not necessarily achieved due to precision loss.\n",
        "         Current function value: 5.632485\n",
        "         Iterations: 0\n",
        "         Function evaluations: 42\n",
        "         Gradient evaluations: 3\n",
        "Warning: Desired error not necessarily achieved due to precision loss."
       ]
      },
      {
       "output_type": "stream",
       "stream": "stdout",
       "text": [
        "\n",
        "         Current function value: 5.589476\n",
        "         Iterations: 0\n",
        "         Function evaluations: 42\n",
        "         Gradient evaluations: 3\n",
        "Warning: Desired error not necessarily achieved due to precision loss.\n",
        "         Current function value: 5.597468\n",
        "         Iterations: 0\n",
        "         Function evaluations: 42\n",
        "         Gradient evaluations: 3\n",
        "Warning: Desired error not necessarily achieved due to precision loss."
       ]
      },
      {
       "output_type": "stream",
       "stream": "stdout",
       "text": [
        "\n",
        "         Current function value: 5.636025\n",
        "         Iterations: 0\n",
        "         Function evaluations: 42\n",
        "         Gradient evaluations: 3\n",
        "Warning: Desired error not necessarily achieved due to precision loss.\n",
        "         Current function value: 5.642723\n",
        "         Iterations: 0\n",
        "         Function evaluations: 42\n",
        "         Gradient evaluations: 3\n",
        "Warning: Desired error not necessarily achieved due to precision loss."
       ]
      },
      {
       "output_type": "stream",
       "stream": "stdout",
       "text": [
        "\n",
        "         Current function value: 5.598384\n",
        "         Iterations: 0\n",
        "         Function evaluations: 42\n",
        "         Gradient evaluations: 3\n",
        "Warning: Desired error not necessarily achieved due to precision loss.\n",
        "         Current function value: 5.557595\n",
        "         Iterations: 0\n",
        "         Function evaluations: 42\n",
        "         Gradient evaluations: 3\n",
        "Warning: Desired error not necessarily achieved due to precision loss."
       ]
      },
      {
       "output_type": "stream",
       "stream": "stdout",
       "text": [
        "\n",
        "         Current function value: 5.619409\n",
        "         Iterations: 0\n",
        "         Function evaluations: 42\n",
        "         Gradient evaluations: 3\n",
        "Warning: Desired error not necessarily achieved due to precision loss.\n",
        "         Current function value: 5.564279\n",
        "         Iterations: 0\n",
        "         Function evaluations: 42\n",
        "         Gradient evaluations: 3\n",
        "Warning: Desired error not necessarily achieved due to precision loss."
       ]
      },
      {
       "output_type": "stream",
       "stream": "stdout",
       "text": [
        "\n",
        "         Current function value: 5.627230\n",
        "         Iterations: 0\n",
        "         Function evaluations: 42\n",
        "         Gradient evaluations: 3\n",
        "Warning: Desired error not necessarily achieved due to precision loss.\n",
        "         Current function value: 5.595073\n",
        "         Iterations: 0\n",
        "         Function evaluations: 42\n",
        "         Gradient evaluations: 3\n",
        "Warning: Desired error not necessarily achieved due to precision loss."
       ]
      },
      {
       "output_type": "stream",
       "stream": "stdout",
       "text": [
        "\n",
        "         Current function value: 5.596146\n",
        "         Iterations: 0\n",
        "         Function evaluations: 42\n",
        "         Gradient evaluations: 3\n",
        "Warning: Desired error not necessarily achieved due to precision loss.\n",
        "         Current function value: 5.600243\n",
        "         Iterations: 0\n",
        "         Function evaluations: 42\n",
        "         Gradient evaluations: 3\n",
        "Warning: Desired error not necessarily achieved due to precision loss."
       ]
      },
      {
       "output_type": "stream",
       "stream": "stdout",
       "text": [
        "\n",
        "         Current function value: 5.606384\n",
        "         Iterations: 0\n",
        "         Function evaluations: 42\n",
        "         Gradient evaluations: 3\n",
        "Warning: Desired error not necessarily achieved due to precision loss.\n",
        "         Current function value: 5.603263\n",
        "         Iterations: 0\n",
        "         Function evaluations: 42\n",
        "         Gradient evaluations: 3\n",
        "Warning: Desired error not necessarily achieved due to precision loss."
       ]
      },
      {
       "output_type": "stream",
       "stream": "stdout",
       "text": [
        "\n",
        "         Current function value: 5.608932\n",
        "         Iterations: 0\n",
        "         Function evaluations: 42\n",
        "         Gradient evaluations: 3\n",
        "Warning: Desired error not necessarily achieved due to precision loss.\n",
        "         Current function value: 5.575631\n",
        "         Iterations: 0\n",
        "         Function evaluations: 42\n",
        "         Gradient evaluations: 3\n",
        "Warning: Desired error not necessarily achieved due to precision loss."
       ]
      },
      {
       "output_type": "stream",
       "stream": "stdout",
       "text": [
        "\n",
        "         Current function value: 5.580700\n",
        "         Iterations: 0\n",
        "         Function evaluations: 42\n",
        "         Gradient evaluations: 3\n",
        "Warning: Desired error not necessarily achieved due to precision loss.\n",
        "         Current function value: 5.603328\n",
        "         Iterations: 0\n",
        "         Function evaluations: 42\n",
        "         Gradient evaluations: 3\n",
        "Warning: Desired error not necessarily achieved due to precision loss."
       ]
      },
      {
       "output_type": "stream",
       "stream": "stdout",
       "text": [
        "\n",
        "         Current function value: 5.609838\n",
        "         Iterations: 0\n",
        "         Function evaluations: 42\n",
        "         Gradient evaluations: 3\n",
        "Warning: Desired error not necessarily achieved due to precision loss.\n",
        "         Current function value: 5.620995\n",
        "         Iterations: 0\n",
        "         Function evaluations: 42\n",
        "         Gradient evaluations: 3\n",
        "Warning: Desired error not necessarily achieved due to precision loss."
       ]
      },
      {
       "output_type": "stream",
       "stream": "stdout",
       "text": [
        "\n",
        "         Current function value: 5.625593\n",
        "         Iterations: 0\n",
        "         Function evaluations: 42\n",
        "         Gradient evaluations: 3\n",
        "Warning: Desired error not necessarily achieved due to precision loss.\n",
        "         Current function value: 5.632704\n",
        "         Iterations: 0\n",
        "         Function evaluations: 42\n",
        "         Gradient evaluations: 3\n",
        "Warning: Desired error not necessarily achieved due to precision loss."
       ]
      },
      {
       "output_type": "stream",
       "stream": "stdout",
       "text": [
        "\n",
        "         Current function value: 5.605601\n",
        "         Iterations: 0\n",
        "         Function evaluations: 42\n",
        "         Gradient evaluations: 3\n",
        "Warning: Desired error not necessarily achieved due to precision loss.\n",
        "         Current function value: 5.604167\n",
        "         Iterations: 0\n",
        "         Function evaluations: 42\n",
        "         Gradient evaluations: 3\n",
        "Warning: Desired error not necessarily achieved due to precision loss."
       ]
      },
      {
       "output_type": "stream",
       "stream": "stdout",
       "text": [
        "\n",
        "         Current function value: 5.617901\n",
        "         Iterations: 0\n",
        "         Function evaluations: 42\n",
        "         Gradient evaluations: 3\n",
        "Warning: Desired error not necessarily achieved due to precision loss.\n",
        "         Current function value: 5.623801\n",
        "         Iterations: 0\n",
        "         Function evaluations: 42\n",
        "         Gradient evaluations: 3\n",
        "Warning: Desired error not necessarily achieved due to precision loss."
       ]
      },
      {
       "output_type": "stream",
       "stream": "stdout",
       "text": [
        "\n",
        "         Current function value: 5.608651\n",
        "         Iterations: 0\n",
        "         Function evaluations: 42\n",
        "         Gradient evaluations: 3\n",
        "Warning: Desired error not necessarily achieved due to precision loss.\n",
        "         Current function value: 5.629077\n",
        "         Iterations: 0\n",
        "         Function evaluations: 42\n",
        "         Gradient evaluations: 3\n",
        "Warning: Desired error not necessarily achieved due to precision loss."
       ]
      },
      {
       "output_type": "stream",
       "stream": "stdout",
       "text": [
        "\n",
        "         Current function value: 5.576119\n",
        "         Iterations: 0\n",
        "         Function evaluations: 42\n",
        "         Gradient evaluations: 3\n",
        "Warning: Desired error not necessarily achieved due to precision loss.\n",
        "         Current function value: 5.592199\n",
        "         Iterations: 0\n",
        "         Function evaluations: 42\n",
        "         Gradient evaluations: 3\n",
        "Warning: Desired error not necessarily achieved due to precision loss."
       ]
      },
      {
       "output_type": "stream",
       "stream": "stdout",
       "text": [
        "\n",
        "         Current function value: 5.578773\n",
        "         Iterations: 0\n",
        "         Function evaluations: 42\n",
        "         Gradient evaluations: 3\n",
        "Warning: Desired error not necessarily achieved due to precision loss.\n",
        "         Current function value: 5.606116\n",
        "         Iterations: 0\n",
        "         Function evaluations: 42\n",
        "         Gradient evaluations: 3\n",
        "Warning: Desired error not necessarily achieved due to precision loss."
       ]
      },
      {
       "output_type": "stream",
       "stream": "stdout",
       "text": [
        "\n",
        "         Current function value: 5.625948\n",
        "         Iterations: 0\n",
        "         Function evaluations: 42\n",
        "         Gradient evaluations: 3\n",
        "Warning: Desired error not necessarily achieved due to precision loss.\n",
        "         Current function value: 5.631676\n",
        "         Iterations: 0\n",
        "         Function evaluations: 42\n",
        "         Gradient evaluations: 3\n",
        "Warning: Desired error not necessarily achieved due to precision loss."
       ]
      },
      {
       "output_type": "stream",
       "stream": "stdout",
       "text": [
        "\n",
        "         Current function value: 5.600595\n",
        "         Iterations: 0\n",
        "         Function evaluations: 42\n",
        "         Gradient evaluations: 3\n",
        "Warning: Desired error not necessarily achieved due to precision loss.\n",
        "         Current function value: 5.620482\n",
        "         Iterations: 0\n",
        "         Function evaluations: 42\n",
        "         Gradient evaluations: 3\n",
        "Warning: Desired error not necessarily achieved due to precision loss."
       ]
      },
      {
       "output_type": "stream",
       "stream": "stdout",
       "text": [
        "\n",
        "         Current function value: 5.633399\n",
        "         Iterations: 0\n",
        "         Function evaluations: 42\n",
        "         Gradient evaluations: 3\n",
        "Warning: Desired error not necessarily achieved due to precision loss.\n",
        "         Current function value: 5.625220\n",
        "         Iterations: 0\n",
        "         Function evaluations: 42\n",
        "         Gradient evaluations: 3\n",
        "Warning: Desired error not necessarily achieved due to precision loss."
       ]
      },
      {
       "output_type": "stream",
       "stream": "stdout",
       "text": [
        "\n",
        "         Current function value: 5.598595\n",
        "         Iterations: 0\n",
        "         Function evaluations: 42\n",
        "         Gradient evaluations: 3\n",
        "Warning: Desired error not necessarily achieved due to precision loss.\n",
        "         Current function value: 5.610392\n",
        "         Iterations: 0\n",
        "         Function evaluations: 42\n",
        "         Gradient evaluations: 3\n",
        "Warning: Desired error not necessarily achieved due to precision loss."
       ]
      },
      {
       "output_type": "stream",
       "stream": "stdout",
       "text": [
        "\n",
        "         Current function value: 5.588168\n",
        "         Iterations: 0\n",
        "         Function evaluations: 42\n",
        "         Gradient evaluations: 3\n",
        "Warning: Desired error not necessarily achieved due to precision loss.\n",
        "         Current function value: 5.578396\n",
        "         Iterations: 0\n",
        "         Function evaluations: 42\n",
        "         Gradient evaluations: 3\n",
        "Warning: Desired error not necessarily achieved due to precision loss."
       ]
      },
      {
       "output_type": "stream",
       "stream": "stdout",
       "text": [
        "\n",
        "         Current function value: 5.638846\n",
        "         Iterations: 0\n",
        "         Function evaluations: 42\n",
        "         Gradient evaluations: 3\n",
        "Warning: Desired error not necessarily achieved due to precision loss.\n",
        "         Current function value: 5.599693\n",
        "         Iterations: 0\n",
        "         Function evaluations: 42\n",
        "         Gradient evaluations: 3\n",
        "Warning: Desired error not necessarily achieved due to precision loss."
       ]
      },
      {
       "output_type": "stream",
       "stream": "stdout",
       "text": [
        "\n",
        "         Current function value: 5.640388\n",
        "         Iterations: 0\n",
        "         Function evaluations: 42\n",
        "         Gradient evaluations: 3\n",
        "Warning: Desired error not necessarily achieved due to precision loss.\n",
        "         Current function value: 5.598362\n",
        "         Iterations: 0\n",
        "         Function evaluations: 42\n",
        "         Gradient evaluations: 3\n",
        "Warning: Desired error not necessarily achieved due to precision loss."
       ]
      },
      {
       "output_type": "stream",
       "stream": "stdout",
       "text": [
        "\n",
        "         Current function value: 5.622676\n",
        "         Iterations: 0\n",
        "         Function evaluations: 42\n",
        "         Gradient evaluations: 3\n",
        "Warning: Desired error not necessarily achieved due to precision loss.\n",
        "         Current function value: 5.584231\n",
        "         Iterations: 0\n",
        "         Function evaluations: 42\n",
        "         Gradient evaluations: 3\n",
        "Warning: Desired error not necessarily achieved due to precision loss."
       ]
      },
      {
       "output_type": "stream",
       "stream": "stdout",
       "text": [
        "\n",
        "         Current function value: 5.571130\n",
        "         Iterations: 0\n",
        "         Function evaluations: 42\n",
        "         Gradient evaluations: 3\n",
        "Warning: Desired error not necessarily achieved due to precision loss.\n",
        "         Current function value: 5.602859\n",
        "         Iterations: 0\n",
        "         Function evaluations: 42\n",
        "         Gradient evaluations: 3\n",
        "Warning: Desired error not necessarily achieved due to precision loss."
       ]
      },
      {
       "output_type": "stream",
       "stream": "stdout",
       "text": [
        "\n",
        "         Current function value: 5.621565\n",
        "         Iterations: 0\n",
        "         Function evaluations: 42\n",
        "         Gradient evaluations: 3\n",
        "Warning: Desired error not necessarily achieved due to precision loss.\n",
        "         Current function value: 5.629725\n",
        "         Iterations: 0\n",
        "         Function evaluations: 42\n",
        "         Gradient evaluations: 3\n",
        "Warning: Desired error not necessarily achieved due to precision loss."
       ]
      },
      {
       "output_type": "stream",
       "stream": "stdout",
       "text": [
        "\n",
        "         Current function value: 5.640210\n",
        "         Iterations: 0\n",
        "         Function evaluations: 42\n",
        "         Gradient evaluations: 3\n",
        "Warning: Desired error not necessarily achieved due to precision loss.\n",
        "         Current function value: 5.647001\n",
        "         Iterations: 0\n",
        "         Function evaluations: 42\n",
        "         Gradient evaluations: 3\n",
        "Warning: Desired error not necessarily achieved due to precision loss."
       ]
      },
      {
       "output_type": "stream",
       "stream": "stdout",
       "text": [
        "\n",
        "         Current function value: 5.592064\n",
        "         Iterations: 0\n",
        "         Function evaluations: 42\n",
        "         Gradient evaluations: 3\n",
        "Warning: Desired error not necessarily achieved due to precision loss.\n",
        "         Current function value: 5.572712\n",
        "         Iterations: 0\n",
        "         Function evaluations: 42\n",
        "         Gradient evaluations: 3\n",
        "Warning: Desired error not necessarily achieved due to precision loss."
       ]
      },
      {
       "output_type": "stream",
       "stream": "stdout",
       "text": [
        "\n",
        "         Current function value: 5.608533\n",
        "         Iterations: 0\n",
        "         Function evaluations: 42\n",
        "         Gradient evaluations: 3\n",
        "Warning: Desired error not necessarily achieved due to precision loss.\n",
        "         Current function value: 5.600320\n",
        "         Iterations: 0\n",
        "         Function evaluations: 42\n",
        "         Gradient evaluations: 3\n",
        "Warning: Desired error not necessarily achieved due to precision loss."
       ]
      },
      {
       "output_type": "stream",
       "stream": "stdout",
       "text": [
        "\n",
        "         Current function value: 5.570789\n",
        "         Iterations: 0\n",
        "         Function evaluations: 42\n",
        "         Gradient evaluations: 3\n",
        "Warning: Desired error not necessarily achieved due to precision loss.\n",
        "         Current function value: 5.592857\n",
        "         Iterations: 0\n",
        "         Function evaluations: 42\n",
        "         Gradient evaluations: 3\n",
        "Warning: Desired error not necessarily achieved due to precision loss."
       ]
      },
      {
       "output_type": "stream",
       "stream": "stdout",
       "text": [
        "\n",
        "         Current function value: 5.656971\n",
        "         Iterations: 0\n",
        "         Function evaluations: 42\n",
        "         Gradient evaluations: 3\n",
        "Warning: Desired error not necessarily achieved due to precision loss.\n",
        "         Current function value: 5.574703\n",
        "         Iterations: 0\n",
        "         Function evaluations: 42\n",
        "         Gradient evaluations: 3\n",
        "Warning: Desired error not necessarily achieved due to precision loss."
       ]
      },
      {
       "output_type": "stream",
       "stream": "stdout",
       "text": [
        "\n",
        "         Current function value: 5.613205\n",
        "         Iterations: 0\n",
        "         Function evaluations: 42\n",
        "         Gradient evaluations: 3\n",
        "Warning: Desired error not necessarily achieved due to precision loss.\n",
        "         Current function value: 5.611773\n",
        "         Iterations: 0\n",
        "         Function evaluations: 42\n",
        "         Gradient evaluations: 3\n",
        "Warning: Desired error not necessarily achieved due to precision loss."
       ]
      },
      {
       "output_type": "stream",
       "stream": "stdout",
       "text": [
        "\n",
        "         Current function value: 5.588272\n",
        "         Iterations: 0\n",
        "         Function evaluations: 42\n",
        "         Gradient evaluations: 3\n",
        "Warning: Desired error not necessarily achieved due to precision loss.\n",
        "         Current function value: 5.562527\n",
        "         Iterations: 0\n",
        "         Function evaluations: 42\n",
        "         Gradient evaluations: 3\n",
        "Warning: Desired error not necessarily achieved due to precision loss."
       ]
      },
      {
       "output_type": "stream",
       "stream": "stdout",
       "text": [
        "\n",
        "         Current function value: 5.636633\n",
        "         Iterations: 0\n",
        "         Function evaluations: 42\n",
        "         Gradient evaluations: 3\n",
        "Warning: Desired error not necessarily achieved due to precision loss.\n",
        "         Current function value: 5.570782\n",
        "         Iterations: 0\n",
        "         Function evaluations: 42\n",
        "         Gradient evaluations: 3\n",
        "Warning: Desired error not necessarily achieved due to precision loss."
       ]
      },
      {
       "output_type": "stream",
       "stream": "stdout",
       "text": [
        "\n",
        "         Current function value: 5.583575\n",
        "         Iterations: 0\n",
        "         Function evaluations: 42\n",
        "         Gradient evaluations: 3\n",
        "Warning: Desired error not necessarily achieved due to precision loss.\n",
        "         Current function value: 5.598906\n",
        "         Iterations: 0\n",
        "         Function evaluations: 42\n",
        "         Gradient evaluations: 3\n",
        "Warning: Desired error not necessarily achieved due to precision loss."
       ]
      },
      {
       "output_type": "stream",
       "stream": "stdout",
       "text": [
        "\n",
        "         Current function value: 5.603840\n",
        "         Iterations: 0\n",
        "         Function evaluations: 42\n",
        "         Gradient evaluations: 3\n",
        "Warning: Desired error not necessarily achieved due to precision loss.\n",
        "         Current function value: 5.629529\n",
        "         Iterations: 0\n",
        "         Function evaluations: 42\n",
        "         Gradient evaluations: 3\n",
        "Warning: Desired error not necessarily achieved due to precision loss."
       ]
      },
      {
       "output_type": "stream",
       "stream": "stdout",
       "text": [
        "\n",
        "         Current function value: 5.630757\n",
        "         Iterations: 0\n",
        "         Function evaluations: 42\n",
        "         Gradient evaluations: 3\n",
        "Warning: Desired error not necessarily achieved due to precision loss.\n",
        "         Current function value: 5.573836\n",
        "         Iterations: 0\n",
        "         Function evaluations: 42\n",
        "         Gradient evaluations: 3\n",
        "Warning: Desired error not necessarily achieved due to precision loss."
       ]
      },
      {
       "output_type": "stream",
       "stream": "stdout",
       "text": [
        "\n",
        "         Current function value: 5.599825\n",
        "         Iterations: 0\n",
        "         Function evaluations: 42\n",
        "         Gradient evaluations: 3\n",
        "Warning: Desired error not necessarily achieved due to precision loss.\n",
        "         Current function value: 5.609250\n",
        "         Iterations: 0\n",
        "         Function evaluations: 42\n",
        "         Gradient evaluations: 3\n",
        "Warning: Desired error not necessarily achieved due to precision loss."
       ]
      },
      {
       "output_type": "stream",
       "stream": "stdout",
       "text": [
        "\n",
        "         Current function value: 5.570327\n",
        "         Iterations: 0\n",
        "         Function evaluations: 42\n",
        "         Gradient evaluations: 3\n",
        "Warning: Desired error not necessarily achieved due to precision loss.\n",
        "         Current function value: 5.632716\n",
        "         Iterations: 0\n",
        "         Function evaluations: 42\n",
        "         Gradient evaluations: 3\n",
        "Warning: Desired error not necessarily achieved due to precision loss."
       ]
      },
      {
       "output_type": "stream",
       "stream": "stdout",
       "text": [
        "\n",
        "         Current function value: 5.596519\n",
        "         Iterations: 0\n",
        "         Function evaluations: 42\n",
        "         Gradient evaluations: 3\n",
        "Warning: Desired error not necessarily achieved due to precision loss.\n",
        "         Current function value: 5.585685\n",
        "         Iterations: 0\n",
        "         Function evaluations: 42\n",
        "         Gradient evaluations: 3\n",
        "Warning: Desired error not necessarily achieved due to precision loss."
       ]
      },
      {
       "output_type": "stream",
       "stream": "stdout",
       "text": [
        "\n",
        "         Current function value: 5.613638\n",
        "         Iterations: 0\n",
        "         Function evaluations: 42\n",
        "         Gradient evaluations: 3\n",
        "Warning: Desired error not necessarily achieved due to precision loss.\n",
        "         Current function value: 5.612580\n",
        "         Iterations: 0\n",
        "         Function evaluations: 42\n",
        "         Gradient evaluations: 3\n",
        "Warning: Desired error not necessarily achieved due to precision loss."
       ]
      },
      {
       "output_type": "stream",
       "stream": "stdout",
       "text": [
        "\n",
        "         Current function value: 5.608550\n",
        "         Iterations: 0\n",
        "         Function evaluations: 42\n",
        "         Gradient evaluations: 3\n",
        "Warning: Desired error not necessarily achieved due to precision loss.\n",
        "         Current function value: 5.615173\n",
        "         Iterations: 0\n",
        "         Function evaluations: 42\n",
        "         Gradient evaluations: 3\n",
        "Warning: Desired error not necessarily achieved due to precision loss."
       ]
      },
      {
       "output_type": "stream",
       "stream": "stdout",
       "text": [
        "\n",
        "         Current function value: 5.653099\n",
        "         Iterations: 0\n",
        "         Function evaluations: 42\n",
        "         Gradient evaluations: 3\n",
        "Warning: Desired error not necessarily achieved due to precision loss.\n",
        "         Current function value: 5.597401\n",
        "         Iterations: 0\n",
        "         Function evaluations: 42\n",
        "         Gradient evaluations: 3\n",
        "Warning: Desired error not necessarily achieved due to precision loss."
       ]
      },
      {
       "output_type": "stream",
       "stream": "stdout",
       "text": [
        "\n",
        "         Current function value: 5.614397\n",
        "         Iterations: 0\n",
        "         Function evaluations: 42\n",
        "         Gradient evaluations: 3\n",
        "Warning: Desired error not necessarily achieved due to precision loss.\n",
        "         Current function value: 5.646328\n",
        "         Iterations: 0\n",
        "         Function evaluations: 42\n",
        "         Gradient evaluations: 3\n",
        "Warning: Desired error not necessarily achieved due to precision loss."
       ]
      },
      {
       "output_type": "stream",
       "stream": "stdout",
       "text": [
        "\n",
        "         Current function value: 5.607345\n",
        "         Iterations: 0\n",
        "         Function evaluations: 42\n",
        "         Gradient evaluations: 3\n",
        "Warning: Desired error not necessarily achieved due to precision loss.\n",
        "         Current function value: 5.639503\n",
        "         Iterations: 0\n",
        "         Function evaluations: 42\n",
        "         Gradient evaluations: 3\n",
        "Warning: Desired error not necessarily achieved due to precision loss."
       ]
      },
      {
       "output_type": "stream",
       "stream": "stdout",
       "text": [
        "\n",
        "         Current function value: 5.629039\n",
        "         Iterations: 0\n",
        "         Function evaluations: 42\n",
        "         Gradient evaluations: 3\n",
        "Warning: Desired error not necessarily achieved due to precision loss.\n",
        "         Current function value: 5.621583\n",
        "         Iterations: 0\n",
        "         Function evaluations: 42\n",
        "         Gradient evaluations: 3\n",
        "Warning: Desired error not necessarily achieved due to precision loss."
       ]
      },
      {
       "output_type": "stream",
       "stream": "stdout",
       "text": [
        "\n",
        "         Current function value: 5.633277\n",
        "         Iterations: 0\n",
        "         Function evaluations: 42\n",
        "         Gradient evaluations: 3\n",
        "Warning: Desired error not necessarily achieved due to precision loss.\n",
        "         Current function value: 5.605338\n",
        "         Iterations: 0\n",
        "         Function evaluations: 42\n",
        "         Gradient evaluations: 3\n",
        "Warning: Desired error not necessarily achieved due to precision loss."
       ]
      },
      {
       "output_type": "stream",
       "stream": "stdout",
       "text": [
        "\n",
        "         Current function value: 5.585986\n",
        "         Iterations: 0\n",
        "         Function evaluations: 42\n",
        "         Gradient evaluations: 3\n",
        "Warning: Desired error not necessarily achieved due to precision loss.\n",
        "         Current function value: 5.620305\n",
        "         Iterations: 0\n",
        "         Function evaluations: 42\n",
        "         Gradient evaluations: 3\n",
        "Warning: Desired error not necessarily achieved due to precision loss."
       ]
      },
      {
       "output_type": "stream",
       "stream": "stdout",
       "text": [
        "\n",
        "         Current function value: 5.593080\n",
        "         Iterations: 0\n",
        "         Function evaluations: 42\n",
        "         Gradient evaluations: 3\n",
        "Warning: Desired error not necessarily achieved due to precision loss.\n",
        "         Current function value: 5.612142\n",
        "         Iterations: 0\n",
        "         Function evaluations: 42\n",
        "         Gradient evaluations: 3\n",
        "Warning: Desired error not necessarily achieved due to precision loss."
       ]
      },
      {
       "output_type": "stream",
       "stream": "stdout",
       "text": [
        "\n",
        "         Current function value: 5.598939\n",
        "         Iterations: 0\n",
        "         Function evaluations: 42\n",
        "         Gradient evaluations: 3\n",
        "Warning: Desired error not necessarily achieved due to precision loss.\n",
        "         Current function value: 5.589990\n",
        "         Iterations: 0\n",
        "         Function evaluations: 42\n",
        "         Gradient evaluations: 3\n",
        "Warning: Desired error not necessarily achieved due to precision loss."
       ]
      },
      {
       "output_type": "stream",
       "stream": "stdout",
       "text": [
        "\n",
        "         Current function value: 5.637639\n",
        "         Iterations: 0\n",
        "         Function evaluations: 42\n",
        "         Gradient evaluations: 3\n",
        "Warning: Desired error not necessarily achieved due to precision loss.\n",
        "         Current function value: 5.582374\n",
        "         Iterations: 0\n",
        "         Function evaluations: 42\n",
        "         Gradient evaluations: 3\n",
        "Warning: Desired error not necessarily achieved due to precision loss."
       ]
      },
      {
       "output_type": "stream",
       "stream": "stdout",
       "text": [
        "\n",
        "         Current function value: 5.603595\n",
        "         Iterations: 0\n",
        "         Function evaluations: 42\n",
        "         Gradient evaluations: 3\n",
        "Warning: Desired error not necessarily achieved due to precision loss.\n",
        "         Current function value: 5.591886\n",
        "         Iterations: 0\n",
        "         Function evaluations: 42\n",
        "         Gradient evaluations: 3\n",
        "Warning: Desired error not necessarily achieved due to precision loss."
       ]
      },
      {
       "output_type": "stream",
       "stream": "stdout",
       "text": [
        "\n",
        "         Current function value: 5.621768\n",
        "         Iterations: 0\n",
        "         Function evaluations: 42\n",
        "         Gradient evaluations: 3\n",
        "Warning: Desired error not necessarily achieved due to precision loss.\n",
        "         Current function value: 5.593136\n",
        "         Iterations: 0\n",
        "         Function evaluations: 42\n",
        "         Gradient evaluations: 3\n",
        "Warning: Desired error not necessarily achieved due to precision loss."
       ]
      },
      {
       "output_type": "stream",
       "stream": "stdout",
       "text": [
        "\n",
        "         Current function value: 5.620991\n",
        "         Iterations: 0\n",
        "         Function evaluations: 42\n",
        "         Gradient evaluations: 3\n",
        "Warning: Desired error not necessarily achieved due to precision loss.\n",
        "         Current function value: 5.641651\n",
        "         Iterations: 0\n",
        "         Function evaluations: 42\n",
        "         Gradient evaluations: 3\n",
        "Warning: Desired error not necessarily achieved due to precision loss."
       ]
      },
      {
       "output_type": "stream",
       "stream": "stdout",
       "text": [
        "\n",
        "         Current function value: 5.586510\n",
        "         Iterations: 0\n",
        "         Function evaluations: 42\n",
        "         Gradient evaluations: 3\n",
        "Warning: Desired error not necessarily achieved due to precision loss.\n",
        "         Current function value: 5.626204\n",
        "         Iterations: 0\n",
        "         Function evaluations: 42\n",
        "         Gradient evaluations: 3\n",
        "Warning: Desired error not necessarily achieved due to precision loss."
       ]
      },
      {
       "output_type": "stream",
       "stream": "stdout",
       "text": [
        "\n",
        "         Current function value: 5.618398\n",
        "         Iterations: 0\n",
        "         Function evaluations: 42\n",
        "         Gradient evaluations: 3\n",
        "Warning: Desired error not necessarily achieved due to precision loss.\n",
        "         Current function value: 5.588731\n",
        "         Iterations: 0\n",
        "         Function evaluations: 42\n",
        "         Gradient evaluations: 3\n",
        "Warning: Desired error not necessarily achieved due to precision loss."
       ]
      },
      {
       "output_type": "stream",
       "stream": "stdout",
       "text": [
        "\n",
        "         Current function value: 5.600325\n",
        "         Iterations: 0\n",
        "         Function evaluations: 42\n",
        "         Gradient evaluations: 3\n",
        "Warning: Desired error not necessarily achieved due to precision loss.\n",
        "         Current function value: 5.605759\n",
        "         Iterations: 0\n",
        "         Function evaluations: 42\n",
        "         Gradient evaluations: 3\n",
        "Warning: Desired error not necessarily achieved due to precision loss."
       ]
      },
      {
       "output_type": "stream",
       "stream": "stdout",
       "text": [
        "\n",
        "         Current function value: 5.621032\n",
        "         Iterations: 0\n",
        "         Function evaluations: 42\n",
        "         Gradient evaluations: 3\n",
        "Warning: Desired error not necessarily achieved due to precision loss.\n",
        "         Current function value: 5.590977\n",
        "         Iterations: 0\n",
        "         Function evaluations: 42\n",
        "         Gradient evaluations: 3\n",
        "Warning: Desired error not necessarily achieved due to precision loss."
       ]
      },
      {
       "output_type": "stream",
       "stream": "stdout",
       "text": [
        "\n",
        "         Current function value: 5.583864\n",
        "         Iterations: 0\n",
        "         Function evaluations: 42\n",
        "         Gradient evaluations: 3\n",
        "Warning: Desired error not necessarily achieved due to precision loss.\n",
        "         Current function value: 5.650818\n",
        "         Iterations: 0\n",
        "         Function evaluations: 42\n",
        "         Gradient evaluations: 3\n",
        "Warning: Desired error not necessarily achieved due to precision loss."
       ]
      },
      {
       "output_type": "stream",
       "stream": "stdout",
       "text": [
        "\n",
        "         Current function value: 5.598816\n",
        "         Iterations: 0\n",
        "         Function evaluations: 42\n",
        "         Gradient evaluations: 3\n",
        "Warning: Desired error not necessarily achieved due to precision loss.\n",
        "         Current function value: 5.635190\n",
        "         Iterations: 0\n",
        "         Function evaluations: 42\n",
        "         Gradient evaluations: 3\n",
        "Warning: Desired error not necessarily achieved due to precision loss."
       ]
      },
      {
       "output_type": "stream",
       "stream": "stdout",
       "text": [
        "\n",
        "         Current function value: 5.610500\n",
        "         Iterations: 0\n",
        "         Function evaluations: 42\n",
        "         Gradient evaluations: 3\n",
        "Warning: Desired error not necessarily achieved due to precision loss.\n",
        "         Current function value: 5.567002\n",
        "         Iterations: 0\n",
        "         Function evaluations: 42\n",
        "         Gradient evaluations: 3\n",
        "Warning: Desired error not necessarily achieved due to precision loss."
       ]
      },
      {
       "output_type": "stream",
       "stream": "stdout",
       "text": [
        "\n",
        "         Current function value: 5.578904\n",
        "         Iterations: 0\n",
        "         Function evaluations: 42\n",
        "         Gradient evaluations: 3\n",
        "Warning: Desired error not necessarily achieved due to precision loss.\n",
        "         Current function value: 5.666027\n",
        "         Iterations: 0\n",
        "         Function evaluations: 42\n",
        "         Gradient evaluations: 3\n",
        "Warning: Desired error not necessarily achieved due to precision loss."
       ]
      },
      {
       "output_type": "stream",
       "stream": "stdout",
       "text": [
        "\n",
        "         Current function value: 5.615823\n",
        "         Iterations: 0\n",
        "         Function evaluations: 42\n",
        "         Gradient evaluations: 3\n",
        "Warning: Desired error not necessarily achieved due to precision loss.\n",
        "         Current function value: 5.588700\n",
        "         Iterations: 0\n",
        "         Function evaluations: 42\n",
        "         Gradient evaluations: 3\n",
        "Warning: Desired error not necessarily achieved due to precision loss."
       ]
      },
      {
       "output_type": "stream",
       "stream": "stdout",
       "text": [
        "\n",
        "         Current function value: 5.617114\n",
        "         Iterations: 0\n",
        "         Function evaluations: 42\n",
        "         Gradient evaluations: 3\n",
        "Warning: Desired error not necessarily achieved due to precision loss.\n",
        "         Current function value: 5.599781\n",
        "         Iterations: 0\n",
        "         Function evaluations: 42\n",
        "         Gradient evaluations: 3\n",
        "Warning: Desired error not necessarily achieved due to precision loss."
       ]
      },
      {
       "output_type": "stream",
       "stream": "stdout",
       "text": [
        "\n",
        "         Current function value: 5.626698\n",
        "         Iterations: 0\n",
        "         Function evaluations: 42\n",
        "         Gradient evaluations: 3\n",
        "Warning: Desired error not necessarily achieved due to precision loss.\n",
        "         Current function value: 5.596229\n",
        "         Iterations: 0\n",
        "         Function evaluations: 42\n",
        "         Gradient evaluations: 3\n",
        "Warning: Desired error not necessarily achieved due to precision loss."
       ]
      },
      {
       "output_type": "stream",
       "stream": "stdout",
       "text": [
        "\n",
        "         Current function value: 5.609440\n",
        "         Iterations: 0\n",
        "         Function evaluations: 42\n",
        "         Gradient evaluations: 3\n",
        "Warning: Desired error not necessarily achieved due to precision loss.\n",
        "         Current function value: 5.598101\n",
        "         Iterations: 0\n",
        "         Function evaluations: 42\n",
        "         Gradient evaluations: 3\n",
        "Warning: Desired error not necessarily achieved due to precision loss."
       ]
      },
      {
       "output_type": "stream",
       "stream": "stdout",
       "text": [
        "\n",
        "         Current function value: 5.606847\n",
        "         Iterations: 0\n",
        "         Function evaluations: 42\n",
        "         Gradient evaluations: 3\n",
        "Warning: Desired error not necessarily achieved due to precision loss.\n",
        "         Current function value: 5.576617\n",
        "         Iterations: 0\n",
        "         Function evaluations: 42\n",
        "         Gradient evaluations: 3\n",
        "Warning: Desired error not necessarily achieved due to precision loss."
       ]
      },
      {
       "output_type": "stream",
       "stream": "stdout",
       "text": [
        "\n",
        "         Current function value: 5.642111\n",
        "         Iterations: 0\n",
        "         Function evaluations: 42\n",
        "         Gradient evaluations: 3\n",
        "Warning: Desired error not necessarily achieved due to precision loss.\n",
        "         Current function value: 5.601419\n",
        "         Iterations: 0\n",
        "         Function evaluations: 42\n",
        "         Gradient evaluations: 3\n",
        "Warning: Desired error not necessarily achieved due to precision loss."
       ]
      },
      {
       "output_type": "stream",
       "stream": "stdout",
       "text": [
        "\n",
        "         Current function value: 5.603378\n",
        "         Iterations: 0\n",
        "         Function evaluations: 42\n",
        "         Gradient evaluations: 3\n",
        "Warning: Desired error not necessarily achieved due to precision loss.\n",
        "         Current function value: 5.599380\n",
        "         Iterations: 0\n",
        "         Function evaluations: 42\n",
        "         Gradient evaluations: 3\n",
        "Warning: Desired error not necessarily achieved due to precision loss."
       ]
      },
      {
       "output_type": "stream",
       "stream": "stdout",
       "text": [
        "\n",
        "         Current function value: 5.639919\n",
        "         Iterations: 0\n",
        "         Function evaluations: 42\n",
        "         Gradient evaluations: 3\n",
        "Warning: Desired error not necessarily achieved due to precision loss.\n",
        "         Current function value: 5.599382\n",
        "         Iterations: 0\n",
        "         Function evaluations: 42\n",
        "         Gradient evaluations: 3\n",
        "Warning: Desired error not necessarily achieved due to precision loss."
       ]
      },
      {
       "output_type": "stream",
       "stream": "stdout",
       "text": [
        "\n",
        "         Current function value: 5.655016\n",
        "         Iterations: 0\n",
        "         Function evaluations: 42\n",
        "         Gradient evaluations: 3\n",
        "Warning: Desired error not necessarily achieved due to precision loss.\n",
        "         Current function value: 5.598583\n",
        "         Iterations: 0\n",
        "         Function evaluations: 42\n",
        "         Gradient evaluations: 3\n",
        "Warning: Desired error not necessarily achieved due to precision loss."
       ]
      },
      {
       "output_type": "stream",
       "stream": "stdout",
       "text": [
        "\n",
        "         Current function value: 5.612732\n",
        "         Iterations: 0\n",
        "         Function evaluations: 42\n",
        "         Gradient evaluations: 3\n",
        "Warning: Desired error not necessarily achieved due to precision loss.\n",
        "         Current function value: 5.591368\n",
        "         Iterations: 0\n",
        "         Function evaluations: 42\n",
        "         Gradient evaluations: 3\n",
        "Warning: Desired error not necessarily achieved due to precision loss."
       ]
      },
      {
       "output_type": "stream",
       "stream": "stdout",
       "text": [
        "\n",
        "         Current function value: 5.615822\n",
        "         Iterations: 0\n",
        "         Function evaluations: 42\n",
        "         Gradient evaluations: 3\n",
        "Warning: Desired error not necessarily achieved due to precision loss.\n",
        "         Current function value: 5.608273\n",
        "         Iterations: 0\n",
        "         Function evaluations: 42\n",
        "         Gradient evaluations: 3\n",
        "Warning: Desired error not necessarily achieved due to precision loss."
       ]
      },
      {
       "output_type": "stream",
       "stream": "stdout",
       "text": [
        "\n",
        "         Current function value: 5.612703\n",
        "         Iterations: 0\n",
        "         Function evaluations: 42\n",
        "         Gradient evaluations: 3\n",
        "Warning: Desired error not necessarily achieved due to precision loss.\n",
        "         Current function value: 5.597970\n",
        "         Iterations: 0\n",
        "         Function evaluations: 42\n",
        "         Gradient evaluations: 3\n",
        "Warning: Desired error not necessarily achieved due to precision loss."
       ]
      },
      {
       "output_type": "stream",
       "stream": "stdout",
       "text": [
        "\n",
        "         Current function value: 5.633444\n",
        "         Iterations: 0\n",
        "         Function evaluations: 42\n",
        "         Gradient evaluations: 3\n",
        "Warning: Desired error not necessarily achieved due to precision loss.\n",
        "         Current function value: 5.598115\n",
        "         Iterations: 0\n",
        "         Function evaluations: 42\n",
        "         Gradient evaluations: 3\n",
        "Warning: Desired error not necessarily achieved due to precision loss."
       ]
      },
      {
       "output_type": "stream",
       "stream": "stdout",
       "text": [
        "\n",
        "         Current function value: 5.598546\n",
        "         Iterations: 0\n",
        "         Function evaluations: 42\n",
        "         Gradient evaluations: 3\n",
        "Warning: Desired error not necessarily achieved due to precision loss.\n",
        "         Current function value: 5.637784\n",
        "         Iterations: 0\n",
        "         Function evaluations: 42\n",
        "         Gradient evaluations: 3\n",
        "Warning: Desired error not necessarily achieved due to precision loss."
       ]
      },
      {
       "output_type": "stream",
       "stream": "stdout",
       "text": [
        "\n",
        "         Current function value: 5.577369\n",
        "         Iterations: 0\n",
        "         Function evaluations: 42\n",
        "         Gradient evaluations: 3\n",
        "Warning: Desired error not necessarily achieved due to precision loss.\n",
        "         Current function value: 5.627914\n",
        "         Iterations: 0\n",
        "         Function evaluations: 42\n",
        "         Gradient evaluations: 3\n",
        "Warning: Desired error not necessarily achieved due to precision loss."
       ]
      },
      {
       "output_type": "stream",
       "stream": "stdout",
       "text": [
        "\n",
        "         Current function value: 5.593398\n",
        "         Iterations: 0\n",
        "         Function evaluations: 42\n",
        "         Gradient evaluations: 3\n",
        "Warning: Desired error not necessarily achieved due to precision loss.\n",
        "         Current function value: 5.642173\n",
        "         Iterations: 0\n",
        "         Function evaluations: 42\n",
        "         Gradient evaluations: 3\n",
        "Warning: Desired error not necessarily achieved due to precision loss."
       ]
      },
      {
       "output_type": "stream",
       "stream": "stdout",
       "text": [
        "\n",
        "         Current function value: 5.596145\n",
        "         Iterations: 0\n",
        "         Function evaluations: 42\n",
        "         Gradient evaluations: 3\n",
        "Warning: Desired error not necessarily achieved due to precision loss.\n",
        "         Current function value: 5.574604\n",
        "         Iterations: 0\n",
        "         Function evaluations: 42\n",
        "         Gradient evaluations: 3\n",
        "Warning: Desired error not necessarily achieved due to precision loss."
       ]
      },
      {
       "output_type": "stream",
       "stream": "stdout",
       "text": [
        "\n",
        "         Current function value: 5.589555\n",
        "         Iterations: 0\n",
        "         Function evaluations: 42\n",
        "         Gradient evaluations: 3\n",
        "Warning: Desired error not necessarily achieved due to precision loss.\n",
        "         Current function value: 5.645059\n",
        "         Iterations: 0\n",
        "         Function evaluations: 42\n",
        "         Gradient evaluations: 3\n",
        "Warning: Desired error not necessarily achieved due to precision loss."
       ]
      },
      {
       "output_type": "stream",
       "stream": "stdout",
       "text": [
        "\n",
        "         Current function value: 5.602360\n",
        "         Iterations: 0\n",
        "         Function evaluations: 42\n",
        "         Gradient evaluations: 3\n",
        "Warning: Desired error not necessarily achieved due to precision loss.\n",
        "         Current function value: 5.603357\n",
        "         Iterations: 0\n",
        "         Function evaluations: 42\n",
        "         Gradient evaluations: 3\n",
        "Warning: Desired error not necessarily achieved due to precision loss."
       ]
      },
      {
       "output_type": "stream",
       "stream": "stdout",
       "text": [
        "\n",
        "         Current function value: 5.588441\n",
        "         Iterations: 0\n",
        "         Function evaluations: 42\n",
        "         Gradient evaluations: 3\n",
        "Warning: Desired error not necessarily achieved due to precision loss.\n",
        "         Current function value: 5.604014\n",
        "         Iterations: 0\n",
        "         Function evaluations: 42\n",
        "         Gradient evaluations: 3\n",
        "Warning: Desired error not necessarily achieved due to precision loss."
       ]
      },
      {
       "output_type": "stream",
       "stream": "stdout",
       "text": [
        "\n",
        "         Current function value: 5.603645\n",
        "         Iterations: 0\n",
        "         Function evaluations: 42\n",
        "         Gradient evaluations: 3\n",
        "Warning: Desired error not necessarily achieved due to precision loss.\n",
        "         Current function value: 5.605642\n",
        "         Iterations: 0\n",
        "         Function evaluations: 42\n",
        "         Gradient evaluations: 3\n",
        "Warning: Desired error not necessarily achieved due to precision loss."
       ]
      },
      {
       "output_type": "stream",
       "stream": "stdout",
       "text": [
        "\n",
        "         Current function value: 5.596829\n",
        "         Iterations: 0\n",
        "         Function evaluations: 42\n",
        "         Gradient evaluations: 3\n",
        "Warning: Desired error not necessarily achieved due to precision loss.\n",
        "         Current function value: 5.578562\n",
        "         Iterations: 0\n",
        "         Function evaluations: 42\n",
        "         Gradient evaluations: 3\n",
        "Warning: Desired error not necessarily achieved due to precision loss."
       ]
      },
      {
       "output_type": "stream",
       "stream": "stdout",
       "text": [
        "\n",
        "         Current function value: 5.622375\n",
        "         Iterations: 0\n",
        "         Function evaluations: 42\n",
        "         Gradient evaluations: 3\n",
        "Warning: Desired error not necessarily achieved due to precision loss.\n",
        "         Current function value: 5.605418\n",
        "         Iterations: 0\n",
        "         Function evaluations: 42\n",
        "         Gradient evaluations: 3\n",
        "Warning: Desired error not necessarily achieved due to precision loss."
       ]
      },
      {
       "output_type": "stream",
       "stream": "stdout",
       "text": [
        "\n",
        "         Current function value: 5.600340\n",
        "         Iterations: 0\n",
        "         Function evaluations: 42\n",
        "         Gradient evaluations: 3\n",
        "Warning: Desired error not necessarily achieved due to precision loss.\n",
        "         Current function value: 5.583109\n",
        "         Iterations: 0\n",
        "         Function evaluations: 42\n",
        "         Gradient evaluations: 3\n",
        "Warning: Desired error not necessarily achieved due to precision loss."
       ]
      },
      {
       "output_type": "stream",
       "stream": "stdout",
       "text": [
        "\n",
        "         Current function value: 5.618487\n",
        "         Iterations: 0\n",
        "         Function evaluations: 42\n",
        "         Gradient evaluations: 3\n",
        "Warning: Desired error not necessarily achieved due to precision loss.\n",
        "         Current function value: 5.651905\n",
        "         Iterations: 0\n",
        "         Function evaluations: 42\n",
        "         Gradient evaluations: 3\n",
        "Warning: Desired error not necessarily achieved due to precision loss."
       ]
      },
      {
       "output_type": "stream",
       "stream": "stdout",
       "text": [
        "\n",
        "         Current function value: 5.632175\n",
        "         Iterations: 0\n",
        "         Function evaluations: 42\n",
        "         Gradient evaluations: 3\n",
        "Warning: Desired error not necessarily achieved due to precision loss.\n",
        "         Current function value: 5.649372\n",
        "         Iterations: 0\n",
        "         Function evaluations: 42\n",
        "         Gradient evaluations: 3\n",
        "Warning: Desired error not necessarily achieved due to precision loss."
       ]
      },
      {
       "output_type": "stream",
       "stream": "stdout",
       "text": [
        "\n",
        "         Current function value: 5.638398\n",
        "         Iterations: 0\n",
        "         Function evaluations: 42\n",
        "         Gradient evaluations: 3\n",
        "Warning: Desired error not necessarily achieved due to precision loss.\n",
        "         Current function value: 5.615488\n",
        "         Iterations: 0\n",
        "         Function evaluations: 42\n",
        "         Gradient evaluations: 3\n",
        "Warning: Desired error not necessarily achieved due to precision loss."
       ]
      },
      {
       "output_type": "stream",
       "stream": "stdout",
       "text": [
        "\n",
        "         Current function value: 5.627034\n",
        "         Iterations: 0\n",
        "         Function evaluations: 42\n",
        "         Gradient evaluations: 3\n",
        "Warning: Desired error not necessarily achieved due to precision loss.\n",
        "         Current function value: 5.608949\n",
        "         Iterations: 0\n",
        "         Function evaluations: 42\n",
        "         Gradient evaluations: 3\n",
        "Warning: Desired error not necessarily achieved due to precision loss."
       ]
      },
      {
       "output_type": "stream",
       "stream": "stdout",
       "text": [
        "\n",
        "         Current function value: 5.613182\n",
        "         Iterations: 0\n",
        "         Function evaluations: 42\n",
        "         Gradient evaluations: 3\n",
        "Warning: Desired error not necessarily achieved due to precision loss.\n",
        "         Current function value: 5.579842\n",
        "         Iterations: 0\n",
        "         Function evaluations: 42\n",
        "         Gradient evaluations: 3\n",
        "Warning: Desired error not necessarily achieved due to precision loss."
       ]
      },
      {
       "output_type": "stream",
       "stream": "stdout",
       "text": [
        "\n",
        "         Current function value: 5.562212\n",
        "         Iterations: 0\n",
        "         Function evaluations: 42\n",
        "         Gradient evaluations: 3\n",
        "Warning: Desired error not necessarily achieved due to precision loss.\n",
        "         Current function value: 5.615164\n",
        "         Iterations: 0\n",
        "         Function evaluations: 42\n",
        "         Gradient evaluations: 3\n",
        "Warning: Desired error not necessarily achieved due to precision loss."
       ]
      },
      {
       "output_type": "stream",
       "stream": "stdout",
       "text": [
        "\n",
        "         Current function value: 5.601715\n",
        "         Iterations: 0\n",
        "         Function evaluations: 42\n",
        "         Gradient evaluations: 3\n",
        "Warning: Desired error not necessarily achieved due to precision loss.\n",
        "         Current function value: 5.586923\n",
        "         Iterations: 0\n",
        "         Function evaluations: 42\n",
        "         Gradient evaluations: 3\n",
        "Warning: Desired error not necessarily achieved due to precision loss."
       ]
      },
      {
       "output_type": "stream",
       "stream": "stdout",
       "text": [
        "\n",
        "         Current function value: 5.590740\n",
        "         Iterations: 0\n",
        "         Function evaluations: 42\n",
        "         Gradient evaluations: 3\n",
        "Warning: Desired error not necessarily achieved due to precision loss.\n",
        "         Current function value: 5.563510\n",
        "         Iterations: 0\n",
        "         Function evaluations: 42\n",
        "         Gradient evaluations: 3\n",
        "Warning: Desired error not necessarily achieved due to precision loss."
       ]
      },
      {
       "output_type": "stream",
       "stream": "stdout",
       "text": [
        "\n",
        "         Current function value: 5.629336\n",
        "         Iterations: 0\n",
        "         Function evaluations: 42\n",
        "         Gradient evaluations: 3\n",
        "Warning: Desired error not necessarily achieved due to precision loss.\n",
        "         Current function value: 5.625101\n",
        "         Iterations: 0\n",
        "         Function evaluations: 42\n",
        "         Gradient evaluations: 3\n",
        "Warning: Desired error not necessarily achieved due to precision loss."
       ]
      },
      {
       "output_type": "stream",
       "stream": "stdout",
       "text": [
        "\n",
        "         Current function value: 5.627794\n",
        "         Iterations: 0\n",
        "         Function evaluations: 42\n",
        "         Gradient evaluations: 3\n",
        "Warning: Desired error not necessarily achieved due to precision loss.\n",
        "         Current function value: 5.570702\n",
        "         Iterations: 0\n",
        "         Function evaluations: 42\n",
        "         Gradient evaluations: 3\n",
        "Warning: Desired error not necessarily achieved due to precision loss."
       ]
      },
      {
       "output_type": "stream",
       "stream": "stdout",
       "text": [
        "\n",
        "         Current function value: 5.616779\n",
        "         Iterations: 0\n",
        "         Function evaluations: 42\n",
        "         Gradient evaluations: 3\n",
        "Warning: Desired error not necessarily achieved due to precision loss.\n",
        "         Current function value: 5.593824\n",
        "         Iterations: 0\n",
        "         Function evaluations: 42\n",
        "         Gradient evaluations: 3\n",
        "Warning: Desired error not necessarily achieved due to precision loss."
       ]
      },
      {
       "output_type": "stream",
       "stream": "stdout",
       "text": [
        "\n",
        "         Current function value: 5.613028\n",
        "         Iterations: 0\n",
        "         Function evaluations: 42\n",
        "         Gradient evaluations: 3\n",
        "Warning: Desired error not necessarily achieved due to precision loss.\n",
        "         Current function value: 5.641209\n",
        "         Iterations: 0\n",
        "         Function evaluations: 42\n",
        "         Gradient evaluations: 3\n",
        "Warning: Desired error not necessarily achieved due to precision loss."
       ]
      },
      {
       "output_type": "stream",
       "stream": "stdout",
       "text": [
        "\n",
        "         Current function value: 5.635333\n",
        "         Iterations: 0\n",
        "         Function evaluations: 42\n",
        "         Gradient evaluations: 3\n",
        "Warning: Desired error not necessarily achieved due to precision loss.\n",
        "         Current function value: 5.626718\n",
        "         Iterations: 0\n",
        "         Function evaluations: 42\n",
        "         Gradient evaluations: 3\n",
        "Warning: Desired error not necessarily achieved due to precision loss."
       ]
      },
      {
       "output_type": "stream",
       "stream": "stdout",
       "text": [
        "\n",
        "         Current function value: 5.594356\n",
        "         Iterations: 0\n",
        "         Function evaluations: 42\n",
        "         Gradient evaluations: 3\n",
        "Warning: Desired error not necessarily achieved due to precision loss.\n",
        "         Current function value: 5.645937\n",
        "         Iterations: 0\n",
        "         Function evaluations: 42\n",
        "         Gradient evaluations: 3\n",
        "Warning: Desired error not necessarily achieved due to precision loss."
       ]
      },
      {
       "output_type": "stream",
       "stream": "stdout",
       "text": [
        "\n",
        "         Current function value: 5.636794\n",
        "         Iterations: 0\n",
        "         Function evaluations: 42\n",
        "         Gradient evaluations: 3\n",
        "Warning: Desired error not necessarily achieved due to precision loss.\n",
        "         Current function value: 5.627700\n",
        "         Iterations: 0\n",
        "         Function evaluations: 42\n",
        "         Gradient evaluations: 3\n",
        "Warning: Desired error not necessarily achieved due to precision loss."
       ]
      },
      {
       "output_type": "stream",
       "stream": "stdout",
       "text": [
        "\n",
        "         Current function value: 5.626818\n",
        "         Iterations: 0\n",
        "         Function evaluations: 42\n",
        "         Gradient evaluations: 3\n",
        "Warning: Desired error not necessarily achieved due to precision loss.\n",
        "         Current function value: 5.587917\n",
        "         Iterations: 0\n",
        "         Function evaluations: 42\n",
        "         Gradient evaluations: 3\n",
        "Warning: Desired error not necessarily achieved due to precision loss."
       ]
      },
      {
       "output_type": "stream",
       "stream": "stdout",
       "text": [
        "\n",
        "         Current function value: 5.612294\n",
        "         Iterations: 0\n",
        "         Function evaluations: 42\n",
        "         Gradient evaluations: 3\n",
        "Warning: Desired error not necessarily achieved due to precision loss.\n",
        "         Current function value: 5.628743\n",
        "         Iterations: 0\n",
        "         Function evaluations: 42\n",
        "         Gradient evaluations: 3\n",
        "Warning: Desired error not necessarily achieved due to precision loss."
       ]
      },
      {
       "output_type": "stream",
       "stream": "stdout",
       "text": [
        "\n",
        "         Current function value: 5.593176\n",
        "         Iterations: 0\n",
        "         Function evaluations: 42\n",
        "         Gradient evaluations: 3\n",
        "Warning: Desired error not necessarily achieved due to precision loss.\n",
        "         Current function value: 5.583471\n",
        "         Iterations: 0\n",
        "         Function evaluations: 42\n",
        "         Gradient evaluations: 3\n",
        "Warning: Desired error not necessarily achieved due to precision loss."
       ]
      },
      {
       "output_type": "stream",
       "stream": "stdout",
       "text": [
        "\n",
        "         Current function value: 5.595498\n",
        "         Iterations: 0\n",
        "         Function evaluations: 42\n",
        "         Gradient evaluations: 3\n",
        "Warning: Desired error not necessarily achieved due to precision loss.\n",
        "         Current function value: 5.583733\n",
        "         Iterations: 0\n",
        "         Function evaluations: 42\n",
        "         Gradient evaluations: 3\n",
        "Warning: Desired error not necessarily achieved due to precision loss."
       ]
      },
      {
       "output_type": "stream",
       "stream": "stdout",
       "text": [
        "\n",
        "         Current function value: 5.565835\n",
        "         Iterations: 0\n",
        "         Function evaluations: 42\n",
        "         Gradient evaluations: 3\n",
        "Warning: Desired error not necessarily achieved due to precision loss.\n",
        "         Current function value: 5.605984\n",
        "         Iterations: 0\n",
        "         Function evaluations: 42\n",
        "         Gradient evaluations: 3\n",
        "Warning: Desired error not necessarily achieved due to precision loss."
       ]
      },
      {
       "output_type": "stream",
       "stream": "stdout",
       "text": [
        "\n",
        "         Current function value: 5.609946\n",
        "         Iterations: 0\n",
        "         Function evaluations: 42\n",
        "         Gradient evaluations: 3\n",
        "Warning: Desired error not necessarily achieved due to precision loss.\n",
        "         Current function value: 5.583644\n",
        "         Iterations: 0\n",
        "         Function evaluations: 42\n",
        "         Gradient evaluations: 3\n",
        "Warning: Desired error not necessarily achieved due to precision loss."
       ]
      },
      {
       "output_type": "stream",
       "stream": "stdout",
       "text": [
        "\n",
        "         Current function value: 5.618656\n",
        "         Iterations: 0\n",
        "         Function evaluations: 42\n",
        "         Gradient evaluations: 3\n",
        "Warning: Desired error not necessarily achieved due to precision loss.\n",
        "         Current function value: 5.601310\n",
        "         Iterations: 0\n",
        "         Function evaluations: 42\n",
        "         Gradient evaluations: 3\n",
        "Warning: Desired error not necessarily achieved due to precision loss."
       ]
      },
      {
       "output_type": "stream",
       "stream": "stdout",
       "text": [
        "\n",
        "         Current function value: 5.626481\n",
        "         Iterations: 0\n",
        "         Function evaluations: 42\n",
        "         Gradient evaluations: 3\n",
        "Warning: Desired error not necessarily achieved due to precision loss.\n",
        "         Current function value: 5.629051\n",
        "         Iterations: 0\n",
        "         Function evaluations: 42\n",
        "         Gradient evaluations: 3\n",
        "Warning: Desired error not necessarily achieved due to precision loss."
       ]
      },
      {
       "output_type": "stream",
       "stream": "stdout",
       "text": [
        "\n",
        "         Current function value: 5.645716\n",
        "         Iterations: 0\n",
        "         Function evaluations: 42\n",
        "         Gradient evaluations: 3\n",
        "Warning: Desired error not necessarily achieved due to precision loss.\n",
        "         Current function value: 5.588768\n",
        "         Iterations: 0\n",
        "         Function evaluations: 42\n",
        "         Gradient evaluations: 3\n",
        "Warning: Desired error not necessarily achieved due to precision loss."
       ]
      },
      {
       "output_type": "stream",
       "stream": "stdout",
       "text": [
        "\n",
        "         Current function value: 5.602860\n",
        "         Iterations: 0\n",
        "         Function evaluations: 42\n",
        "         Gradient evaluations: 3\n",
        "Warning: Desired error not necessarily achieved due to precision loss.\n",
        "         Current function value: 5.589286\n",
        "         Iterations: 0\n",
        "         Function evaluations: 42\n",
        "         Gradient evaluations: 3\n",
        "Warning: Desired error not necessarily achieved due to precision loss."
       ]
      },
      {
       "output_type": "stream",
       "stream": "stdout",
       "text": [
        "\n",
        "         Current function value: 5.616802\n",
        "         Iterations: 0\n",
        "         Function evaluations: 42\n",
        "         Gradient evaluations: 3\n",
        "Warning: Desired error not necessarily achieved due to precision loss.\n",
        "         Current function value: 5.642981\n",
        "         Iterations: 0\n",
        "         Function evaluations: 42\n",
        "         Gradient evaluations: 3\n",
        "Warning: Desired error not necessarily achieved due to precision loss."
       ]
      },
      {
       "output_type": "stream",
       "stream": "stdout",
       "text": [
        "\n",
        "         Current function value: 5.635477\n",
        "         Iterations: 0\n",
        "         Function evaluations: 42\n",
        "         Gradient evaluations: 3\n",
        "Warning: Desired error not necessarily achieved due to precision loss.\n",
        "         Current function value: 5.613837\n",
        "         Iterations: 0\n",
        "         Function evaluations: 42\n",
        "         Gradient evaluations: 3\n",
        "Warning: Desired error not necessarily achieved due to precision loss."
       ]
      },
      {
       "output_type": "stream",
       "stream": "stdout",
       "text": [
        "\n",
        "         Current function value: 5.624657\n",
        "         Iterations: 0\n",
        "         Function evaluations: 42\n",
        "         Gradient evaluations: 3\n",
        "Warning: Desired error not necessarily achieved due to precision loss.\n",
        "         Current function value: 5.605208\n",
        "         Iterations: 0\n",
        "         Function evaluations: 42\n",
        "         Gradient evaluations: 3\n",
        "Warning: Desired error not necessarily achieved due to precision loss."
       ]
      },
      {
       "output_type": "stream",
       "stream": "stdout",
       "text": [
        "\n",
        "         Current function value: 5.612317\n",
        "         Iterations: 0\n",
        "         Function evaluations: 42\n",
        "         Gradient evaluations: 3\n",
        "Warning: Desired error not necessarily achieved due to precision loss.\n",
        "         Current function value: 5.636110\n",
        "         Iterations: 0\n",
        "         Function evaluations: 42\n",
        "         Gradient evaluations: 3\n",
        "Warning: Desired error not necessarily achieved due to precision loss."
       ]
      },
      {
       "output_type": "stream",
       "stream": "stdout",
       "text": [
        "\n",
        "         Current function value: 5.612134\n",
        "         Iterations: 0\n",
        "         Function evaluations: 42\n",
        "         Gradient evaluations: 3\n",
        "Warning: Desired error not necessarily achieved due to precision loss.\n",
        "         Current function value: 5.640241\n",
        "         Iterations: 0\n",
        "         Function evaluations: 42\n",
        "         Gradient evaluations: 3\n",
        "Warning: Desired error not necessarily achieved due to precision loss."
       ]
      },
      {
       "output_type": "stream",
       "stream": "stdout",
       "text": [
        "\n",
        "         Current function value: 5.623668\n",
        "         Iterations: 0\n",
        "         Function evaluations: 42\n",
        "         Gradient evaluations: 3\n",
        "Warning: Desired error not necessarily achieved due to precision loss.\n",
        "         Current function value: 5.607881\n",
        "         Iterations: 0\n",
        "         Function evaluations: 42\n",
        "         Gradient evaluations: 3\n",
        "Warning: Desired error not necessarily achieved due to precision loss."
       ]
      },
      {
       "output_type": "stream",
       "stream": "stdout",
       "text": [
        "\n",
        "         Current function value: 5.614221\n",
        "         Iterations: 0\n",
        "         Function evaluations: 42\n",
        "         Gradient evaluations: 3\n",
        "Warning: Desired error not necessarily achieved due to precision loss.\n",
        "         Current function value: 5.637690\n",
        "         Iterations: 0\n",
        "         Function evaluations: 42\n",
        "         Gradient evaluations: 3\n",
        "Warning: Desired error not necessarily achieved due to precision loss."
       ]
      },
      {
       "output_type": "stream",
       "stream": "stdout",
       "text": [
        "\n",
        "         Current function value: 5.616058\n",
        "         Iterations: 0\n",
        "         Function evaluations: 42\n",
        "         Gradient evaluations: 3\n",
        "Warning: Desired error not necessarily achieved due to precision loss.\n",
        "         Current function value: 5.578873\n",
        "         Iterations: 0\n",
        "         Function evaluations: 42\n",
        "         Gradient evaluations: 3\n",
        "Warning: Desired error not necessarily achieved due to precision loss."
       ]
      },
      {
       "output_type": "stream",
       "stream": "stdout",
       "text": [
        "\n",
        "         Current function value: 5.574870\n",
        "         Iterations: 0\n",
        "         Function evaluations: 42\n",
        "         Gradient evaluations: 3\n",
        "Warning: Desired error not necessarily achieved due to precision loss.\n",
        "         Current function value: 5.588406\n",
        "         Iterations: 0\n",
        "         Function evaluations: 42\n",
        "         Gradient evaluations: 3\n",
        "Warning: Desired error not necessarily achieved due to precision loss."
       ]
      },
      {
       "output_type": "stream",
       "stream": "stdout",
       "text": [
        "\n",
        "         Current function value: 5.634448\n",
        "         Iterations: 0\n",
        "         Function evaluations: 42\n",
        "         Gradient evaluations: 3\n",
        "Warning: Desired error not necessarily achieved due to precision loss.\n",
        "         Current function value: 5.603292\n",
        "         Iterations: 0\n",
        "         Function evaluations: 42\n",
        "         Gradient evaluations: 3\n",
        "Warning: Desired error not necessarily achieved due to precision loss."
       ]
      },
      {
       "output_type": "stream",
       "stream": "stdout",
       "text": [
        "\n",
        "         Current function value: 5.598892\n",
        "         Iterations: 0\n",
        "         Function evaluations: 42\n",
        "         Gradient evaluations: 3\n",
        "Warning: Desired error not necessarily achieved due to precision loss.\n",
        "         Current function value: 5.576526\n",
        "         Iterations: 0\n",
        "         Function evaluations: 42\n",
        "         Gradient evaluations: 3\n",
        "Warning: Desired error not necessarily achieved due to precision loss."
       ]
      },
      {
       "output_type": "stream",
       "stream": "stdout",
       "text": [
        "\n",
        "         Current function value: 5.595664\n",
        "         Iterations: 0\n",
        "         Function evaluations: 42\n",
        "         Gradient evaluations: 3\n",
        "Warning: Desired error not necessarily achieved due to precision loss.\n",
        "         Current function value: 5.613128\n",
        "         Iterations: 0\n",
        "         Function evaluations: 42\n",
        "         Gradient evaluations: 3\n",
        "Warning: Desired error not necessarily achieved due to precision loss."
       ]
      },
      {
       "output_type": "stream",
       "stream": "stdout",
       "text": [
        "\n",
        "         Current function value: 5.593698\n",
        "         Iterations: 0\n",
        "         Function evaluations: 42\n",
        "         Gradient evaluations: 3\n",
        "Warning: Desired error not necessarily achieved due to precision loss.\n",
        "         Current function value: 5.638513\n",
        "         Iterations: 0\n",
        "         Function evaluations: 42\n",
        "         Gradient evaluations: 3\n",
        "Warning: Desired error not necessarily achieved due to precision loss."
       ]
      },
      {
       "output_type": "stream",
       "stream": "stdout",
       "text": [
        "\n",
        "         Current function value: 5.601099\n",
        "         Iterations: 0\n",
        "         Function evaluations: 42\n",
        "         Gradient evaluations: 3\n",
        "Warning: Desired error not necessarily achieved due to precision loss.\n",
        "         Current function value: 5.643922\n",
        "         Iterations: 0\n",
        "         Function evaluations: 42\n",
        "         Gradient evaluations: 3\n",
        "Warning: Desired error not necessarily achieved due to precision loss."
       ]
      },
      {
       "output_type": "stream",
       "stream": "stdout",
       "text": [
        "\n",
        "         Current function value: 5.623239\n",
        "         Iterations: 0\n",
        "         Function evaluations: 42\n",
        "         Gradient evaluations: 3\n",
        "Warning: Desired error not necessarily achieved due to precision loss.\n",
        "         Current function value: 5.595111\n",
        "         Iterations: 0\n",
        "         Function evaluations: 42\n",
        "         Gradient evaluations: 3\n",
        "Warning: Desired error not necessarily achieved due to precision loss."
       ]
      },
      {
       "output_type": "stream",
       "stream": "stdout",
       "text": [
        "\n",
        "         Current function value: 5.600918\n",
        "         Iterations: 0\n",
        "         Function evaluations: 42\n",
        "         Gradient evaluations: 3\n",
        "Warning: Desired error not necessarily achieved due to precision loss.\n",
        "         Current function value: 5.540013\n",
        "         Iterations: 0\n",
        "         Function evaluations: 42\n",
        "         Gradient evaluations: 3\n",
        "Warning: Desired error not necessarily achieved due to precision loss."
       ]
      },
      {
       "output_type": "stream",
       "stream": "stdout",
       "text": [
        "\n",
        "         Current function value: 5.627720\n",
        "         Iterations: 0\n",
        "         Function evaluations: 42\n",
        "         Gradient evaluations: 3\n",
        "Warning: Desired error not necessarily achieved due to precision loss.\n",
        "         Current function value: 5.643839\n",
        "         Iterations: 0\n",
        "         Function evaluations: 42\n",
        "         Gradient evaluations: 3\n",
        "Warning: Desired error not necessarily achieved due to precision loss."
       ]
      },
      {
       "output_type": "stream",
       "stream": "stdout",
       "text": [
        "\n",
        "         Current function value: 5.606991\n",
        "         Iterations: 0\n",
        "         Function evaluations: 42\n",
        "         Gradient evaluations: 3\n",
        "Warning: Desired error not necessarily achieved due to precision loss.\n",
        "         Current function value: 5.576223\n",
        "         Iterations: 0\n",
        "         Function evaluations: 42\n",
        "         Gradient evaluations: 3\n",
        "Warning: Desired error not necessarily achieved due to precision loss."
       ]
      },
      {
       "output_type": "stream",
       "stream": "stdout",
       "text": [
        "\n",
        "         Current function value: 5.594996\n",
        "         Iterations: 0\n",
        "         Function evaluations: 42\n",
        "         Gradient evaluations: 3\n",
        "Warning: Desired error not necessarily achieved due to precision loss.\n",
        "         Current function value: 5.597293\n",
        "         Iterations: 0\n",
        "         Function evaluations: 42\n",
        "         Gradient evaluations: 3\n",
        "Warning: Desired error not necessarily achieved due to precision loss."
       ]
      },
      {
       "output_type": "stream",
       "stream": "stdout",
       "text": [
        "\n",
        "         Current function value: 5.589675\n",
        "         Iterations: 0\n",
        "         Function evaluations: 42\n",
        "         Gradient evaluations: 3\n",
        "Warning: Desired error not necessarily achieved due to precision loss.\n",
        "         Current function value: 5.647123\n",
        "         Iterations: 0\n",
        "         Function evaluations: 42\n",
        "         Gradient evaluations: 3\n",
        "Warning: Desired error not necessarily achieved due to precision loss."
       ]
      },
      {
       "output_type": "stream",
       "stream": "stdout",
       "text": [
        "\n",
        "         Current function value: 5.584139\n",
        "         Iterations: 0\n",
        "         Function evaluations: 42\n",
        "         Gradient evaluations: 3\n",
        "Warning: Desired error not necessarily achieved due to precision loss.\n",
        "         Current function value: 5.616274\n",
        "         Iterations: 0\n",
        "         Function evaluations: 42\n",
        "         Gradient evaluations: 3\n",
        "Warning: Desired error not necessarily achieved due to precision loss."
       ]
      },
      {
       "output_type": "stream",
       "stream": "stdout",
       "text": [
        "\n",
        "         Current function value: 5.609155\n",
        "         Iterations: 0\n",
        "         Function evaluations: 42\n",
        "         Gradient evaluations: 3\n",
        "Warning: Desired error not necessarily achieved due to precision loss.\n",
        "         Current function value: 5.613975\n",
        "         Iterations: 0\n",
        "         Function evaluations: 42\n",
        "         Gradient evaluations: 3\n",
        "Warning: Desired error not necessarily achieved due to precision loss."
       ]
      },
      {
       "output_type": "stream",
       "stream": "stdout",
       "text": [
        "\n",
        "         Current function value: 5.580093\n",
        "         Iterations: 0\n",
        "         Function evaluations: 42\n",
        "         Gradient evaluations: 3\n",
        "Warning: Desired error not necessarily achieved due to precision loss.\n",
        "         Current function value: 5.593741\n",
        "         Iterations: 0\n",
        "         Function evaluations: 42\n",
        "         Gradient evaluations: 3\n",
        "Warning: Desired error not necessarily achieved due to precision loss."
       ]
      },
      {
       "output_type": "stream",
       "stream": "stdout",
       "text": [
        "\n",
        "         Current function value: 5.595145\n",
        "         Iterations: 0\n",
        "         Function evaluations: 42\n",
        "         Gradient evaluations: 3\n",
        "Warning: Desired error not necessarily achieved due to precision loss.\n",
        "         Current function value: 5.613013\n",
        "         Iterations: 0\n",
        "         Function evaluations: 42\n",
        "         Gradient evaluations: 3\n",
        "Warning: Desired error not necessarily achieved due to precision loss."
       ]
      },
      {
       "output_type": "stream",
       "stream": "stdout",
       "text": [
        "\n",
        "         Current function value: 5.621161\n",
        "         Iterations: 0\n",
        "         Function evaluations: 42\n",
        "         Gradient evaluations: 3\n",
        "Warning: Desired error not necessarily achieved due to precision loss.\n",
        "         Current function value: 5.612273\n",
        "         Iterations: 0\n",
        "         Function evaluations: 42\n",
        "         Gradient evaluations: 3\n",
        "Warning: Desired error not necessarily achieved due to precision loss."
       ]
      },
      {
       "output_type": "stream",
       "stream": "stdout",
       "text": [
        "\n",
        "         Current function value: 5.578597\n",
        "         Iterations: 0\n",
        "         Function evaluations: 42\n",
        "         Gradient evaluations: 3\n",
        "Warning: Desired error not necessarily achieved due to precision loss.\n",
        "         Current function value: 5.611441\n",
        "         Iterations: 0\n",
        "         Function evaluations: 42\n",
        "         Gradient evaluations: 3\n",
        "Warning: Desired error not necessarily achieved due to precision loss."
       ]
      },
      {
       "output_type": "stream",
       "stream": "stdout",
       "text": [
        "\n",
        "         Current function value: 5.577239\n",
        "         Iterations: 0\n",
        "         Function evaluations: 42\n",
        "         Gradient evaluations: 3\n",
        "Warning: Desired error not necessarily achieved due to precision loss.\n",
        "         Current function value: 5.551397\n",
        "         Iterations: 0\n",
        "         Function evaluations: 42\n",
        "         Gradient evaluations: 3\n",
        "Warning: Desired error not necessarily achieved due to precision loss."
       ]
      },
      {
       "output_type": "stream",
       "stream": "stdout",
       "text": [
        "\n",
        "         Current function value: 5.586511\n",
        "         Iterations: 0\n",
        "         Function evaluations: 42\n",
        "         Gradient evaluations: 3\n",
        "Warning: Desired error not necessarily achieved due to precision loss.\n",
        "         Current function value: 5.635270\n",
        "         Iterations: 0\n",
        "         Function evaluations: 42\n",
        "         Gradient evaluations: 3\n",
        "Warning: Desired error not necessarily achieved due to precision loss."
       ]
      },
      {
       "output_type": "stream",
       "stream": "stdout",
       "text": [
        "\n",
        "         Current function value: 5.602999\n",
        "         Iterations: 0\n",
        "         Function evaluations: 42\n",
        "         Gradient evaluations: 3\n",
        "Warning: Desired error not necessarily achieved due to precision loss.\n",
        "         Current function value: 5.576024\n",
        "         Iterations: 0\n",
        "         Function evaluations: 42\n",
        "         Gradient evaluations: 3\n",
        "Warning: Desired error not necessarily achieved due to precision loss."
       ]
      },
      {
       "output_type": "stream",
       "stream": "stdout",
       "text": [
        "\n",
        "         Current function value: 5.595682\n",
        "         Iterations: 0\n",
        "         Function evaluations: 42\n",
        "         Gradient evaluations: 3\n",
        "Warning: Desired error not necessarily achieved due to precision loss.\n",
        "         Current function value: 5.591659\n",
        "         Iterations: 0\n",
        "         Function evaluations: 42\n",
        "         Gradient evaluations: 3\n",
        "Warning: Desired error not necessarily achieved due to precision loss."
       ]
      },
      {
       "output_type": "stream",
       "stream": "stdout",
       "text": [
        "\n",
        "         Current function value: 5.619963\n",
        "         Iterations: 0\n",
        "         Function evaluations: 42\n",
        "         Gradient evaluations: 3\n",
        "Warning: Desired error not necessarily achieved due to precision loss.\n",
        "         Current function value: 5.599575\n",
        "         Iterations: 0\n",
        "         Function evaluations: 42\n",
        "         Gradient evaluations: 3\n",
        "Warning: Desired error not necessarily achieved due to precision loss."
       ]
      },
      {
       "output_type": "stream",
       "stream": "stdout",
       "text": [
        "\n",
        "         Current function value: 5.586944\n",
        "         Iterations: 0\n",
        "         Function evaluations: 42\n",
        "         Gradient evaluations: 3\n",
        "Warning: Desired error not necessarily achieved due to precision loss.\n",
        "         Current function value: 5.613569\n",
        "         Iterations: 0\n",
        "         Function evaluations: 42\n",
        "         Gradient evaluations: 3\n",
        "Warning: Desired error not necessarily achieved due to precision loss."
       ]
      },
      {
       "output_type": "stream",
       "stream": "stdout",
       "text": [
        "\n",
        "         Current function value: 5.592151\n",
        "         Iterations: 0\n",
        "         Function evaluations: 42\n",
        "         Gradient evaluations: 3\n",
        "Warning: Desired error not necessarily achieved due to precision loss.\n",
        "         Current function value: 5.637095\n",
        "         Iterations: 0\n",
        "         Function evaluations: 42\n",
        "         Gradient evaluations: 3\n",
        "Warning: Desired error not necessarily achieved due to precision loss."
       ]
      },
      {
       "output_type": "stream",
       "stream": "stdout",
       "text": [
        "\n",
        "         Current function value: 5.587923\n",
        "         Iterations: 0\n",
        "         Function evaluations: 42\n",
        "         Gradient evaluations: 3\n",
        "Warning: Desired error not necessarily achieved due to precision loss.\n",
        "         Current function value: 5.639347\n",
        "         Iterations: 0\n",
        "         Function evaluations: 42\n",
        "         Gradient evaluations: 3\n",
        "Warning: Desired error not necessarily achieved due to precision loss."
       ]
      },
      {
       "output_type": "stream",
       "stream": "stdout",
       "text": [
        "\n",
        "         Current function value: 5.561407\n",
        "         Iterations: 0\n",
        "         Function evaluations: 42\n",
        "         Gradient evaluations: 3\n",
        "Warning: Desired error not necessarily achieved due to precision loss.\n",
        "         Current function value: 5.614288\n",
        "         Iterations: 0\n",
        "         Function evaluations: 42\n",
        "         Gradient evaluations: 3\n",
        "Warning: Desired error not necessarily achieved due to precision loss."
       ]
      },
      {
       "output_type": "stream",
       "stream": "stdout",
       "text": [
        "\n",
        "         Current function value: 5.579550\n",
        "         Iterations: 0\n",
        "         Function evaluations: 42\n",
        "         Gradient evaluations: 3\n",
        "Warning: Desired error not necessarily achieved due to precision loss.\n",
        "         Current function value: 5.597988\n",
        "         Iterations: 0\n",
        "         Function evaluations: 42\n",
        "         Gradient evaluations: 3\n",
        "Warning: Desired error not necessarily achieved due to precision loss."
       ]
      },
      {
       "output_type": "stream",
       "stream": "stdout",
       "text": [
        "\n",
        "         Current function value: 5.621560\n",
        "         Iterations: 0\n",
        "         Function evaluations: 42\n",
        "         Gradient evaluations: 3\n",
        "Warning: Desired error not necessarily achieved due to precision loss.\n",
        "         Current function value: 5.652860\n",
        "         Iterations: 0\n",
        "         Function evaluations: 42\n",
        "         Gradient evaluations: 3\n",
        "Warning: Desired error not necessarily achieved due to precision loss."
       ]
      },
      {
       "output_type": "stream",
       "stream": "stdout",
       "text": [
        "\n",
        "         Current function value: 5.617699\n",
        "         Iterations: 0\n",
        "         Function evaluations: 42\n",
        "         Gradient evaluations: 3\n",
        "Warning: Desired error not necessarily achieved due to precision loss.\n",
        "         Current function value: 5.600625\n",
        "         Iterations: 0\n",
        "         Function evaluations: 42\n",
        "         Gradient evaluations: 3\n",
        "Warning: Desired error not necessarily achieved due to precision loss."
       ]
      },
      {
       "output_type": "stream",
       "stream": "stdout",
       "text": [
        "\n",
        "         Current function value: 5.632638\n",
        "         Iterations: 0\n",
        "         Function evaluations: 42\n",
        "         Gradient evaluations: 3\n",
        "Warning: Desired error not necessarily achieved due to precision loss.\n",
        "         Current function value: 5.581128\n",
        "         Iterations: 0\n",
        "         Function evaluations: 42\n",
        "         Gradient evaluations: 3\n",
        "Warning: Desired error not necessarily achieved due to precision loss."
       ]
      },
      {
       "output_type": "stream",
       "stream": "stdout",
       "text": [
        "\n",
        "         Current function value: 5.575766\n",
        "         Iterations: 0\n",
        "         Function evaluations: 42\n",
        "         Gradient evaluations: 3\n",
        "Warning: Desired error not necessarily achieved due to precision loss.\n",
        "         Current function value: 5.559433\n",
        "         Iterations: 0\n",
        "         Function evaluations: 42\n",
        "         Gradient evaluations: 3\n",
        "Warning: Desired error not necessarily achieved due to precision loss."
       ]
      },
      {
       "output_type": "stream",
       "stream": "stdout",
       "text": [
        "\n",
        "         Current function value: 5.596471\n",
        "         Iterations: 0\n",
        "         Function evaluations: 42\n",
        "         Gradient evaluations: 3\n",
        "Warning: Desired error not necessarily achieved due to precision loss.\n",
        "         Current function value: 5.621745\n",
        "         Iterations: 0\n",
        "         Function evaluations: 42\n",
        "         Gradient evaluations: 3\n",
        "Warning: Desired error not necessarily achieved due to precision loss."
       ]
      },
      {
       "output_type": "stream",
       "stream": "stdout",
       "text": [
        "\n",
        "         Current function value: 5.567730\n",
        "         Iterations: 0\n",
        "         Function evaluations: 42\n",
        "         Gradient evaluations: 3\n",
        "Warning: Desired error not necessarily achieved due to precision loss.\n",
        "         Current function value: 5.624824\n",
        "         Iterations: 0\n",
        "         Function evaluations: 42\n",
        "         Gradient evaluations: 3\n",
        "Warning: Desired error not necessarily achieved due to precision loss."
       ]
      },
      {
       "output_type": "stream",
       "stream": "stdout",
       "text": [
        "\n",
        "         Current function value: 5.611585\n",
        "         Iterations: 0\n",
        "         Function evaluations: 42\n",
        "         Gradient evaluations: 3\n",
        "Warning: Desired error not necessarily achieved due to precision loss.\n",
        "         Current function value: 5.581309\n",
        "         Iterations: 0\n",
        "         Function evaluations: 42\n",
        "         Gradient evaluations: 3\n",
        "Warning: Desired error not necessarily achieved due to precision loss."
       ]
      },
      {
       "output_type": "stream",
       "stream": "stdout",
       "text": [
        "\n",
        "         Current function value: 5.604148\n",
        "         Iterations: 0\n",
        "         Function evaluations: 42\n",
        "         Gradient evaluations: 3\n",
        "Warning: Desired error not necessarily achieved due to precision loss.\n",
        "         Current function value: 5.562855\n",
        "         Iterations: 0\n",
        "         Function evaluations: 42\n",
        "         Gradient evaluations: 3\n",
        "Warning: Desired error not necessarily achieved due to precision loss."
       ]
      },
      {
       "output_type": "stream",
       "stream": "stdout",
       "text": [
        "\n",
        "         Current function value: 5.641794\n",
        "         Iterations: 0\n",
        "         Function evaluations: 42\n",
        "         Gradient evaluations: 3\n",
        "Warning: Desired error not necessarily achieved due to precision loss.\n",
        "         Current function value: 5.614925\n",
        "         Iterations: 0\n",
        "         Function evaluations: 42\n",
        "         Gradient evaluations: 3\n",
        "Warning: Desired error not necessarily achieved due to precision loss."
       ]
      },
      {
       "output_type": "stream",
       "stream": "stdout",
       "text": [
        "\n",
        "         Current function value: 5.635203\n",
        "         Iterations: 0\n",
        "         Function evaluations: 42\n",
        "         Gradient evaluations: 3\n",
        "Warning: Desired error not necessarily achieved due to precision loss.\n",
        "         Current function value: 5.597462\n",
        "         Iterations: 0\n",
        "         Function evaluations: 42\n",
        "         Gradient evaluations: 3\n",
        "Warning: Desired error not necessarily achieved due to precision loss."
       ]
      },
      {
       "output_type": "stream",
       "stream": "stdout",
       "text": [
        "\n",
        "         Current function value: 5.607116\n",
        "         Iterations: 0\n",
        "         Function evaluations: 42\n",
        "         Gradient evaluations: 3\n",
        "Warning: Desired error not necessarily achieved due to precision loss.\n",
        "         Current function value: 5.652451\n",
        "         Iterations: 0\n",
        "         Function evaluations: 42\n",
        "         Gradient evaluations: 3\n",
        "Warning: Desired error not necessarily achieved due to precision loss."
       ]
      },
      {
       "output_type": "stream",
       "stream": "stdout",
       "text": [
        "\n",
        "         Current function value: 5.637431\n",
        "         Iterations: 0\n",
        "         Function evaluations: 42\n",
        "         Gradient evaluations: 3\n",
        "Warning: Desired error not necessarily achieved due to precision loss.\n",
        "         Current function value: 5.627419\n",
        "         Iterations: 0\n",
        "         Function evaluations: 42\n",
        "         Gradient evaluations: 3\n",
        "Warning: Desired error not necessarily achieved due to precision loss."
       ]
      },
      {
       "output_type": "stream",
       "stream": "stdout",
       "text": [
        "\n",
        "         Current function value: 5.591211\n",
        "         Iterations: 0\n",
        "         Function evaluations: 42\n",
        "         Gradient evaluations: 3\n",
        "Warning: Desired error not necessarily achieved due to precision loss.\n",
        "         Current function value: 5.624488\n",
        "         Iterations: 0\n",
        "         Function evaluations: 42\n",
        "         Gradient evaluations: 3\n",
        "Warning: Desired error not necessarily achieved due to precision loss."
       ]
      },
      {
       "output_type": "stream",
       "stream": "stdout",
       "text": [
        "\n",
        "         Current function value: 5.598299\n",
        "         Iterations: 0\n",
        "         Function evaluations: 42\n",
        "         Gradient evaluations: 3\n",
        "Warning: Desired error not necessarily achieved due to precision loss.\n",
        "         Current function value: 5.609652\n",
        "         Iterations: 0\n",
        "         Function evaluations: 42\n",
        "         Gradient evaluations: 3\n",
        "Warning: Desired error not necessarily achieved due to precision loss."
       ]
      },
      {
       "output_type": "stream",
       "stream": "stdout",
       "text": [
        "\n",
        "         Current function value: 5.569747\n",
        "         Iterations: 0\n",
        "         Function evaluations: 42\n",
        "         Gradient evaluations: 3\n",
        "Warning: Desired error not necessarily achieved due to precision loss.\n",
        "         Current function value: 5.615979\n",
        "         Iterations: 0\n",
        "         Function evaluations: 42\n",
        "         Gradient evaluations: 3\n",
        "Warning: Desired error not necessarily achieved due to precision loss."
       ]
      },
      {
       "output_type": "stream",
       "stream": "stdout",
       "text": [
        "\n",
        "         Current function value: 5.607735\n",
        "         Iterations: 0\n",
        "         Function evaluations: 42\n",
        "         Gradient evaluations: 3\n",
        "Warning: Desired error not necessarily achieved due to precision loss.\n",
        "         Current function value: 5.580534\n",
        "         Iterations: 0\n",
        "         Function evaluations: 42\n",
        "         Gradient evaluations: 3\n",
        "Warning: Desired error not necessarily achieved due to precision loss."
       ]
      },
      {
       "output_type": "stream",
       "stream": "stdout",
       "text": [
        "\n",
        "         Current function value: 5.573178\n",
        "         Iterations: 0\n",
        "         Function evaluations: 42\n",
        "         Gradient evaluations: 3\n",
        "Warning: Desired error not necessarily achieved due to precision loss.\n",
        "         Current function value: 5.580582\n",
        "         Iterations: 0\n",
        "         Function evaluations: 42\n",
        "         Gradient evaluations: 3\n",
        "Warning: Desired error not necessarily achieved due to precision loss."
       ]
      },
      {
       "output_type": "stream",
       "stream": "stdout",
       "text": [
        "\n",
        "         Current function value: 5.610063\n",
        "         Iterations: 0\n",
        "         Function evaluations: 42\n",
        "         Gradient evaluations: 3\n",
        "Warning: Desired error not necessarily achieved due to precision loss.\n",
        "         Current function value: 5.584704\n",
        "         Iterations: 0\n",
        "         Function evaluations: 42\n",
        "         Gradient evaluations: 3\n",
        "Warning: Desired error not necessarily achieved due to precision loss."
       ]
      },
      {
       "output_type": "stream",
       "stream": "stdout",
       "text": [
        "\n",
        "         Current function value: 5.629519\n",
        "         Iterations: 0\n",
        "         Function evaluations: 42\n",
        "         Gradient evaluations: 3\n",
        "Warning: Desired error not necessarily achieved due to precision loss.\n",
        "         Current function value: 5.623777\n",
        "         Iterations: 0\n",
        "         Function evaluations: 42\n",
        "         Gradient evaluations: 3\n",
        "Warning: Desired error not necessarily achieved due to precision loss."
       ]
      },
      {
       "output_type": "stream",
       "stream": "stdout",
       "text": [
        "\n",
        "         Current function value: 5.557669\n",
        "         Iterations: 0\n",
        "         Function evaluations: 42\n",
        "         Gradient evaluations: 3\n",
        "Warning: Desired error not necessarily achieved due to precision loss.\n",
        "         Current function value: 5.622673\n",
        "         Iterations: 0\n",
        "         Function evaluations: 42\n",
        "         Gradient evaluations: 3\n",
        "Warning: Desired error not necessarily achieved due to precision loss."
       ]
      },
      {
       "output_type": "stream",
       "stream": "stdout",
       "text": [
        "\n",
        "         Current function value: 5.577038\n",
        "         Iterations: 0\n",
        "         Function evaluations: 42\n",
        "         Gradient evaluations: 3\n",
        "Warning: Desired error not necessarily achieved due to precision loss.\n",
        "         Current function value: 5.604937\n",
        "         Iterations: 0\n",
        "         Function evaluations: 42\n",
        "         Gradient evaluations: 3\n",
        "Warning: Desired error not necessarily achieved due to precision loss."
       ]
      },
      {
       "output_type": "stream",
       "stream": "stdout",
       "text": [
        "\n",
        "         Current function value: 5.581025\n",
        "         Iterations: 0\n",
        "         Function evaluations: 42\n",
        "         Gradient evaluations: 3\n",
        "Warning: Desired error not necessarily achieved due to precision loss.\n",
        "         Current function value: 5.627505\n",
        "         Iterations: 0\n",
        "         Function evaluations: 42\n",
        "         Gradient evaluations: 3\n",
        "Warning: Desired error not necessarily achieved due to precision loss."
       ]
      },
      {
       "output_type": "stream",
       "stream": "stdout",
       "text": [
        "\n",
        "         Current function value: 5.596456\n",
        "         Iterations: 0\n",
        "         Function evaluations: 42\n",
        "         Gradient evaluations: 3\n"
       ]
      }
     ],
     "prompt_number": 30
    },
    {
     "cell_type": "code",
     "collapsed": false,
     "input": [
      "#potential_energy( position_arr )#positions_store[potential_store.index(min(potential_store))] )\n",
      "np.sort(positions_store[potential_store.index(min(potential_store))])/position_rescale_coeff  - np.sort( chain.get_positions() )\n",
      "#np.sort(positions_store[potential_store.index(min(potential_store))])"
     ],
     "language": "python",
     "metadata": {},
     "outputs": [
      {
       "metadata": {},
       "output_type": "pyout",
       "prompt_number": 27,
       "text": [
        "array([ -4.70625862e-05,  -3.51568222e-05,  -2.15512997e-05,\n",
        "        -7.63979680e-06,   8.05656417e-06,   2.44650993e-05,\n",
        "         3.72258587e-05,   4.91544341e-05])"
       ]
      }
     ],
     "prompt_number": 27
    },
    {
     "cell_type": "code",
     "collapsed": false,
     "input": [
      "potential_energy(result_arr)"
     ],
     "language": "python",
     "metadata": {},
     "outputs": [
      {
       "metadata": {},
       "output_type": "pyout",
       "prompt_number": 31,
       "text": [
        "5.5400127621416146"
       ]
      }
     ],
     "prompt_number": 31
    },
    {
     "cell_type": "code",
     "collapsed": false,
     "input": [
      "potential_energy(np.array(chain.get_positions()))"
     ],
     "language": "python",
     "metadata": {},
     "outputs": [
      {
       "metadata": {},
       "output_type": "pyout",
       "prompt_number": 32,
       "text": [
        "3.3286201584711805"
       ]
      }
     ],
     "prompt_number": 32
    },
    {
     "cell_type": "code",
     "collapsed": false,
     "input": [
      "[(np.sort(chain.get_positions())[i]*position_rescale_coeff-result[i])/result[i] for i in range(len(result)) ]"
     ],
     "language": "python",
     "metadata": {},
     "outputs": [
      {
       "output_type": "stream",
       "stream": "stderr",
       "text": [
        "-c:1: RuntimeWarning: invalid value encountered in double_scalars\n"
       ]
      },
      {
       "metadata": {},
       "output_type": "pyout",
       "prompt_number": 149,
       "text": [
        "[-0.020882377488673935,\n",
        " 0.0029444241255991992,\n",
        " -0.049177801536915366,\n",
        " -0.024976954049015464,\n",
        " -0.027293509048855878,\n",
        " 0.036898246672094417,\n",
        " 0.011672307166676806,\n",
        " -0.027542916419347297,\n",
        " 0.028109487183493678,\n",
        " 0.054890430593492183,\n",
        " 0.058954023653111969,\n",
        " -0.15692982268178193,\n",
        " nan,\n",
        " 0.69368320557129226,\n",
        " -0.065272668128989339,\n",
        " 0.22685456433891565,\n",
        " 0.10606930788461623,\n",
        " -0.011244411958283202,\n",
        " 0.070371420418568684,\n",
        " 0.010700504244350522,\n",
        " 0.011541470461022822,\n",
        " 0.011877293693022853,\n",
        " 0.036103390724136313,\n",
        " 0.0095033851607228513,\n",
        " 0.013267772760209649]"
       ]
      }
     ],
     "prompt_number": 149
    },
    {
     "cell_type": "code",
     "collapsed": false,
     "input": [
      "result"
     ],
     "language": "python",
     "metadata": {},
     "outputs": [
      {
       "metadata": {},
       "output_type": "pyout",
       "prompt_number": 146,
       "text": [
        "array([ -1.02701250e-04,  -8.73532216e-05,  -8.10209031e-05,\n",
        "        -6.93829483e-05,  -6.06551372e-05,  -4.90428225e-05,\n",
        "        -4.25701880e-05,  -3.65555189e-05,  -2.74568587e-05,\n",
        "        -1.99586436e-05,  -1.32035747e-05,  -8.27344324e-06,\n",
        "         0.00000000e+00,   4.11829865e-06,   1.49583500e-05,\n",
        "         1.71611067e-05,   2.55215986e-05,   3.59529430e-05,\n",
        "         4.02356411e-05,   5.03140312e-05,   5.83264724e-05,\n",
        "         6.68559063e-05,   7.43521099e-05,   8.67856689e-05,\n",
        "         9.92399110e-05])"
       ]
      }
     ],
     "prompt_number": 146
    },
    {
     "cell_type": "code",
     "collapsed": false,
     "input": [
      "#Test accuracy of gradient descent for small outputs: So must be rescaled. \n",
      "rescale_coeff=1.e-6\n",
      "def rescale(func):\n",
      "    def wrapper(fun, arr):\n",
      "        return rescale_coeff * func(fun, np.array(arr)/rescale_coeff)\n",
      "    \n",
      "    return wrapper\n",
      "\n",
      "def fun(x):\n",
      "    return -2.0004e-6*x[0] + x[0]**2 - 1.0004e-6*x[1] + x[1]**2\n",
      "\n",
      "def find_min(func, arr):\n",
      "    return optimize.fmin_cg(func, arr)\n",
      "\n",
      "@rescale\n",
      "find_min(fun, [10e-9, 10e-9])"
     ],
     "language": "python",
     "metadata": {},
     "outputs": [
      {
       "ename": "SyntaxError",
       "evalue": "invalid syntax (<ipython-input-75-6f4c527c629e>, line 12)",
       "output_type": "pyerr",
       "traceback": [
        "\u001b[1;36m  File \u001b[1;32m\"<ipython-input-75-6f4c527c629e>\"\u001b[1;36m, line \u001b[1;32m12\u001b[0m\n\u001b[1;33m    optimize.fmin_cg(fun, [10e-9, 10e-9])\u001b[0m\n\u001b[1;37m           ^\u001b[0m\n\u001b[1;31mSyntaxError\u001b[0m\u001b[1;31m:\u001b[0m invalid syntax\n"
       ]
      }
     ],
     "prompt_number": 75
    },
    {
     "cell_type": "code",
     "collapsed": false,
     "input": [
      "np.average(position_arr)"
     ],
     "language": "python",
     "metadata": {},
     "outputs": [
      {
       "metadata": {},
       "output_type": "pyout",
       "prompt_number": 22,
       "text": [
        "0.099999174232459256"
       ]
      }
     ],
     "prompt_number": 22
    },
    {
     "cell_type": "code",
     "collapsed": false,
     "input": [
      "np.median(position_arr)"
     ],
     "language": "python",
     "metadata": {},
     "outputs": [
      {
       "metadata": {},
       "output_type": "pyout",
       "prompt_number": 24,
       "text": [
        "0.099999999999999992"
       ]
      }
     ],
     "prompt_number": 24
    },
    {
     "cell_type": "code",
     "collapsed": false,
     "input": [
      "position_arr"
     ],
     "language": "python",
     "metadata": {},
     "outputs": [
      {
       "metadata": {},
       "output_type": "pyout",
       "prompt_number": 25,
       "text": [
        "array([-3.49807562, -1.5971608 ,  0.1       ,  1.79715667,  3.69807562])"
       ]
      }
     ],
     "prompt_number": 25
    },
    {
     "cell_type": "code",
     "collapsed": false,
     "input": [
      "0.5 * p.mass * ( 2 * np.pi * omegaz)**2"
     ],
     "language": "python",
     "metadata": {},
     "outputs": [
      {
       "metadata": {},
       "output_type": "pyout",
       "prompt_number": 78,
       "text": [
        "1.3111099892884641e-14"
       ]
      }
     ],
     "prompt_number": 78
    },
    {
     "cell_type": "code",
     "collapsed": false,
     "input": [
      "minimize(cost, x0, method='Nelder-Mead')"
     ],
     "language": "python",
     "metadata": {},
     "outputs": [
      {
       "metadata": {},
       "output_type": "pyout",
       "prompt_number": 38,
       "text": [
        "0.07331776242855526"
       ]
      }
     ],
     "prompt_number": 38
    },
    {
     "cell_type": "code",
     "collapsed": false,
     "input": [
      "potential_energy( chain.get_positions() )"
     ],
     "language": "python",
     "metadata": {},
     "outputs": [
      {
       "metadata": {},
       "output_type": "pyout",
       "prompt_number": 100,
       "text": [
        "3.0803533441358183e-21"
       ]
      }
     ],
     "prompt_number": 100
    },
    {
     "cell_type": "code",
     "collapsed": false,
     "input": [
      "potential_energy( position_arr )"
     ],
     "language": "python",
     "metadata": {},
     "outputs": [
      {
       "metadata": {},
       "output_type": "pyout",
       "prompt_number": 95,
       "text": [
        "6.4702713460057568e-21"
       ]
      }
     ],
     "prompt_number": 95
    },
    {
     "cell_type": "code",
     "collapsed": false,
     "input": [
      "potential_energy( result_arr )"
     ],
     "language": "python",
     "metadata": {},
     "outputs": [
      {
       "metadata": {},
       "output_type": "pyout",
       "prompt_number": 96,
       "text": [
        "6.4702713460057568e-21"
       ]
      }
     ],
     "prompt_number": 96
    },
    {
     "cell_type": "code",
     "collapsed": false,
     "input": [
      "result_arr - position_arr"
     ],
     "language": "python",
     "metadata": {},
     "outputs": [
      {
       "metadata": {},
       "output_type": "pyout",
       "prompt_number": 99,
       "text": [
        "array([ 0.,  0.,  0.,  0.,  0.,  0.,  0.,  0.,  0.,  0.,  0.,  0.,  0.,\n",
        "        0.,  0.,  0.,  0.,  0.,  0.,  0.,  0.,  0.,  0.,  0.,  0.])"
       ]
      }
     ],
     "prompt_number": 99
    },
    {
     "cell_type": "code",
     "collapsed": false,
     "input": [
      "potential_energy( position_arr * position_rescale_coeff )"
     ],
     "language": "python",
     "metadata": {},
     "outputs": [
      {
       "metadata": {},
       "output_type": "pyout",
       "prompt_number": 117,
       "text": [
        "1.1355476272289347"
       ]
      }
     ],
     "prompt_number": 117
    },
    {
     "cell_type": "code",
     "collapsed": false,
     "input": [
      "minimizer_kwargs = {\"method\": \"L-BFGS-B\"}\n",
      "N = 5\n",
      "new_chain = Chain(N,2)\n",
      "new_trap  = IonTrap(omegax, omegaz)\n",
      "new_trap.load(new_chain)\n",
      "new_position_arr = new_chain.get_positions()\n",
      "for i in range(len(new_position_arr)):\n",
      "     #new_position_arr[i]  =  np.random.random() * 2.000000e-6 + new_position_arr[i]\n",
      "    new_position_arr[i]  =  15.e-6 * (range(N) - average(range(N)))\n",
      "ret = optimize.basinhopping(potential_energy, new_position_arr, minimizer_kwargs=minimizer_kwargs,\n",
      "                    niter=10)"
     ],
     "language": "python",
     "metadata": {},
     "outputs": [],
     "prompt_number": 38
    },
    {
     "cell_type": "code",
     "collapsed": false,
     "input": [
      "sort(ret.x/position_rescale_coeff) - sort(new_chain.get_positions())"
     ],
     "language": "python",
     "metadata": {},
     "outputs": [
      {
       "metadata": {},
       "output_type": "pyout",
       "prompt_number": 35,
       "text": [
        "array([ -3.59920318e-05,  -1.69850643e-05,  -1.51494980e-08,\n",
        "         1.69586067e-05,   3.59719675e-05])"
       ]
      }
     ],
     "prompt_number": 35
    },
    {
     "cell_type": "code",
     "collapsed": false,
     "input": [
      "ret.x"
     ],
     "language": "python",
     "metadata": {},
     "outputs": [
      {
       "metadata": {},
       "output_type": "pyout",
       "prompt_number": 32,
       "text": [
        "array([  3.65471206e-02,   7.74666603e-02,  -7.75524349e-02,\n",
        "         6.57924355e-05,  -3.65521675e-02])"
       ]
      }
     ],
     "prompt_number": 32
    },
    {
     "cell_type": "code",
     "collapsed": false,
     "input": [
      "omegax/omegaz**2"
     ],
     "language": "python",
     "metadata": {},
     "outputs": [
      {
       "metadata": {},
       "output_type": "pyout",
       "prompt_number": 115,
       "text": [
        "0.00021"
       ]
      }
     ],
     "prompt_number": 115
    },
    {
     "cell_type": "code",
     "collapsed": false,
     "input": [
      "linspace(-10,10,2)"
     ],
     "language": "python",
     "metadata": {},
     "outputs": [
      {
       "metadata": {},
       "output_type": "pyout",
       "prompt_number": 138,
       "text": [
        "array([-10.,  10.])"
       ]
      }
     ],
     "prompt_number": 138
    },
    {
     "cell_type": "code",
     "collapsed": false,
     "input": [
      "xrange(0,10)"
     ],
     "language": "python",
     "metadata": {},
     "outputs": [
      {
       "metadata": {},
       "output_type": "pyout",
       "prompt_number": 128,
       "text": [
        "xrange(10)"
       ]
      }
     ],
     "prompt_number": 128
    },
    {
     "cell_type": "code",
     "collapsed": false,
     "input": [
      "linspace(-100.e-6, 100.e-6, 20 )"
     ],
     "language": "python",
     "metadata": {},
     "outputs": [
      {
       "metadata": {},
       "output_type": "pyout",
       "prompt_number": 137,
       "text": [
        "array([ -1.00000000e-04,  -8.94736842e-05,  -7.89473684e-05,\n",
        "        -6.84210526e-05,  -5.78947368e-05,  -4.73684211e-05,\n",
        "        -3.68421053e-05,  -2.63157895e-05,  -1.57894737e-05,\n",
        "        -5.26315789e-06,   5.26315789e-06,   1.57894737e-05,\n",
        "         2.63157895e-05,   3.68421053e-05,   4.73684211e-05,\n",
        "         5.78947368e-05,   6.84210526e-05,   7.89473684e-05,\n",
        "         8.94736842e-05,   1.00000000e-04])"
       ]
      }
     ],
     "prompt_number": 137
    },
    {
     "cell_type": "code",
     "collapsed": false,
     "input": [
      "#Test with fsolve:\n",
      "N = 35\n",
      "#chain = Chain(N, 2)\n",
      "#dummy_trap = IonTrap( omegax , omegaz)\n",
      "#dummy_trap.load(chain)\n",
      "#position_arr  =   np.array( chain.get_positions() ) #+ .100000e-6\n",
      "#randomize initial point to test sensitivity:\n",
      "pot_diff = nd.Gradient( potential_energy )\n",
      "positions_store = []\n",
      "potential_store = []\n",
      "\n",
      "#initial positions seed:\n",
      "for j in range(1):\n",
      "    w = 400.e-6/(2.5*N)\n",
      "    for i in range(len(position_arr)):\n",
      "        #position_arr[i]  =  np.random.random() * 3.00000e-6 + chain.get_positions()[i]\n",
      "        position_arr[i]  =  np.random.random() * w + linspace(-200.e-6, 200.e-6, N )[i]\n",
      "    result_arr = fsolve( pot_diff , position_arr*position_rescale_coeff )\n",
      "    positions_store.append(result_arr)\n",
      "    potential_store.append(potential_energy(result_arr))\n",
      "\n",
      "result_arr   =  np.sort(positions_store[potential_store.index(min(potential_store))])/position_rescale_coeff \n",
      "#result_arr  =  optimize.minimize( potential_energy , position_arr, method='Nelder-Mead')\n",
      "\n",
      "#optimize.fsolve\n",
      "#result = np.sort(result_arr)-np.median(result_arr)\n",
      "#result \n",
      "#potential_energy( position_arr * position_rescale_coeff )"
     ],
     "language": "python",
     "metadata": {},
     "outputs": [],
     "prompt_number": 170
    },
    {
     "cell_type": "code",
     "collapsed": false,
     "input": [
      "len(result_arr )"
     ],
     "language": "python",
     "metadata": {},
     "outputs": [
      {
       "metadata": {},
       "output_type": "pyout",
       "prompt_number": 171,
       "text": [
        "25"
       ]
      }
     ],
     "prompt_number": 171
    },
    {
     "cell_type": "code",
     "collapsed": false,
     "input": [],
     "language": "python",
     "metadata": {},
     "outputs": []
    }
   ],
   "metadata": {}
  }
 ]
}