{
 "metadata": {
  "name": "",
  "signature": "sha256:e47b53f6fa05b5a320a2811e4ef84d1a79074aba996fc343adf763cebe7336c9"
 },
 "nbformat": 3,
 "nbformat_minor": 0,
 "worksheets": [
  {
   "cells": [
    {
     "cell_type": "code",
     "collapsed": false,
     "input": [
      "cd .."
     ],
     "language": "python",
     "metadata": {},
     "outputs": [
      {
       "output_type": "stream",
       "stream": "stdout",
       "text": [
        "/home/trxw/Documents/dfr/codes/quantum_play/ion-trap-qsim\n"
       ]
      }
     ],
     "prompt_number": 2
    },
    {
     "cell_type": "code",
     "collapsed": false,
     "input": [
      "import os,sys,inspect\n",
      "currentdir = os.path.dirname(os.path.abspath(inspect.getfile(inspect.currentframe())))\n",
      "parentdir = os.path.dirname(currentdir)\n",
      "sys.path.insert(0,parentdir) \n",
      "\n",
      "import numdifftools as nd\n",
      "from scipy import optimize\n",
      "from scipy.optimize import fsolve\n",
      "import numpy as np\n",
      "from simulation_parameters import simulation_parameters\n",
      "p = simulation_parameters()\n",
      "from ions import Chain\n",
      "from ion_trap import IonTrap"
     ],
     "language": "python",
     "metadata": {},
     "outputs": [],
     "prompt_number": 150
    },
    {
     "cell_type": "code",
     "collapsed": false,
     "input": [
      "   \n",
      "#def potential_at_positions( position_arr, potential_distribution ) \n",
      "#    for i in range(len(position_arr)):\n",
      "\n",
      "\n",
      "omegax = 2.1e6\n",
      "omegaz = 100.e3\n",
      "potential_rescale_coeff  = 1.000000000e22\n",
      "position_rescale_coeff = 1.#.000000000e5\n",
      "\n",
      "def rescale( func ):\n",
      "    \n",
      "    def wrapper( arr ):\n",
      "        return func( arr / position_rescale_coeff )\n",
      "    \n",
      "    return wrapper\n",
      "    \n",
      "@rescale\n",
      "def test_harmonic_potential(position_arr , omegaz =omegaz ):\n",
      "    return [ 0.5 * p.mass * ( 2 * np.pi * omegaz)**2 * position_arr[j]**2 for j in range( len(position_arr) ) ]\n",
      "\n",
      "compute_potential_arr   = test_harmonic_potential\n",
      "    \n",
      "def potential_decorator(func):\n",
      "\n",
      "    def wrapper( position_arr ):\n",
      "        potential_arr   =  compute_potential_arr(position_arr)\n",
      "        return func(position_arr, potential_arr)\n",
      "\n",
      "    return wrapper\n",
      "\n",
      "\n",
      "@potential_decorator\n",
      "def potential_energy(position_arr, potential_arr):\n",
      "\n",
      "    def diff(arr, i):\n",
      "        arr_result = []\n",
      "        for j, position in enumerate(arr):\n",
      "            if j != i:\n",
      "                arr_result += [position-arr[i]]\n",
      "        return arr_result\n",
      "\n",
      "    ion_ion_distances  =  lambda i: np.absolute( diff(position_arr, i) ) \n",
      "    __potential        =  0 \n",
      "\n",
      "    for i in range(len(position_arr)):\n",
      "        __potential   +=   potential_arr[i] + 0.5 * p.coulomb_coeff * sum( [ dist**-1 for dist in ion_ion_distances(i) ] )\n",
      "\n",
      "    return __potential * potential_rescale_coeff"
     ],
     "language": "python",
     "metadata": {},
     "outputs": [],
     "prompt_number": 105
    },
    {
     "cell_type": "code",
     "collapsed": false,
     "input": [
      "#Test with slightly perturbed harmonic potential: RESULT = 'WORKS FINE'\n",
      "N = 20\n",
      "chain = Chain(N, 2)\n",
      "dummy_trap = IonTrap( omegax , omegaz)\n",
      "dummy_trap.load(chain)\n",
      "position_arr  =   np.array( chain.get_positions() ) #+ .100000e-6\n",
      "#randomize initial point to test sensitivity:\n",
      "\n",
      "positions_store = []\n",
      "potential_store = []\n",
      "for i in range(60):\n",
      "    #initial positions seed:\n",
      "    for i in range(len(position_arr)):\n",
      "        #position_arr[i]  =  np.random.random() * 3.00000e-6 + chain.get_positions()[i]\n",
      "        position_arr[i]  =  np.random.random() * 10.00000e-6 + linspace(-100.e-6, 100.e-6, N )[i]\n",
      "    result_arr = optimize.fmin_cg( potential_energy , position_arr*position_rescale_coeff )\n",
      "    positions_store.append(result_arr)\n",
      "    potential_store.append(potential_energy(result_arr))\n",
      "\n",
      "result_arr   =  np.sort(positions_store[potential_store.index(min(potential_store))])/position_rescale_coeff \n",
      "#result_arr  =  optimize.minimize( potential_energy , position_arr, method='Nelder-Mead')\n",
      "\n",
      "#optimize.fsolve\n",
      "#result = np.sort(result_arr)-np.median(result_arr)\n",
      "#result \n",
      "#potential_energy( position_arr * position_rescale_coeff )"
     ],
     "language": "python",
     "metadata": {},
     "outputs": [
      {
       "output_type": "stream",
       "stream": "stdout",
       "text": [
        "Warning: Desired error not necessarily achieved due to precision loss.\n",
        "         Current function value: 22.311898\n",
        "         Iterations: 0\n",
        "         Function evaluations: 78\n",
        "         Gradient evaluations: 3\n",
        "Warning: Desired error not necessarily achieved due to precision loss."
       ]
      },
      {
       "output_type": "stream",
       "stream": "stdout",
       "text": [
        "\n",
        "         Current function value: 22.655182\n",
        "         Iterations: 0\n",
        "         Function evaluations: 78\n",
        "         Gradient evaluations: 3\n",
        "Warning: Desired error not necessarily achieved due to precision loss."
       ]
      },
      {
       "output_type": "stream",
       "stream": "stdout",
       "text": [
        "\n",
        "         Current function value: 22.766767\n",
        "         Iterations: 0\n",
        "         Function evaluations: 78\n",
        "         Gradient evaluations: 3\n",
        "Warning: Desired error not necessarily achieved due to precision loss."
       ]
      },
      {
       "output_type": "stream",
       "stream": "stdout",
       "text": [
        "\n",
        "         Current function value: 21.483067\n",
        "         Iterations: 0\n",
        "         Function evaluations: 78\n",
        "         Gradient evaluations: 3\n",
        "Warning: Desired error not necessarily achieved due to precision loss."
       ]
      },
      {
       "output_type": "stream",
       "stream": "stdout",
       "text": [
        "\n",
        "         Current function value: 23.812500\n",
        "         Iterations: 0\n",
        "         Function evaluations: 78\n",
        "         Gradient evaluations: 3\n",
        "Warning: Desired error not necessarily achieved due to precision loss."
       ]
      },
      {
       "output_type": "stream",
       "stream": "stdout",
       "text": [
        "\n",
        "         Current function value: 21.714201\n",
        "         Iterations: 0\n",
        "         Function evaluations: 78\n",
        "         Gradient evaluations: 3\n",
        "Warning: Desired error not necessarily achieved due to precision loss."
       ]
      },
      {
       "output_type": "stream",
       "stream": "stdout",
       "text": [
        "\n",
        "         Current function value: 24.543963\n",
        "         Iterations: 0\n",
        "         Function evaluations: 78\n",
        "         Gradient evaluations: 3\n",
        "Warning: Desired error not necessarily achieved due to precision loss."
       ]
      },
      {
       "output_type": "stream",
       "stream": "stdout",
       "text": [
        "\n",
        "         Current function value: 23.010303\n",
        "         Iterations: 0\n",
        "         Function evaluations: 78\n",
        "         Gradient evaluations: 3\n",
        "Warning: Desired error not necessarily achieved due to precision loss."
       ]
      },
      {
       "output_type": "stream",
       "stream": "stdout",
       "text": [
        "\n",
        "         Current function value: 24.897578\n",
        "         Iterations: 0\n",
        "         Function evaluations: 78\n",
        "         Gradient evaluations: 3\n",
        "Warning: Desired error not necessarily achieved due to precision loss."
       ]
      },
      {
       "output_type": "stream",
       "stream": "stdout",
       "text": [
        "\n",
        "         Current function value: 22.130697\n",
        "         Iterations: 0\n",
        "         Function evaluations: 78\n",
        "         Gradient evaluations: 3\n",
        "Warning: Desired error not necessarily achieved due to precision loss."
       ]
      },
      {
       "output_type": "stream",
       "stream": "stdout",
       "text": [
        "\n",
        "         Current function value: 21.847302\n",
        "         Iterations: 0\n",
        "         Function evaluations: 78\n",
        "         Gradient evaluations: 3\n",
        "Warning: Desired error not necessarily achieved due to precision loss."
       ]
      },
      {
       "output_type": "stream",
       "stream": "stdout",
       "text": [
        "\n",
        "         Current function value: 22.020362\n",
        "         Iterations: 0\n",
        "         Function evaluations: 78\n",
        "         Gradient evaluations: 3\n",
        "Warning: Desired error not necessarily achieved due to precision loss."
       ]
      },
      {
       "output_type": "stream",
       "stream": "stdout",
       "text": [
        "\n",
        "         Current function value: 25.004335\n",
        "         Iterations: 0\n",
        "         Function evaluations: 78\n",
        "         Gradient evaluations: 3\n",
        "Warning: Desired error not necessarily achieved due to precision loss."
       ]
      },
      {
       "output_type": "stream",
       "stream": "stdout",
       "text": [
        "\n",
        "         Current function value: 22.189552\n",
        "         Iterations: 0\n",
        "         Function evaluations: 78\n",
        "         Gradient evaluations: 3\n",
        "Warning: Desired error not necessarily achieved due to precision loss."
       ]
      },
      {
       "output_type": "stream",
       "stream": "stdout",
       "text": [
        "\n",
        "         Current function value: 21.660222\n",
        "         Iterations: 0\n",
        "         Function evaluations: 78\n",
        "         Gradient evaluations: 3\n",
        "Warning: Desired error not necessarily achieved due to precision loss."
       ]
      },
      {
       "output_type": "stream",
       "stream": "stdout",
       "text": [
        "\n",
        "         Current function value: 23.939863\n",
        "         Iterations: 0\n",
        "         Function evaluations: 78\n",
        "         Gradient evaluations: 3\n",
        "Warning: Desired error not necessarily achieved due to precision loss."
       ]
      },
      {
       "output_type": "stream",
       "stream": "stdout",
       "text": [
        "\n",
        "         Current function value: 21.771836\n",
        "         Iterations: 0\n",
        "         Function evaluations: 78\n",
        "         Gradient evaluations: 3\n",
        "Warning: Desired error not necessarily achieved due to precision loss."
       ]
      },
      {
       "output_type": "stream",
       "stream": "stdout",
       "text": [
        "\n",
        "         Current function value: 22.603812\n",
        "         Iterations: 0\n",
        "         Function evaluations: 78\n",
        "         Gradient evaluations: 3\n",
        "Warning: Desired error not necessarily achieved due to precision loss."
       ]
      },
      {
       "output_type": "stream",
       "stream": "stdout",
       "text": [
        "\n",
        "         Current function value: 23.323058\n",
        "         Iterations: 0\n",
        "         Function evaluations: 78\n",
        "         Gradient evaluations: 3\n",
        "Warning: Desired error not necessarily achieved due to precision loss."
       ]
      },
      {
       "output_type": "stream",
       "stream": "stdout",
       "text": [
        "\n",
        "         Current function value: 22.140404\n",
        "         Iterations: 0\n",
        "         Function evaluations: 78\n",
        "         Gradient evaluations: 3\n",
        "Warning: Desired error not necessarily achieved due to precision loss."
       ]
      },
      {
       "output_type": "stream",
       "stream": "stdout",
       "text": [
        "\n",
        "         Current function value: 23.282482\n",
        "         Iterations: 0\n",
        "         Function evaluations: 78\n",
        "         Gradient evaluations: 3\n",
        "Warning: Desired error not necessarily achieved due to precision loss."
       ]
      },
      {
       "output_type": "stream",
       "stream": "stdout",
       "text": [
        "\n",
        "         Current function value: 23.117651\n",
        "         Iterations: 0\n",
        "         Function evaluations: 78\n",
        "         Gradient evaluations: 3\n",
        "Warning: Desired error not necessarily achieved due to precision loss."
       ]
      },
      {
       "output_type": "stream",
       "stream": "stdout",
       "text": [
        "\n",
        "         Current function value: 22.732615\n",
        "         Iterations: 0\n",
        "         Function evaluations: 78\n",
        "         Gradient evaluations: 3\n",
        "Warning: Desired error not necessarily achieved due to precision loss."
       ]
      },
      {
       "output_type": "stream",
       "stream": "stdout",
       "text": [
        "\n",
        "         Current function value: 21.807282\n",
        "         Iterations: 0\n",
        "         Function evaluations: 78\n",
        "         Gradient evaluations: 3\n",
        "Warning: Desired error not necessarily achieved due to precision loss."
       ]
      },
      {
       "output_type": "stream",
       "stream": "stdout",
       "text": [
        "\n",
        "         Current function value: 23.212045\n",
        "         Iterations: 0\n",
        "         Function evaluations: 78\n",
        "         Gradient evaluations: 3\n",
        "Warning: Desired error not necessarily achieved due to precision loss."
       ]
      },
      {
       "output_type": "stream",
       "stream": "stdout",
       "text": [
        "\n",
        "         Current function value: 22.000780\n",
        "         Iterations: 0\n",
        "         Function evaluations: 78\n",
        "         Gradient evaluations: 3\n",
        "Warning: Desired error not necessarily achieved due to precision loss."
       ]
      },
      {
       "output_type": "stream",
       "stream": "stdout",
       "text": [
        "\n",
        "         Current function value: 22.181616\n",
        "         Iterations: 0\n",
        "         Function evaluations: 78\n",
        "         Gradient evaluations: 3\n",
        "Warning: Desired error not necessarily achieved due to precision loss."
       ]
      },
      {
       "output_type": "stream",
       "stream": "stdout",
       "text": [
        "\n",
        "         Current function value: 22.100189\n",
        "         Iterations: 0\n",
        "         Function evaluations: 78\n",
        "         Gradient evaluations: 3\n",
        "Warning: Desired error not necessarily achieved due to precision loss."
       ]
      },
      {
       "output_type": "stream",
       "stream": "stdout",
       "text": [
        "\n",
        "         Current function value: 21.603356\n",
        "         Iterations: 0\n",
        "         Function evaluations: 78\n",
        "         Gradient evaluations: 3\n",
        "Warning: Desired error not necessarily achieved due to precision loss."
       ]
      },
      {
       "output_type": "stream",
       "stream": "stdout",
       "text": [
        "\n",
        "         Current function value: 22.125545\n",
        "         Iterations: 0\n",
        "         Function evaluations: 78\n",
        "         Gradient evaluations: 3\n",
        "Warning: Desired error not necessarily achieved due to precision loss."
       ]
      },
      {
       "output_type": "stream",
       "stream": "stdout",
       "text": [
        "\n",
        "         Current function value: 22.487344\n",
        "         Iterations: 0\n",
        "         Function evaluations: 78\n",
        "         Gradient evaluations: 3\n",
        "Warning: Desired error not necessarily achieved due to precision loss."
       ]
      },
      {
       "output_type": "stream",
       "stream": "stdout",
       "text": [
        "\n",
        "         Current function value: 22.618464\n",
        "         Iterations: 0\n",
        "         Function evaluations: 78\n",
        "         Gradient evaluations: 3\n",
        "Warning: Desired error not necessarily achieved due to precision loss."
       ]
      },
      {
       "output_type": "stream",
       "stream": "stdout",
       "text": [
        "\n",
        "         Current function value: 23.504580\n",
        "         Iterations: 0\n",
        "         Function evaluations: 78\n",
        "         Gradient evaluations: 3\n",
        "Warning: Desired error not necessarily achieved due to precision loss."
       ]
      },
      {
       "output_type": "stream",
       "stream": "stdout",
       "text": [
        "\n",
        "         Current function value: 23.539474\n",
        "         Iterations: 0\n",
        "         Function evaluations: 78\n",
        "         Gradient evaluations: 3\n",
        "Warning: Desired error not necessarily achieved due to precision loss."
       ]
      },
      {
       "output_type": "stream",
       "stream": "stdout",
       "text": [
        "\n",
        "         Current function value: 22.345594\n",
        "         Iterations: 0\n",
        "         Function evaluations: 78\n",
        "         Gradient evaluations: 3\n",
        "Warning: Desired error not necessarily achieved due to precision loss."
       ]
      },
      {
       "output_type": "stream",
       "stream": "stdout",
       "text": [
        "\n",
        "         Current function value: 22.030224\n",
        "         Iterations: 0\n",
        "         Function evaluations: 78\n",
        "         Gradient evaluations: 3\n",
        "Warning: Desired error not necessarily achieved due to precision loss."
       ]
      },
      {
       "output_type": "stream",
       "stream": "stdout",
       "text": [
        "\n",
        "         Current function value: 24.491975\n",
        "         Iterations: 0\n",
        "         Function evaluations: 78\n",
        "         Gradient evaluations: 3\n",
        "Warning: Desired error not necessarily achieved due to precision loss."
       ]
      },
      {
       "output_type": "stream",
       "stream": "stdout",
       "text": [
        "\n",
        "         Current function value: 23.175161\n",
        "         Iterations: 0\n",
        "         Function evaluations: 78\n",
        "         Gradient evaluations: 3\n",
        "Warning: Desired error not necessarily achieved due to precision loss."
       ]
      },
      {
       "output_type": "stream",
       "stream": "stdout",
       "text": [
        "\n",
        "         Current function value: 23.642726\n",
        "         Iterations: 0\n",
        "         Function evaluations: 78\n",
        "         Gradient evaluations: 3\n",
        "Warning: Desired error not necessarily achieved due to precision loss."
       ]
      },
      {
       "output_type": "stream",
       "stream": "stdout",
       "text": [
        "\n",
        "         Current function value: 21.779911\n",
        "         Iterations: 0\n",
        "         Function evaluations: 78\n",
        "         Gradient evaluations: 3\n",
        "Warning: Desired error not necessarily achieved due to precision loss."
       ]
      },
      {
       "output_type": "stream",
       "stream": "stdout",
       "text": [
        "\n",
        "         Current function value: 21.647596\n",
        "         Iterations: 0\n",
        "         Function evaluations: 78\n",
        "         Gradient evaluations: 3\n",
        "Warning: Desired error not necessarily achieved due to precision loss."
       ]
      },
      {
       "output_type": "stream",
       "stream": "stdout",
       "text": [
        "\n",
        "         Current function value: 23.249065\n",
        "         Iterations: 0\n",
        "         Function evaluations: 78\n",
        "         Gradient evaluations: 3\n",
        "Warning: Desired error not necessarily achieved due to precision loss."
       ]
      },
      {
       "output_type": "stream",
       "stream": "stdout",
       "text": [
        "\n",
        "         Current function value: 22.627825\n",
        "         Iterations: 0\n",
        "         Function evaluations: 78\n",
        "         Gradient evaluations: 3\n",
        "Warning: Desired error not necessarily achieved due to precision loss."
       ]
      },
      {
       "output_type": "stream",
       "stream": "stdout",
       "text": [
        "\n",
        "         Current function value: 24.916147\n",
        "         Iterations: 0\n",
        "         Function evaluations: 78\n",
        "         Gradient evaluations: 3\n",
        "Warning: Desired error not necessarily achieved due to precision loss."
       ]
      },
      {
       "output_type": "stream",
       "stream": "stdout",
       "text": [
        "\n",
        "         Current function value: 22.525173\n",
        "         Iterations: 0\n",
        "         Function evaluations: 78\n",
        "         Gradient evaluations: 3\n",
        "Warning: Desired error not necessarily achieved due to precision loss."
       ]
      },
      {
       "output_type": "stream",
       "stream": "stdout",
       "text": [
        "\n",
        "         Current function value: 21.855872\n",
        "         Iterations: 0\n",
        "         Function evaluations: 78\n",
        "         Gradient evaluations: 3\n",
        "Warning: Desired error not necessarily achieved due to precision loss."
       ]
      },
      {
       "output_type": "stream",
       "stream": "stdout",
       "text": [
        "\n",
        "         Current function value: 22.620077\n",
        "         Iterations: 0\n",
        "         Function evaluations: 78\n",
        "         Gradient evaluations: 3\n",
        "Warning: Desired error not necessarily achieved due to precision loss."
       ]
      },
      {
       "output_type": "stream",
       "stream": "stdout",
       "text": [
        "\n",
        "         Current function value: 21.932212\n",
        "         Iterations: 0\n",
        "         Function evaluations: 78\n",
        "         Gradient evaluations: 3\n",
        "Warning: Desired error not necessarily achieved due to precision loss."
       ]
      },
      {
       "output_type": "stream",
       "stream": "stdout",
       "text": [
        "\n",
        "         Current function value: 22.568392\n",
        "         Iterations: 0\n",
        "         Function evaluations: 78\n",
        "         Gradient evaluations: 3\n",
        "Warning: Desired error not necessarily achieved due to precision loss."
       ]
      },
      {
       "output_type": "stream",
       "stream": "stdout",
       "text": [
        "\n",
        "         Current function value: 21.927540\n",
        "         Iterations: 0\n",
        "         Function evaluations: 78\n",
        "         Gradient evaluations: 3\n",
        "Warning: Desired error not necessarily achieved due to precision loss."
       ]
      },
      {
       "output_type": "stream",
       "stream": "stdout",
       "text": [
        "\n",
        "         Current function value: 22.492187\n",
        "         Iterations: 0\n",
        "         Function evaluations: 78\n",
        "         Gradient evaluations: 3\n",
        "Warning: Desired error not necessarily achieved due to precision loss."
       ]
      },
      {
       "output_type": "stream",
       "stream": "stdout",
       "text": [
        "\n",
        "         Current function value: 23.137508\n",
        "         Iterations: 0\n",
        "         Function evaluations: 78\n",
        "         Gradient evaluations: 3\n",
        "Warning: Desired error not necessarily achieved due to precision loss."
       ]
      },
      {
       "output_type": "stream",
       "stream": "stdout",
       "text": [
        "\n",
        "         Current function value: 22.600395\n",
        "         Iterations: 0\n",
        "         Function evaluations: 78\n",
        "         Gradient evaluations: 3\n",
        "Warning: Desired error not necessarily achieved due to precision loss."
       ]
      },
      {
       "output_type": "stream",
       "stream": "stdout",
       "text": [
        "\n",
        "         Current function value: 21.846193\n",
        "         Iterations: 0\n",
        "         Function evaluations: 78\n",
        "         Gradient evaluations: 3\n",
        "Warning: Desired error not necessarily achieved due to precision loss."
       ]
      },
      {
       "output_type": "stream",
       "stream": "stdout",
       "text": [
        "\n",
        "         Current function value: 22.408327\n",
        "         Iterations: 0\n",
        "         Function evaluations: 78\n",
        "         Gradient evaluations: 3\n",
        "Warning: Desired error not necessarily achieved due to precision loss."
       ]
      },
      {
       "output_type": "stream",
       "stream": "stdout",
       "text": [
        "\n",
        "         Current function value: 22.992545\n",
        "         Iterations: 0\n",
        "         Function evaluations: 78\n",
        "         Gradient evaluations: 3\n",
        "Warning: Desired error not necessarily achieved due to precision loss."
       ]
      },
      {
       "output_type": "stream",
       "stream": "stdout",
       "text": [
        "\n",
        "         Current function value: 22.123813\n",
        "         Iterations: 0\n",
        "         Function evaluations: 78\n",
        "         Gradient evaluations: 3\n",
        "Warning: Desired error not necessarily achieved due to precision loss."
       ]
      },
      {
       "output_type": "stream",
       "stream": "stdout",
       "text": [
        "\n",
        "         Current function value: 21.921262\n",
        "         Iterations: 0\n",
        "         Function evaluations: 78\n",
        "         Gradient evaluations: 3\n",
        "Warning: Desired error not necessarily achieved due to precision loss."
       ]
      },
      {
       "output_type": "stream",
       "stream": "stdout",
       "text": [
        "\n",
        "         Current function value: 22.668838\n",
        "         Iterations: 0\n",
        "         Function evaluations: 78\n",
        "         Gradient evaluations: 3\n",
        "Warning: Desired error not necessarily achieved due to precision loss."
       ]
      },
      {
       "output_type": "stream",
       "stream": "stdout",
       "text": [
        "\n",
        "         Current function value: 23.294496\n",
        "         Iterations: 0\n",
        "         Function evaluations: 78\n",
        "         Gradient evaluations: 3\n"
       ]
      }
     ],
     "prompt_number": 144
    },
    {
     "cell_type": "code",
     "collapsed": false,
     "input": [
      "#potential_energy( position_arr )#positions_store[potential_store.index(min(potential_store))] )\n",
      "np.sort(positions_store[potential_store.index(min(potential_store))])/position_rescale_coeff  - np.sort( chain.get_positions() )\n",
      "#np.sort(positions_store[potential_store.index(min(potential_store))])"
     ],
     "language": "python",
     "metadata": {},
     "outputs": [
      {
       "metadata": {},
       "output_type": "pyout",
       "prompt_number": 145,
       "text": [
        "array([ -1.05029649e-05,  -1.06720069e-05,  -8.99598867e-06,\n",
        "        -8.59611879e-06,  -7.62202414e-06,  -6.78012957e-06,\n",
        "         1.47442489e-07,  -1.34641209e-06,   8.44983870e-07,\n",
        "        -8.64169863e-07,   5.81332573e-06,   6.62698385e-06,\n",
        "         1.27877667e-05,   1.36328160e-05,   1.75294620e-05,\n",
        "         1.44732595e-05,   1.76939473e-05,   1.96924235e-05,\n",
        "         1.43584532e-05,   1.18317866e-05])"
       ]
      }
     ],
     "prompt_number": 145
    },
    {
     "cell_type": "code",
     "collapsed": false,
     "input": [
      "np.sort(result_arr)-chain.get_positions()"
     ],
     "language": "python",
     "metadata": {},
     "outputs": [
      {
       "metadata": {},
       "output_type": "pyout",
       "prompt_number": 72,
       "text": [
        "array([  2.48037083e-06,   4.74564297e-07,   1.90709588e-06,\n",
        "         2.52246848e-06,   2.43515673e-06,   4.12147447e-07,\n",
        "         1.29453227e-06,   1.45373359e-06,   5.45796950e-07,\n",
        "         2.21167846e-08,   7.51972304e-07,   1.09606726e-06,\n",
        "         2.99341526e-06,   1.44823028e-06,   2.38995910e-07])"
       ]
      }
     ],
     "prompt_number": 72
    },
    {
     "cell_type": "code",
     "collapsed": false,
     "input": [
      "chain.get_positions()"
     ],
     "language": "python",
     "metadata": {},
     "outputs": [
      {
       "metadata": {},
       "output_type": "pyout",
       "prompt_number": 47,
       "text": [
        "[-3.5980756163374047e-05,\n",
        " -1.6971608022643851e-05,\n",
        " 0.0,\n",
        " 1.6971566734266823e-05,\n",
        " 3.5980756163374047e-05]"
       ]
      }
     ],
     "prompt_number": 47
    },
    {
     "cell_type": "code",
     "collapsed": false,
     "input": [
      "[(np.sort(chain.get_positions())[i]*position_rescale_coeff-result[i])/result[i] for i in range(len(result)) ]"
     ],
     "language": "python",
     "metadata": {},
     "outputs": [
      {
       "output_type": "stream",
       "stream": "stderr",
       "text": [
        "-c:1: RuntimeWarning: invalid value encountered in double_scalars\n"
       ]
      },
      {
       "metadata": {},
       "output_type": "pyout",
       "prompt_number": 149,
       "text": [
        "[-0.020882377488673935,\n",
        " 0.0029444241255991992,\n",
        " -0.049177801536915366,\n",
        " -0.024976954049015464,\n",
        " -0.027293509048855878,\n",
        " 0.036898246672094417,\n",
        " 0.011672307166676806,\n",
        " -0.027542916419347297,\n",
        " 0.028109487183493678,\n",
        " 0.054890430593492183,\n",
        " 0.058954023653111969,\n",
        " -0.15692982268178193,\n",
        " nan,\n",
        " 0.69368320557129226,\n",
        " -0.065272668128989339,\n",
        " 0.22685456433891565,\n",
        " 0.10606930788461623,\n",
        " -0.011244411958283202,\n",
        " 0.070371420418568684,\n",
        " 0.010700504244350522,\n",
        " 0.011541470461022822,\n",
        " 0.011877293693022853,\n",
        " 0.036103390724136313,\n",
        " 0.0095033851607228513,\n",
        " 0.013267772760209649]"
       ]
      }
     ],
     "prompt_number": 149
    },
    {
     "cell_type": "code",
     "collapsed": false,
     "input": [
      "result"
     ],
     "language": "python",
     "metadata": {},
     "outputs": [
      {
       "metadata": {},
       "output_type": "pyout",
       "prompt_number": 146,
       "text": [
        "array([ -1.02701250e-04,  -8.73532216e-05,  -8.10209031e-05,\n",
        "        -6.93829483e-05,  -6.06551372e-05,  -4.90428225e-05,\n",
        "        -4.25701880e-05,  -3.65555189e-05,  -2.74568587e-05,\n",
        "        -1.99586436e-05,  -1.32035747e-05,  -8.27344324e-06,\n",
        "         0.00000000e+00,   4.11829865e-06,   1.49583500e-05,\n",
        "         1.71611067e-05,   2.55215986e-05,   3.59529430e-05,\n",
        "         4.02356411e-05,   5.03140312e-05,   5.83264724e-05,\n",
        "         6.68559063e-05,   7.43521099e-05,   8.67856689e-05,\n",
        "         9.92399110e-05])"
       ]
      }
     ],
     "prompt_number": 146
    },
    {
     "cell_type": "code",
     "collapsed": false,
     "input": [
      "#Test accuracy of gradient descent for small outputs: So must be rescaled. \n",
      "rescale_coeff=1.e-6\n",
      "def rescale(func):\n",
      "    def wrapper(fun, arr):\n",
      "        return rescale_coeff * func(fun, np.array(arr)/rescale_coeff)\n",
      "    \n",
      "    return wrapper\n",
      "\n",
      "def fun(x):\n",
      "    return -2.0004e-6*x[0] + x[0]**2 - 1.0004e-6*x[1] + x[1]**2\n",
      "\n",
      "def find_min(func, arr):\n",
      "    return optimize.fmin_cg(func, arr)\n",
      "\n",
      "@rescale\n",
      "find_min(fun, [10e-9, 10e-9])"
     ],
     "language": "python",
     "metadata": {},
     "outputs": [
      {
       "ename": "SyntaxError",
       "evalue": "invalid syntax (<ipython-input-75-6f4c527c629e>, line 12)",
       "output_type": "pyerr",
       "traceback": [
        "\u001b[1;36m  File \u001b[1;32m\"<ipython-input-75-6f4c527c629e>\"\u001b[1;36m, line \u001b[1;32m12\u001b[0m\n\u001b[1;33m    optimize.fmin_cg(fun, [10e-9, 10e-9])\u001b[0m\n\u001b[1;37m           ^\u001b[0m\n\u001b[1;31mSyntaxError\u001b[0m\u001b[1;31m:\u001b[0m invalid syntax\n"
       ]
      }
     ],
     "prompt_number": 75
    },
    {
     "cell_type": "code",
     "collapsed": false,
     "input": [
      "np.average(position_arr)"
     ],
     "language": "python",
     "metadata": {},
     "outputs": [
      {
       "metadata": {},
       "output_type": "pyout",
       "prompt_number": 22,
       "text": [
        "0.099999174232459256"
       ]
      }
     ],
     "prompt_number": 22
    },
    {
     "cell_type": "code",
     "collapsed": false,
     "input": [
      "np.median(position_arr)"
     ],
     "language": "python",
     "metadata": {},
     "outputs": [
      {
       "metadata": {},
       "output_type": "pyout",
       "prompt_number": 24,
       "text": [
        "0.099999999999999992"
       ]
      }
     ],
     "prompt_number": 24
    },
    {
     "cell_type": "code",
     "collapsed": false,
     "input": [
      "position_arr"
     ],
     "language": "python",
     "metadata": {},
     "outputs": [
      {
       "metadata": {},
       "output_type": "pyout",
       "prompt_number": 25,
       "text": [
        "array([-3.49807562, -1.5971608 ,  0.1       ,  1.79715667,  3.69807562])"
       ]
      }
     ],
     "prompt_number": 25
    },
    {
     "cell_type": "code",
     "collapsed": false,
     "input": [
      "0.5 * p.mass * ( 2 * np.pi * omegaz)**2"
     ],
     "language": "python",
     "metadata": {},
     "outputs": [
      {
       "metadata": {},
       "output_type": "pyout",
       "prompt_number": 78,
       "text": [
        "1.3111099892884641e-14"
       ]
      }
     ],
     "prompt_number": 78
    },
    {
     "cell_type": "code",
     "collapsed": false,
     "input": [
      "minimize(cost, x0, method='Nelder-Mead')"
     ],
     "language": "python",
     "metadata": {},
     "outputs": [
      {
       "metadata": {},
       "output_type": "pyout",
       "prompt_number": 38,
       "text": [
        "0.07331776242855526"
       ]
      }
     ],
     "prompt_number": 38
    },
    {
     "cell_type": "code",
     "collapsed": false,
     "input": [
      "potential_energy( chain.get_positions() )"
     ],
     "language": "python",
     "metadata": {},
     "outputs": [
      {
       "metadata": {},
       "output_type": "pyout",
       "prompt_number": 100,
       "text": [
        "3.0803533441358183e-21"
       ]
      }
     ],
     "prompt_number": 100
    },
    {
     "cell_type": "code",
     "collapsed": false,
     "input": [
      "potential_energy( position_arr )"
     ],
     "language": "python",
     "metadata": {},
     "outputs": [
      {
       "metadata": {},
       "output_type": "pyout",
       "prompt_number": 95,
       "text": [
        "6.4702713460057568e-21"
       ]
      }
     ],
     "prompt_number": 95
    },
    {
     "cell_type": "code",
     "collapsed": false,
     "input": [
      "potential_energy( result_arr )"
     ],
     "language": "python",
     "metadata": {},
     "outputs": [
      {
       "metadata": {},
       "output_type": "pyout",
       "prompt_number": 96,
       "text": [
        "6.4702713460057568e-21"
       ]
      }
     ],
     "prompt_number": 96
    },
    {
     "cell_type": "code",
     "collapsed": false,
     "input": [
      "result_arr - position_arr"
     ],
     "language": "python",
     "metadata": {},
     "outputs": [
      {
       "metadata": {},
       "output_type": "pyout",
       "prompt_number": 99,
       "text": [
        "array([ 0.,  0.,  0.,  0.,  0.,  0.,  0.,  0.,  0.,  0.,  0.,  0.,  0.,\n",
        "        0.,  0.,  0.,  0.,  0.,  0.,  0.,  0.,  0.,  0.,  0.,  0.])"
       ]
      }
     ],
     "prompt_number": 99
    },
    {
     "cell_type": "code",
     "collapsed": false,
     "input": [
      "potential_energy( position_arr * position_rescale_coeff )"
     ],
     "language": "python",
     "metadata": {},
     "outputs": [
      {
       "metadata": {},
       "output_type": "pyout",
       "prompt_number": 117,
       "text": [
        "1.1355476272289347"
       ]
      }
     ],
     "prompt_number": 117
    },
    {
     "cell_type": "code",
     "collapsed": false,
     "input": [
      "minimizer_kwargs = {\"method\": \"L-BFGS-B\"}\n",
      "new_chain = Chain(5,2)\n",
      "new_trap  = IonTrap(omegax, omegaz)\n",
      "new_trap.load(new_chain)\n",
      "new_position_arr = new_chain.get_positions()\n",
      "for i in range(len(new_position_arr)):\n",
      "     new_position_arr[i]  =  np.random.random() * 2.000000e-6 + new_position_arr[i]\n",
      "\n",
      "ret = optimize.basinhopping(potential_energy, new_position_arr, minimizer_kwargs=minimizer_kwargs,\n",
      "                    niter=100)"
     ],
     "language": "python",
     "metadata": {},
     "outputs": [],
     "prompt_number": 146
    },
    {
     "cell_type": "code",
     "collapsed": false,
     "input": [
      "ret.x/position_rescale_coeff - new_chain.get_positions()"
     ],
     "language": "python",
     "metadata": {},
     "outputs": [
      {
       "metadata": {},
       "output_type": "pyout",
       "prompt_number": 147,
       "text": [
        "array([ -8.37848391e-09,   3.39376481e-05,  -1.81327694e-09,\n",
        "        -3.39506561e-05,  -1.71414669e-08])"
       ]
      }
     ],
     "prompt_number": 147
    },
    {
     "cell_type": "code",
     "collapsed": false,
     "input": [
      "ret.x"
     ],
     "language": "python",
     "metadata": {},
     "outputs": [
      {
       "metadata": {},
       "output_type": "pyout",
       "prompt_number": 32,
       "text": [
        "array([  3.65471206e-02,   7.74666603e-02,  -7.75524349e-02,\n",
        "         6.57924355e-05,  -3.65521675e-02])"
       ]
      }
     ],
     "prompt_number": 32
    },
    {
     "cell_type": "code",
     "collapsed": false,
     "input": [
      "omegax/omegaz**2"
     ],
     "language": "python",
     "metadata": {},
     "outputs": [
      {
       "metadata": {},
       "output_type": "pyout",
       "prompt_number": 115,
       "text": [
        "0.00021"
       ]
      }
     ],
     "prompt_number": 115
    },
    {
     "cell_type": "code",
     "collapsed": false,
     "input": [
      "linspace(-10,10,2)"
     ],
     "language": "python",
     "metadata": {},
     "outputs": [
      {
       "metadata": {},
       "output_type": "pyout",
       "prompt_number": 138,
       "text": [
        "array([-10.,  10.])"
       ]
      }
     ],
     "prompt_number": 138
    },
    {
     "cell_type": "code",
     "collapsed": false,
     "input": [
      "xrange(0,10)"
     ],
     "language": "python",
     "metadata": {},
     "outputs": [
      {
       "metadata": {},
       "output_type": "pyout",
       "prompt_number": 128,
       "text": [
        "xrange(10)"
       ]
      }
     ],
     "prompt_number": 128
    },
    {
     "cell_type": "code",
     "collapsed": false,
     "input": [
      "linspace(-100.e-6, 100.e-6, 20 )"
     ],
     "language": "python",
     "metadata": {},
     "outputs": [
      {
       "metadata": {},
       "output_type": "pyout",
       "prompt_number": 137,
       "text": [
        "array([ -1.00000000e-04,  -8.94736842e-05,  -7.89473684e-05,\n",
        "        -6.84210526e-05,  -5.78947368e-05,  -4.73684211e-05,\n",
        "        -3.68421053e-05,  -2.63157895e-05,  -1.57894737e-05,\n",
        "        -5.26315789e-06,   5.26315789e-06,   1.57894737e-05,\n",
        "         2.63157895e-05,   3.68421053e-05,   4.73684211e-05,\n",
        "         5.78947368e-05,   6.84210526e-05,   7.89473684e-05,\n",
        "         8.94736842e-05,   1.00000000e-04])"
       ]
      }
     ],
     "prompt_number": 137
    },
    {
     "cell_type": "code",
     "collapsed": false,
     "input": [
      "#Test with fsolve:\n",
      "N = 35\n",
      "#chain = Chain(N, 2)\n",
      "#dummy_trap = IonTrap( omegax , omegaz)\n",
      "#dummy_trap.load(chain)\n",
      "#position_arr  =   np.array( chain.get_positions() ) #+ .100000e-6\n",
      "#randomize initial point to test sensitivity:\n",
      "pot_diff = nd.Gradient( potential_energy )\n",
      "positions_store = []\n",
      "potential_store = []\n",
      "\n",
      "#initial positions seed:\n",
      "for j in range(5):\n",
      "    w = 400.e-6/(2.5*N)\n",
      "    for i in range(len(position_arr)):\n",
      "        #position_arr[i]  =  np.random.random() * 3.00000e-6 + chain.get_positions()[i]\n",
      "        position_arr[i]  =  np.random.random() * w + linspace(-200.e-6, 200.e-6, N )[i]\n",
      "    result_arr = fsolve( pot_diff , position_arr*position_rescale_coeff )\n",
      "    positions_store.append(result_arr)\n",
      "    potential_store.append(potential_energy(result_arr))\n",
      "\n",
      "result_arr   =  np.sort(positions_store[potential_store.index(min(potential_store))])/position_rescale_coeff \n",
      "#result_arr  =  optimize.minimize( potential_energy , position_arr, method='Nelder-Mead')\n",
      "\n",
      "#optimize.fsolve\n",
      "#result = np.sort(result_arr)-np.median(result_arr)\n",
      "#result \n",
      "#potential_energy( position_arr * position_rescale_coeff )"
     ],
     "language": "python",
     "metadata": {},
     "outputs": []
    },
    {
     "cell_type": "code",
     "collapsed": false,
     "input": [
      "result_arr - chain.get_positions()"
     ],
     "language": "python",
     "metadata": {},
     "outputs": [
      {
       "metadata": {},
       "output_type": "pyout",
       "prompt_number": 166,
       "text": [
        "array([ -2.43360124e-07,  -2.11939577e-07,  -1.86347032e-07,\n",
        "        -1.63699389e-07,  -1.42819065e-07,  -1.23056617e-07,\n",
        "        -1.04106524e-07,  -8.59442328e-08,  -6.82891363e-08,\n",
        "        -5.09168992e-08,  -3.38405856e-08,  -1.68755272e-08,\n",
        "        -4.85868176e-13,   1.68746634e-08,   3.38397813e-08,\n",
        "         5.09161412e-08,   6.82884171e-08,   8.59435472e-08,\n",
        "         1.04105869e-07,   1.23055988e-07,   1.42818465e-07,\n",
        "         1.63698816e-07,   1.86346487e-07,   2.11939058e-07,\n",
        "         2.43359635e-07])"
       ]
      }
     ],
     "prompt_number": 166
    },
    {
     "cell_type": "code",
     "collapsed": false,
     "input": [],
     "language": "python",
     "metadata": {},
     "outputs": []
    }
   ],
   "metadata": {}
  }
 ]
}