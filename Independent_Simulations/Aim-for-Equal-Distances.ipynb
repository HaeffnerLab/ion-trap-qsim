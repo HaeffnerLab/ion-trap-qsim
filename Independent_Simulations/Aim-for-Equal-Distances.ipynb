{
 "metadata": {
  "name": "",
  "signature": "sha256:47184069a720515a87dd13dab8f4d524cdee5f931c6556031ec70ca46ac1b6a6"
 },
 "nbformat": 3,
 "nbformat_minor": 0,
 "worksheets": [
  {
   "cells": [
    {
     "cell_type": "code",
     "collapsed": false,
     "input": [
      "cd .."
     ],
     "language": "python",
     "metadata": {},
     "outputs": [
      {
       "output_type": "stream",
       "stream": "stdout",
       "text": [
        "/home/trxw/Documents/dfr/codes/quantum_play/ion-trap-qsim\n"
       ]
      }
     ],
     "prompt_number": 2
    },
    {
     "cell_type": "code",
     "collapsed": false,
     "input": [
      "import os,sys,inspect\n",
      "currentdir = os.path.dirname(os.path.abspath(inspect.getfile(inspect.currentframe())))\n",
      "parentdir = os.path.dirname(currentdir)\n",
      "sys.path.insert(0,parentdir) \n",
      "\n",
      "from scipy import optimize\n",
      "import numpy as np\n",
      "from simulation_parameters import simulation_parameters\n",
      "p = simulation_parameters()\n",
      "from ions import Chain\n",
      "from ion_trap import IonTrap"
     ],
     "language": "python",
     "metadata": {},
     "outputs": [],
     "prompt_number": 2
    },
    {
     "cell_type": "code",
     "collapsed": false,
     "input": [
      "   \n",
      "#def potential_at_positions( position_arr, potential_distribution ) \n",
      "#    for i in range(len(position_arr)):\n",
      "\n",
      "\n",
      "omegax = 2.1e6\n",
      "omegaz = 100.e3\n",
      "potential_rescale_coeff  = 1.000000000e21\n",
      "position_rescale_coeff = 1.000000000e5\n",
      "\n",
      "def rescale( func ):\n",
      "    \n",
      "    def wrapper( arr ):\n",
      "        return func( arr / position_rescale_coeff )\n",
      "    \n",
      "    return wrapper\n",
      "    \n",
      "@rescale\n",
      "def test_harmonic_potential(position_arr , omegaz =omegaz ):\n",
      "    return [ 0.5 * p.mass * ( 2 * np.pi * omegaz)**2 * position_arr[j]**2 for j in range( len(position_arr) ) ]\n",
      "\n",
      "compute_potential_arr   = test_harmonic_potential\n",
      "    \n",
      "def potential_decorator(func):\n",
      "\n",
      "    def wrapper( position_arr ):\n",
      "        potential_arr   =  compute_potential_arr(position_arr)\n",
      "        return func(position_arr, potential_arr)\n",
      "\n",
      "    return wrapper\n",
      "\n",
      "\n",
      "@potential_decorator\n",
      "def potential_energy(position_arr, potential_arr):\n",
      "\n",
      "    def diff(arr, i):\n",
      "        arr_result = []\n",
      "        for j, position in enumerate(arr):\n",
      "            if j != i:\n",
      "                arr_result += [position-arr[i]]\n",
      "        return arr_result\n",
      "\n",
      "    ion_ion_distances  =  lambda i: np.absolute( diff(position_arr, i) ) \n",
      "    __potential        =  0 \n",
      "\n",
      "    for i in range(len(position_arr)):\n",
      "        __potential   +=   potential_arr[i] + 0.5 * p.coulomb_coeff * sum( [ dist**-1 for dist in ion_ion_distances(i) ] )\n",
      "\n",
      "    return __potential * potential_rescale_coeff"
     ],
     "language": "python",
     "metadata": {},
     "outputs": [],
     "prompt_number": 3
    },
    {
     "cell_type": "code",
     "collapsed": false,
     "input": [
      "#Test with slightly perturbed harmonic potential: RESULT = 'WORKS FINE'\n",
      "\n",
      "chain = Chain(25, 2)\n",
      "dummy_trap = IonTrap( omegax , omegaz)\n",
      "dummy_trap.load(chain)\n",
      "position_arr  =   np.array( chain.get_positions() ) #+ .100000e-6\n",
      "#randomize initial point to test sensitivity:\n",
      "\n",
      "for i in range(len(position_arr)):\n",
      "     position_arr[i]  =  np.random.random() * 6.000000e-6 + position_arr[i]\n",
      "\n",
      "#result_arr = optimize.fmin_cg( potential_energy , position_arr * position_rescale_coeff )\n",
      "\n",
      "#result_arr  =  optimize.minimize( potential_energy , position_arr, method='Nelder-Mead')\n",
      "#result = np.sort(result_arr['x']-np.median(result_arr['x']) ) \n",
      "optimize.fsolve\n",
      "result = np.sort(result_arr)-np.median(result_arr)\n",
      "result \n",
      "#potential_energy( position_arr * position_rescale_coeff )"
     ],
     "language": "python",
     "metadata": {},
     "outputs": [
      {
       "output_type": "stream",
       "stream": "stdout",
       "text": [
        "Optimization terminated successfully.\n",
        "         Current function value: 0.000000\n",
        "         Iterations: 0\n",
        "         Function evaluations: 27\n",
        "         Gradient evaluations: 1\n"
       ]
      },
      {
       "metadata": {},
       "output_type": "pyout",
       "prompt_number": 144,
       "text": [
        "array([ -1.02701250e-04,  -8.73532216e-05,  -8.10209031e-05,\n",
        "        -6.93829483e-05,  -6.06551372e-05,  -4.90428225e-05,\n",
        "        -4.25701880e-05,  -3.65555189e-05,  -2.74568587e-05,\n",
        "        -1.99586436e-05,  -1.32035747e-05,  -8.27344324e-06,\n",
        "         0.00000000e+00,   4.11829865e-06,   1.49583500e-05,\n",
        "         1.71611067e-05,   2.55215986e-05,   3.59529430e-05,\n",
        "         4.02356411e-05,   5.03140312e-05,   5.83264724e-05,\n",
        "         6.68559063e-05,   7.43521099e-05,   8.67856689e-05,\n",
        "         9.92399110e-05])"
       ]
      }
     ],
     "prompt_number": 144
    },
    {
     "cell_type": "code",
     "collapsed": false,
     "input": [
      "[(np.sort(chain.get_positions())[i]*position_rescale_coeff-result[i])/result[i] for i in range(len(result)) ]"
     ],
     "language": "python",
     "metadata": {},
     "outputs": [
      {
       "output_type": "stream",
       "stream": "stderr",
       "text": [
        "-c:1: RuntimeWarning: invalid value encountered in double_scalars\n"
       ]
      },
      {
       "metadata": {},
       "output_type": "pyout",
       "prompt_number": 149,
       "text": [
        "[-0.020882377488673935,\n",
        " 0.0029444241255991992,\n",
        " -0.049177801536915366,\n",
        " -0.024976954049015464,\n",
        " -0.027293509048855878,\n",
        " 0.036898246672094417,\n",
        " 0.011672307166676806,\n",
        " -0.027542916419347297,\n",
        " 0.028109487183493678,\n",
        " 0.054890430593492183,\n",
        " 0.058954023653111969,\n",
        " -0.15692982268178193,\n",
        " nan,\n",
        " 0.69368320557129226,\n",
        " -0.065272668128989339,\n",
        " 0.22685456433891565,\n",
        " 0.10606930788461623,\n",
        " -0.011244411958283202,\n",
        " 0.070371420418568684,\n",
        " 0.010700504244350522,\n",
        " 0.011541470461022822,\n",
        " 0.011877293693022853,\n",
        " 0.036103390724136313,\n",
        " 0.0095033851607228513,\n",
        " 0.013267772760209649]"
       ]
      }
     ],
     "prompt_number": 149
    },
    {
     "cell_type": "code",
     "collapsed": false,
     "input": [
      "result"
     ],
     "language": "python",
     "metadata": {},
     "outputs": [
      {
       "metadata": {},
       "output_type": "pyout",
       "prompt_number": 146,
       "text": [
        "array([ -1.02701250e-04,  -8.73532216e-05,  -8.10209031e-05,\n",
        "        -6.93829483e-05,  -6.06551372e-05,  -4.90428225e-05,\n",
        "        -4.25701880e-05,  -3.65555189e-05,  -2.74568587e-05,\n",
        "        -1.99586436e-05,  -1.32035747e-05,  -8.27344324e-06,\n",
        "         0.00000000e+00,   4.11829865e-06,   1.49583500e-05,\n",
        "         1.71611067e-05,   2.55215986e-05,   3.59529430e-05,\n",
        "         4.02356411e-05,   5.03140312e-05,   5.83264724e-05,\n",
        "         6.68559063e-05,   7.43521099e-05,   8.67856689e-05,\n",
        "         9.92399110e-05])"
       ]
      }
     ],
     "prompt_number": 146
    },
    {
     "cell_type": "code",
     "collapsed": false,
     "input": [
      "#Test accuracy of gradient descent for small outputs: So must be rescaled. \n",
      "rescale_coeff=1.e-6\n",
      "def rescale(func):\n",
      "    def wrapper(fun, arr):\n",
      "        return rescale_coeff * func(fun, np.array(arr)/rescale_coeff)\n",
      "    \n",
      "    return wrapper\n",
      "\n",
      "def fun(x):\n",
      "    return -2.0004e-6*x[0] + x[0]**2 - 1.0004e-6*x[1] + x[1]**2\n",
      "\n",
      "def find_min(func, arr):\n",
      "    return optimize.fmin_cg(func, arr)\n",
      "\n",
      "@rescale\n",
      "find_min(fun, [10e-9, 10e-9])"
     ],
     "language": "python",
     "metadata": {},
     "outputs": [
      {
       "ename": "SyntaxError",
       "evalue": "invalid syntax (<ipython-input-75-6f4c527c629e>, line 12)",
       "output_type": "pyerr",
       "traceback": [
        "\u001b[1;36m  File \u001b[1;32m\"<ipython-input-75-6f4c527c629e>\"\u001b[1;36m, line \u001b[1;32m12\u001b[0m\n\u001b[1;33m    optimize.fmin_cg(fun, [10e-9, 10e-9])\u001b[0m\n\u001b[1;37m           ^\u001b[0m\n\u001b[1;31mSyntaxError\u001b[0m\u001b[1;31m:\u001b[0m invalid syntax\n"
       ]
      }
     ],
     "prompt_number": 75
    },
    {
     "cell_type": "code",
     "collapsed": false,
     "input": [
      "np.average(position_arr)"
     ],
     "language": "python",
     "metadata": {},
     "outputs": [
      {
       "metadata": {},
       "output_type": "pyout",
       "prompt_number": 22,
       "text": [
        "0.099999174232459256"
       ]
      }
     ],
     "prompt_number": 22
    },
    {
     "cell_type": "code",
     "collapsed": false,
     "input": [
      "np.median(position_arr)"
     ],
     "language": "python",
     "metadata": {},
     "outputs": [
      {
       "metadata": {},
       "output_type": "pyout",
       "prompt_number": 24,
       "text": [
        "0.099999999999999992"
       ]
      }
     ],
     "prompt_number": 24
    },
    {
     "cell_type": "code",
     "collapsed": false,
     "input": [
      "position_arr"
     ],
     "language": "python",
     "metadata": {},
     "outputs": [
      {
       "metadata": {},
       "output_type": "pyout",
       "prompt_number": 25,
       "text": [
        "array([-3.49807562, -1.5971608 ,  0.1       ,  1.79715667,  3.69807562])"
       ]
      }
     ],
     "prompt_number": 25
    },
    {
     "cell_type": "code",
     "collapsed": false,
     "input": [
      "0.5 * p.mass * ( 2 * np.pi * omegaz)**2"
     ],
     "language": "python",
     "metadata": {},
     "outputs": [
      {
       "metadata": {},
       "output_type": "pyout",
       "prompt_number": 78,
       "text": [
        "1.3111099892884641e-14"
       ]
      }
     ],
     "prompt_number": 78
    },
    {
     "cell_type": "code",
     "collapsed": false,
     "input": [
      "minimize(cost, x0, method='Nelder-Mead')"
     ],
     "language": "python",
     "metadata": {},
     "outputs": [
      {
       "metadata": {},
       "output_type": "pyout",
       "prompt_number": 38,
       "text": [
        "0.07331776242855526"
       ]
      }
     ],
     "prompt_number": 38
    },
    {
     "cell_type": "code",
     "collapsed": false,
     "input": [
      "potential_energy( chain.get_positions() )"
     ],
     "language": "python",
     "metadata": {},
     "outputs": [
      {
       "metadata": {},
       "output_type": "pyout",
       "prompt_number": 100,
       "text": [
        "3.0803533441358183e-21"
       ]
      }
     ],
     "prompt_number": 100
    },
    {
     "cell_type": "code",
     "collapsed": false,
     "input": [
      "potential_energy( position_arr )"
     ],
     "language": "python",
     "metadata": {},
     "outputs": [
      {
       "metadata": {},
       "output_type": "pyout",
       "prompt_number": 95,
       "text": [
        "6.4702713460057568e-21"
       ]
      }
     ],
     "prompt_number": 95
    },
    {
     "cell_type": "code",
     "collapsed": false,
     "input": [
      "potential_energy( result_arr )"
     ],
     "language": "python",
     "metadata": {},
     "outputs": [
      {
       "metadata": {},
       "output_type": "pyout",
       "prompt_number": 96,
       "text": [
        "6.4702713460057568e-21"
       ]
      }
     ],
     "prompt_number": 96
    },
    {
     "cell_type": "code",
     "collapsed": false,
     "input": [
      "result_arr - position_arr"
     ],
     "language": "python",
     "metadata": {},
     "outputs": [
      {
       "metadata": {},
       "output_type": "pyout",
       "prompt_number": 99,
       "text": [
        "array([ 0.,  0.,  0.,  0.,  0.,  0.,  0.,  0.,  0.,  0.,  0.,  0.,  0.,\n",
        "        0.,  0.,  0.,  0.,  0.,  0.,  0.,  0.,  0.,  0.,  0.,  0.])"
       ]
      }
     ],
     "prompt_number": 99
    },
    {
     "cell_type": "code",
     "collapsed": false,
     "input": [
      "potential_energy( position_arr * position_rescale_coeff )"
     ],
     "language": "python",
     "metadata": {},
     "outputs": [
      {
       "metadata": {},
       "output_type": "pyout",
       "prompt_number": 117,
       "text": [
        "1.1355476272289347"
       ]
      }
     ],
     "prompt_number": 117
    },
    {
     "cell_type": "code",
     "collapsed": false,
     "input": [
      "minimizer_kwargs = {\"method\": \"L-BFGS-B\"}\n",
      "new_chain = Chain(5,2)\n",
      "new_trap  = IonTrap(omegax, omegaz)\n",
      "new_trap.load(new_chain)\n",
      "new_position_arr = new_chain.get_positions()\n",
      "for i in range(len(new_position_arr)):\n",
      "     new_position_arr[i]  =  np.random.random() * 6.000000e-6 + new_position_arr[i]\n",
      "\n",
      "ret = optimize.basinhopping(potential_energy, new_position_arr, minimizer_kwargs=minimizer_kwargs,\n",
      "                    niter=100)"
     ],
     "language": "python",
     "metadata": {},
     "outputs": [],
     "prompt_number": 178
    },
    {
     "cell_type": "code",
     "collapsed": false,
     "input": [
      "ret.x/position_rescale_coeff - new_chain.get_positions()"
     ],
     "language": "python",
     "metadata": {},
     "outputs": [
      {
       "metadata": {},
       "output_type": "pyout",
       "prompt_number": 182,
       "text": [
        "array([  3.67555745e-05,   1.66063048e-05,   3.65704022e-07,\n",
        "        -1.77464537e-05,  -3.59805001e-05])"
       ]
      }
     ],
     "prompt_number": 182
    },
    {
     "cell_type": "code",
     "collapsed": false,
     "input": [
      "ret.x"
     ],
     "language": "python",
     "metadata": {},
     "outputs": [
      {
       "metadata": {},
       "output_type": "pyout",
       "prompt_number": 180,
       "text": [
        "array([  7.74818304e-02,  -3.65303245e-02,   3.65704022e-02,\n",
        "        -7.74886993e-02,   2.56090764e-05])"
       ]
      }
     ],
     "prompt_number": 180
    },
    {
     "cell_type": "code",
     "collapsed": false,
     "input": [],
     "language": "python",
     "metadata": {},
     "outputs": []
    }
   ],
   "metadata": {}
  }
 ]
}