{
 "metadata": {
  "name": "",
  "signature": "sha256:f7d7ffacc9dca40cdc59419454de864648dde172c4e6bcb5804c3e054963de23"
 },
 "nbformat": 3,
 "nbformat_minor": 0,
 "worksheets": [
  {
   "cells": [
    {
     "cell_type": "code",
     "collapsed": false,
     "input": [
      "import os,sys,inspect\n",
      "currentdir = os.path.dirname(os.path.abspath(inspect.getfile(inspect.currentframe())))\n",
      "parentdir = os.path.dirname(currentdir)\n",
      "sys.path.insert(0,parentdir) \n",
      "\n",
      "from quantum_dynamics import Dynamics\n",
      "import numpy as np\n",
      "import numpy.linalg as LA\n",
      "from ions import Chain\n",
      "from ion_trap import IonTrap\n",
      "import matplotlib.pylab as plt  \n",
      "from matplotlib.pylab import *\n",
      "from laser import *"
     ],
     "language": "python",
     "metadata": {},
     "outputs": [],
     "prompt_number": 1
    },
    {
     "cell_type": "code",
     "collapsed": false,
     "input": [
      "omegax = 2.0e6\n",
      "omegaz = 200.e3\n",
      "N = 10\n",
      "chain = Chain(N, 4)\n",
      "dummy_trap = IonTrap( omegax , omegaz)\n",
      "dummy_trap.load(chain)\n",
      "zpositions =   np.array( chain.get_positions() )\n",
      "#harmonic potential couplings:\n",
      "couplings_harmonic = chain.get_couplings()\n",
      "\n",
      "#Correction for x^2 * z^2 term:\n",
      "omegax_gradient_at_100microns = 2*np.pi * 14.5e3/(1.e-6)\n",
      "def get_radial_freq_corrections(omegax_gradient_at_100microns):\n",
      "    \n",
      "    delta_omegax = omegax_gradient_at_100microns * zpositions**2/(2*100.e-6)\n",
      "\n",
      "    return delta_omegax \n",
      "\n",
      "couplings_with_x2z2_correction = np.array( [ row for row in couplings_harmonic ])\n",
      "radial_corrections = get_radial_freq_corrections(omegax_gradient_at_100microns)\n",
      "\n",
      "for i in range(N):\n",
      "    couplings_with_x2z2_correction[i][i] += radial_corrections[i]\n",
      "\n"
     ],
     "language": "python",
     "metadata": {},
     "outputs": [],
     "prompt_number": 2
    },
    {
     "cell_type": "code",
     "collapsed": false,
     "input": [
      "#Testing state initialization:\n",
      "#15 ions:\n",
      "#motional_state = (1, 3, 0, 0, 0, 0, 0, 0, 0, 0,0,0,0,3,0)\n",
      "#10 ions:\n",
      "motional_state = (1, 3, 0, 0, 0, 0, 0, 0, 3, 0)\n",
      "\n",
      "lasers = []\n",
      "#pulse1 = Pulse( ion_num = 0, sideband_num = 1, intensity = 2*np.pi* 100e3, phase = 2*np.pi* 0 , duration = 8.e-6 )\n",
      "chain.harmonic_couplings = couplings_with_x2z2_correction\n",
      "\n",
      "time_precision = 2.e-6\n",
      "dyn = Dynamics(chain, lasers, time_precision)\n",
      "\n",
      "\n",
      "chain.set_pure_motional_state( motional_state )\n",
      "#dyn.add_pulse( pulse1 )\n",
      "\n",
      "#dyn.construct_free_hamiltonian()"
     ],
     "language": "python",
     "metadata": {},
     "outputs": [
      {
       "ename": "MemoryError",
       "evalue": "",
       "output_type": "pyerr",
       "traceback": [
        "\u001b[1;31m---------------------------------------------------------------------------\u001b[0m\n\u001b[1;31mMemoryError\u001b[0m                               Traceback (most recent call last)",
        "\u001b[1;32m<ipython-input-3-81fc8eb44f10>\u001b[0m in \u001b[0;36m<module>\u001b[1;34m()\u001b[0m\n\u001b[0;32m     10\u001b[0m \u001b[1;33m\u001b[0m\u001b[0m\n\u001b[0;32m     11\u001b[0m \u001b[0mtime_precision\u001b[0m \u001b[1;33m=\u001b[0m \u001b[1;36m2.e-6\u001b[0m\u001b[1;33m\u001b[0m\u001b[0m\n\u001b[1;32m---> 12\u001b[1;33m \u001b[0mdyn\u001b[0m \u001b[1;33m=\u001b[0m \u001b[0mDynamics\u001b[0m\u001b[1;33m(\u001b[0m\u001b[0mchain\u001b[0m\u001b[1;33m,\u001b[0m \u001b[0mlasers\u001b[0m\u001b[1;33m,\u001b[0m \u001b[0mtime_precision\u001b[0m\u001b[1;33m)\u001b[0m\u001b[1;33m\u001b[0m\u001b[0m\n\u001b[0m\u001b[0;32m     13\u001b[0m \u001b[1;33m\u001b[0m\u001b[0m\n\u001b[0;32m     14\u001b[0m \u001b[1;33m\u001b[0m\u001b[0m\n",
        "\u001b[1;32m/home/trxw/Documents/dfr/codes/quantum_play/ion-trap-qsim/quantum_dynamics.pyc\u001b[0m in \u001b[0;36m__init__\u001b[1;34m(self, chain, lasers, time_precision)\u001b[0m\n\u001b[0;32m     17\u001b[0m         \u001b[0mself\u001b[0m\u001b[1;33m.\u001b[0m\u001b[0mexpectations\u001b[0m \u001b[1;33m=\u001b[0m \u001b[1;33m[\u001b[0m\u001b[1;33m[\u001b[0m\u001b[1;33m]\u001b[0m\u001b[1;33m]\u001b[0m\u001b[1;33m\u001b[0m\u001b[0m\n\u001b[0;32m     18\u001b[0m \u001b[1;33m\u001b[0m\u001b[0m\n\u001b[1;32m---> 19\u001b[1;33m         \u001b[0mself\u001b[0m\u001b[1;33m.\u001b[0m\u001b[0mconstruct_free_hamiltonian\u001b[0m\u001b[1;33m(\u001b[0m\u001b[1;33m)\u001b[0m\u001b[1;33m\u001b[0m\u001b[0m\n\u001b[0m\u001b[0;32m     20\u001b[0m         \u001b[1;31m#self.hamiltonian         =  self.get_chain_motion_hamiltonian()\u001b[0m\u001b[1;33m\u001b[0m\u001b[1;33m\u001b[0m\u001b[0m\n\u001b[0;32m     21\u001b[0m \u001b[1;33m\u001b[0m\u001b[0m\n",
        "\u001b[1;32m/home/trxw/Documents/dfr/codes/quantum_play/ion-trap-qsim/quantum_dynamics.pyc\u001b[0m in \u001b[0;36mconstruct_free_hamiltonian\u001b[1;34m(self)\u001b[0m\n\u001b[0;32m     88\u001b[0m \u001b[1;33m\u001b[0m\u001b[0m\n\u001b[0;32m     89\u001b[0m         \u001b[1;31m#Add chain free Hamiltonian:\u001b[0m\u001b[1;33m\u001b[0m\u001b[1;33m\u001b[0m\u001b[0m\n\u001b[1;32m---> 90\u001b[1;33m         \u001b[0mself\u001b[0m\u001b[1;33m.\u001b[0m\u001b[0mfree_hamiltonian\u001b[0m  \u001b[1;33m+=\u001b[0m  \u001b[0mself\u001b[0m\u001b[1;33m.\u001b[0m\u001b[0mget_chain_motion_hamiltonian\u001b[0m\u001b[1;33m(\u001b[0m\u001b[1;33m)\u001b[0m\u001b[1;33m\u001b[0m\u001b[0m\n\u001b[0m\u001b[0;32m     91\u001b[0m \u001b[1;33m\u001b[0m\u001b[0m\n\u001b[0;32m     92\u001b[0m \u001b[1;33m\u001b[0m\u001b[0m\n",
        "\u001b[1;32m/home/trxw/Documents/dfr/codes/quantum_play/ion-trap-qsim/quantum_dynamics.pyc\u001b[0m in \u001b[0;36mget_chain_motion_hamiltonian\u001b[1;34m(self)\u001b[0m\n\u001b[0;32m    109\u001b[0m         \u001b[1;32mfor\u001b[0m \u001b[0mi\u001b[0m \u001b[1;32min\u001b[0m \u001b[0mrange\u001b[0m\u001b[1;33m(\u001b[0m\u001b[0mself\u001b[0m\u001b[1;33m.\u001b[0m\u001b[0mchain\u001b[0m\u001b[1;33m.\u001b[0m\u001b[0mnum_of_ions\u001b[0m\u001b[1;33m)\u001b[0m\u001b[1;33m:\u001b[0m\u001b[1;33m\u001b[0m\u001b[0m\n\u001b[0;32m    110\u001b[0m             \u001b[1;32mfor\u001b[0m \u001b[0mj\u001b[0m \u001b[1;32min\u001b[0m \u001b[0mrange\u001b[0m\u001b[1;33m(\u001b[0m\u001b[0mself\u001b[0m\u001b[1;33m.\u001b[0m\u001b[0mchain\u001b[0m\u001b[1;33m.\u001b[0m\u001b[0mnum_of_ions\u001b[0m\u001b[1;33m)\u001b[0m\u001b[1;33m:\u001b[0m\u001b[1;33m\u001b[0m\u001b[0m\n\u001b[1;32m--> 111\u001b[1;33m                 \u001b[0ms\u001b[0m  \u001b[1;33m+=\u001b[0m   \u001b[0mself\u001b[0m\u001b[1;33m.\u001b[0m\u001b[0mchain\u001b[0m\u001b[1;33m.\u001b[0m\u001b[0mget_couplings\u001b[0m\u001b[1;33m(\u001b[0m\u001b[1;33m)\u001b[0m\u001b[1;33m[\u001b[0m\u001b[0mi\u001b[0m\u001b[1;33m]\u001b[0m\u001b[1;33m[\u001b[0m\u001b[0mj\u001b[0m\u001b[1;33m]\u001b[0m \u001b[1;33m*\u001b[0m \u001b[0mself\u001b[0m\u001b[1;33m.\u001b[0m\u001b[0ma\u001b[0m\u001b[1;33m[\u001b[0m\u001b[0mi\u001b[0m\u001b[1;33m]\u001b[0m\u001b[1;33m.\u001b[0m\u001b[0mdag\u001b[0m\u001b[1;33m(\u001b[0m\u001b[1;33m)\u001b[0m\u001b[1;33m*\u001b[0m\u001b[0mself\u001b[0m\u001b[1;33m.\u001b[0m\u001b[0ma\u001b[0m\u001b[1;33m[\u001b[0m\u001b[0mj\u001b[0m\u001b[1;33m]\u001b[0m\u001b[1;33m\u001b[0m\u001b[0m\n\u001b[0m\u001b[0;32m    112\u001b[0m         \u001b[1;32mreturn\u001b[0m \u001b[0ms\u001b[0m\u001b[1;33m\u001b[0m\u001b[0m\n\u001b[0;32m    113\u001b[0m \u001b[1;33m\u001b[0m\u001b[0m\n",
        "\u001b[1;32m/usr/lib/python2.7/dist-packages/qutip/qobj.pyc\u001b[0m in \u001b[0;36m__add__\u001b[1;34m(self, other)\u001b[0m\n\u001b[0;32m    355\u001b[0m                 \u001b[0mout\u001b[0m\u001b[1;33m.\u001b[0m\u001b[0m_isherm\u001b[0m \u001b[1;33m=\u001b[0m \u001b[0mout\u001b[0m\u001b[1;33m.\u001b[0m\u001b[0misherm\u001b[0m\u001b[1;33m\u001b[0m\u001b[0m\n\u001b[0;32m    356\u001b[0m             \u001b[1;32melif\u001b[0m \u001b[1;32mnot\u001b[0m \u001b[0mself\u001b[0m\u001b[1;33m.\u001b[0m\u001b[0m_isherm\u001b[0m \u001b[1;32mand\u001b[0m \u001b[1;32mnot\u001b[0m \u001b[0mother\u001b[0m\u001b[1;33m.\u001b[0m\u001b[0m_isherm\u001b[0m\u001b[1;33m:\u001b[0m\u001b[1;33m\u001b[0m\u001b[0m\n\u001b[1;32m--> 357\u001b[1;33m                 \u001b[0mout\u001b[0m\u001b[1;33m.\u001b[0m\u001b[0m_isherm\u001b[0m \u001b[1;33m=\u001b[0m \u001b[0mout\u001b[0m\u001b[1;33m.\u001b[0m\u001b[0misherm\u001b[0m\u001b[1;33m\u001b[0m\u001b[0m\n\u001b[0m\u001b[0;32m    358\u001b[0m             \u001b[1;32melse\u001b[0m\u001b[1;33m:\u001b[0m\u001b[1;33m\u001b[0m\u001b[0m\n\u001b[0;32m    359\u001b[0m                 \u001b[0mout\u001b[0m\u001b[1;33m.\u001b[0m\u001b[0m_isherm\u001b[0m \u001b[1;33m=\u001b[0m \u001b[0mself\u001b[0m\u001b[1;33m.\u001b[0m\u001b[0m_isherm\u001b[0m \u001b[1;32mand\u001b[0m \u001b[0mother\u001b[0m\u001b[1;33m.\u001b[0m\u001b[0m_isherm\u001b[0m\u001b[1;33m\u001b[0m\u001b[0m\n",
        "\u001b[1;32m/usr/lib/python2.7/dist-packages/qutip/qobj.pyc\u001b[0m in \u001b[0;36misherm\u001b[1;34m(self)\u001b[0m\n\u001b[0;32m   1508\u001b[0m         \u001b[1;32melse\u001b[0m\u001b[1;33m:\u001b[0m\u001b[1;33m\u001b[0m\u001b[0m\n\u001b[0;32m   1509\u001b[0m             \u001b[0mdata\u001b[0m \u001b[1;33m=\u001b[0m \u001b[0mself\u001b[0m\u001b[1;33m.\u001b[0m\u001b[0mdata\u001b[0m\u001b[1;33m\u001b[0m\u001b[0m\n\u001b[1;32m-> 1510\u001b[1;33m             \u001b[0mh\u001b[0m \u001b[1;33m=\u001b[0m \u001b[0mnp\u001b[0m\u001b[1;33m.\u001b[0m\u001b[0mabs\u001b[0m\u001b[1;33m(\u001b[0m\u001b[1;33m(\u001b[0m\u001b[0mdata\u001b[0m\u001b[1;33m.\u001b[0m\u001b[0mtranspose\u001b[0m\u001b[1;33m(\u001b[0m\u001b[1;33m)\u001b[0m\u001b[1;33m.\u001b[0m\u001b[0mconj\u001b[0m\u001b[1;33m(\u001b[0m\u001b[1;33m)\u001b[0m \u001b[1;33m-\u001b[0m \u001b[0mdata\u001b[0m\u001b[1;33m)\u001b[0m\u001b[1;33m.\u001b[0m\u001b[0mdata\u001b[0m\u001b[1;33m)\u001b[0m\u001b[1;33m\u001b[0m\u001b[0m\n\u001b[0m\u001b[0;32m   1511\u001b[0m             \u001b[0mself\u001b[0m\u001b[1;33m.\u001b[0m\u001b[0m_isherm\u001b[0m \u001b[1;33m=\u001b[0m \u001b[0mFalse\u001b[0m \u001b[1;32mif\u001b[0m \u001b[0mnp\u001b[0m\u001b[1;33m.\u001b[0m\u001b[0many\u001b[0m\u001b[1;33m(\u001b[0m\u001b[0mh\u001b[0m \u001b[1;33m>\u001b[0m \u001b[0msettings\u001b[0m\u001b[1;33m.\u001b[0m\u001b[0matol\u001b[0m\u001b[1;33m)\u001b[0m \u001b[1;32melse\u001b[0m \u001b[0mTrue\u001b[0m\u001b[1;33m\u001b[0m\u001b[0m\n\u001b[0;32m   1512\u001b[0m \u001b[1;33m\u001b[0m\u001b[0m\n",
        "\u001b[1;32m/usr/lib/python2.7/dist-packages/scipy/sparse/compressed.pyc\u001b[0m in \u001b[0;36m__sub__\u001b[1;34m(self, other)\u001b[0m\n\u001b[0;32m    393\u001b[0m                 \u001b[1;32mraise\u001b[0m \u001b[0mValueError\u001b[0m\u001b[1;33m(\u001b[0m\u001b[1;34m\"inconsistent shapes\"\u001b[0m\u001b[1;33m)\u001b[0m\u001b[1;33m\u001b[0m\u001b[0m\n\u001b[0;32m    394\u001b[0m \u001b[1;33m\u001b[0m\u001b[0m\n\u001b[1;32m--> 395\u001b[1;33m             \u001b[1;32mreturn\u001b[0m \u001b[0mself\u001b[0m\u001b[1;33m.\u001b[0m\u001b[0m_binopt\u001b[0m\u001b[1;33m(\u001b[0m\u001b[0mother\u001b[0m\u001b[1;33m,\u001b[0m\u001b[1;34m'_minus_'\u001b[0m\u001b[1;33m)\u001b[0m\u001b[1;33m\u001b[0m\u001b[0m\n\u001b[0m\u001b[0;32m    396\u001b[0m         \u001b[1;32melif\u001b[0m \u001b[0misdense\u001b[0m\u001b[1;33m(\u001b[0m\u001b[0mother\u001b[0m\u001b[1;33m)\u001b[0m\u001b[1;33m:\u001b[0m\u001b[1;33m\u001b[0m\u001b[0m\n\u001b[0;32m    397\u001b[0m             \u001b[1;31m# Convert this matrix to a dense matrix and subtract them\u001b[0m\u001b[1;33m\u001b[0m\u001b[1;33m\u001b[0m\u001b[0m\n",
        "\u001b[1;32m/usr/lib/python2.7/dist-packages/scipy/sparse/compressed.pyc\u001b[0m in \u001b[0;36m_binopt\u001b[1;34m(self, other, op)\u001b[0m\n\u001b[0;32m    906\u001b[0m             \u001b[0mdata\u001b[0m \u001b[1;33m=\u001b[0m \u001b[0mnp\u001b[0m\u001b[1;33m.\u001b[0m\u001b[0mempty\u001b[0m\u001b[1;33m(\u001b[0m\u001b[0mmaxnnz\u001b[0m\u001b[1;33m,\u001b[0m \u001b[0mdtype\u001b[0m\u001b[1;33m=\u001b[0m\u001b[0mnp\u001b[0m\u001b[1;33m.\u001b[0m\u001b[0mbool_\u001b[0m\u001b[1;33m)\u001b[0m\u001b[1;33m\u001b[0m\u001b[0m\n\u001b[0;32m    907\u001b[0m         \u001b[1;32melse\u001b[0m\u001b[1;33m:\u001b[0m\u001b[1;33m\u001b[0m\u001b[0m\n\u001b[1;32m--> 908\u001b[1;33m             \u001b[0mdata\u001b[0m \u001b[1;33m=\u001b[0m \u001b[0mnp\u001b[0m\u001b[1;33m.\u001b[0m\u001b[0mempty\u001b[0m\u001b[1;33m(\u001b[0m\u001b[0mmaxnnz\u001b[0m\u001b[1;33m,\u001b[0m \u001b[0mdtype\u001b[0m\u001b[1;33m=\u001b[0m\u001b[0mupcast\u001b[0m\u001b[1;33m(\u001b[0m\u001b[0mself\u001b[0m\u001b[1;33m.\u001b[0m\u001b[0mdtype\u001b[0m\u001b[1;33m,\u001b[0m \u001b[0mother\u001b[0m\u001b[1;33m.\u001b[0m\u001b[0mdtype\u001b[0m\u001b[1;33m)\u001b[0m\u001b[1;33m)\u001b[0m\u001b[1;33m\u001b[0m\u001b[0m\n\u001b[0m\u001b[0;32m    909\u001b[0m \u001b[1;33m\u001b[0m\u001b[0m\n\u001b[0;32m    910\u001b[0m         fn(self.shape[0], self.shape[1],\n",
        "\u001b[1;31mMemoryError\u001b[0m: "
       ]
      }
     ],
     "prompt_number": 3
    },
    {
     "cell_type": "code",
     "collapsed": false,
     "input": [
      "observables = [ dyn.a[0].dag() * dyn.a[0], dyn.a[N-1].dag() * dyn.a[N-1] ]\n",
      "time_interval = (0., 1500.e-6)\n",
      "times = arange(0., 1500.e-6, time_precision)\n",
      "dyn.evolve_qutip(time_interval, observables)\n"
     ],
     "language": "python",
     "metadata": {},
     "outputs": [],
     "prompt_number": 163
    },
    {
     "cell_type": "code",
     "collapsed": false,
     "input": [
      "#plt.plot(times[0:200]*1.e6, dyn.expectations[0][0:200], times[0:200]*1.e6, dyn.expectations[1][0:200])\n",
      "plt.plot(times*1.e6, dyn.expectations[0], times*1.e6, dyn.expectations[1])\n",
      "plt.xlabel(\"$\\mu$ Sec\")\n",
      "plt.show()\n",
      "#Plot below with harmonic for 10 ions:"
     ],
     "language": "python",
     "metadata": {},
     "outputs": [
      {
       "metadata": {},
       "output_type": "display_data",
       "png": "[encoded data removed]",
       "text": [
        "<matplotlib.figure.Figure at 0x7f3f787b88d0>"
       ]
      }
     ],
     "prompt_number": 102
    },
    {
     "cell_type": "code",
     "collapsed": false,
     "input": [
      "plt.plot(times*1.e6, dyn.expectations[0], times*1.e6, dyn.expectations[1])\n",
      "plt.xlabel(\"$\\mu$ Sec\")\n",
      "plt.savefig('CouplingEndIons-15ions-PhononPopulationAtEndIons-170KHzAxial-WithX2Z2Term-7KHzPerMicronRadialGradientat100Microns.jpg', bbox_inches='tight')\n",
      "plt.show()\n",
      "#Plot below with corrections for 10 ions:"
     ],
     "language": "python",
     "metadata": {},
     "outputs": [
      {
       "metadata": {},
       "output_type": "display_data",
       "png": "[encoded data removed]",
       "text": [
        "<matplotlib.figure.Figure at 0x7f3f78494450>"
       ]
      }
     ],
     "prompt_number": 164
    },
    {
     "cell_type": "code",
     "collapsed": false,
     "input": [
      "print(min(dyn.expectations[0][:100]), max(dyn.expectations[1][:100]))\n",
      "print(list(dyn.expectations[1][:100]).index(max(dyn.expectations[1][:100])))\n",
      "#print(list(dyn.expectations[1][:50]).index(max(dyn.expectations[1][:50])))\n",
      "#print(max(dyn.expectations[1][900:1100]))"
     ],
     "language": "python",
     "metadata": {},
     "outputs": [
      {
       "output_type": "stream",
       "stream": "stdout",
       "text": [
        "(0.0072364891733586317, 0.67971575708815934)\n",
        "30\n"
       ]
      }
     ],
     "prompt_number": 94
    },
    {
     "cell_type": "code",
     "collapsed": false,
     "input": [
      "(sort(LA.eig(couplings_harmonic)[0])[::-1][1] - sort(LA.eig(couplings_harmonic)[0])[::-1][2])/(2*np.pi)"
     ],
     "language": "python",
     "metadata": {},
     "outputs": [
      {
       "metadata": {},
       "output_type": "pyout",
       "prompt_number": 35,
       "text": [
        "5978.6848553007658"
       ]
      }
     ],
     "prompt_number": 35
    },
    {
     "cell_type": "code",
     "collapsed": false,
     "input": [
      "1./2481"
     ],
     "language": "python",
     "metadata": {},
     "outputs": [
      {
       "metadata": {},
       "output_type": "pyout",
       "prompt_number": 30,
       "text": [
        "0.00040306328093510683"
       ]
      }
     ],
     "prompt_number": 30
    },
    {
     "cell_type": "code",
     "collapsed": false,
     "input": [
      "1./5979"
     ],
     "language": "python",
     "metadata": {},
     "outputs": [
      {
       "metadata": {},
       "output_type": "pyout",
       "prompt_number": 36,
       "text": [
        "0.00016725204883759825"
       ]
      }
     ],
     "prompt_number": 36
    },
    {
     "cell_type": "code",
     "collapsed": false,
     "input": [
      "radial_corrections/(2*np.pi)"
     ],
     "language": "python",
     "metadata": {},
     "outputs": [
      {
       "metadata": {},
       "output_type": "pyout",
       "prompt_number": 76,
       "text": [
        "array([ 69695.41935292,  37294.37273751,  17789.17936782,   6164.27817455,\n",
        "          672.98861695,    672.98861695,   6164.27817455,  17789.17936782,\n",
        "        37294.37273751,  69695.41935292])"
       ]
      }
     ],
     "prompt_number": 76
    },
    {
     "cell_type": "code",
     "collapsed": false,
     "input": [
      "LA.eig(couplings_harmonic)[1].T"
     ],
     "language": "python",
     "metadata": {},
     "outputs": [
      {
       "metadata": {},
       "output_type": "pyout",
       "prompt_number": 77,
       "text": [
        "array([[ 0.00179464, -0.02560037,  0.13402597, -0.36558643,  0.58968212,\n",
        "        -0.58968212,  0.36558643, -0.13402597,  0.02560037, -0.00179464],\n",
        "       [-0.00902326,  0.09371391, -0.33796694,  0.54187313, -0.28859685,\n",
        "        -0.28859685,  0.54187313, -0.33796694,  0.09371391, -0.00902326],\n",
        "       [-0.030621  ,  0.22318479, -0.50504915,  0.30775851,  0.31537433,\n",
        "        -0.31537433, -0.30775851,  0.50504915, -0.22318479,  0.030621  ],\n",
        "       [ 0.08046183, -0.39021065,  0.45280489,  0.17946675, -0.32252281,\n",
        "        -0.32252281,  0.17946675,  0.45280489, -0.39021065,  0.08046183],\n",
        "       [-0.17212975,  0.50982732, -0.12668121, -0.3959269 , -0.19401343,\n",
        "         0.19401343,  0.3959269 ,  0.12668121, -0.50982732,  0.17212975],\n",
        "       [ 0.31622777,  0.31622777,  0.31622777,  0.31622777,  0.31622777,\n",
        "         0.31622777,  0.31622777,  0.31622777,  0.31622777,  0.31622777],\n",
        "       [-0.51455498, -0.3764027 , -0.2599613 , -0.15302834, -0.05056306,\n",
        "         0.05056306,  0.15302834,  0.2599613 ,  0.3764027 ,  0.51455498],\n",
        "       [ 0.54762115,  0.13816692, -0.10787471, -0.2543727 , -0.32354066,\n",
        "        -0.32354066, -0.2543727 , -0.10787471,  0.13816692,  0.54762115],\n",
        "       [-0.30586853,  0.46889578,  0.26288615, -0.0972611 , -0.32865231,\n",
        "        -0.32865231, -0.0972611 ,  0.26288615,  0.46889578, -0.30586853],\n",
        "       [-0.45239767,  0.21892984,  0.37859529,  0.30241607,  0.11232185,\n",
        "        -0.11232185, -0.30241607, -0.37859529, -0.21892984,  0.45239767]])"
       ]
      }
     ],
     "prompt_number": 77
    },
    {
     "cell_type": "code",
     "collapsed": false,
     "input": [
      "LA.eig(couplings_with_x2z2_correction)[1].T"
     ],
     "language": "python",
     "metadata": {},
     "outputs": [
      {
       "metadata": {},
       "output_type": "pyout",
       "prompt_number": 78,
       "text": [
        "array([[ 0.00072157, -0.01589277,  0.10858476, -0.34786373,  0.60576157,\n",
        "        -0.60576157,  0.34786373, -0.10858476,  0.01589277, -0.00072157],\n",
        "       [-0.65176222, -0.23591075, -0.11261147, -0.06634313, -0.04969275,\n",
        "        -0.04969275, -0.06634313, -0.11261147, -0.23591075, -0.65176222],\n",
        "       [ 0.66135293,  0.22712228,  0.09583882,  0.04129916,  0.01170796,\n",
        "        -0.01170796, -0.04129916, -0.09583882, -0.22712228, -0.66135293],\n",
        "       [-0.00366503,  0.06057911, -0.29101057,  0.55528325, -0.32138777,\n",
        "        -0.32138777,  0.55528325, -0.29101057,  0.06057911, -0.00366503],\n",
        "       [-0.01262102,  0.1527213 , -0.47946675,  0.38645845,  0.31189488,\n",
        "        -0.31189488, -0.38645845,  0.47946675, -0.1527213 ,  0.01262102],\n",
        "       [-0.03383762,  0.2904048 , -0.52054027, -0.09197194,  0.36755823,\n",
        "         0.36755823, -0.09197194, -0.52054027,  0.2904048 , -0.03383762],\n",
        "       [-0.07449066,  0.43445564, -0.31269258, -0.42131424, -0.17440499,\n",
        "         0.17440499,  0.42131424,  0.31269258, -0.43445564,  0.07449066],\n",
        "       [ 0.23681474, -0.32253134, -0.35902671, -0.33394882, -0.31538916,\n",
        "        -0.31538916, -0.33394882, -0.35902671, -0.32253134,  0.23681474],\n",
        "       [ 0.23854483, -0.48588825, -0.38904917, -0.22456487, -0.07225186,\n",
        "         0.07225186,  0.22456487,  0.38904917,  0.48588825, -0.23854483],\n",
        "       [-0.13403868,  0.50230954,  0.0526228 , -0.25938089, -0.39958873,\n",
        "        -0.39958873, -0.25938089,  0.0526228 ,  0.50230954, -0.13403868]])"
       ]
      }
     ],
     "prompt_number": 78
    },
    {
     "cell_type": "code",
     "collapsed": false,
     "input": [
      "2000000 - LA.eig(couplings_harmonic)[0][2:7]/(2*np.pi)"
     ],
     "language": "python",
     "metadata": {},
     "outputs": [
      {
       "metadata": {},
       "output_type": "pyout",
       "prompt_number": 88,
       "text": [
        "array([  1.42920351e+05,   1.13416768e+05,   8.66274162e+04,\n",
        "        -2.09547579e-09,   9.92784207e+03])"
       ]
      }
     ],
     "prompt_number": 88
    },
    {
     "cell_type": "code",
     "collapsed": false,
     "input": [
      "1904640.89610327 - LA.eig(couplings_with_x2z2_correction)[0][2:7]/(2*np.pi)"
     ],
     "language": "python",
     "metadata": {},
     "outputs": [
      {
       "metadata": {},
       "output_type": "pyout",
       "prompt_number": 98,
       "text": [
        "array([ -1.45281065e+05,   7.18790200e+04,   3.45933074e+04,\n",
        "        -2.32830644e-09,  -3.17204080e+04])"
       ]
      }
     ],
     "prompt_number": 98
    },
    {
     "cell_type": "code",
     "collapsed": false,
     "input": [
      "LA.eig(couplings_harmonic)[0][2] - LA.eig(couplings_harmonic)[0][1]"
     ],
     "language": "python",
     "metadata": {},
     "outputs": [
      {
       "metadata": {},
       "output_type": "pyout",
       "prompt_number": 55,
       "text": [
        "259873.96281674132"
       ]
      }
     ],
     "prompt_number": 55
    },
    {
     "cell_type": "code",
     "collapsed": false,
     "input": [
      "LA.eig(couplings_harmonic)[0][2] - LA.eig(couplings_harmonic)[0][3]"
     ],
     "language": "python",
     "metadata": {},
     "outputs": [
      {
       "metadata": {},
       "output_type": "pyout",
       "prompt_number": 56,
       "text": [
        "150260.73935631104"
       ]
      }
     ],
     "prompt_number": 56
    },
    {
     "cell_type": "code",
     "collapsed": false,
     "input": [
      "1./260"
     ],
     "language": "python",
     "metadata": {},
     "outputs": [
      {
       "metadata": {},
       "output_type": "pyout",
       "prompt_number": 57,
       "text": [
        "0.0038461538461538464"
       ]
      }
     ],
     "prompt_number": 57
    },
    {
     "cell_type": "code",
     "collapsed": false,
     "input": [
      "1./266"
     ],
     "language": "python",
     "metadata": {},
     "outputs": [
      {
       "metadata": {},
       "output_type": "pyout",
       "prompt_number": 58,
       "text": [
        "0.0037593984962406013"
       ]
      }
     ],
     "prompt_number": 58
    },
    {
     "cell_type": "code",
     "collapsed": false,
     "input": [
      "(1000./600)**.5 * 200"
     ],
     "language": "python",
     "metadata": {},
     "outputs": [
      {
       "metadata": {},
       "output_type": "pyout",
       "prompt_number": 108,
       "text": [
        "258.1988897471611"
       ]
      }
     ],
     "prompt_number": 108
    },
    {
     "cell_type": "code",
     "collapsed": false,
     "input": [
      "cd Data_Storage/"
     ],
     "language": "python",
     "metadata": {},
     "outputs": [
      {
       "output_type": "stream",
       "stream": "stdout",
       "text": [
        "/home/trxw/Documents/dfr/codes/quantum_play/ion-trap-qsim/Data_Storage\n"
       ]
      }
     ],
     "prompt_number": 145
    },
    {
     "cell_type": "code",
     "collapsed": false,
     "input": [
      "2*np.pi/with_15ions_14_5KHzPerMic_couplings_with_x2z2_correction_with_200KHzAxial[0][N-1]"
     ],
     "language": "python",
     "metadata": {},
     "outputs": [
      {
       "metadata": {},
       "output_type": "pyout",
       "prompt_number": 171,
       "text": [
        "0.040079582087964243"
       ]
      }
     ],
     "prompt_number": 171
    },
    {
     "cell_type": "code",
     "collapsed": false,
     "input": [
      "LA.eig(with_15ions_14_5KHzPerMic_couplings_with_x2z2_correction_with_200KHzAxial)[1].T"
     ],
     "language": "python",
     "metadata": {},
     "outputs": [
      {
       "metadata": {},
       "output_type": "pyout",
       "prompt_number": 167,
       "text": [
        "array([[ -4.04565354e-06,   2.15332459e-04,  -3.33577457e-03,\n",
        "          2.45320414e-02,  -1.03581739e-01,   2.76030169e-01,\n",
        "         -4.88582221e-01,   5.89471157e-01,  -4.88609504e-01,\n",
        "          2.76035864e-01,  -1.03577770e-01,   2.45309792e-02,\n",
        "         -3.33566434e-03,   2.15342456e-04,  -4.04516737e-06],\n",
        "       [  6.73424695e-01,   1.94582871e-01,   7.56016057e-02,\n",
        "          3.48314590e-02,   1.83690847e-02,   1.11211887e-02,\n",
        "          7.97663513e-03,   7.08869666e-03,   7.98393177e-03,\n",
        "          1.11387878e-02,   1.84054010e-02,   3.49068570e-02,\n",
        "          7.57718346e-02,   1.95021769e-01,   6.74991072e-01],\n",
        "       [  6.75813935e-01,   1.93798048e-01,   7.40347537e-02,\n",
        "          3.28004846e-02,   1.57871711e-02,   7.70364429e-03,\n",
        "          3.19999396e-03,   8.25925773e-06,  -3.18130169e-03,\n",
        "         -7.67756947e-03,  -1.57443370e-02,  -3.27192005e-02,\n",
        "         -7.38583637e-02,  -1.93337334e-01,  -6.74255238e-01],\n",
        "       [  2.71062331e-05,  -1.18863966e-03,   1.50189985e-02,\n",
        "         -8.72163149e-02,   2.73939488e-01,  -4.84247468e-01,\n",
        "          4.27397598e-01,   1.36895535e-05,  -4.27393892e-01,\n",
        "          4.84195912e-01,  -2.73892395e-01,   8.72008891e-02,\n",
        "         -1.50165416e-02,   1.18852871e-03,  -2.71046684e-05],\n",
        "       [  1.25192892e-04,  -4.48723883e-03,   4.55658747e-02,\n",
        "         -2.02789547e-01,   4.41662034e-01,  -4.08468970e-01,\n",
        "         -8.15930047e-02,   4.19971164e-01,  -8.15390085e-02,\n",
        "         -4.08516883e-01,   4.41675745e-01,  -2.02795097e-01,\n",
        "          4.55678228e-02,  -4.48775500e-03,   1.25208087e-04],\n",
        "       [ -4.59503942e-04,   1.33442325e-02,  -1.06903790e-01,\n",
        "          3.49181738e-01,  -4.58885998e-01,   2.21073428e-02,\n",
        "          3.94209195e-01,   1.76532076e-06,  -3.94193933e-01,\n",
        "         -2.21277211e-02,   4.58892395e-01,  -3.49186516e-01,\n",
        "          1.06907283e-01,  -1.33456712e-02,   4.59540282e-04],\n",
        "       [  1.99081170e-01,  -4.83642251e-01,  -3.55839794e-01,\n",
        "         -2.30932283e-01,  -1.53278701e-01,  -1.09425191e-01,\n",
        "         -8.73675611e-02,  -8.06711727e-02,  -8.73763106e-02,\n",
        "         -1.09445193e-01,  -1.53317049e-01,  -2.30998499e-01,\n",
        "         -3.55950808e-01,  -4.83798896e-01,   1.99134069e-01],\n",
        "       [  2.00594515e-01,  -5.11965354e-01,  -3.59661204e-01,\n",
        "         -2.16760003e-01,  -1.25698132e-01,  -6.88156072e-02,\n",
        "         -3.04374900e-02,  -1.25133113e-05,   3.04094609e-02,\n",
        "          6.87807654e-02,   1.25651744e-01,   2.16690701e-01,\n",
        "          3.59556119e-01,   5.11820379e-01,  -2.00526144e-01],\n",
        "       [  1.41819848e-03,  -3.30425605e-02,   2.03926130e-01,\n",
        "         -4.56198295e-01,   2.36835850e-01,   3.37340312e-01,\n",
        "         -1.06376706e-01,  -3.68750216e-01,  -1.06378276e-01,\n",
        "          3.37349629e-01,   2.36836422e-01,  -4.56206807e-01,\n",
        "          2.03935417e-01,  -3.30465952e-02,   1.41831723e-03],\n",
        "       [  3.79151698e-03,  -7.00816583e-02,   3.22720277e-01,\n",
        "         -4.33993884e-01,  -1.22468804e-01,   2.97165218e-01,\n",
        "          3.15083677e-01,  -2.88285462e-06,  -3.15074908e-01,\n",
        "         -2.97164389e-01,   1.22475871e-01,   4.33976925e-01,\n",
        "         -3.22722465e-01,   7.00875903e-02,  -3.79168360e-03],\n",
        "       [ -6.73530508e-02,   3.52610212e-01,  -4.14466439e-02,\n",
        "         -2.25907047e-01,  -2.89984149e-01,  -3.05841507e-01,\n",
        "         -3.06648512e-01,  -3.05743625e-01,  -3.06643634e-01,\n",
        "         -3.05831483e-01,  -2.89968082e-01,  -2.25885979e-01,\n",
        "         -4.14262491e-02,   3.52583177e-01,  -6.73444065e-02],\n",
        "       [  6.11309664e-02,  -3.89380894e-01,   2.02365353e-01,\n",
        "          3.62022471e-01,   3.27045012e-01,   2.28829290e-01,\n",
        "          1.15317969e-01,  -1.86512615e-05,  -1.15349878e-01,\n",
        "         -2.28856599e-01,  -3.27066048e-01,  -3.62024931e-01,\n",
        "         -2.02338534e-01,   3.89385690e-01,  -6.11286813e-02],\n",
        "       [ -8.93426506e-03,   1.29269577e-01,  -4.24469828e-01,\n",
        "          2.41512362e-01,   3.58469540e-01,   8.52670968e-02,\n",
        "         -2.21476088e-01,  -3.46025918e-01,  -2.21468832e-01,\n",
        "          8.52806016e-02,   3.58487535e-01,   2.41499827e-01,\n",
        "         -4.24497565e-01,   1.29288410e-01,  -8.93518883e-03],\n",
        "       [ -3.43740759e-02,   2.93109845e-01,  -3.76881576e-01,\n",
        "         -2.93650528e-01,  -4.09339594e-02,   1.73880914e-01,\n",
        "          3.04186814e-01,   3.46987126e-01,   3.04173256e-01,\n",
        "          1.73855441e-01,  -4.09716093e-02,  -2.93673606e-01,\n",
        "         -3.76859577e-01,   2.93121471e-01,  -3.43738384e-02],\n",
        "       [  1.87561229e-02,  -2.09244144e-01,   4.56580314e-01,\n",
        "          5.49144185e-02,  -2.76387689e-01,  -3.45790455e-01,\n",
        "         -2.20046484e-01,   1.94601450e-05,   2.20068778e-01,\n",
        "          3.45792711e-01,   2.76362595e-01,  -5.49495918e-02,\n",
        "         -4.56576380e-01,   2.09260262e-01,  -1.87567385e-02]])"
       ]
      }
     ],
     "prompt_number": 167
    },
    {
     "cell_type": "code",
     "collapsed": false,
     "input": [
      "with_15ions_7KHzPerMic_couplings_with_x2z2_correction_with_170KHzAxial  = couplings_with_x2z2_correction"
     ],
     "language": "python",
     "metadata": {},
     "outputs": [],
     "prompt_number": 166
    },
    {
     "cell_type": "code",
     "collapsed": false,
     "input": [
      "couplings_with_x2z2_correction[4][5]/(2*np.pi)"
     ],
     "language": "python",
     "metadata": {},
     "outputs": [
      {
       "metadata": {},
       "output_type": "pyout",
       "prompt_number": 181,
       "text": [
        "55276.442944540067"
       ]
      }
     ],
     "prompt_number": 181
    },
    {
     "cell_type": "code",
     "collapsed": false,
     "input": [
      "max(zpositions)-min(zpositions)"
     ],
     "language": "python",
     "metadata": {},
     "outputs": [
      {
       "metadata": {},
       "output_type": "pyout",
       "prompt_number": 184,
       "text": [
        "7.4670165047586019e-05"
       ]
      }
     ],
     "prompt_number": 184
    },
    {
     "cell_type": "code",
     "collapsed": false,
     "input": [],
     "language": "python",
     "metadata": {},
     "outputs": []
    }
   ],
   "metadata": {}
  }
 ]
}