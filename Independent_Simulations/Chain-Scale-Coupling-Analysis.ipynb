{
 "metadata": {
  "name": "",
  "signature": "sha256:a8905c79c774857a68fea5d8a7f79451fedd2c8a8acf17454909096d34c14534"
 },
 "nbformat": 3,
 "nbformat_minor": 0,
 "worksheets": [
  {
   "cells": [
    {
     "cell_type": "code",
     "collapsed": false,
     "input": [
      "import os,sys,inspect\n",
      "currentdir = os.path.dirname(os.path.abspath(inspect.getfile(inspect.currentframe())))\n",
      "parentdir = os.path.dirname(currentdir)\n",
      "sys.path.insert(0,parentdir) \n",
      "\n",
      "from quantum_dynamics import Dynamics\n",
      "import numpy as np\n",
      "import numpy.linalg as LA\n",
      "from ions import Chain\n",
      "from ion_trap import IonTrap\n",
      "import matplotlib.pylab as plt  \n",
      "from matplotlib.pylab import *\n",
      "from laser import *\n",
      "%pylab inline"
     ],
     "language": "python",
     "metadata": {},
     "outputs": [
      {
       "output_type": "stream",
       "stream": "stdout",
       "text": [
        "Populating the interactive namespace from numpy and matplotlib\n"
       ]
      },
      {
       "output_type": "stream",
       "stream": "stderr",
       "text": [
        "WARNING: pylab import has clobbered these variables: ['info', 'linalg', 'random', 'fft', 'power']\n",
        "`%matplotlib` prevents importing * from pylab and numpy\n"
       ]
      }
     ],
     "prompt_number": 3
    },
    {
     "cell_type": "code",
     "collapsed": false,
     "input": [
      "omegax = 1.8e6\n",
      "omegaz = 160.e3\n",
      "N = 5\n",
      "chain = Chain(N, 2)\n",
      "dummy_trap = IonTrap( omegax , omegaz, potential_config='positions_given')\n",
      "dummy_trap.load(chain, 2.*zpositions)\n",
      "#zpositions =   np.array( chain.get_zpositions() )\n",
      "#harmonic potential couplings:\n",
      "couplings_harmonic = chain.get_couplings()\n",
      "\n",
      "#Correction for x^2 * z^2 term:\n",
      "omegax_gradient_at_100microns = 0#2*np.pi * 100.e3/(1.e-6)\n",
      "def get_radial_freq_corrections(omegax_gradient_at_100microns):\n",
      "    \n",
      "    delta_omegax = omegax_gradient_at_100microns * zpositions**2/(2*100.e-6)\n",
      "\n",
      "    return delta_omegax \n",
      "\n",
      "couplings_with_x2z2_correction = np.array( [ row for row in couplings_harmonic ])\n",
      "radial_corrections = get_radial_freq_corrections(omegax_gradient_at_100microns)\n",
      "\n",
      "for i in range(N):\n",
      "    couplings_with_x2z2_correction[i][i] += radial_corrections[i]\n",
      "\n"
     ],
     "language": "python",
     "metadata": {},
     "outputs": [],
     "prompt_number": 14
    },
    {
     "cell_type": "code",
     "collapsed": false,
     "input": [
      "chain.get_zpositions()"
     ],
     "language": "python",
     "metadata": {},
     "outputs": [
      {
       "metadata": {},
       "output_type": "pyout",
       "prompt_number": 17,
       "text": [
        "[-5.2604184628008818e-05,\n",
        " -2.4812641452103204e-05,\n",
        " 0.0,\n",
        " 2.4812581088129799e-05,\n",
        " 5.2604184628008818e-05]"
       ]
      }
     ],
     "prompt_number": 17
    },
    {
     "cell_type": "code",
     "collapsed": false,
     "input": [
      "#Testing state initialization:\n",
      "#15 ions:\n",
      "#motional_state = (1, 3, 0, 0, 0, 0, 0, 0, 0, 0,0,0,0,3,0)\n",
      "#10 ions:\n",
      "#motional_state = (1, 0, 0, 0, 0, 0, 0, 0, 0, 0)\n",
      "motional_state = (1, 0, 0, 0, 0,)\n",
      "\n",
      "lasers = []\n",
      "#pulse1 = Pulse( ion_num = 0, sideband_num = 1, intensity = 2*np.pi* 100e3, phase = 2*np.pi* 0 , duration = 8.e-6 )\n",
      "chain.harmonic_couplings = couplings_with_x2z2_correction\n",
      "\n",
      "time_precision = 2.e-6\n",
      "dyn = Dynamics(chain, lasers, time_precision)\n",
      "\n",
      "\n",
      "chain.set_pure_motional_state( motional_state )\n",
      "#dyn.add_pulse( pulse1 )\n",
      "\n",
      "#dyn.construct_free_hamiltonian()"
     ],
     "language": "python",
     "metadata": {},
     "outputs": [],
     "prompt_number": 19
    },
    {
     "cell_type": "code",
     "collapsed": false,
     "input": [
      "observables = [ dyn.a[0].dag() * dyn.a[0], dyn.a[N-1].dag() * dyn.a[N-1] ]\n",
      "time_interval = (0., 1000.e-6)\n",
      "times = arange(time_interval[0],time_interval[1], time_precision)\n",
      "dyn.evolve_qutip(time_interval, observables)\n"
     ],
     "language": "python",
     "metadata": {},
     "outputs": [],
     "prompt_number": 20
    },
    {
     "cell_type": "code",
     "collapsed": false,
     "input": [
      "#plt.plot(times[0:200]*1.e6, dyn.expectations[0][0:200], times[0:200]*1.e6, dyn.expectations[1][0:200])\n",
      "plt.plot(times*1.e6, dyn.expectations[0], times*1.e6, dyn.expectations[1])\n",
      "plt.xlabel(\"$\\mu$ Sec\")\n",
      "plt.show()\n",
      "#Plot below with harmonic for 10 ions:"
     ],
     "language": "python",
     "metadata": {},
     "outputs": [
      {
       "metadata": {},
       "output_type": "display_data",
       "png": "[encoded data removed]",
       "text": [
        "<matplotlib.figure.Figure at 0x7f4050d94b90>"
       ]
      }
     ],
     "prompt_number": 6
    },
    {
     "cell_type": "code",
     "collapsed": false,
     "input": [
      "plt.plot(times*1.e6, dyn.expectations[0], times*1.e6, dyn.expectations[1])\n",
      "plt.xlabel(\"$\\mu$ Sec\")\n",
      "plt.savefig('../Data_Storage/CouplingEndIons-{}ions_InitiState%s-PhononPopulationAtEndIons-{:.2f}KHzAxial-WithX2Z2Term_20KHzPerMicronRadialGradientat100Microns.jpg'.format(N, omegaz*1.e-3)%str(motional_state), bbox_inches='tight')\n",
      "plt.show()\n",
      "#Plot below with corrections for 10 ions:"
     ],
     "language": "python",
     "metadata": {},
     "outputs": [
      {
       "metadata": {},
       "output_type": "display_data",
       "png": "[encoded data removed]",
       "text": [
        "<matplotlib.figure.Figure at 0x7fe6c14e38d0>"
       ]
      }
     ],
     "prompt_number": 59
    },
    {
     "cell_type": "code",
     "collapsed": false,
     "input": [
      "print(min(dyn.expectations[0][:100]), max(dyn.expectations[1][:100]))\n",
      "print(list(dyn.expectations[1][:100]).index(max(dyn.expectations[1][:100])))\n",
      "#print(list(dyn.expectations[1][:50]).index(max(dyn.expectations[1][:50])))\n",
      "#print(max(dyn.expectations[1][900:1100]))"
     ],
     "language": "python",
     "metadata": {},
     "outputs": [
      {
       "output_type": "stream",
       "stream": "stdout",
       "text": [
        "(0.0072364891733586317, 0.67971575708815934)\n",
        "30\n"
       ]
      }
     ],
     "prompt_number": 94
    },
    {
     "cell_type": "code",
     "collapsed": false,
     "input": [
      "(sort(LA.eig(couplings_harmonic)[0])[::-1][1] - sort(LA.eig(couplings_harmonic)[0])[::-1][2])/(2*np.pi)"
     ],
     "language": "python",
     "metadata": {},
     "outputs": [
      {
       "metadata": {},
       "output_type": "pyout",
       "prompt_number": 35,
       "text": [
        "5978.6848553007658"
       ]
      }
     ],
     "prompt_number": 35
    },
    {
     "cell_type": "code",
     "collapsed": false,
     "input": [
      "1./2481"
     ],
     "language": "python",
     "metadata": {},
     "outputs": [
      {
       "metadata": {},
       "output_type": "pyout",
       "prompt_number": 30,
       "text": [
        "0.00040306328093510683"
       ]
      }
     ],
     "prompt_number": 30
    },
    {
     "cell_type": "code",
     "collapsed": false,
     "input": [
      "1./5979"
     ],
     "language": "python",
     "metadata": {},
     "outputs": [
      {
       "metadata": {},
       "output_type": "pyout",
       "prompt_number": 36,
       "text": [
        "0.00016725204883759825"
       ]
      }
     ],
     "prompt_number": 36
    },
    {
     "cell_type": "code",
     "collapsed": false,
     "input": [
      "radial_corrections/(2*np.pi)"
     ],
     "language": "python",
     "metadata": {},
     "outputs": [
      {
       "metadata": {},
       "output_type": "pyout",
       "prompt_number": 76,
       "text": [
        "array([ 69695.41935292,  37294.37273751,  17789.17936782,   6164.27817455,\n",
        "          672.98861695,    672.98861695,   6164.27817455,  17789.17936782,\n",
        "        37294.37273751,  69695.41935292])"
       ]
      }
     ],
     "prompt_number": 76
    },
    {
     "cell_type": "code",
     "collapsed": false,
     "input": [
      "LA.eig(couplings_harmonic)[1].T"
     ],
     "language": "python",
     "metadata": {},
     "outputs": [
      {
       "metadata": {},
       "output_type": "pyout",
       "prompt_number": 4,
       "text": [
        "array([[  1.32872669e-09,  -1.26593554e-07,   3.52910986e-06,\n",
        "         -4.99144422e-05,   4.36128763e-04,  -2.61176686e-03,\n",
        "          1.14097612e-02,  -3.78698272e-02,   9.81563940e-02,\n",
        "         -2.02480740e-01,   3.36799084e-01,  -4.55587781e-01,\n",
        "          5.03590514e-01,  -4.55587781e-01,   3.36799084e-01,\n",
        "         -2.02480740e-01,   9.81563940e-02,  -3.78698272e-02,\n",
        "          1.14097612e-02,  -2.61176686e-03,   4.36128763e-04,\n",
        "         -4.99144422e-05,   3.52910986e-06,  -1.26593554e-07,\n",
        "          1.32872669e-09],\n",
        "       [ -1.28595157e-08,   1.02593834e-06,  -2.50632721e-05,\n",
        "          3.10344655e-04,  -2.35948200e-03,   1.21565144e-02,\n",
        "         -4.49113542e-02,   1.22899896e-01,  -2.52730981e-01,\n",
        "          3.88583487e-01,  -4.29041484e-01,   2.89445110e-01,\n",
        "          3.21217059e-15,  -2.89445110e-01,   4.29041484e-01,\n",
        "         -3.88583487e-01,   2.52730981e-01,  -1.22899896e-01,\n",
        "          4.49113542e-02,  -1.21565144e-02,   2.35948200e-03,\n",
        "         -3.10344655e-04,   2.50632721e-05,  -1.02593834e-06,\n",
        "          1.28595163e-08],\n",
        "       [ -8.51299288e-08,   5.77439375e-06,  -1.22994987e-04,\n",
        "          1.32519094e-03,  -8.69215130e-03,   3.80517404e-02,\n",
        "         -1.16595163e-01,   2.54511791e-01,  -3.89596532e-01,\n",
        "          3.83033263e-01,  -1.47888266e-01,  -1.91565458e-01,\n",
        "          3.55065782e-01,  -1.91565458e-01,  -1.47888266e-01,\n",
        "          3.83033263e-01,  -3.89596532e-01,   2.54511791e-01,\n",
        "         -1.16595163e-01,   3.80517404e-02,  -8.69215130e-03,\n",
        "          1.32519094e-03,  -1.22994987e-04,   5.77439375e-06,\n",
        "         -8.51299288e-08],\n",
        "       [  4.47442028e-07,  -2.60361012e-05,   4.80851717e-04,\n",
        "         -4.47605154e-03,   2.50684644e-02,  -9.17584631e-02,\n",
        "          2.26859685e-01,  -3.74042521e-01,   3.70036428e-01,\n",
        "         -1.05595155e-01,  -2.41144187e-01,   3.05500821e-01,\n",
        "          1.42094785e-14,  -3.05500821e-01,   2.41144187e-01,\n",
        "          1.05595155e-01,  -3.70036428e-01,   3.74042521e-01,\n",
        "         -2.26859685e-01,   9.17584631e-02,  -2.50684644e-02,\n",
        "          4.47605154e-03,  -4.80851717e-04,   2.60361012e-05,\n",
        "         -4.47442029e-07],\n",
        "       [ -2.00225431e-06,   9.96152353e-05,  -1.58567326e-03,\n",
        "          1.26456121e-02,  -5.97003216e-02,   1.78796861e-01,\n",
        "         -3.41872743e-01,   3.81847934e-01,  -1.35799329e-01,\n",
        "         -2.30286985e-01,   2.79933386e-01,   6.92108129e-02,\n",
        "         -3.06574332e-01,   6.92108129e-02,   2.79933386e-01,\n",
        "         -2.30286985e-01,  -1.35799329e-01,   3.81847934e-01,\n",
        "         -3.41872743e-01,   1.78796861e-01,  -5.97003216e-02,\n",
        "          1.26456121e-02,  -1.58567326e-03,   9.96152353e-05,\n",
        "         -2.00225431e-06],\n",
        "       [  7.88052067e-06,  -3.33525813e-04,   4.54479760e-03,\n",
        "         -3.07405140e-02,   1.20338729e-01,  -2.85890047e-01,\n",
        "          3.92356061e-01,  -2.14110249e-01,  -1.75422358e-01,\n",
        "          2.89464615e-01,   5.74275684e-02,  -2.91843375e-01,\n",
        "          5.26173212e-15,   2.91843375e-01,  -5.74275684e-02,\n",
        "         -2.89464615e-01,   1.75422358e-01,   2.14110249e-01,\n",
        "         -3.92356061e-01,   2.85890047e-01,  -1.20338729e-01,\n",
        "          3.07405140e-02,  -4.54479760e-03,   3.33525813e-04,\n",
        "         -7.88052067e-06],\n",
        "       [ -2.78315383e-05,   9.96237458e-04,  -1.15292334e-02,\n",
        "          6.53264394e-02,  -2.07425064e-01,   3.72365587e-01,\n",
        "         -3.09965118e-01,  -6.80423442e-02,   3.05253336e-01,\n",
        "         -1.38518174e-02,  -2.84206577e-01,   1.15894478e-02,\n",
        "          2.79033876e-01,   1.15894478e-02,  -2.84206577e-01,\n",
        "         -1.38518174e-02,   3.05253336e-01,  -6.80423442e-02,\n",
        "         -3.09965118e-01,   3.72365587e-01,  -2.07425064e-01,\n",
        "          6.53264394e-02,  -1.15292334e-02,   9.96237458e-04,\n",
        "         -2.78315383e-05],\n",
        "       [  8.93732298e-05,  -2.68821446e-03,   2.61759066e-02,\n",
        "         -1.22323075e-01,   3.05348734e-01,  -3.79381033e-01,\n",
        "          9.07641871e-02,   2.79557936e-01,  -1.29850746e-01,\n",
        "         -2.57297179e-01,   8.13997763e-02,   2.66640358e-01,\n",
        "          1.40831637e-14,  -2.66640358e-01,  -8.13997763e-02,\n",
        "          2.57297179e-01,   1.29850746e-01,  -2.79557936e-01,\n",
        "         -9.07641871e-02,   3.79381033e-01,  -3.05348734e-01,\n",
        "          1.22323075e-01,  -2.61759066e-02,   2.68821446e-03,\n",
        "         -8.93732298e-05],\n",
        "       [  2.63340767e-04,  -6.60753406e-03,   5.35338386e-02,\n",
        "         -2.02169203e-01,   3.78137597e-01,  -2.63863963e-01,\n",
        "         -1.65340253e-01,   2.50566702e-01,   1.68887886e-01,\n",
        "         -1.83846010e-01,  -2.29107744e-01,   6.94526803e-02,\n",
        "          2.60185325e-01,   6.94526803e-02,  -2.29107744e-01,\n",
        "         -1.83846010e-01,   1.68887886e-01,   2.50566702e-01,\n",
        "         -1.65340253e-01,  -2.63863963e-01,   3.78137597e-01,\n",
        "         -2.02169203e-01,   5.35338386e-02,  -6.60753406e-03,\n",
        "          2.63340767e-04],\n",
        "       [ -7.16803184e-04,   1.48784177e-02,  -9.89348632e-02,\n",
        "          2.93624722e-01,  -3.78168428e-01,   4.28769084e-02,\n",
        "          2.96941073e-01,  -1.79237508e-03,  -2.63472994e-01,\n",
        "         -1.27016236e-01,   1.71444713e-01,   2.36226797e-01,\n",
        "          1.32491447e-15,  -2.36226797e-01,  -1.71444713e-01,\n",
        "          1.27016236e-01,   2.63472994e-01,   1.79237508e-03,\n",
        "         -2.96941073e-01,  -4.28769084e-02,   3.78168428e-01,\n",
        "         -2.93624722e-01,   9.89348632e-02,  -1.48784177e-02,\n",
        "          7.16803184e-04],\n",
        "       [  1.81103938e-03,  -3.07971289e-02,   1.65204410e-01,\n",
        "         -3.69863821e-01,   2.71384537e-01,   1.88079175e-01,\n",
        "         -2.03090819e-01,  -2.35104958e-01,   4.89706294e-02,\n",
        "          2.48811828e-01,   1.49449001e-01,  -1.11841953e-01,\n",
        "         -2.46023878e-01,  -1.11841953e-01,   1.49449001e-01,\n",
        "          2.48811828e-01,   4.89706294e-02,  -2.35104958e-01,\n",
        "         -2.03090819e-01,   1.88079175e-01,   2.71384537e-01,\n",
        "         -3.69863821e-01,   1.65204410e-01,  -3.07971289e-02,\n",
        "          1.81103938e-03],\n",
        "       [ -4.26264407e-03,   5.87086265e-02,  -2.48395201e-01,\n",
        "          3.92469626e-01,  -6.95396948e-02,  -2.96468291e-01,\n",
        "         -4.85478868e-02,   2.24692232e-01,   2.13514068e-01,\n",
        "         -1.88843700e-02,  -2.18589044e-01,  -2.03724776e-01,\n",
        "         -5.63901823e-15,   2.03724776e-01,   2.18589044e-01,\n",
        "          1.88843700e-02,  -2.13514068e-01,  -2.24692232e-01,\n",
        "          4.85478868e-02,   2.96468291e-01,   6.95396948e-02,\n",
        "         -3.92469626e-01,   2.48395201e-01,  -5.87086265e-02,\n",
        "          4.26264407e-03],\n",
        "       [  2.00000000e-01,   2.00000000e-01,   2.00000000e-01,\n",
        "          2.00000000e-01,   2.00000000e-01,   2.00000000e-01,\n",
        "          2.00000000e-01,   2.00000000e-01,   2.00000000e-01,\n",
        "          2.00000000e-01,   2.00000000e-01,   2.00000000e-01,\n",
        "          2.00000000e-01,   2.00000000e-01,   2.00000000e-01,\n",
        "          2.00000000e-01,   2.00000000e-01,   2.00000000e-01,\n",
        "          2.00000000e-01,   2.00000000e-01,   2.00000000e-01,\n",
        "          2.00000000e-01,   2.00000000e-01,   2.00000000e-01,\n",
        "          2.00000000e-01],\n",
        "       [  3.60197370e-01,   3.13824468e-01,   2.75948216e-01,\n",
        "          2.42324917e-01,   2.11338728e-01,   1.82155403e-01,\n",
        "          1.54268851e-01,   1.27337397e-01,   1.01116375e-01,\n",
        "          7.54171876e-02,   5.00839877e-02,   2.49851006e-02,\n",
        "          6.20663147e-14,  -2.49851006e-02,  -5.00839877e-02,\n",
        "         -7.54171876e-02,  -1.01116375e-01,  -1.27337397e-01,\n",
        "         -1.54268851e-01,  -1.82155403e-01,  -2.11338728e-01,\n",
        "         -2.42324917e-01,  -2.75948216e-01,  -3.13824468e-01,\n",
        "         -3.60197370e-01],\n",
        "       [ -4.50778531e-01,  -2.93486661e-01,  -1.81238149e-01,\n",
        "         -9.37541474e-02,  -2.32283781e-02,   3.43559363e-02,\n",
        "          8.13828311e-02,   1.19387507e-01,   1.49398792e-01,\n",
        "          1.72124044e-01,   1.88047833e-01,   1.97483877e-01,\n",
        "          2.00610092e-01,   1.97483877e-01,   1.88047833e-01,\n",
        "          1.72124044e-01,   1.49398792e-01,   1.19387507e-01,\n",
        "          8.13828311e-02,   3.43559363e-02,  -2.32283781e-02,\n",
        "         -9.37541474e-02,  -1.81238149e-01,  -2.93486661e-01,\n",
        "         -4.50778531e-01],\n",
        "       [ -4.65636454e-01,  -1.51377137e-01,   2.60007119e-02,\n",
        "          1.31525328e-01,   1.91024735e-01,   2.18301446e-01,\n",
        "          2.21962004e-01,   2.07933218e-01,   1.80610033e-01,\n",
        "          1.43454643e-01,   9.93366058e-02,   5.07582630e-02,\n",
        "         -1.21859754e-16,  -5.07582630e-02,  -9.93366058e-02,\n",
        "         -1.43454643e-01,  -1.80610033e-01,  -2.07933218e-01,\n",
        "         -2.21962004e-01,  -2.18301446e-01,  -1.91024735e-01,\n",
        "         -1.31525328e-01,  -2.60007119e-02,   1.51377137e-01,\n",
        "          4.65636454e-01],\n",
        "       [  4.21259441e-01,  -5.18274715e-02,  -2.24208077e-01,\n",
        "         -2.63959086e-01,  -2.35998030e-01,  -1.73593039e-01,\n",
        "         -9.63114869e-02,  -1.66053408e-02,   5.72151024e-02,\n",
        "          1.19492685e-01,   1.66404024e-01,   1.95474261e-01,\n",
        "          2.05314036e-01,   1.95474261e-01,   1.66404024e-01,\n",
        "          1.19492685e-01,   5.72151024e-02,  -1.66053408e-02,\n",
        "         -9.63114869e-02,  -1.73593039e-01,  -2.35998030e-01,\n",
        "         -2.63959086e-01,  -2.24208077e-01,  -5.18274715e-02,\n",
        "          4.21259441e-01],\n",
        "       [  3.43155839e-01,  -2.44409439e-01,  -3.07829004e-01,\n",
        "         -2.10065340e-01,  -7.26268560e-02,   5.38731067e-02,\n",
        "          1.47898204e-01,   2.02030429e-01,   2.16429034e-01,\n",
        "          1.95612506e-01,   1.46686923e-01,   7.83069353e-02,\n",
        "         -9.68350465e-15,  -7.83069353e-02,  -1.46686923e-01,\n",
        "         -1.95612506e-01,  -2.16429034e-01,  -2.02030429e-01,\n",
        "         -1.47898204e-01,  -5.38731067e-02,   7.26268560e-02,\n",
        "          2.10065340e-01,   3.07829004e-01,   2.44409439e-01,\n",
        "         -3.43155839e-01],\n",
        "       [  2.55565166e-01,  -3.74199367e-01,  -2.41232386e-01,\n",
        "         -1.06471282e-02,   1.57895210e-01,   2.33002444e-01,\n",
        "          2.25347239e-01,   1.59363802e-01,   6.21624673e-02,\n",
        "         -4.12922881e-02,  -1.30420446e-01,  -1.90058870e-01,\n",
        "         -2.10971685e-01,  -1.90058870e-01,  -1.30420446e-01,\n",
        "         -4.12922881e-02,   6.21624673e-02,   1.59363802e-01,\n",
        "          2.25347239e-01,   2.33002444e-01,   1.57895210e-01,\n",
        "         -1.06471282e-02,  -2.41232386e-01,  -3.74199367e-01,\n",
        "          2.55565166e-01],\n",
        "       [ -1.75644540e-01,   4.22178330e-01,   6.35681062e-02,\n",
        "         -2.02049805e-01,  -2.65512597e-01,  -1.86602391e-01,\n",
        "         -4.57329982e-02,   9.25619926e-02,   1.87150059e-01,\n",
        "          2.19176693e-01,   1.88209551e-01,   1.07640149e-01,\n",
        "          1.28041618e-15,  -1.07640149e-01,  -1.88209551e-01,\n",
        "         -2.19176693e-01,  -1.87150059e-01,  -9.25619926e-02,\n",
        "          4.57329982e-02,   1.86602391e-01,   2.65512597e-01,\n",
        "          2.02049805e-01,  -6.35681062e-02,  -4.22178330e-01,\n",
        "          1.75644540e-01],\n",
        "       [  1.12081162e-01,  -3.98793060e-01,   1.45752343e-01,\n",
        "          3.00097069e-01,   1.67641062e-01,  -4.05241167e-02,\n",
        "         -1.91162988e-01,  -2.33758388e-01,  -1.75291357e-01,\n",
        "         -5.44258448e-02,   7.92469023e-02,   1.80307526e-01,\n",
        "          2.17659379e-01,   1.80307526e-01,   7.92469023e-02,\n",
        "         -5.44258448e-02,  -1.75291357e-01,  -2.33758388e-01,\n",
        "         -1.91162988e-01,  -4.05241167e-02,   1.67641062e-01,\n",
        "          3.00097069e-01,   1.45752343e-01,  -3.98793060e-01,\n",
        "          1.12081162e-01],\n",
        "       [  6.66635259e-02,  -3.30554583e-01,   3.12008654e-01,\n",
        "          2.34830979e-01,  -5.88439562e-02,  -2.38002099e-01,\n",
        "         -2.26630402e-01,  -8.51227088e-02,   8.58980935e-02,\n",
        "          2.01697545e-01,   2.18653527e-01,   1.38600434e-01,\n",
        "          8.35101006e-15,  -1.38600434e-01,  -2.18653527e-01,\n",
        "         -2.01697545e-01,  -8.58980935e-02,   8.51227088e-02,\n",
        "          2.26630402e-01,   2.38002099e-01,   5.88439562e-02,\n",
        "         -2.34830979e-01,  -3.12008654e-01,   3.30554583e-01,\n",
        "         -6.66635259e-02],\n",
        "       [ -9.36930806e-03,   1.03079372e-01,  -3.33526457e-01,\n",
        "          3.26932088e-01,   1.54011326e-01,  -2.05207508e-01,\n",
        "         -2.47028826e-01,  -2.09634292e-02,   2.00057429e-01,\n",
        "          2.27309224e-01,   6.49297218e-02,  -1.42836583e-01,\n",
        "         -2.34774099e-01,  -1.42836583e-01,   6.49297218e-02,\n",
        "          2.27309224e-01,   2.00057429e-01,  -2.09634292e-02,\n",
        "         -2.47028826e-01,  -2.05207508e-01,   1.54011326e-01,\n",
        "          3.26932088e-01,  -3.33526457e-01,   1.03079372e-01,\n",
        "         -9.36930806e-03],\n",
        "       [ -3.70449002e-02,   2.45967354e-01,  -3.94858130e-01,\n",
        "         -4.87720418e-02,   2.52406067e-01,   2.31442199e-01,\n",
        "          2.21310508e-02,  -1.74027644e-01,  -2.36283291e-01,\n",
        "         -1.52034611e-01,   1.32769355e-02,   1.65045946e-01,\n",
        "          2.25502130e-01,   1.65045946e-01,   1.32769355e-02,\n",
        "         -1.52034611e-01,  -2.36283291e-01,  -1.74027644e-01,\n",
        "          2.21310508e-02,   2.31442199e-01,   2.52406067e-01,\n",
        "         -4.87720418e-02,  -3.94858130e-01,   2.45967354e-01,\n",
        "         -3.70449002e-02],\n",
        "       [  1.92586536e-02,  -1.66393833e-01,   3.93488496e-01,\n",
        "         -1.66453097e-01,  -2.88809452e-01,  -2.88749721e-02,\n",
        "          2.13102333e-01,   2.33283583e-01,   6.68576000e-02,\n",
        "         -1.34609177e-01,  -2.31406908e-01,  -1.70836596e-01,\n",
        "          1.31375156e-15,   1.70836596e-01,   2.31406908e-01,\n",
        "          1.34609177e-01,  -6.68576000e-02,  -2.33283583e-01,\n",
        "         -2.13102333e-01,   2.88749721e-02,   2.88809452e-01,\n",
        "          1.66453097e-01,  -3.93488496e-01,   1.66393833e-01,\n",
        "         -1.92586536e-02]])"
       ]
      }
     ],
     "prompt_number": 4
    },
    {
     "cell_type": "code",
     "collapsed": false,
     "input": [
      "LA.eig(couplings_with_x2z2_correction)[1].T"
     ],
     "language": "python",
     "metadata": {},
     "outputs": [
      {
       "metadata": {},
       "output_type": "pyout",
       "prompt_number": 78,
       "text": [
        "array([[ 0.00072157, -0.01589277,  0.10858476, -0.34786373,  0.60576157,\n",
        "        -0.60576157,  0.34786373, -0.10858476,  0.01589277, -0.00072157],\n",
        "       [-0.65176222, -0.23591075, -0.11261147, -0.06634313, -0.04969275,\n",
        "        -0.04969275, -0.06634313, -0.11261147, -0.23591075, -0.65176222],\n",
        "       [ 0.66135293,  0.22712228,  0.09583882,  0.04129916,  0.01170796,\n",
        "        -0.01170796, -0.04129916, -0.09583882, -0.22712228, -0.66135293],\n",
        "       [-0.00366503,  0.06057911, -0.29101057,  0.55528325, -0.32138777,\n",
        "        -0.32138777,  0.55528325, -0.29101057,  0.06057911, -0.00366503],\n",
        "       [-0.01262102,  0.1527213 , -0.47946675,  0.38645845,  0.31189488,\n",
        "        -0.31189488, -0.38645845,  0.47946675, -0.1527213 ,  0.01262102],\n",
        "       [-0.03383762,  0.2904048 , -0.52054027, -0.09197194,  0.36755823,\n",
        "         0.36755823, -0.09197194, -0.52054027,  0.2904048 , -0.03383762],\n",
        "       [-0.07449066,  0.43445564, -0.31269258, -0.42131424, -0.17440499,\n",
        "         0.17440499,  0.42131424,  0.31269258, -0.43445564,  0.07449066],\n",
        "       [ 0.23681474, -0.32253134, -0.35902671, -0.33394882, -0.31538916,\n",
        "        -0.31538916, -0.33394882, -0.35902671, -0.32253134,  0.23681474],\n",
        "       [ 0.23854483, -0.48588825, -0.38904917, -0.22456487, -0.07225186,\n",
        "         0.07225186,  0.22456487,  0.38904917,  0.48588825, -0.23854483],\n",
        "       [-0.13403868,  0.50230954,  0.0526228 , -0.25938089, -0.39958873,\n",
        "        -0.39958873, -0.25938089,  0.0526228 ,  0.50230954, -0.13403868]])"
       ]
      }
     ],
     "prompt_number": 78
    },
    {
     "cell_type": "code",
     "collapsed": false,
     "input": [
      "2000000 - LA.eig(couplings_harmonic)[0][2:7]/(2*np.pi)"
     ],
     "language": "python",
     "metadata": {},
     "outputs": [
      {
       "metadata": {},
       "output_type": "pyout",
       "prompt_number": 88,
       "text": [
        "array([  1.42920351e+05,   1.13416768e+05,   8.66274162e+04,\n",
        "        -2.09547579e-09,   9.92784207e+03])"
       ]
      }
     ],
     "prompt_number": 88
    },
    {
     "cell_type": "code",
     "collapsed": false,
     "input": [
      "1904640.89610327 - LA.eig(couplings_with_x2z2_correction)[0][2:7]/(2*np.pi)"
     ],
     "language": "python",
     "metadata": {},
     "outputs": [
      {
       "metadata": {},
       "output_type": "pyout",
       "prompt_number": 98,
       "text": [
        "array([ -1.45281065e+05,   7.18790200e+04,   3.45933074e+04,\n",
        "        -2.32830644e-09,  -3.17204080e+04])"
       ]
      }
     ],
     "prompt_number": 98
    },
    {
     "cell_type": "code",
     "collapsed": false,
     "input": [
      "LA.eig(couplings_harmonic)[0][2] - LA.eig(couplings_harmonic)[0][1]"
     ],
     "language": "python",
     "metadata": {},
     "outputs": [
      {
       "metadata": {},
       "output_type": "pyout",
       "prompt_number": 55,
       "text": [
        "259873.96281674132"
       ]
      }
     ],
     "prompt_number": 55
    },
    {
     "cell_type": "code",
     "collapsed": false,
     "input": [
      "LA.eig(couplings_harmonic)[0][2] - LA.eig(couplings_harmonic)[0][3]"
     ],
     "language": "python",
     "metadata": {},
     "outputs": [
      {
       "metadata": {},
       "output_type": "pyout",
       "prompt_number": 56,
       "text": [
        "150260.73935631104"
       ]
      }
     ],
     "prompt_number": 56
    },
    {
     "cell_type": "code",
     "collapsed": false,
     "input": [
      "1./260"
     ],
     "language": "python",
     "metadata": {},
     "outputs": [
      {
       "metadata": {},
       "output_type": "pyout",
       "prompt_number": 57,
       "text": [
        "0.0038461538461538464"
       ]
      }
     ],
     "prompt_number": 57
    },
    {
     "cell_type": "code",
     "collapsed": false,
     "input": [
      "1./266"
     ],
     "language": "python",
     "metadata": {},
     "outputs": [
      {
       "metadata": {},
       "output_type": "pyout",
       "prompt_number": 58,
       "text": [
        "0.0037593984962406013"
       ]
      }
     ],
     "prompt_number": 58
    },
    {
     "cell_type": "code",
     "collapsed": false,
     "input": [
      "(1000./600)**.5 * 200"
     ],
     "language": "python",
     "metadata": {},
     "outputs": [
      {
       "metadata": {},
       "output_type": "pyout",
       "prompt_number": 108,
       "text": [
        "258.1988897471611"
       ]
      }
     ],
     "prompt_number": 108
    },
    {
     "cell_type": "code",
     "collapsed": false,
     "input": [
      "cd Data_Storage/"
     ],
     "language": "python",
     "metadata": {},
     "outputs": [
      {
       "output_type": "stream",
       "stream": "stdout",
       "text": [
        "/home/trxw/Documents/dfr/codes/quantum_play/ion-trap-qsim/Data_Storage\n"
       ]
      }
     ],
     "prompt_number": 145
    },
    {
     "cell_type": "code",
     "collapsed": false,
     "input": [
      "2*np.pi/with_15ions_14_5KHzPerMic_couplings_with_x2z2_correction_with_200KHzAxial[0][N-1]"
     ],
     "language": "python",
     "metadata": {},
     "outputs": [
      {
       "metadata": {},
       "output_type": "pyout",
       "prompt_number": 171,
       "text": [
        "0.040079582087964243"
       ]
      }
     ],
     "prompt_number": 171
    },
    {
     "cell_type": "code",
     "collapsed": false,
     "input": [
      "LA.eig(with_15ions_14_5KHzPerMic_couplings_with_x2z2_correction_with_200KHzAxial)[1].T"
     ],
     "language": "python",
     "metadata": {},
     "outputs": [
      {
       "metadata": {},
       "output_type": "pyout",
       "prompt_number": 167,
       "text": [
        "array([[ -4.04565354e-06,   2.15332459e-04,  -3.33577457e-03,\n",
        "          2.45320414e-02,  -1.03581739e-01,   2.76030169e-01,\n",
        "         -4.88582221e-01,   5.89471157e-01,  -4.88609504e-01,\n",
        "          2.76035864e-01,  -1.03577770e-01,   2.45309792e-02,\n",
        "         -3.33566434e-03,   2.15342456e-04,  -4.04516737e-06],\n",
        "       [  6.73424695e-01,   1.94582871e-01,   7.56016057e-02,\n",
        "          3.48314590e-02,   1.83690847e-02,   1.11211887e-02,\n",
        "          7.97663513e-03,   7.08869666e-03,   7.98393177e-03,\n",
        "          1.11387878e-02,   1.84054010e-02,   3.49068570e-02,\n",
        "          7.57718346e-02,   1.95021769e-01,   6.74991072e-01],\n",
        "       [  6.75813935e-01,   1.93798048e-01,   7.40347537e-02,\n",
        "          3.28004846e-02,   1.57871711e-02,   7.70364429e-03,\n",
        "          3.19999396e-03,   8.25925773e-06,  -3.18130169e-03,\n",
        "         -7.67756947e-03,  -1.57443370e-02,  -3.27192005e-02,\n",
        "         -7.38583637e-02,  -1.93337334e-01,  -6.74255238e-01],\n",
        "       [  2.71062331e-05,  -1.18863966e-03,   1.50189985e-02,\n",
        "         -8.72163149e-02,   2.73939488e-01,  -4.84247468e-01,\n",
        "          4.27397598e-01,   1.36895535e-05,  -4.27393892e-01,\n",
        "          4.84195912e-01,  -2.73892395e-01,   8.72008891e-02,\n",
        "         -1.50165416e-02,   1.18852871e-03,  -2.71046684e-05],\n",
        "       [  1.25192892e-04,  -4.48723883e-03,   4.55658747e-02,\n",
        "         -2.02789547e-01,   4.41662034e-01,  -4.08468970e-01,\n",
        "         -8.15930047e-02,   4.19971164e-01,  -8.15390085e-02,\n",
        "         -4.08516883e-01,   4.41675745e-01,  -2.02795097e-01,\n",
        "          4.55678228e-02,  -4.48775500e-03,   1.25208087e-04],\n",
        "       [ -4.59503942e-04,   1.33442325e-02,  -1.06903790e-01,\n",
        "          3.49181738e-01,  -4.58885998e-01,   2.21073428e-02,\n",
        "          3.94209195e-01,   1.76532076e-06,  -3.94193933e-01,\n",
        "         -2.21277211e-02,   4.58892395e-01,  -3.49186516e-01,\n",
        "          1.06907283e-01,  -1.33456712e-02,   4.59540282e-04],\n",
        "       [  1.99081170e-01,  -4.83642251e-01,  -3.55839794e-01,\n",
        "         -2.30932283e-01,  -1.53278701e-01,  -1.09425191e-01,\n",
        "         -8.73675611e-02,  -8.06711727e-02,  -8.73763106e-02,\n",
        "         -1.09445193e-01,  -1.53317049e-01,  -2.30998499e-01,\n",
        "         -3.55950808e-01,  -4.83798896e-01,   1.99134069e-01],\n",
        "       [  2.00594515e-01,  -5.11965354e-01,  -3.59661204e-01,\n",
        "         -2.16760003e-01,  -1.25698132e-01,  -6.88156072e-02,\n",
        "         -3.04374900e-02,  -1.25133113e-05,   3.04094609e-02,\n",
        "          6.87807654e-02,   1.25651744e-01,   2.16690701e-01,\n",
        "          3.59556119e-01,   5.11820379e-01,  -2.00526144e-01],\n",
        "       [  1.41819848e-03,  -3.30425605e-02,   2.03926130e-01,\n",
        "         -4.56198295e-01,   2.36835850e-01,   3.37340312e-01,\n",
        "         -1.06376706e-01,  -3.68750216e-01,  -1.06378276e-01,\n",
        "          3.37349629e-01,   2.36836422e-01,  -4.56206807e-01,\n",
        "          2.03935417e-01,  -3.30465952e-02,   1.41831723e-03],\n",
        "       [  3.79151698e-03,  -7.00816583e-02,   3.22720277e-01,\n",
        "         -4.33993884e-01,  -1.22468804e-01,   2.97165218e-01,\n",
        "          3.15083677e-01,  -2.88285462e-06,  -3.15074908e-01,\n",
        "         -2.97164389e-01,   1.22475871e-01,   4.33976925e-01,\n",
        "         -3.22722465e-01,   7.00875903e-02,  -3.79168360e-03],\n",
        "       [ -6.73530508e-02,   3.52610212e-01,  -4.14466439e-02,\n",
        "         -2.25907047e-01,  -2.89984149e-01,  -3.05841507e-01,\n",
        "         -3.06648512e-01,  -3.05743625e-01,  -3.06643634e-01,\n",
        "         -3.05831483e-01,  -2.89968082e-01,  -2.25885979e-01,\n",
        "         -4.14262491e-02,   3.52583177e-01,  -6.73444065e-02],\n",
        "       [  6.11309664e-02,  -3.89380894e-01,   2.02365353e-01,\n",
        "          3.62022471e-01,   3.27045012e-01,   2.28829290e-01,\n",
        "          1.15317969e-01,  -1.86512615e-05,  -1.15349878e-01,\n",
        "         -2.28856599e-01,  -3.27066048e-01,  -3.62024931e-01,\n",
        "         -2.02338534e-01,   3.89385690e-01,  -6.11286813e-02],\n",
        "       [ -8.93426506e-03,   1.29269577e-01,  -4.24469828e-01,\n",
        "          2.41512362e-01,   3.58469540e-01,   8.52670968e-02,\n",
        "         -2.21476088e-01,  -3.46025918e-01,  -2.21468832e-01,\n",
        "          8.52806016e-02,   3.58487535e-01,   2.41499827e-01,\n",
        "         -4.24497565e-01,   1.29288410e-01,  -8.93518883e-03],\n",
        "       [ -3.43740759e-02,   2.93109845e-01,  -3.76881576e-01,\n",
        "         -2.93650528e-01,  -4.09339594e-02,   1.73880914e-01,\n",
        "          3.04186814e-01,   3.46987126e-01,   3.04173256e-01,\n",
        "          1.73855441e-01,  -4.09716093e-02,  -2.93673606e-01,\n",
        "         -3.76859577e-01,   2.93121471e-01,  -3.43738384e-02],\n",
        "       [  1.87561229e-02,  -2.09244144e-01,   4.56580314e-01,\n",
        "          5.49144185e-02,  -2.76387689e-01,  -3.45790455e-01,\n",
        "         -2.20046484e-01,   1.94601450e-05,   2.20068778e-01,\n",
        "          3.45792711e-01,   2.76362595e-01,  -5.49495918e-02,\n",
        "         -4.56576380e-01,   2.09260262e-01,  -1.87567385e-02]])"
       ]
      }
     ],
     "prompt_number": 167
    },
    {
     "cell_type": "code",
     "collapsed": false,
     "input": [
      "with_15ions_7KHzPerMic_couplings_with_x2z2_correction_with_170KHzAxial  = couplings_with_x2z2_correction"
     ],
     "language": "python",
     "metadata": {},
     "outputs": [],
     "prompt_number": 166
    },
    {
     "cell_type": "code",
     "collapsed": false,
     "input": [
      "couplings_with_x2z2_correction[4][5]/(2*np.pi)"
     ],
     "language": "python",
     "metadata": {},
     "outputs": [
      {
       "metadata": {},
       "output_type": "pyout",
       "prompt_number": 181,
       "text": [
        "55276.442944540067"
       ]
      }
     ],
     "prompt_number": 181
    },
    {
     "cell_type": "code",
     "collapsed": false,
     "input": [
      "max(zpositions)-min(zpositions)"
     ],
     "language": "python",
     "metadata": {},
     "outputs": [
      {
       "metadata": {},
       "output_type": "pyout",
       "prompt_number": 184,
       "text": [
        "7.4670165047586019e-05"
       ]
      }
     ],
     "prompt_number": 184
    },
    {
     "cell_type": "code",
     "collapsed": false,
     "input": [
      "pwd"
     ],
     "language": "python",
     "metadata": {},
     "outputs": [
      {
       "metadata": {},
       "output_type": "pyout",
       "prompt_number": 28,
       "text": [
        "u'/home/trxw/Documents/dfr/codes/quantum_play/ion-trap-qsim/Independent_Simulations'"
       ]
      }
     ],
     "prompt_number": 28
    },
    {
     "cell_type": "code",
     "collapsed": false,
     "input": [
      "plt.plot(range(N), sort(chain.harmonic_couplings)/(2*np.pi*1.e6), 'ro')\n",
      "plt.show()"
     ],
     "language": "python",
     "metadata": {},
     "outputs": [],
     "prompt_number": 36
    },
    {
     "cell_type": "code",
     "collapsed": false,
     "input": [
      "(max([chain.harmonic_couplings[i][i] for i in range(N)])-min([chain.harmonic_couplings[i][i] for i in range(N)]))/(2*np.pi)"
     ],
     "language": "python",
     "metadata": {},
     "outputs": [
      {
       "metadata": {},
       "output_type": "pyout",
       "prompt_number": 44,
       "text": [
        "242908.2878852133"
       ]
      }
     ],
     "prompt_number": 44
    },
    {
     "cell_type": "code",
     "collapsed": false,
     "input": [
      "omegaz"
     ],
     "language": "python",
     "metadata": {},
     "outputs": [
      {
       "metadata": {},
       "output_type": "pyout",
       "prompt_number": 48,
       "text": [
        "170000.0"
       ]
      }
     ],
     "prompt_number": 48
    },
    {
     "cell_type": "code",
     "collapsed": false,
     "input": [
      "(17./20)**2 * 3200"
     ],
     "language": "python",
     "metadata": {},
     "outputs": [
      {
       "metadata": {},
       "output_type": "pyout",
       "prompt_number": 60,
       "text": [
        "2311.9999999999995"
       ]
      }
     ],
     "prompt_number": 60
    },
    {
     "cell_type": "code",
     "collapsed": false,
     "input": [
      "spectrum_amp_x2z2 = (LA.eig(couplings_with_x2z2_correction)[1][0])**2\n",
      "spectrum_x2z2 = LA.eig(couplings_with_x2z2_correction)[0]"
     ],
     "language": "python",
     "metadata": {},
     "outputs": [],
     "prompt_number": 149
    },
    {
     "cell_type": "code",
     "collapsed": false,
     "input": [
      "spectrum_amp_harmonic = (LA.eig(chain.get_couplings())[1][1])**2\n",
      "spectrum_harmonic = LA.eig(chain.get_couplings())[0]"
     ],
     "language": "python",
     "metadata": {},
     "outputs": [],
     "prompt_number": 146
    },
    {
     "cell_type": "code",
     "collapsed": false,
     "input": [
      "#spectrum_x2z2 = np.array([LA.eig(chain.get_couplings())[0][j] for j in [0,1,3,4] ])/(2*np.pi*1.e6)\n",
      "#spectrum_x2z2 = LA.eig(np.array([couplings_with_x2z2_correction[0][j] for j in [0,1,3,4]])/(2*np.pi*1.e6))\n",
      "spectrum_amp_x2z2"
     ],
     "language": "python",
     "metadata": {},
     "outputs": [
      {
       "metadata": {},
       "output_type": "pyout",
       "prompt_number": 150,
       "text": [
        "array([  4.99444839e-01,   4.99510624e-01,   5.54316450e-04,\n",
        "         4.89306208e-04,   8.44080875e-07,   7.02259027e-08])"
       ]
      }
     ],
     "prompt_number": 150
    },
    {
     "cell_type": "code",
     "collapsed": false,
     "input": [
      "#spectrum_harmonic = np.array([LA.eig(chain.get_couplings())[0][j] for j in [1,2,3,4,5] ])/(2*np.pi*1.e6)\n",
      "spectrum_amp_harmonic"
     ],
     "language": "python",
     "metadata": {},
     "outputs": [
      {
       "metadata": {},
       "output_type": "pyout",
       "prompt_number": 148,
       "text": [
        "array([ 0.08725695,  0.31557759,  0.29490544,  0.16666667,  0.11783761,\n",
        "        0.01775574])"
       ]
      }
     ],
     "prompt_number": 148
    },
    {
     "cell_type": "code",
     "collapsed": false,
     "input": [
      "bar1=plt.bar(range(len(spectrum_harmonic)), abs(spectrum_amp_harmonic))\n",
      "bar2=plt.bar(range(len(spectrum_x2z2)), abs(spectrum_amp_x2z2) )"
     ],
     "language": "python",
     "metadata": {},
     "outputs": [
      {
       "metadata": {},
       "output_type": "display_data",
       "png": "[encoded data removed]",
       "text": [
        "<matplotlib.figure.Figure at 0x7ff36cdd5850>"
       ]
      }
     ],
     "prompt_number": 101
    },
    {
     "cell_type": "code",
     "collapsed": false,
     "input": [
      "(0.6/0.8)**0.5"
     ],
     "language": "python",
     "metadata": {},
     "outputs": [
      {
       "metadata": {},
       "output_type": "pyout",
       "prompt_number": 56,
       "text": [
        "0.8660254037844386"
       ]
      }
     ],
     "prompt_number": 56
    },
    {
     "cell_type": "code",
     "collapsed": false,
     "input": [
      "chain.get_positions()[0]-chain.get_positions()[5]"
     ],
     "language": "python",
     "metadata": {},
     "outputs": [
      {
       "metadata": {},
       "output_type": "pyout",
       "prompt_number": 144,
       "text": [
        "-6.07343063867137e-05"
       ]
      }
     ],
     "prompt_number": 144
    },
    {
     "cell_type": "code",
     "collapsed": false,
     "input": [
      "max(spectrum_harmonic)-min(spectrum_harmonic)"
     ],
     "language": "python",
     "metadata": {},
     "outputs": [
      {
       "metadata": {},
       "output_type": "pyout",
       "prompt_number": 77,
       "text": [
        "1.4404123258219275e-07"
       ]
      }
     ],
     "prompt_number": 77
    },
    {
     "cell_type": "code",
     "collapsed": false,
     "input": [
      "chain.get_couplings()[0][1]/(2*np.pi)"
     ],
     "language": "python",
     "metadata": {},
     "outputs": [
      {
       "metadata": {},
       "output_type": "pyout",
       "prompt_number": 79,
       "text": [
        "19845.436434380073"
       ]
      }
     ],
     "prompt_number": 79
    },
    {
     "cell_type": "code",
     "collapsed": false,
     "input": [
      "(max(spectrum_harmonic)-min(spectrum_harmonic))/(2*np.pi)"
     ],
     "language": "python",
     "metadata": {},
     "outputs": [
      {
       "metadata": {},
       "output_type": "pyout",
       "prompt_number": 136,
       "text": [
        "115227.26118746205"
       ]
      }
     ],
     "prompt_number": 136
    },
    {
     "cell_type": "code",
     "collapsed": false,
     "input": [
      "(max(spectrum_x2z2)-min(spectrum_x2z2))/(2*np.pi)"
     ],
     "language": "python",
     "metadata": {},
     "outputs": [
      {
       "metadata": {},
       "output_type": "pyout",
       "prompt_number": 137,
       "text": [
        "377301.56664147164"
       ]
      }
     ],
     "prompt_number": 137
    },
    {
     "cell_type": "code",
     "collapsed": false,
     "input": [
      "spectrum_x2z2/(2*np.pi*1.e6)"
     ],
     "language": "python",
     "metadata": {},
     "outputs": [
      {
       "metadata": {},
       "output_type": "pyout",
       "prompt_number": 152,
       "text": [
        "array([ 2.24860749,  2.24834974,  1.92064787,  1.91814539,  1.79318579,\n",
        "        1.75965947])"
       ]
      }
     ],
     "prompt_number": 152
    },
    {
     "cell_type": "code",
     "collapsed": false,
     "input": [
      "plt.plot(range(N), abs(LA.eig(couplings_harmonic)[1][12]), 'b')\n",
      "plt.show()"
     ],
     "language": "python",
     "metadata": {},
     "outputs": [],
     "prompt_number": 13
    },
    {
     "cell_type": "code",
     "collapsed": false,
     "input": [],
     "language": "python",
     "metadata": {},
     "outputs": [],
     "prompt_number": 17
    },
    {
     "cell_type": "code",
     "collapsed": false,
     "input": [
      "def spectrum( couplings, ion_num ):\n",
      "    plt.plot( LA.eig(couplings)[0]/(2*np.pi*1.e6), (LA.eig(couplings)[1][ion_num-1])**2, 'ro')\n",
      "    plt.show()"
     ],
     "language": "python",
     "metadata": {},
     "outputs": [],
     "prompt_number": 78
    },
    {
     "cell_type": "code",
     "collapsed": false,
     "input": [
      "ion_num = 1\n",
      "spectrum( couplings_harmonic,ion_num )"
     ],
     "language": "python",
     "metadata": {},
     "outputs": [],
     "prompt_number": 79
    },
    {
     "cell_type": "code",
     "collapsed": false,
     "input": [
      "ion_num = 2\n",
      "spectrum( couplings_harmonic,ion_num )"
     ],
     "language": "python",
     "metadata": {},
     "outputs": [],
     "prompt_number": 28
    },
    {
     "cell_type": "code",
     "collapsed": false,
     "input": [
      "plot(LA.eig(couplings_harmonic)[1][14]**2)\n",
      "plt.show()"
     ],
     "language": "python",
     "metadata": {},
     "outputs": [],
     "prompt_number": 30
    },
    {
     "cell_type": "code",
     "collapsed": false,
     "input": [
      "plt.plot(couplings_harmonic[0]/(2*np.pi*1.e6))\n",
      "plt.show()"
     ],
     "language": "python",
     "metadata": {},
     "outputs": [],
     "prompt_number": 32
    },
    {
     "cell_type": "code",
     "collapsed": false,
     "input": [
      "plt.plot(range(N), sort(couplings_harmonic[0]/(2*np.pi*1.e6)), 'ro')\n",
      "plt.show()"
     ],
     "language": "python",
     "metadata": {},
     "outputs": [],
     "prompt_number": 63
    },
    {
     "cell_type": "code",
     "collapsed": false,
     "input": [
      "(couplings_harmonic[0]/(2*np.pi*1.e6))>1.e-2"
     ],
     "language": "python",
     "metadata": {},
     "outputs": [
      {
       "metadata": {},
       "output_type": "pyout",
       "prompt_number": 70,
       "text": [
        "array([ True, False, False, False, False], dtype=bool)"
       ]
      }
     ],
     "prompt_number": 70
    },
    {
     "cell_type": "code",
     "collapsed": false,
     "input": [
      "plt.plot(LA.eig(couplings_harmonic)[0]/(2*np.pi*1.e6), 'ro')\n",
      "plt.show()"
     ],
     "language": "python",
     "metadata": {},
     "outputs": [],
     "prompt_number": 77
    },
    {
     "cell_type": "code",
     "collapsed": false,
     "input": [
      "def get_spectrum(couplings, ion_num, threshold=0.1)\n",
      "    eigvs = LA.eig(couplings_harmonic)[0]\n",
      "    eigvecs = LA.eig(couplings_harmonic)[1]\n",
      "    spect = [[],[]] #np.zeros( (2,len(eigvs)) )\n",
      "    eignum = []\n",
      "    for i in range(len(eigvs)):\n",
      "        if eigvecs[i]>threshold:\n",
      "            eignum.append(i)\n",
      "            spect[0].append(eigvs[i])\n",
      "            "
     ],
     "language": "python",
     "metadata": {},
     "outputs": []
    },
    {
     "cell_type": "code",
     "collapsed": false,
     "input": [
      "plt.plot( LA.eig(couplings_harmonic)[0]/(2*np.pi*1.e6), (LA.eig(couplings_harmonic)[1][0])**2, 'go')\n",
      "plt.plot( LA.eig(couplings_harmonic)[0]/(2*np.pi*1.e6), (LA.eig(couplings_harmonic)[1][8])**2, 'ro')\n",
      "\n",
      "plt.show()"
     ],
     "language": "python",
     "metadata": {},
     "outputs": [],
     "prompt_number": 87
    },
    {
     "cell_type": "code",
     "collapsed": false,
     "input": [
      "raise Exception(\"Z position of ions must be given as a list with length equal to\\n number of ions\")\n"
     ],
     "language": "python",
     "metadata": {},
     "outputs": [
      {
       "ename": "Exception",
       "evalue": "Z position of ions must be given as a list with length equal to\n number of ions",
       "output_type": "pyerr",
       "traceback": [
        "\u001b[1;31m---------------------------------------------------------------------------\u001b[0m\n\u001b[1;31mException\u001b[0m                                 Traceback (most recent call last)",
        "\u001b[1;32m<ipython-input-4-326500761a9e>\u001b[0m in \u001b[0;36m<module>\u001b[1;34m()\u001b[0m\n\u001b[1;32m----> 1\u001b[1;33m \u001b[1;32mraise\u001b[0m \u001b[0mException\u001b[0m\u001b[1;33m(\u001b[0m\u001b[1;34m\"Z position of ions must be given as a list with length equal to\\n number of ions\"\u001b[0m\u001b[1;33m)\u001b[0m\u001b[1;33m\u001b[0m\u001b[0m\n\u001b[0m",
        "\u001b[1;31mException\u001b[0m: Z position of ions must be given as a list with length equal to\n number of ions"
       ]
      }
     ],
     "prompt_number": 4
    },
    {
     "cell_type": "code",
     "collapsed": false,
     "input": [],
     "language": "python",
     "metadata": {},
     "outputs": []
    }
   ],
   "metadata": {}
  }
 ]
}