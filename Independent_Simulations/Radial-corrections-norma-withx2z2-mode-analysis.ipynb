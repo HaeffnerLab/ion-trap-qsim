{
 "metadata": {
  "name": "",
  "signature": "sha256:f47e68f803f8c0cb31c3cb63e71779a60c404f1def30d09acc97eebf7ffbee41"
 },
 "nbformat": 3,
 "nbformat_minor": 0,
 "worksheets": [
  {
   "cells": [
    {
     "cell_type": "code",
     "collapsed": false,
     "input": [
      "import os,sys,inspect\n",
      "currentdir = os.path.dirname(os.path.abspath(inspect.getfile(inspect.currentframe())))\n",
      "parentdir = os.path.dirname(currentdir)\n",
      "sys.path.insert(0,parentdir) \n",
      "\n",
      "from scipy import linalg as LA \n",
      "from scipy import optimize\n",
      "import numpy as np\n",
      "from simulation_parameters import simulation_parameters\n",
      "p = simulation_parameters()\n",
      "from ions import Chain\n",
      "from ion_trap import IonTrap\n",
      "import matplotlib.pylab as plt\n",
      "import seaborn as sns\n",
      "sns.set_context('poster')\n",
      "\n",
      "#%matplotlib inline "
     ],
     "language": "python",
     "metadata": {},
     "outputs": [],
     "prompt_number": 25
    },
    {
     "cell_type": "code",
     "collapsed": false,
     "input": [
      "omegax = 2.0e6\n",
      "omegaz = 100.e3\n",
      "N = 15\n",
      "chain = Chain(N, 2)\n",
      "dummy_trap = IonTrap( omegax , omegaz)\n",
      "dummy_trap.load(chain)\n",
      "zpositions =   np.array( chain.get_positions() )\n",
      "#harmonic potential couplings:\n",
      "couplings_harmonic = chain.get_couplings()#\n",
      "print couplings_harmonic.shape\n",
      "#Correction for x^2 * z^2 term:\n",
      "omegax_gradient_at_100microns = +2*np.pi * (1)*1.e3/(1.e-6)\n",
      "def get_radial_freq_corrections(omegax_gradient_at_100microns):\n",
      "    \n",
      "    delta_omegax = 0\n",
      "    \n",
      "    delta_omegax += omegax_gradient_at_100microns * zpositions**2/(2*100.e-6)\n",
      "\n",
      "    return delta_omegax \n",
      "\n",
      "\n",
      "couplings_with_x2z2_correction = np.array( [ row for row in couplings_harmonic ])\n",
      "\n",
      "radial_corrections = get_radial_freq_corrections(omegax_gradient_at_100microns)\n",
      "\n",
      "for i in range(N):\n",
      "    couplings_with_x2z2_correction[i][i] += radial_corrections[i]\n",
      "\n",
      "normal_modes_harmonic = np.sort(abs(LA.eig(chain.get_couplings())[0])/(2*np.pi*1.e6))[::-1]\n",
      "normal_modes_with_x2z2_correction = np.sort(abs(LA.eig(couplings_with_x2z2_correction)[0])/(2*np.pi*1.e6))[::-1]\n",
      "                                    \n",
      "plt.plot(normal_modes_harmonic, 'rs', normal_modes_with_x2z2_correction , 'bs')\n",
      "plt.show()"
     ],
     "language": "python",
     "metadata": {},
     "outputs": [
      {
       "output_type": "stream",
       "stream": "stdout",
       "text": [
        "(15, 15)\n"
       ]
      }
     ],
     "prompt_number": 26
    },
    {
     "cell_type": "code",
     "collapsed": false,
     "input": [
      "omega_correction = np.array([ -24778.65509786,  -36102.79655165,  -46949.05257918,\n",
      "        -57848.50055486,  -69008.22294169,  -80551.66783917,\n",
      "        -92576.94733388, -105180.23243487, -118470.70979453,\n",
      "       -132586.00314404, -147714.88713194, -164139.10474762,\n",
      "       -182325.53391759, -203180.01507044, -229081.35889159])\n"
     ],
     "language": "python",
     "metadata": {},
     "outputs": [],
     "prompt_number": 14
    },
    {
     "cell_type": "code",
     "collapsed": false,
     "input": [
      "zpositions"
     ],
     "language": "python",
     "metadata": {},
     "outputs": [
      {
       "metadata": {},
       "output_type": "pyout",
       "prompt_number": 15,
       "text": [
        "array([ -7.59206998e-05,  -6.14265433e-05,  -4.94199950e-05,\n",
        "        -3.86069349e-05,  -2.84857054e-05,  -1.87870568e-05,\n",
        "        -9.33594385e-06,   1.37864491e-17,   9.33594385e-06,\n",
        "         1.87870568e-05,   2.84857054e-05,   3.86069349e-05,\n",
        "         4.94199950e-05,   6.14265433e-05,   7.59206998e-05])"
       ]
      }
     ],
     "prompt_number": 15
    },
    {
     "cell_type": "code",
     "collapsed": false,
     "input": [
      "normal_modes_harmonic"
     ],
     "language": "python",
     "metadata": {},
     "outputs": [
      {
       "metadata": {},
       "output_type": "pyout",
       "prompt_number": 16,
       "text": [
        "array([ 2.        ,  1.99751805,  1.99397653,  1.98951289,  1.98421845,\n",
        "        1.97815428,  1.97136378,  1.96387993,  1.95572918,  1.94693346,\n",
        "        1.93751143,  1.9274792 ,  1.91685093,  1.90563917,  1.89385516])"
       ]
      }
     ],
     "prompt_number": 16
    },
    {
     "cell_type": "code",
     "collapsed": false,
     "input": [
      "[normal_modes_with_x2z2_correction[i]-normal_modes_with_x2z2_correction[i+1] for i in range(5)]"
     ],
     "language": "python",
     "metadata": {},
     "outputs": [
      {
       "metadata": {},
       "output_type": "pyout",
       "prompt_number": 7,
       "text": [
        "[1.7706924838378768e-05,\n",
        " 0.074367638327791585,\n",
        " 5.1487412913608921e-05,\n",
        " 0.051159690825245185,\n",
        " 0.00024295040647537292]"
       ]
      }
     ],
     "prompt_number": 7
    },
    {
     "cell_type": "code",
     "collapsed": false,
     "input": [],
     "language": "python",
     "metadata": {},
     "outputs": [
      {
       "metadata": {},
       "output_type": "pyout",
       "prompt_number": 24,
       "text": [
        "4"
       ]
      }
     ],
     "prompt_number": 24
    },
    {
     "cell_type": "code",
     "collapsed": false,
     "input": [
      "normal_modes_harmonic"
     ],
     "language": "python",
     "metadata": {},
     "outputs": [
      {
       "metadata": {},
       "output_type": "pyout",
       "prompt_number": 21,
       "text": [
        "array([ 2.        ,  1.99751805,  1.99397653,  1.98951289,  1.98421845,\n",
        "        1.97815428,  1.97136378,  1.96387993,  1.95572918,  1.94693346,\n",
        "        1.93751143,  1.9274792 ,  1.91685093,  1.90563917,  1.89385516])"
       ]
      }
     ],
     "prompt_number": 21
    },
    {
     "cell_type": "code",
     "collapsed": false,
     "input": [
      "normal_modes_harmonic[0]-normal_modes_harmonic[1], normal_modes_harmonic[1] - normal_modes_harmonic[2]   "
     ],
     "language": "python",
     "metadata": {},
     "outputs": [
      {
       "metadata": {},
       "output_type": "pyout",
       "prompt_number": 17,
       "text": [
        "(0.0024819509698201792, 0.003541522990637036)"
       ]
      }
     ],
     "prompt_number": 17
    },
    {
     "cell_type": "code",
     "collapsed": false,
     "input": [
      "max(chain.get_positions())-min(chain.get_positions())"
     ],
     "language": "python",
     "metadata": {},
     "outputs": [
      {
       "metadata": {},
       "output_type": "pyout",
       "prompt_number": 37,
       "text": [
        "0.0001736994158779081"
       ]
      }
     ],
     "prompt_number": 37
    },
    {
     "cell_type": "code",
     "collapsed": false,
     "input": [
      "#Classical dynamics\n",
      "from quantum_dynamics import Dynamics\n",
      "chain.couplings = couplings_with_x2z2_correction\n",
      "dyn = Dynamics(chain, mode='classical')\n",
      "\n",
      "contrast_with_x2z2_correction = dyn.get_ramsey_contrast(1)"
     ],
     "language": "python",
     "metadata": {},
     "outputs": [
      {
       "ename": "KeyboardInterrupt",
       "evalue": "",
       "output_type": "pyerr",
       "traceback": [
        "\u001b[1;31m---------------------------------------------------------------------------\u001b[0m\n\u001b[1;31mKeyboardInterrupt\u001b[0m                         Traceback (most recent call last)",
        "\u001b[1;32m<ipython-input-72-3ee0d897de5e>\u001b[0m in \u001b[0;36m<module>\u001b[1;34m()\u001b[0m\n\u001b[0;32m      2\u001b[0m \u001b[1;32mfrom\u001b[0m \u001b[0mquantum_dynamics\u001b[0m \u001b[1;32mimport\u001b[0m \u001b[0mDynamics\u001b[0m\u001b[1;33m\u001b[0m\u001b[0m\n\u001b[0;32m      3\u001b[0m \u001b[0mchain\u001b[0m\u001b[1;33m.\u001b[0m\u001b[0mcouplings\u001b[0m \u001b[1;33m=\u001b[0m \u001b[0mcouplings_with_x2z2_correction\u001b[0m\u001b[1;33m\u001b[0m\u001b[0m\n\u001b[1;32m----> 4\u001b[1;33m \u001b[0mdyn\u001b[0m \u001b[1;33m=\u001b[0m \u001b[0mDynamics\u001b[0m\u001b[1;33m(\u001b[0m\u001b[0mchain\u001b[0m\u001b[1;33m,\u001b[0m \u001b[0mmode\u001b[0m\u001b[1;33m=\u001b[0m\u001b[1;34m'classical'\u001b[0m\u001b[1;33m)\u001b[0m\u001b[1;33m\u001b[0m\u001b[0m\n\u001b[0m\u001b[0;32m      5\u001b[0m \u001b[1;33m\u001b[0m\u001b[0m\n\u001b[0;32m      6\u001b[0m \u001b[0mcontrast_with_x2z2_correction\u001b[0m \u001b[1;33m=\u001b[0m \u001b[0mdyn\u001b[0m\u001b[1;33m.\u001b[0m\u001b[0mget_ramsey_contrast\u001b[0m\u001b[1;33m(\u001b[0m\u001b[1;36m1\u001b[0m\u001b[1;33m)\u001b[0m\u001b[1;33m\u001b[0m\u001b[0m\n",
        "\u001b[1;32m/home/trxw/Documents/dfr/codes/quantum_play/ion-trap-qsim/quantum_dynamics.pyc\u001b[0m in \u001b[0;36m__init__\u001b[1;34m(self, chain, mode, lasers, pulses, time_precision)\u001b[0m\n\u001b[0;32m     22\u001b[0m                 \u001b[1;32mraise\u001b[0m \u001b[0mException\u001b[0m\u001b[1;33m(\u001b[0m \u001b[1;34m\"Laser ion number must be a number between 1 and {}.\"\u001b[0m\u001b[1;33m.\u001b[0m\u001b[0mformat\u001b[0m\u001b[1;33m(\u001b[0m\u001b[0mchain\u001b[0m\u001b[1;33m.\u001b[0m\u001b[0mnum_of_ions\u001b[0m\u001b[1;33m)\u001b[0m \u001b[1;33m)\u001b[0m\u001b[1;33m\u001b[0m\u001b[0m\n\u001b[0;32m     23\u001b[0m \u001b[1;33m\u001b[0m\u001b[0m\n\u001b[1;32m---> 24\u001b[1;33m         \u001b[0msuper\u001b[0m\u001b[1;33m(\u001b[0m\u001b[0mDynamics\u001b[0m\u001b[1;33m,\u001b[0m \u001b[0mself\u001b[0m\u001b[1;33m)\u001b[0m\u001b[1;33m.\u001b[0m\u001b[0m__init__\u001b[0m\u001b[1;33m(\u001b[0m\u001b[1;33m)\u001b[0m\u001b[1;33m\u001b[0m\u001b[0m\n\u001b[0m\u001b[0;32m     25\u001b[0m \u001b[1;33m\u001b[0m\u001b[0m\n\u001b[0;32m     26\u001b[0m \u001b[1;33m\u001b[0m\u001b[0m\n",
        "\u001b[1;32m/home/trxw/Documents/dfr/codes/quantum_play/ion-trap-qsim/operator_zoo.pyc\u001b[0m in \u001b[0;36m__init__\u001b[1;34m(self)\u001b[0m\n\u001b[0;32m     19\u001b[0m         \u001b[0mself\u001b[0m\u001b[1;33m.\u001b[0m\u001b[0mD_func\u001b[0m        \u001b[1;33m=\u001b[0m \u001b[1;32mlambda\u001b[0m \u001b[0mi\u001b[0m\u001b[1;33m:\u001b[0m \u001b[0msum\u001b[0m\u001b[1;33m(\u001b[0m \u001b[1;33m[\u001b[0m \u001b[0mself\u001b[0m\u001b[1;33m.\u001b[0m\u001b[0mchain\u001b[0m\u001b[1;33m.\u001b[0m\u001b[0mnormal_in_local_modes\u001b[0m\u001b[1;33m[\u001b[0m\u001b[0mi\u001b[0m\u001b[1;33m]\u001b[0m\u001b[1;33m[\u001b[0m\u001b[0mj\u001b[0m\u001b[1;33m]\u001b[0m \u001b[1;33m*\u001b[0m \u001b[0mself\u001b[0m\u001b[1;33m.\u001b[0m\u001b[0ma\u001b[0m\u001b[1;33m[\u001b[0m\u001b[0mj\u001b[0m\u001b[1;33m]\u001b[0m \u001b[1;32mfor\u001b[0m \u001b[0mj\u001b[0m \u001b[1;32min\u001b[0m \u001b[0mrange\u001b[0m\u001b[1;33m(\u001b[0m\u001b[0mself\u001b[0m\u001b[1;33m.\u001b[0m\u001b[0mchain\u001b[0m\u001b[1;33m.\u001b[0m\u001b[0mnum_of_ions\u001b[0m\u001b[1;33m)\u001b[0m \u001b[1;33m]\u001b[0m \u001b[1;33m)\u001b[0m\u001b[1;33m\u001b[0m\u001b[0m\n\u001b[0;32m     20\u001b[0m \u001b[1;33m\u001b[0m\u001b[0m\n\u001b[1;32m---> 21\u001b[1;33m         \u001b[0mself\u001b[0m\u001b[1;33m.\u001b[0m\u001b[0mD\u001b[0m             \u001b[1;33m=\u001b[0m \u001b[1;33m[\u001b[0m \u001b[0mself\u001b[0m\u001b[1;33m.\u001b[0m\u001b[0mD_func\u001b[0m\u001b[1;33m(\u001b[0m\u001b[0mi\u001b[0m\u001b[1;33m)\u001b[0m \u001b[1;32mfor\u001b[0m \u001b[0mi\u001b[0m \u001b[1;32min\u001b[0m \u001b[0mrange\u001b[0m\u001b[1;33m(\u001b[0m\u001b[0mself\u001b[0m\u001b[1;33m.\u001b[0m\u001b[0mchain\u001b[0m\u001b[1;33m.\u001b[0m\u001b[0mnum_of_ions\u001b[0m\u001b[1;33m)\u001b[0m \u001b[1;33m]\u001b[0m\u001b[1;33m\u001b[0m\u001b[0m\n\u001b[0m\u001b[0;32m     22\u001b[0m \u001b[1;33m\u001b[0m\u001b[0m\n\u001b[0;32m     23\u001b[0m \u001b[1;33m\u001b[0m\u001b[0m\n",
        "\u001b[1;32m/home/trxw/Documents/dfr/codes/quantum_play/ion-trap-qsim/operator_zoo.pyc\u001b[0m in \u001b[0;36m<lambda>\u001b[1;34m(i)\u001b[0m\n\u001b[0;32m     17\u001b[0m \u001b[1;33m\u001b[0m\u001b[0m\n\u001b[0;32m     18\u001b[0m         \u001b[1;31m#Normal modes expressed in terms of local mode a's:\u001b[0m\u001b[1;33m\u001b[0m\u001b[1;33m\u001b[0m\u001b[0m\n\u001b[1;32m---> 19\u001b[1;33m         \u001b[0mself\u001b[0m\u001b[1;33m.\u001b[0m\u001b[0mD_func\u001b[0m        \u001b[1;33m=\u001b[0m \u001b[1;32mlambda\u001b[0m \u001b[0mi\u001b[0m\u001b[1;33m:\u001b[0m \u001b[0msum\u001b[0m\u001b[1;33m(\u001b[0m \u001b[1;33m[\u001b[0m \u001b[0mself\u001b[0m\u001b[1;33m.\u001b[0m\u001b[0mchain\u001b[0m\u001b[1;33m.\u001b[0m\u001b[0mnormal_in_local_modes\u001b[0m\u001b[1;33m[\u001b[0m\u001b[0mi\u001b[0m\u001b[1;33m]\u001b[0m\u001b[1;33m[\u001b[0m\u001b[0mj\u001b[0m\u001b[1;33m]\u001b[0m \u001b[1;33m*\u001b[0m \u001b[0mself\u001b[0m\u001b[1;33m.\u001b[0m\u001b[0ma\u001b[0m\u001b[1;33m[\u001b[0m\u001b[0mj\u001b[0m\u001b[1;33m]\u001b[0m \u001b[1;32mfor\u001b[0m \u001b[0mj\u001b[0m \u001b[1;32min\u001b[0m \u001b[0mrange\u001b[0m\u001b[1;33m(\u001b[0m\u001b[0mself\u001b[0m\u001b[1;33m.\u001b[0m\u001b[0mchain\u001b[0m\u001b[1;33m.\u001b[0m\u001b[0mnum_of_ions\u001b[0m\u001b[1;33m)\u001b[0m \u001b[1;33m]\u001b[0m \u001b[1;33m)\u001b[0m\u001b[1;33m\u001b[0m\u001b[0m\n\u001b[0m\u001b[0;32m     20\u001b[0m \u001b[1;33m\u001b[0m\u001b[0m\n\u001b[0;32m     21\u001b[0m         \u001b[0mself\u001b[0m\u001b[1;33m.\u001b[0m\u001b[0mD\u001b[0m             \u001b[1;33m=\u001b[0m \u001b[1;33m[\u001b[0m \u001b[0mself\u001b[0m\u001b[1;33m.\u001b[0m\u001b[0mD_func\u001b[0m\u001b[1;33m(\u001b[0m\u001b[0mi\u001b[0m\u001b[1;33m)\u001b[0m \u001b[1;32mfor\u001b[0m \u001b[0mi\u001b[0m \u001b[1;32min\u001b[0m \u001b[0mrange\u001b[0m\u001b[1;33m(\u001b[0m\u001b[0mself\u001b[0m\u001b[1;33m.\u001b[0m\u001b[0mchain\u001b[0m\u001b[1;33m.\u001b[0m\u001b[0mnum_of_ions\u001b[0m\u001b[1;33m)\u001b[0m \u001b[1;33m]\u001b[0m\u001b[1;33m\u001b[0m\u001b[0m\n",
        "\u001b[1;32m/usr/lib/python2.7/dist-packages/qutip/qobj.pyc\u001b[0m in \u001b[0;36m__add__\u001b[1;34m(self, other)\u001b[0m\n\u001b[0;32m    367\u001b[0m                 \u001b[0mout\u001b[0m\u001b[1;33m.\u001b[0m\u001b[0msuperrep\u001b[0m \u001b[1;33m=\u001b[0m \u001b[0mself\u001b[0m\u001b[1;33m.\u001b[0m\u001b[0msuperrep\u001b[0m\u001b[1;33m\u001b[0m\u001b[0m\n\u001b[0;32m    368\u001b[0m \u001b[1;33m\u001b[0m\u001b[0m\n\u001b[1;32m--> 369\u001b[1;33m             \u001b[1;32mreturn\u001b[0m \u001b[0mout\u001b[0m\u001b[1;33m.\u001b[0m\u001b[0mtidyup\u001b[0m\u001b[1;33m(\u001b[0m\u001b[1;33m)\u001b[0m \u001b[1;32mif\u001b[0m \u001b[0msettings\u001b[0m\u001b[1;33m.\u001b[0m\u001b[0mauto_tidyup\u001b[0m \u001b[1;32melse\u001b[0m \u001b[0mout\u001b[0m\u001b[1;33m\u001b[0m\u001b[0m\n\u001b[0m\u001b[0;32m    370\u001b[0m \u001b[1;33m\u001b[0m\u001b[0m\n\u001b[0;32m    371\u001b[0m     \u001b[1;32mdef\u001b[0m \u001b[0m__radd__\u001b[0m\u001b[1;33m(\u001b[0m\u001b[0mself\u001b[0m\u001b[1;33m,\u001b[0m \u001b[0mother\u001b[0m\u001b[1;33m)\u001b[0m\u001b[1;33m:\u001b[0m\u001b[1;33m\u001b[0m\u001b[0m\n",
        "\u001b[1;32m/usr/lib/python2.7/dist-packages/qutip/qobj.pyc\u001b[0m in \u001b[0;36mtidyup\u001b[1;34m(self, atol)\u001b[0m\n\u001b[0;32m   1084\u001b[0m \u001b[1;33m\u001b[0m\u001b[0m\n\u001b[0;32m   1085\u001b[0m             \u001b[0mdata_imag\u001b[0m \u001b[1;33m=\u001b[0m \u001b[0mself\u001b[0m\u001b[1;33m.\u001b[0m\u001b[0mdata\u001b[0m\u001b[1;33m.\u001b[0m\u001b[0mdata\u001b[0m\u001b[1;33m.\u001b[0m\u001b[0mimag\u001b[0m\u001b[1;33m\u001b[0m\u001b[0m\n\u001b[1;32m-> 1086\u001b[1;33m             \u001b[0mdata_imag\u001b[0m\u001b[1;33m[\u001b[0m\u001b[0mabs\u001b[0m\u001b[1;33m(\u001b[0m\u001b[0mdata_imag\u001b[0m\u001b[1;33m)\u001b[0m \u001b[1;33m<\u001b[0m \u001b[0matol\u001b[0m\u001b[1;33m]\u001b[0m \u001b[1;33m=\u001b[0m \u001b[1;36m0\u001b[0m\u001b[1;33m\u001b[0m\u001b[0m\n\u001b[0m\u001b[0;32m   1087\u001b[0m \u001b[1;33m\u001b[0m\u001b[0m\n\u001b[0;32m   1088\u001b[0m             \u001b[0mself\u001b[0m\u001b[1;33m.\u001b[0m\u001b[0mdata\u001b[0m\u001b[1;33m.\u001b[0m\u001b[0mdata\u001b[0m \u001b[1;33m=\u001b[0m \u001b[0mdata_real\u001b[0m \u001b[1;33m+\u001b[0m \u001b[1;36m1j\u001b[0m \u001b[1;33m*\u001b[0m \u001b[0mdata_imag\u001b[0m\u001b[1;33m\u001b[0m\u001b[0m\n",
        "\u001b[1;31mKeyboardInterrupt\u001b[0m: "
       ]
      }
     ],
     "prompt_number": 72
    },
    {
     "cell_type": "code",
     "collapsed": false,
     "input": [
      "#Quantum dynamics\n",
      "\n",
      "#State initialization:\n",
      "motional_state = (1, 0, 0, 0, 0, 0,0,0,0,0, 0, 0, 0, 0)\n",
      "lasers = []\n",
      "#pulse1 = Pulse( ion_num = 0, sideband_num = 1, intensity = 2*np.pi* 100e3, phase = 2*np.pi* 0 , duration = 8.e-6 )\n",
      "\n",
      "time_precision = 1.e-6\n",
      "\n",
      "#motional_state = (1, 0, 0, 0, 0)\n",
      "#electronic_state = (1, 0, 0, 0, 0, 0, 0, 0, 0, 0)\n",
      "chain.set_pure_motional_state( motional_state )\n",
      "#chain.set_pure_electronic_state_numbers(electronic_state)\n",
      "#dyn.add_pulse( pulse1 )\n",
      "chain.couplings = couplings_with_x2z2_correction\n",
      "dyn = Dynamics(chain,'quantum',[], [], time_precision)\n",
      "\n",
      "\n",
      "observables = [ dyn.a[0].dag() * dyn.a[0] ]\n",
      "time_interval = (0., 700.e-6)\n",
      "times = np.arange(time_interval[0], time_interval[1], time_precision)\n",
      "dyn.evolve_pure(time_interval, observables)\n",
      "plt.plot(times*1.e6, dyn.expectations[0], times*1.e6, dyn.expectations[1])\n",
      "plt.xlabel(\"$\\mu$ Sec\")\n",
      "plt.show()"
     ],
     "language": "python",
     "metadata": {},
     "outputs": [],
     "prompt_number": 76
    },
    {
     "cell_type": "code",
     "collapsed": false,
     "input": [
      "#plt.plot(contrast)\n",
      "#plt.plot(contrast_with_x2z2_correction)\n",
      "plt.show()"
     ],
     "language": "python",
     "metadata": {},
     "outputs": [],
     "prompt_number": 16
    },
    {
     "cell_type": "code",
     "collapsed": false,
     "input": [
      "#Spectrum engineering via engineering ion positions: What ion positions I need in order to get the spectrum \n",
      "omegax = 2.0e6\n",
      "omegaz = 100.e3\n",
      "N = 15\n",
      "chain = Chain(N, 2)\n",
      "dummy_trap = IonTrap( omegax , omegaz)\n",
      "dummy_trap.load(chain)\n",
      "zpositions =   np.array( chain.get_positions() )\n",
      "distance_ratio  =  1.5\n",
      "couplings_harmonic = chain.get_couplings()\n",
      "normal_modes_harmonic = np.sort(abs(LA.eig(couplings_harmonic)[0])/(2*np.pi*1.e6))[::-1]\n",
      "\n",
      "#Change the ions positions:\n",
      "\n",
      "def get_engineered_normal_modes(dummy_trap, distance_ratio, isolated_ions=1 ):\n",
      "    if isolated_ions == 1:\n",
      "        positions = dummy_trap.chain.get_positions()\n",
      "        positions[0] = positions[1]-distance_ratio*(positions[1]-positions[0])\n",
      "        positions[-1] = positions[-2]+distance_ratio*(positions[-1]-positions[-2])\n",
      "        dummy_trap.set_ions_positions( positions )  \n",
      "\n",
      "        \n",
      "    return chain.couplings, np.sort(abs(LA.eig(chain.couplings)[0])/(2*np.pi*1.e6))[::-1]\n",
      "#Correction for y^2 * z^2 term:\n",
      "#omegax_gradient_at_100microns = +2*np.pi * (10./25)*1e3/(1.e-6)\n",
      "#def get_radial_freq_corrections(omegax_gradient_at_100microns):\n",
      "    \n",
      "#    delta_omegax = omegax_gradient_at_100microns * zpositions**2/(2*100.e-6)\n",
      "\n",
      "#    return delta_omegax \n",
      "\n",
      "#couplings_with_x2z2_correction = np.array( [ row for row in couplings_harmonic ])\n",
      "#radial_corrections = get_radial_freq_corrections(omegax_gradient_at_100microns)\n",
      "\n",
      "#for i in range(N):\n",
      "#    couplings_with_x2z2_correction[i][i] += radial_corrections[i]\n",
      "\n",
      "couplings_after_positions_correction = get_engineered_normal_modes(dummy_trap, distance_ratio)[0]\n",
      "normal_modes_after_positions_correction = get_engineered_normal_modes(dummy_trap, distance_ratio)[1]\n",
      "\n",
      "#normal_modes_with_x2z2_correction = np.sort(abs(LA.eig(couplings_with_x2z2_correction)[0])/(2*np.pi*1.e6))[::-1]\n",
      "plt.plot(normal_modes_harmonic, 'rs', normal_modes_after_positions_correction, 'bs')\n",
      "plt.show()"
     ],
     "language": "python",
     "metadata": {},
     "outputs": [],
     "prompt_number": 10
    },
    {
     "cell_type": "code",
     "collapsed": false,
     "input": [
      "[normal_modes_after_positions_correction[i]-normal_modes_after_positions_correction[i+1] for i in range(4)]"
     ],
     "language": "python",
     "metadata": {},
     "outputs": [
      {
       "metadata": {},
       "output_type": "pyout",
       "prompt_number": 6,
       "text": [
        "[0.0011326896816750143,\n",
        " 0.00029363314454866618,\n",
        " 0.0024729404106882402,\n",
        " 0.0056829912308153929]"
       ]
      }
     ],
     "prompt_number": 6
    },
    {
     "cell_type": "code",
     "collapsed": false,
     "input": [
      "omegax = 2.0e6\n",
      "omegaz = 200.e3\n",
      "chain = Chain(N, 2)\n",
      "dummy_trap = IonTrap( omegax , omegaz)\n",
      "dummy_trap.load(chain)\n",
      "zpositions =   np.array( chain.get_positions() )\n",
      "#harmonic potential couplings:\n",
      "couplings_harmonic = chain.get_couplings()\n",
      "time_interval = (0., 700.e-6)\n",
      "time_precision = 1.e-6\n",
      "times = np.arange(time_interval[0], time_interval[1], time_precision)\n",
      "ion = 0\n",
      "\n",
      "ex = abs(np.conjugate(np.array([gamma(ion, t, chain) for t in times])) * np.array([gamma(ion, t, chain) for t in times]))\n",
      "#plt.figure(1)\n",
      "plt.plot(times*1.e6, ex, label='{} ions'.format(N))\n",
      "plt.xlabel(\"$\\mu$ Sec\")\n",
      "plt.ylim(0,1.)\n",
      "plt.xlim(0,650.)\n",
      "plt.legend(loc=2, prop={'size':9})\n",
      "    \n",
      "#plt.savefig('20ions-150KHzAxial.jpg', bbox_inches='tight')\n",
      "#fig = plt.figure()\n",
      "#ax = fig.add_subplot(111)\n",
      "plt.text(0, 1, r'Axial freq {:.1f} KHz'.format(omegaz/1.e3), fontsize=15)\n",
      "#plt.savefig('harmonic-200KHzAxial.jpg', bbox_inches='tight')\n",
      "plt.show()"
     ],
     "language": "python",
     "metadata": {},
     "outputs": [
      {
       "ename": "NameError",
       "evalue": "name 'gamma' is not defined",
       "output_type": "pyerr",
       "traceback": [
        "\u001b[1;31m---------------------------------------------------------------------------\u001b[0m\n\u001b[1;31mNameError\u001b[0m                                 Traceback (most recent call last)",
        "\u001b[1;32m<ipython-input-12-894efcb5b011>\u001b[0m in \u001b[0;36m<module>\u001b[1;34m()\u001b[0m\n\u001b[0;32m     12\u001b[0m \u001b[0mion\u001b[0m \u001b[1;33m=\u001b[0m \u001b[1;36m0\u001b[0m\u001b[1;33m\u001b[0m\u001b[0m\n\u001b[0;32m     13\u001b[0m \u001b[1;33m\u001b[0m\u001b[0m\n\u001b[1;32m---> 14\u001b[1;33m \u001b[0mex\u001b[0m \u001b[1;33m=\u001b[0m \u001b[0mabs\u001b[0m\u001b[1;33m(\u001b[0m\u001b[0mnp\u001b[0m\u001b[1;33m.\u001b[0m\u001b[0mconjugate\u001b[0m\u001b[1;33m(\u001b[0m\u001b[0mnp\u001b[0m\u001b[1;33m.\u001b[0m\u001b[0marray\u001b[0m\u001b[1;33m(\u001b[0m\u001b[1;33m[\u001b[0m\u001b[0mgamma\u001b[0m\u001b[1;33m(\u001b[0m\u001b[0mion\u001b[0m\u001b[1;33m,\u001b[0m \u001b[0mt\u001b[0m\u001b[1;33m,\u001b[0m \u001b[0mchain\u001b[0m\u001b[1;33m)\u001b[0m \u001b[1;32mfor\u001b[0m \u001b[0mt\u001b[0m \u001b[1;32min\u001b[0m \u001b[0mtimes\u001b[0m\u001b[1;33m]\u001b[0m\u001b[1;33m)\u001b[0m\u001b[1;33m)\u001b[0m \u001b[1;33m*\u001b[0m \u001b[0mnp\u001b[0m\u001b[1;33m.\u001b[0m\u001b[0marray\u001b[0m\u001b[1;33m(\u001b[0m\u001b[1;33m[\u001b[0m\u001b[0mgamma\u001b[0m\u001b[1;33m(\u001b[0m\u001b[0mion\u001b[0m\u001b[1;33m,\u001b[0m \u001b[0mt\u001b[0m\u001b[1;33m,\u001b[0m \u001b[0mchain\u001b[0m\u001b[1;33m)\u001b[0m \u001b[1;32mfor\u001b[0m \u001b[0mt\u001b[0m \u001b[1;32min\u001b[0m \u001b[0mtimes\u001b[0m\u001b[1;33m]\u001b[0m\u001b[1;33m)\u001b[0m\u001b[1;33m)\u001b[0m\u001b[1;33m\u001b[0m\u001b[0m\n\u001b[0m\u001b[0;32m     15\u001b[0m \u001b[1;31m#plt.figure(1)\u001b[0m\u001b[1;33m\u001b[0m\u001b[1;33m\u001b[0m\u001b[0m\n\u001b[0;32m     16\u001b[0m \u001b[0mplt\u001b[0m\u001b[1;33m.\u001b[0m\u001b[0mplot\u001b[0m\u001b[1;33m(\u001b[0m\u001b[0mtimes\u001b[0m\u001b[1;33m*\u001b[0m\u001b[1;36m1.e6\u001b[0m\u001b[1;33m,\u001b[0m \u001b[0mex\u001b[0m\u001b[1;33m,\u001b[0m \u001b[0mlabel\u001b[0m\u001b[1;33m=\u001b[0m\u001b[1;34m'{} ions'\u001b[0m\u001b[1;33m.\u001b[0m\u001b[0mformat\u001b[0m\u001b[1;33m(\u001b[0m\u001b[0mN\u001b[0m\u001b[1;33m)\u001b[0m\u001b[1;33m)\u001b[0m\u001b[1;33m\u001b[0m\u001b[0m\n",
        "\u001b[1;31mNameError\u001b[0m: name 'gamma' is not defined"
       ]
      }
     ],
     "prompt_number": 12
    },
    {
     "cell_type": "code",
     "collapsed": false,
     "input": [
      "omegax = 2.0e6\n",
      "omegaz = 200.e3\n",
      "chain = Chain(N, 2)\n",
      "dummy_trap = IonTrap( omegax , omegaz)\n",
      "dummy_trap.load(chain)\n",
      "zpositions =   np.array( chain.get_positions() )\n",
      "#harmonic potential couplings:\n",
      "couplings_harmonic = chain.get_couplings()\n",
      "time_interval = (0., 700.e-6)\n",
      "time_precision = 1.e-6\n",
      "times = np.arange(time_interval[0], time_interval[1], time_precision)\n",
      "ion = 0\n",
      "\n",
      "ex = abs(np.conjugate(np.array([gamma(ion, t, chain) for t in times])) * np.array([gamma(ion, t, chain) for t in times]))\n",
      "#plt.figure(1)\n",
      "plt.plot(times*1.e6, ex, label='{} ions'.format(N))\n",
      "plt.xlabel(\"$\\mu$ Sec\")\n",
      "plt.ylim(0,1.)\n",
      "plt.xlim(0,650.)\n",
      "plt.legend(loc=2, prop={'size':9})\n",
      "    \n",
      "#plt.savefig('20ions-150KHzAxial.jpg', bbox_inches='tight')\n",
      "#fig = plt.figure()\n",
      "#ax = fig.add_subplot(111)\n",
      "plt.text(0, 1, r'Axial freq {:.1f} KHz'.format(omegaz/1.e3), fontsize=15)\n",
      "#plt.savefig('harmonic-200KHzAxial.jpg', bbox_inches='tight')\n",
      "plt.show()"
     ],
     "language": "python",
     "metadata": {},
     "outputs": [
      {
       "ename": "NameError",
       "evalue": "name 'gamma' is not defined",
       "output_type": "pyerr",
       "traceback": [
        "\u001b[1;31m---------------------------------------------------------------------------\u001b[0m\n\u001b[1;31mNameError\u001b[0m                                 Traceback (most recent call last)",
        "\u001b[1;32m<ipython-input-9-894efcb5b011>\u001b[0m in \u001b[0;36m<module>\u001b[1;34m()\u001b[0m\n\u001b[0;32m     12\u001b[0m \u001b[0mion\u001b[0m \u001b[1;33m=\u001b[0m \u001b[1;36m0\u001b[0m\u001b[1;33m\u001b[0m\u001b[0m\n\u001b[0;32m     13\u001b[0m \u001b[1;33m\u001b[0m\u001b[0m\n\u001b[1;32m---> 14\u001b[1;33m \u001b[0mex\u001b[0m \u001b[1;33m=\u001b[0m \u001b[0mabs\u001b[0m\u001b[1;33m(\u001b[0m\u001b[0mnp\u001b[0m\u001b[1;33m.\u001b[0m\u001b[0mconjugate\u001b[0m\u001b[1;33m(\u001b[0m\u001b[0mnp\u001b[0m\u001b[1;33m.\u001b[0m\u001b[0marray\u001b[0m\u001b[1;33m(\u001b[0m\u001b[1;33m[\u001b[0m\u001b[0mgamma\u001b[0m\u001b[1;33m(\u001b[0m\u001b[0mion\u001b[0m\u001b[1;33m,\u001b[0m \u001b[0mt\u001b[0m\u001b[1;33m,\u001b[0m \u001b[0mchain\u001b[0m\u001b[1;33m)\u001b[0m \u001b[1;32mfor\u001b[0m \u001b[0mt\u001b[0m \u001b[1;32min\u001b[0m \u001b[0mtimes\u001b[0m\u001b[1;33m]\u001b[0m\u001b[1;33m)\u001b[0m\u001b[1;33m)\u001b[0m \u001b[1;33m*\u001b[0m \u001b[0mnp\u001b[0m\u001b[1;33m.\u001b[0m\u001b[0marray\u001b[0m\u001b[1;33m(\u001b[0m\u001b[1;33m[\u001b[0m\u001b[0mgamma\u001b[0m\u001b[1;33m(\u001b[0m\u001b[0mion\u001b[0m\u001b[1;33m,\u001b[0m \u001b[0mt\u001b[0m\u001b[1;33m,\u001b[0m \u001b[0mchain\u001b[0m\u001b[1;33m)\u001b[0m \u001b[1;32mfor\u001b[0m \u001b[0mt\u001b[0m \u001b[1;32min\u001b[0m \u001b[0mtimes\u001b[0m\u001b[1;33m]\u001b[0m\u001b[1;33m)\u001b[0m\u001b[1;33m)\u001b[0m\u001b[1;33m\u001b[0m\u001b[0m\n\u001b[0m\u001b[0;32m     15\u001b[0m \u001b[1;31m#plt.figure(1)\u001b[0m\u001b[1;33m\u001b[0m\u001b[1;33m\u001b[0m\u001b[0m\n\u001b[0;32m     16\u001b[0m \u001b[0mplt\u001b[0m\u001b[1;33m.\u001b[0m\u001b[0mplot\u001b[0m\u001b[1;33m(\u001b[0m\u001b[0mtimes\u001b[0m\u001b[1;33m*\u001b[0m\u001b[1;36m1.e6\u001b[0m\u001b[1;33m,\u001b[0m \u001b[0mex\u001b[0m\u001b[1;33m,\u001b[0m \u001b[0mlabel\u001b[0m\u001b[1;33m=\u001b[0m\u001b[1;34m'{} ions'\u001b[0m\u001b[1;33m.\u001b[0m\u001b[0mformat\u001b[0m\u001b[1;33m(\u001b[0m\u001b[0mN\u001b[0m\u001b[1;33m)\u001b[0m\u001b[1;33m)\u001b[0m\u001b[1;33m\u001b[0m\u001b[0m\n",
        "\u001b[1;31mNameError\u001b[0m: name 'gamma' is not defined"
       ]
      }
     ],
     "prompt_number": 9
    },
    {
     "cell_type": "code",
     "collapsed": false,
     "input": [
      "def get_chain_time_evolution( ion_num, time_interval = (0., 700.e-6), time_precision=1.e-6):\n",
      "    \n",
      "    def gamma(j, t, chain):\n",
      "        eigenvectorsT = LA.eig(chain.get_couplings())[1]\n",
      "        eigenfreqs   = LA.eig(chain.get_couplings())[0]\n",
      "\n",
      "        s = 0\n",
      "        for i in range(chain.num_of_ions):\n",
      "            s += eigenvectorsT[j][i] * eigenvectorsT[j][i] * np.exp(1.j* eigenfreqs[i] * t)\n",
      "        return s\n",
      "    \n",
      "    times = np.arange(time_interval[0], time_interval[1], time_precision)\n",
      "    ion = ion_num\n",
      "\n",
      "    ex = abs(np.conjugate(np.array([gamma(ion, t, chain) for t in times])) * np.array([gamma(ion, t, chain) for t in times]))\n",
      "    return ex"
     ],
     "language": "python",
     "metadata": {},
     "outputs": [],
     "prompt_number": 11
    },
    {
     "cell_type": "code",
     "collapsed": false,
     "input": [
      "#Spectrum engineering via engineering ion positions: What ion positions I need in order to get the spectrum \n",
      "omegax = 2.0e6\n",
      "omegaz1 = 100.e3\n",
      "N = 15\n",
      "chain = Chain(N, 2)\n",
      "dummy_trap = IonTrap( omegax , omegaz)\n",
      "dummy_trap.load(chain)\n",
      "zpositions =   np.array( chain.get_positions() )\n",
      "\n",
      "couplings_harmonic1 = chain1.get_couplings()\n",
      "normal_modes_harmonic = np.sort(abs(LA.eig(couplings_harmonic)[0])/(2*np.pi*1.e6))[::-1]\n",
      "\n",
      "#Change the ions positions:\n",
      "\n",
      "def get_engineered_normal_modes(dummy_trap, distance_ratio, isolated_ions=2 ): \n",
      "    if isolated_ions == 2:\n",
      "        positions = dummy_trap.chain.get_positions()\n",
      "        positions[0] = positions[1]-distance_ratio*(positions[1]-positions[0])\n",
      "        positions[-1] = positions[-2]+distance_ratio*(positions[-1]-positions[-2])\n",
      "        dummy_trap.set_ions_positions( positions )  \n",
      "    \n",
      "    return chain.couplings, np.sort(abs(LA.eig(chain.couplings)[0])/(2*np.pi*1.e6))[::-1]\n",
      "#Correction for y^2 * z^2 term:\n",
      "#omegax_gradient_at_100microns = +2*np.pi * (10./25)*1e3/(1.e-6)\n",
      "#def get_radial_freq_corrections(omegax_gradient_at_100microns):\n",
      "    \n",
      "#    delta_omegax = omegax_gradient_at_100microns * zpositions**2/(2*100.e-6)\n",
      "\n",
      "#    return delta_omegax \n",
      "\n",
      "#couplings_with_x2z2_correction = np.array( [ row for row in couplings_harmonic ])\n",
      "#radial_corrections = get_radial_freq_corrections(omegax_gradient_at_100microns)\n",
      "\n",
      "#for i in range(N):\n",
      "#    couplings_with_x2z2_correction[i][i] += radial_corrections[i]\n",
      "\n",
      "couplings_after_positions_correction = get_engineered_normal_modes(dummy_trap, distance_ratio)[0]\n",
      "normal_modes_after_positions_correction = get_engineered_normal_modes(dummy_trap, distance_ratio)[1]\n",
      "\n",
      "#normal_modes_with_x2z2_correction = np.sort(abs(LA.eig(couplings_with_x2z2_correction)[0])/(2*np.pi*1.e6))[::-1]\n",
      "plt.plot(normal_modes_harmonic, 'rs', normal_modes_after_positions_correction, 'bs')\n",
      "plt.show()"
     ],
     "language": "python",
     "metadata": {},
     "outputs": [
      {
       "ename": "NameError",
       "evalue": "name 'chain1' is not defined",
       "output_type": "pyerr",
       "traceback": [
        "\u001b[1;31m---------------------------------------------------------------------------\u001b[0m\n\u001b[1;31mNameError\u001b[0m                                 Traceback (most recent call last)",
        "\u001b[1;32m<ipython-input-8-8bf475c1b0c1>\u001b[0m in \u001b[0;36m<module>\u001b[1;34m()\u001b[0m\n\u001b[0;32m      8\u001b[0m \u001b[0mzpositions\u001b[0m \u001b[1;33m=\u001b[0m   \u001b[0mnp\u001b[0m\u001b[1;33m.\u001b[0m\u001b[0marray\u001b[0m\u001b[1;33m(\u001b[0m \u001b[0mchain\u001b[0m\u001b[1;33m.\u001b[0m\u001b[0mget_positions\u001b[0m\u001b[1;33m(\u001b[0m\u001b[1;33m)\u001b[0m \u001b[1;33m)\u001b[0m\u001b[1;33m\u001b[0m\u001b[0m\n\u001b[0;32m      9\u001b[0m \u001b[1;33m\u001b[0m\u001b[0m\n\u001b[1;32m---> 10\u001b[1;33m \u001b[0mcouplings_harmonic1\u001b[0m \u001b[1;33m=\u001b[0m \u001b[0mchain1\u001b[0m\u001b[1;33m.\u001b[0m\u001b[0mget_couplings\u001b[0m\u001b[1;33m(\u001b[0m\u001b[1;33m)\u001b[0m\u001b[1;33m\u001b[0m\u001b[0m\n\u001b[0m\u001b[0;32m     11\u001b[0m \u001b[0mnormal_modes_harmonic\u001b[0m \u001b[1;33m=\u001b[0m \u001b[0mnp\u001b[0m\u001b[1;33m.\u001b[0m\u001b[0msort\u001b[0m\u001b[1;33m(\u001b[0m\u001b[0mabs\u001b[0m\u001b[1;33m(\u001b[0m\u001b[0mLA\u001b[0m\u001b[1;33m.\u001b[0m\u001b[0meig\u001b[0m\u001b[1;33m(\u001b[0m\u001b[0mcouplings_harmonic\u001b[0m\u001b[1;33m)\u001b[0m\u001b[1;33m[\u001b[0m\u001b[1;36m0\u001b[0m\u001b[1;33m]\u001b[0m\u001b[1;33m)\u001b[0m\u001b[1;33m/\u001b[0m\u001b[1;33m(\u001b[0m\u001b[1;36m2\u001b[0m\u001b[1;33m*\u001b[0m\u001b[0mnp\u001b[0m\u001b[1;33m.\u001b[0m\u001b[0mpi\u001b[0m\u001b[1;33m*\u001b[0m\u001b[1;36m1.e6\u001b[0m\u001b[1;33m)\u001b[0m\u001b[1;33m)\u001b[0m\u001b[1;33m[\u001b[0m\u001b[1;33m:\u001b[0m\u001b[1;33m:\u001b[0m\u001b[1;33m-\u001b[0m\u001b[1;36m1\u001b[0m\u001b[1;33m]\u001b[0m\u001b[1;33m\u001b[0m\u001b[0m\n\u001b[0;32m     12\u001b[0m \u001b[1;33m\u001b[0m\u001b[0m\n",
        "\u001b[1;31mNameError\u001b[0m: name 'chain1' is not defined"
       ]
      }
     ],
     "prompt_number": 8
    },
    {
     "cell_type": "code",
     "collapsed": false,
     "input": [
      "omegax = 2.0e6\n",
      "omegaz = 200.e3\n",
      "N = 20\n",
      "chain = Chain(N, 2)\n",
      "dummy_trap = IonTrap( omegax , omegaz)\n",
      "dummy_trap.load(chain)\n",
      "zpositions =   np.array( chain.get_positions() )\n",
      "\n",
      "position_displacement = 20.e-6\n",
      "#outer_ions_squeeze = 0.7\n",
      "inner_ions_squeeze = .7\n",
      "\n",
      "zpositions = [zpositions[0]- position_displacement, \n",
      "              zpositions[1]- position_displacement, \n",
      "              zpositions[2]- position_displacement] +\\\n",
      "              list(inner_ions_squeeze*zpositions[3:-3])                +\\\n",
      "              [zpositions[-3]+ position_displacement, \n",
      "              zpositions[-2]+ position_displacement, \n",
      "              zpositions[-1]+ position_displacement]\n",
      "zpositions = np.array( zpositions )\n",
      "#zpositions = outer_ions_squeeze * zpositions\n",
      "\n",
      "dummy_trap.set_ions_positions( zpositions )  \n",
      "plt.figure('mode structure')\n",
      "plt.plot( np.sort(abs(LA.eig(chain.couplings)[0])/(2*np.pi*1.e6))[::-1], 'ro')\n",
      "plt.show()\n",
      "plt.figure('positions')\n",
      "plt.plot(zpositions, 'bo')\n",
      "plt.show()"
     ],
     "language": "python",
     "metadata": {},
     "outputs": [],
     "prompt_number": 115
    },
    {
     "cell_type": "code",
     "collapsed": false,
     "input": [
      "w23 = np.sort(abs(LA.eig(chain.couplings)[0])/(2*np.pi*1.e6))[::-1][1]-np.sort(abs(LA.eig(chain.couplings)[0])/(2*np.pi*1.e6))[::-1][2]\n",
      "w34 = np.sort(abs(LA.eig(chain.couplings)[0])/(2*np.pi*1.e6))[::-1][2]-np.sort(abs(LA.eig(chain.couplings)[0])/(2*np.pi*1.e6))[::-1][3]"
     ],
     "language": "python",
     "metadata": {},
     "outputs": [],
     "prompt_number": 112
    },
    {
     "cell_type": "code",
     "collapsed": false,
     "input": [
      "w34/w23, w34,w23 "
     ],
     "language": "python",
     "metadata": {},
     "outputs": [
      {
       "metadata": {},
       "output_type": "pyout",
       "prompt_number": 113,
       "text": [
        "(95.690541510474787, 0.053042261351014863, 0.00055431038965547685)"
       ]
      }
     ],
     "prompt_number": 113
    },
    {
     "cell_type": "code",
     "collapsed": false,
     "input": [
      "0.018770485466764741/0.0015040275191453567"
     ],
     "language": "python",
     "metadata": {},
     "outputs": [
      {
       "metadata": {},
       "output_type": "pyout",
       "prompt_number": 39,
       "text": [
        "12.480147622186339"
       ]
      }
     ],
     "prompt_number": 39
    },
    {
     "cell_type": "code",
     "collapsed": false,
     "input": [
      "0.039117261073637888/0.00089903548253311705"
     ],
     "language": "python",
     "metadata": {},
     "outputs": [
      {
       "metadata": {},
       "output_type": "pyout",
       "prompt_number": 43,
       "text": [
        "43.51025274711219"
       ]
      }
     ],
     "prompt_number": 43
    },
    {
     "cell_type": "code",
     "collapsed": false,
     "input": [
      "from numpy import *\n",
      "array(poly1d(array([1,2,3])))[::-1]"
     ],
     "language": "python",
     "metadata": {},
     "outputs": [
      {
       "metadata": {},
       "output_type": "pyout",
       "prompt_number": 29,
       "text": [
        "array([3, 2, 1])"
       ]
      }
     ],
     "prompt_number": 29
    },
    {
     "cell_type": "code",
     "collapsed": false,
     "input": [
      "np.sort( [1,3,-1])"
     ],
     "language": "python",
     "metadata": {},
     "outputs": [
      {
       "metadata": {},
       "output_type": "pyout",
       "prompt_number": 27,
       "text": [
        "array([-1,  1,  3])"
       ]
      }
     ],
     "prompt_number": 27
    },
    {
     "cell_type": "code",
     "collapsed": false,
     "input": [
      "np.poly1d( [1,3] )( [1,-1])"
     ],
     "language": "python",
     "metadata": {},
     "outputs": [
      {
       "metadata": {},
       "output_type": "pyout",
       "prompt_number": 28,
       "text": [
        "array([4, 2])"
       ]
      }
     ],
     "prompt_number": 28
    },
    {
     "cell_type": "code",
     "collapsed": false,
     "input": [],
     "language": "python",
     "metadata": {},
     "outputs": []
    }
   ],
   "metadata": {}
  }
 ]
}