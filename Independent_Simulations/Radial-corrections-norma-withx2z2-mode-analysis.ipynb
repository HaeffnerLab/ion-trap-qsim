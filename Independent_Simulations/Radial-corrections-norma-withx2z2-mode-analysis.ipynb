{
 "metadata": {
  "name": "",
  "signature": "sha256:119b3d2e6737f33d6e0a823047a0e71e31c38a7f69b49d3b0d7d35f271a494ab"
 },
 "nbformat": 3,
 "nbformat_minor": 0,
 "worksheets": [
  {
   "cells": [
    {
     "cell_type": "code",
     "collapsed": false,
     "input": [
      "import os,sys,inspect\n",
      "currentdir = os.path.dirname(os.path.abspath(inspect.getfile(inspect.currentframe())))\n",
      "parentdir = os.path.dirname(currentdir)\n",
      "sys.path.insert(0,parentdir) \n",
      "\n",
      "from scipy import linalg as LA \n",
      "from scipy import optimize\n",
      "import numpy as np\n",
      "from simulation_parameters import simulation_parameters\n",
      "p = simulation_parameters()\n",
      "from ions import Chain\n",
      "from ion_trap import IonTrap"
     ],
     "language": "python",
     "metadata": {},
     "outputs": [],
     "prompt_number": 1
    },
    {
     "cell_type": "code",
     "collapsed": false,
     "input": [
      "omegax = 2.0e6\n",
      "omegaz = 100.e3\n",
      "N = 5\n",
      "chain = Chain(N, 2)\n",
      "dummy_trap = IonTrap( omegax , omegaz)\n",
      "dummy_trap.load(chain)\n",
      "zpositions =   np.array( chain.get_positions() )"
     ],
     "language": "python",
     "metadata": {},
     "outputs": [],
     "prompt_number": 4
    },
    {
     "cell_type": "code",
     "collapsed": false,
     "input": [
      "average(position_arr) "
     ],
     "language": "python",
     "metadata": {},
     "outputs": [
      {
       "metadata": {},
       "output_type": "pyout",
       "prompt_number": 22,
       "text": [
        "-2.0328790734103207e-21"
       ]
      }
     ],
     "prompt_number": 22
    },
    {
     "cell_type": "code",
     "collapsed": false,
     "input": [
      "#harmonic potential couplings:\n",
      "couplings_harmonic = chain.get_couplings()\n",
      "  \n",
      "#Correction for x^2 * z^2 term:\n",
      "omegax_gradient_at_100microns = 2*np.pi * 2e3/(1.e-6)\n",
      "def get_radial_freq_corrections(omegax_gradient_at_100microns):\n",
      "    \n",
      "    delta_omegax = omegax_gradient_at_100microns * zpositions**2/(2*100.e-6)\n",
      "\n",
      "    return delta_omegax \n",
      "\n",
      "couplings_with_x2z2_correction = np.array( [ row for row in couplings_harmonic ])\n",
      "radial_corrections = get_radial_freq_corrections(omegax_gradient_at_100microns)\n",
      "\n",
      "for i in range(N):\n",
      "    couplings_with_x2z2_correction[i][i] += radial_corrections[i]\n",
      "\n",
      "#normal_modes_harmonic = sort(abs(LA.eig(chain.get_couplings())[0])/(2*np.pi*1.e6))[::-1]\n",
      "#normal_modes_with_x2z2_correction = sort(abs(LA.eig(couplings_with_x2z2_correction)[0])/(2*np.pi*1.e6))[::-1]\n",
      "#plt.plot(sort(abs(LA.eig(chain.get_couplings())[0])/(2*np.pi*1.e6))[::-1], 'rs', sort(abs(LA.eig(couplings_with_x2z2_correction)[0])/(2*np.pi*1.e6))[::-1], 'bs')"
     ],
     "language": "python",
     "metadata": {},
     "outputs": [],
     "prompt_number": 6
    },
    {
     "cell_type": "code",
     "collapsed": false,
     "input": [
      "#normal_modes_with_x2z2_correction[0] - normal_modes_with_x2z2_correction[1] \n",
      "normal_modes_harmonic[0] - normal_modes_harmonic[1]"
     ],
     "language": "python",
     "metadata": {},
     "outputs": [
      {
       "metadata": {},
       "output_type": "pyout",
       "prompt_number": 62,
       "text": [
        "2.8559435366837249e-05"
       ]
      }
     ],
     "prompt_number": 62
    },
    {
     "cell_type": "code",
     "collapsed": false,
     "input": [
      "radial_corrections/(2*np.pi * 1.e3)"
     ],
     "language": "python",
     "metadata": {},
     "outputs": [
      {
       "metadata": {},
       "output_type": "pyout",
       "prompt_number": 19,
       "text": [
        "array([ 12.94614814,   2.88035479,   0.        ,   2.88034077,  12.94614814])"
       ]
      }
     ],
     "prompt_number": 19
    },
    {
     "cell_type": "code",
     "collapsed": false,
     "input": [
      " LA.eig(couplings_with_x2z2_correction)[1].T"
     ],
     "language": "python",
     "metadata": {},
     "outputs": [
      {
       "metadata": {},
       "output_type": "pyout",
       "prompt_number": 18,
       "text": [
        "array([[ -4.12393650e-02,   4.05402043e-01,  -8.17247414e-01,\n",
        "          4.05406540e-01,  -4.12395465e-02],\n",
        "       [ -1.34484490e-01,   6.94202348e-01,  -1.80380209e-06,\n",
        "         -6.94198407e-01,   1.34482689e-01],\n",
        "       [  1.96293499e-01,  -5.49448789e-01,  -5.64931460e-01,\n",
        "         -5.49451109e-01,   1.96292677e-01],\n",
        "       [  6.78054985e-01,   1.83716595e-01,   1.13838087e-01,\n",
        "          1.83718374e-01,   6.78069392e-01],\n",
        "       [ -6.94207128e-01,  -1.34486150e-01,  -1.27335066e-06,\n",
        "          1.34481029e-01,   6.94193627e-01]])"
       ]
      }
     ],
     "prompt_number": 18
    },
    {
     "cell_type": "code",
     "collapsed": false,
     "input": [
      "LA.eig(couplings_harmonic)[0][2] - LA.eig(couplings_harmonic)[0][1]"
     ],
     "language": "python",
     "metadata": {},
     "outputs": [
      {
       "metadata": {},
       "output_type": "pyout",
       "prompt_number": 9,
       "text": [
        "(64968.490704201162+0j)"
       ]
      }
     ],
     "prompt_number": 9
    },
    {
     "cell_type": "code",
     "collapsed": false,
     "input": [
      "1./64968"
     ],
     "language": "python",
     "metadata": {},
     "outputs": [
      {
       "metadata": {},
       "output_type": "pyout",
       "prompt_number": 10,
       "text": [
        "1.539219307966999e-05"
       ]
      }
     ],
     "prompt_number": 10
    },
    {
     "cell_type": "code",
     "collapsed": false,
     "input": [
      "LA.eig(couplings_harmonic)[0][2] - LA.eig(couplings_harmonic)[0][0]"
     ],
     "language": "python",
     "metadata": {},
     "outputs": [
      {
       "metadata": {},
       "output_type": "pyout",
       "prompt_number": 11,
       "text": [
        "(97270.130740713328+0j)"
       ]
      }
     ],
     "prompt_number": 11
    },
    {
     "cell_type": "code",
     "collapsed": false,
     "input": [
      "1./97270"
     ],
     "language": "python",
     "metadata": {},
     "outputs": [
      {
       "metadata": {},
       "output_type": "pyout",
       "prompt_number": 12,
       "text": [
        "1.0280662074637607e-05"
       ]
      }
     ],
     "prompt_number": 12
    },
    {
     "cell_type": "code",
     "collapsed": false,
     "input": [
      "np.array( [[1,3],[3,4]] ) * np.array( [[0,4],[7,5]] )"
     ],
     "language": "python",
     "metadata": {},
     "outputs": [
      {
       "metadata": {},
       "output_type": "pyout",
       "prompt_number": 16,
       "text": [
        "array([[ 0, 12],\n",
        "       [21, 20]])"
       ]
      }
     ],
     "prompt_number": 16
    },
    {
     "cell_type": "code",
     "collapsed": false,
     "input": [
      "max(zpositions) - min(zpositions)"
     ],
     "language": "python",
     "metadata": {},
     "outputs": [
      {
       "metadata": {},
       "output_type": "pyout",
       "prompt_number": 20,
       "text": [
        "7.1961512326748094e-05"
       ]
      }
     ],
     "prompt_number": 20
    },
    {
     "cell_type": "code",
     "collapsed": false,
     "input": [],
     "language": "python",
     "metadata": {},
     "outputs": []
    }
   ],
   "metadata": {}
  }
 ]
}