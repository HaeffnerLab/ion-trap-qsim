{
 "metadata": {
  "name": "",
  "signature": "sha256:601281f3ad654ea685a8021f2d6e9f58aa0746f8ece49493cfd8bda3c2b05009"
 },
 "nbformat": 3,
 "nbformat_minor": 0,
 "worksheets": [
  {
   "cells": [
    {
     "cell_type": "code",
     "collapsed": false,
     "input": [
      "import os,sys,inspect\n",
      "currentdir = os.path.dirname(os.path.abspath(inspect.getfile(inspect.currentframe())))\n",
      "parentdir = os.path.dirname(currentdir)\n",
      "sys.path.insert(0,parentdir) \n",
      "\n",
      "from quantum_dynamics import Dynamics\n",
      "import numpy as np\n",
      "from ions import Chain\n",
      "from ion_trap import IonTrap\n",
      "import matplotlib.pylab as plt  \n",
      "from laser import *"
     ],
     "language": "python",
     "metadata": {},
     "outputs": [],
     "prompt_number": 1
    },
    {
     "cell_type": "code",
     "collapsed": false,
     "input": [
      "omegax = 2.0e6\n",
      "omegaz = 150.e3\n",
      "N = 10\n",
      "chain = Chain(N, 2)\n",
      "dummy_trap = IonTrap( omegax , omegaz)\n",
      "dummy_trap.load(chain)\n",
      "zpositions =   np.array( chain.get_positions() )\n",
      "#harmonic potential couplings:\n",
      "couplings_harmonic = chain.get_couplings()"
     ],
     "language": "python",
     "metadata": {},
     "outputs": [],
     "prompt_number": 2
    },
    {
     "cell_type": "code",
     "collapsed": false,
     "input": [
      "#Testing state initialization:\n",
      "motional_state = (1, 0, 0, 0, 0, 0, 0, 0, 0, 0)\n",
      "lasers = []\n",
      "#pulse1 = Pulse( ion_num = 0, sideband_num = 1, intensity = 2*np.pi* 100e3, phase = 2*np.pi* 0 , duration = 8.e-6 )\n",
      "\n",
      "time_precision = 1.e-6\n",
      "\n",
      "#motional_state = (1, 0, 0, 0, 0)\n",
      "electronic_state = (1, 0, 0, 0, 0, 0, 0, 0, 0, 0)\n",
      "chain.set_pure_motional_state( motional_state )\n",
      "chain.set_pure_electronic_state_numbers(electronic_state)\n",
      "#dyn.add_pulse( pulse1 )\n",
      "dyn = Dynamics(chain, lasers, time_precision)\n",
      "\n",
      "#dyn.construct_free_hamiltonian()"
     ],
     "language": "python",
     "metadata": {},
     "outputs": [
      {
       "ename": "TypeError",
       "evalue": "'float' object is not iterable",
       "output_type": "pyerr",
       "traceback": [
        "\u001b[1;31m---------------------------------------------------------------------------\u001b[0m\n\u001b[1;31mTypeError\u001b[0m                                 Traceback (most recent call last)",
        "\u001b[1;32m<ipython-input-5-115269315032>\u001b[0m in \u001b[0;36m<module>\u001b[1;34m()\u001b[0m\n\u001b[0;32m     11\u001b[0m \u001b[0mchain\u001b[0m\u001b[1;33m.\u001b[0m\u001b[0mset_pure_electronic_state_numbers\u001b[0m\u001b[1;33m(\u001b[0m\u001b[0melectronic_state\u001b[0m\u001b[1;33m)\u001b[0m\u001b[1;33m\u001b[0m\u001b[0m\n\u001b[0;32m     12\u001b[0m \u001b[1;31m#dyn.add_pulse( pulse1 )\u001b[0m\u001b[1;33m\u001b[0m\u001b[1;33m\u001b[0m\u001b[0m\n\u001b[1;32m---> 13\u001b[1;33m \u001b[0mdyn\u001b[0m \u001b[1;33m=\u001b[0m \u001b[0mDynamics\u001b[0m\u001b[1;33m(\u001b[0m\u001b[0mchain\u001b[0m\u001b[1;33m,\u001b[0m \u001b[0mlasers\u001b[0m\u001b[1;33m,\u001b[0m \u001b[0mtime_precision\u001b[0m\u001b[1;33m)\u001b[0m\u001b[1;33m\u001b[0m\u001b[0m\n\u001b[0m\u001b[0;32m     14\u001b[0m \u001b[1;33m\u001b[0m\u001b[0m\n\u001b[0;32m     15\u001b[0m \u001b[1;31m#dyn.construct_free_hamiltonian()\u001b[0m\u001b[1;33m\u001b[0m\u001b[1;33m\u001b[0m\u001b[0m\n",
        "\u001b[1;32m/home/trxw/Documents/dfr/codes/quantum_play/ion-trap-qsim/quantum_dynamics.pyc\u001b[0m in \u001b[0;36m__init__\u001b[1;34m(self, chain, lasers, pulses, time_precision)\u001b[0m\n\u001b[0;32m     29\u001b[0m         \u001b[1;32mif\u001b[0m \u001b[1;32mnot\u001b[0m \u001b[0mself\u001b[0m\u001b[1;33m.\u001b[0m\u001b[0mchain\u001b[0m\u001b[1;33m.\u001b[0m\u001b[0mmotional_states_are_set\u001b[0m\u001b[1;33m:\u001b[0m\u001b[1;33m\u001b[0m\u001b[0m\n\u001b[0;32m     30\u001b[0m             \u001b[1;32mraise\u001b[0m \u001b[0mException\u001b[0m\u001b[1;33m(\u001b[0m\u001b[1;34m\"Motional states are not set.\"\u001b[0m\u001b[1;33m)\u001b[0m\u001b[1;33m\u001b[0m\u001b[0m\n\u001b[1;32m---> 31\u001b[1;33m         \u001b[0mself\u001b[0m\u001b[1;33m.\u001b[0m\u001b[0mchain\u001b[0m\u001b[1;33m.\u001b[0m\u001b[0minitialize_chain_electronic_states\u001b[0m\u001b[1;33m(\u001b[0m\u001b[0mlasers\u001b[0m\u001b[1;33m=\u001b[0m\u001b[0mlasers\u001b[0m\u001b[1;33m,\u001b[0m \u001b[0mpulses\u001b[0m\u001b[1;33m=\u001b[0m\u001b[0mpulses\u001b[0m\u001b[1;33m)\u001b[0m\u001b[1;33m\u001b[0m\u001b[0m\n\u001b[0m\u001b[0;32m     32\u001b[0m \u001b[1;33m\u001b[0m\u001b[0m\n\u001b[0;32m     33\u001b[0m         \u001b[0mself\u001b[0m\u001b[1;33m.\u001b[0m\u001b[0mchain_motion_hamiltonian\u001b[0m \u001b[1;33m=\u001b[0m \u001b[0mself\u001b[0m\u001b[1;33m.\u001b[0m\u001b[0mget_chain_motion_hamiltonian\u001b[0m\u001b[1;33m(\u001b[0m\u001b[1;33m)\u001b[0m\u001b[1;33m\u001b[0m\u001b[0m\n",
        "\u001b[1;32m/home/trxw/Documents/dfr/codes/quantum_play/ion-trap-qsim/ions.pyc\u001b[0m in \u001b[0;36minitialize_chain_electronic_states\u001b[1;34m(self, **kwargs)\u001b[0m\n\u001b[0;32m    174\u001b[0m                 \u001b[0mself\u001b[0m\u001b[1;33m.\u001b[0m\u001b[0mchain_electronic_states_initialized\u001b[0m \u001b[1;33m=\u001b[0m \u001b[0mFalse\u001b[0m\u001b[1;33m\u001b[0m\u001b[0m\n\u001b[0;32m    175\u001b[0m \u001b[1;33m\u001b[0m\u001b[0m\n\u001b[1;32m--> 176\u001b[1;33m                 \u001b[0mall_lasers\u001b[0m \u001b[1;33m=\u001b[0m \u001b[0mlist\u001b[0m\u001b[1;33m(\u001b[0m\u001b[0mkwargs\u001b[0m\u001b[1;33m[\u001b[0m\u001b[1;34m'lasers'\u001b[0m\u001b[1;33m]\u001b[0m\u001b[1;33m)\u001b[0m \u001b[1;33m+\u001b[0m \u001b[0mlist\u001b[0m\u001b[1;33m(\u001b[0m\u001b[0mkwargs\u001b[0m\u001b[1;33m[\u001b[0m\u001b[1;34m'pulses'\u001b[0m\u001b[1;33m]\u001b[0m\u001b[1;33m)\u001b[0m\u001b[1;33m\u001b[0m\u001b[0m\n\u001b[0m\u001b[0;32m    177\u001b[0m                 \u001b[0mions_interacting_with_laser\u001b[0m  \u001b[1;33m=\u001b[0m  \u001b[1;33m[\u001b[0m\u001b[0mlaser\u001b[0m\u001b[1;33m.\u001b[0m\u001b[0mion_num\u001b[0m \u001b[1;32mfor\u001b[0m \u001b[0mlaser\u001b[0m \u001b[1;32min\u001b[0m \u001b[0mall_lasers\u001b[0m\u001b[1;33m]\u001b[0m\u001b[1;33m\u001b[0m\u001b[0m\n\u001b[0;32m    178\u001b[0m \u001b[1;33m\u001b[0m\u001b[0m\n",
        "\u001b[1;31mTypeError\u001b[0m: 'float' object is not iterable"
       ]
      }
     ],
     "prompt_number": 5
    },
    {
     "cell_type": "code",
     "collapsed": false,
     "input": [
      "observables = [ dyn.a[0].dag() * dyn.a[0], dyn.a[4].dag() * dyn.a[4] ]\n",
      "time_interval = (0., 700.e-6)\n",
      "times = arange(time_interval[0], time_interval[1], time_precision)\n",
      "dyn.evolve_qutip(time_interval, observables)\n",
      "plt.plot(times*1.e6, dyn.expectations[0], times*1.e6, dyn.expectations[1])\n",
      "plt.xlabel(\"$\\mu$ Sec\")\n",
      "plt.show()"
     ],
     "language": "python",
     "metadata": {},
     "outputs": [
      {
       "metadata": {},
       "output_type": "display_data",
       "png": "[encoded data removed]",
       "text": [
        "<matplotlib.figure.Figure at 0x7ffd90935050>"
       ]
      }
     ],
     "prompt_number": 17
    },
    {
     "cell_type": "code",
     "collapsed": false,
     "input": [
      "print(min(dyn.expectations[0][:500]), max(dyn.expectations[1][:500]))\n",
      "print(list(dyn.expectations[1][:500]).index(max(dyn.expectations[1][:500])))\n",
      "print(list(dyn.expectations[0][:500]).index(min(dyn.expectations[0][:500])))"
     ],
     "language": "python",
     "metadata": {},
     "outputs": [
      {
       "output_type": "stream",
       "stream": "stdout",
       "text": [
        "(0.013141772539487593, 0.82560757203855273)\n",
        "145\n",
        "151\n"
       ]
      }
     ],
     "prompt_number": 14
    },
    {
     "cell_type": "code",
     "collapsed": false,
     "input": [
      "#A Ramsey pulse sequence using exponential:\n",
      "\n",
      "lasers = []\n",
      "time_precision = 1.e-8\n",
      "dyn = Dynamics(chain, lasers, time_precision )\n",
      "\n",
      "motional_state = (1, 0, 0, 0, 0)\n",
      "electronic_state  = (1, 0, 0, 0, 0)\n",
      "chain.set_pure_motional_state( motional_state )\n",
      "chain.set_pure_electronic_state_numbers( electronic_state )\n",
      "pulse1 = Pulse( ion_num = 0, sideband_num = 1, intensity = 2*np.pi* 100e3, phase = 2*np.pi* 0 , duration = 8.e-6 )\n",
      "pulse2 = Pulse( ion_num = 4, sideband_num = 1, intensity = 2*np.pi* 100e3, phase = 2*np.pi* 0 , duration = 8.e-6 )\n",
      "\n",
      "chain.initialize_chain_electronic_states(lasers = [], pulses = [pulse1,pulse2])"
     ],
     "language": "python",
     "metadata": {},
     "outputs": [],
     "prompt_number": 5
    },
    {
     "cell_type": "code",
     "collapsed": false,
     "input": [
      "observables = [ dyn.a[0].dag() * dyn.a[0] ]\n",
      "time_interval = (0., 20.e-6)\n",
      "dyn.evolve_free(time_interval, observables)"
     ],
     "language": "python",
     "metadata": {},
     "outputs": [],
     "prompt_number": 20
    },
    {
     "cell_type": "code",
     "collapsed": false,
     "input": [
      "dyn.exponential * dyn.exponential.dag()"
     ],
     "language": "python",
     "metadata": {},
     "outputs": [
      {
       "latex": [
        "Quantum object: dims = [[2, 2, 2, 2, 2], [2, 2, 2, 2, 2]], shape = [32, 32], type = oper, isherm = True\\begin{equation*}\\left(\\begin{array}{*{11}c}1.0 & 0.0 & 0.0 & 0.0 & 0.0 & \\cdots & 0.0 & 0.0 & 0.0 & 0.0 & 0.0\\\\0.0 & 1.016 & 5.006\\times10^{-05} & 0.0 & 7.436\\times10^{-06} & \\cdots & 0.0 & 0.0 & 0.0 & 0.0 & 0.0\\\\0.0 & 5.006\\times10^{-05} & 1.016 & 0.0 & 7.024\\times10^{-05} & \\cdots & 0.0 & 0.0 & 0.0 & 0.0 & 0.0\\\\0.0 & 0.0 & 0.0 & 1.063 & 0.0 & \\cdots & 0.0 & 0.0 & 0.0 & 0.0 & 0.0\\\\0.0 & 7.436\\times10^{-06} & 7.024\\times10^{-05} & 0.0 & 1.016 & \\cdots & 0.0 & 0.0 & 0.0 & 0.0 & 0.0\\\\\\vdots & \\vdots & \\vdots & \\vdots & \\vdots & \\ddots & \\vdots & \\vdots & \\vdots & \\vdots & \\vdots\\\\0.0 & 0.0 & 0.0 & 0.0 & 0.0 & \\cdots & 1.251 & 0.0 & 2.813\\times10^{-04} & 2.957\\times10^{-05} & 0.0\\\\0.0 & 0.0 & 0.0 & 0.0 & 0.0 & \\cdots & 0.0 & 1.141 & 0.0 & 0.0 & 0.0\\\\0.0 & 0.0 & 0.0 & 0.0 & 0.0 & \\cdots & 2.813\\times10^{-04} & 0.0 & 1.251 & 2.001\\times10^{-04} & 0.0\\\\0.0 & 0.0 & 0.0 & 0.0 & 0.0 & \\cdots & 2.957\\times10^{-05} & 0.0 & 2.001\\times10^{-04} & 1.251 & 0.0\\\\0.0 & 0.0 & 0.0 & 0.0 & 0.0 & \\cdots & 0.0 & 0.0 & 0.0 & 0.0 & 1.392\\\\\\end{array}\\right)\\end{equation*}"
       ],
       "metadata": {},
       "output_type": "pyout",
       "prompt_number": 13,
       "text": [
        "Quantum object: dims = [[2, 2, 2, 2, 2], [2, 2, 2, 2, 2]], shape = [32, 32], type = oper, isherm = True\n",
        "Qobj data =\n",
        "[[  1.00000000e+00   0.00000000e+00   0.00000000e+00 ...,   0.00000000e+00\n",
        "    0.00000000e+00   0.00000000e+00]\n",
        " [  0.00000000e+00   1.01573061e+00   5.00568191e-05 ...,   0.00000000e+00\n",
        "    0.00000000e+00   0.00000000e+00]\n",
        " [  0.00000000e+00   5.00568191e-05   1.01565988e+00 ...,   0.00000000e+00\n",
        "    0.00000000e+00   0.00000000e+00]\n",
        " ..., \n",
        " [  0.00000000e+00   0.00000000e+00   0.00000000e+00 ...,   1.25102675e+00\n",
        "    2.00106793e-04   0.00000000e+00]\n",
        " [  0.00000000e+00   0.00000000e+00   0.00000000e+00 ...,   2.00106793e-04\n",
        "    1.25074356e+00   0.00000000e+00]\n",
        " [  0.00000000e+00   0.00000000e+00   0.00000000e+00 ...,   0.00000000e+00\n",
        "    0.00000000e+00   1.39208204e+00]]"
       ]
      }
     ],
     "prompt_number": 13
    },
    {
     "cell_type": "code",
     "collapsed": false,
     "input": [
      "plt.plot(arange(time_interval[0],time_interval[1], time_precision)*1.e6, dyn.expectations[0])\n",
      "plt.xlabel(\"$\\mu$ Sec\")\n",
      "plt.show()\n"
     ],
     "language": "python",
     "metadata": {},
     "outputs": [
      {
       "metadata": {},
       "output_type": "display_data",
       "png": "[encoded data removed]",
       "text": [
        "<matplotlib.figure.Figure at 0x7f6d42fb5350>"
       ]
      }
     ],
     "prompt_number": 21
    },
    {
     "cell_type": "code",
     "collapsed": false,
     "input": [
      "dyn.a[0].shape# * chain.initial_state"
     ],
     "language": "python",
     "metadata": {},
     "outputs": [
      {
       "metadata": {},
       "output_type": "pyout",
       "prompt_number": 33,
       "text": [
        "[64, 64]"
       ]
      }
     ],
     "prompt_number": 33
    },
    {
     "cell_type": "code",
     "collapsed": false,
     "input": [
      "len(arange(0,1.,0.1))"
     ],
     "language": "python",
     "metadata": {},
     "outputs": [
      {
       "metadata": {},
       "output_type": "pyout",
       "prompt_number": 13,
       "text": [
        "10"
       ]
      }
     ],
     "prompt_number": 13
    },
    {
     "cell_type": "code",
     "collapsed": false,
     "input": [
      "ex = [[]]\n",
      "ex[0] += [2.4,3.3]"
     ],
     "language": "python",
     "metadata": {},
     "outputs": [],
     "prompt_number": 18
    },
    {
     "cell_type": "code",
     "collapsed": false,
     "input": [
      "ex[0] += [222]"
     ],
     "language": "python",
     "metadata": {},
     "outputs": [],
     "prompt_number": 20
    },
    {
     "cell_type": "code",
     "collapsed": false,
     "input": [
      "ex"
     ],
     "language": "python",
     "metadata": {},
     "outputs": [
      {
       "metadata": {},
       "output_type": "pyout",
       "prompt_number": 21,
       "text": [
        "[[2.4, 3.3, 222]]"
       ]
      }
     ],
     "prompt_number": 21
    },
    {
     "cell_type": "code",
     "collapsed": false,
     "input": [],
     "language": "python",
     "metadata": {},
     "outputs": []
    }
   ],
   "metadata": {}
  }
 ]
}