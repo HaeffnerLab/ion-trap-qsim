{
 "metadata": {
  "name": "",
  "signature": "sha256:d67b769da883daada7b3a6bb65364c53eee94d39d7f5b2834ac4c04ee917b1d8"
 },
 "nbformat": 3,
 "nbformat_minor": 0,
 "worksheets": [
  {
   "cells": [
    {
     "cell_type": "code",
     "collapsed": false,
     "input": [
      "import os,sys,inspect\n",
      "currentdir = os.path.dirname(os.path.abspath(inspect.getfile(inspect.currentframe())))\n",
      "parentdir = os.path.dirname(currentdir)\n",
      "sys.path.insert(0,parentdir) \n",
      "\n",
      "import scipy.linalg as LA\n",
      "from quantum_dynamics import Dynamics\n",
      "import numpy as np\n",
      "from ions import Chain\n",
      "from ion_trap import IonTrap\n",
      "import matplotlib.pylab as plt  \n",
      "from laser import *"
     ],
     "language": "python",
     "metadata": {},
     "outputs": [],
     "prompt_number": 4
    },
    {
     "cell_type": "code",
     "collapsed": false,
     "input": [
      "omegax = 2.0e6\n",
      "omegaz = 150.e3\n",
      "N = 14\n",
      "chain = Chain(N, 2)\n",
      "dummy_trap = IonTrap( omegax , omegaz)\n",
      "dummy_trap.load(chain)\n",
      "zpositions =   np.array( chain.get_positions() )\n",
      "#harmonic potential couplings:\n",
      "couplings_harmonic = chain.get_couplings()"
     ],
     "language": "python",
     "metadata": {},
     "outputs": [],
     "prompt_number": 8
    },
    {
     "cell_type": "code",
     "collapsed": false,
     "input": [
      "eigenvectorsT = LA.eig(chain.get_couplings())[1]\n",
      "eigenfreqs   = LA.eig(chain.get_couplings())[0]\n",
      "def gamma(j, t):\n",
      "    s = 0\n",
      "    for i in range(N):\n",
      "        s += eigenvectorsT[j][i] * eigenvectorsT[j][i] * np.exp(1.j* eigenfreqs[i] * t)\n",
      "    return s"
     ],
     "language": "python",
     "metadata": {},
     "outputs": [],
     "prompt_number": 9
    },
    {
     "cell_type": "code",
     "collapsed": false,
     "input": [
      "time_interval = (0., 700.e-6)\n",
      "time_precision = 1.e-6\n",
      "times = arange(time_interval[0], time_interval[1], time_precision)\n",
      "ex = [np.abs( np.array([gamma(l, t) for t in times]) )**2 for l in range(N)]\n",
      "\n",
      "plt.plot(times*1.e6, ex[0])#, times*1.e6, ex[1], times*1.e6, ex[2], times*1.e6, ex[N-1])\n",
      "plt.xlabel(\"$\\mu$ Sec\")\n",
      "plt.show()"
     ],
     "language": "python",
     "metadata": {},
     "outputs": [
      {
       "metadata": {},
       "output_type": "display_data",
       "png": "[encoded data removed]",
       "text": [
        "<matplotlib.figure.Figure at 0x7f62709f10d0>"
       ]
      }
     ],
     "prompt_number": 10
    },
    {
     "cell_type": "code",
     "collapsed": false,
     "input": [],
     "language": "python",
     "metadata": {},
     "outputs": []
    }
   ],
   "metadata": {}
  }
 ]
}