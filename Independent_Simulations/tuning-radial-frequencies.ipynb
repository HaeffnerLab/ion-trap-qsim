{
 "metadata": {
  "name": "",
  "signature": "sha256:9824d36ac42dd4136cc7ec503fad504b35b057f0bef4d92c7b9b7565c2feafed"
 },
 "nbformat": 3,
 "nbformat_minor": 0,
 "worksheets": [
  {
   "cells": [
    {
     "cell_type": "code",
     "collapsed": false,
     "input": [
      "from qutip import *\n",
      "\n",
      "import matplotlib.pylab as plt\n",
      "import simulation_parameters\n",
      "from equilibrium_positions import equilibrium_positions\n",
      "from scipy import linalg as LA \n",
      "from numpy import absolute, real, linspace\n",
      "from qutip import *\n",
      "\n",
      "omegax                     =  2. #2*np.pi * 2.e6\n",
      "delta_omegax_end_ions      =  -0.1\n",
      "coupling                   =  0.01  \n",
      "time_precision             =  2.e-6\n",
      "times = arange(0, 100.e-6, time_precision)\n",
      "N     = 5 #number of ions\n",
      "M     = 2 \n",
      "init_state  =  [1, 0, 0, 0, 0] \n",
      "psi0   =   tensor( [basis(M, i) for i in init_state ] )\n",
      "#omegax = [ [ omegax_end_ions, coupling, coupling/8., coupling/27., 0, 0 ] ]\n",
      "omegax = [ [ omegax if i == j else coupling/(abs(i-j)**3.) for i in range(N) ] for j in range(N) ]\n",
      "#modifying the radial frequency of end ions:\n",
      "omegax[0][0]   =   omegax[0][0]  +  delta_omegax_end_ions\n",
      "omegax[N][N]   =   omegax[N][N]  +  delta_omegax_end_ions\n",
      " \n",
      "\n",
      "a_func        = lambda i:   tensor( qeye(2), \n",
      "                               tensor( [ destroy(M) if j == i else qeye(M) for j in range(N) ])\n",
      "                             )\n",
      "a             =  [a_func(j) for j in range(N)]\n",
      "sigma_plus_func  =  lambda i:  tensor( create(2),\n",
      "                                   tensor( [ qeye(M) for j in range(N)] ) \n",
      "                                )\n",
      "sigma_plus       =  [ sigma_plus_func(j) for j in range(N) ]\n",
      "\n",
      "sigma_minus_func  =  lambda i:  tensor( destroy(2),\n",
      "                                   tensor( [ qeye(M) for j in range(N)] ) \n",
      "                                )\n",
      "sigma_minus      =  [sigma_minus_func(j) for j in range(N)]\n",
      "\n",
      "#n        =  lambda i: a(i).dag() * a(i) # local phonon number, N>i>=0\n",
      "excited_state_pop_func  =  lambda i: tensor( create(2) * destroy(2),\n",
      "                                         tensor([ qeye(M) for j in range(N)] )                                       \n",
      "                                       )\n",
      "excited_state_pop       =  [excited_state_pop_func(j) for j in range(N)]\n",
      "\n",
      "identity_op =  tensor(qeye(2),\n",
      "                       tensor( [qeye(M) for j in range(N)] )\n",
      "                      ) \n",
      "\n",
      "H0      =   sum([omegax[i][j] * a[i].dag()*a[j] for j in range(N)])\n"
     ],
     "language": "python",
     "metadata": {},
     "outputs": [],
     "prompt_number": 6
    },
    {
     "cell_type": "code",
     "collapsed": false,
     "input": [
      "mcsolve(H, psi0, times, [], [a[0].dag() * a[0], sm.dag() * sm])"
     ],
     "language": "python",
     "metadata": {},
     "outputs": []
    },
    {
     "cell_type": "code",
     "collapsed": false,
     "input": [
      "1700./19"
     ],
     "language": "python",
     "metadata": {},
     "outputs": [
      {
       "metadata": {},
       "output_type": "pyout",
       "prompt_number": 2,
       "text": [
        "89.47368421052632"
       ]
      }
     ],
     "prompt_number": 2
    },
    {
     "cell_type": "code",
     "collapsed": false,
     "input": [],
     "language": "python",
     "metadata": {},
     "outputs": []
    }
   ],
   "metadata": {}
  }
 ]
}